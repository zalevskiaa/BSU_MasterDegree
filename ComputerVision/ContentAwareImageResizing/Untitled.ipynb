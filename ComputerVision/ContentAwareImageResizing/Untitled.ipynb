{
 "cells": [
  {
   "cell_type": "code",
   "execution_count": 3,
   "id": "201c713b-f52a-4909-bd25-e4ec219a6027",
   "metadata": {},
   "outputs": [],
   "source": [
    "import numpy as np\n",
    "\n",
    "from skimage.io import imread\n",
    "from skimage.color import rgb2gray\n",
    "\n",
    "from matplotlib import pyplot as plt\n",
    "\n",
    "from tqdm import trange\n",
    "from tqdm.auto import tqdm"
   ]
  },
  {
   "cell_type": "code",
   "execution_count": 313,
   "id": "6376cea1-232b-4bcf-bb85-db5cd24243c9",
   "metadata": {},
   "outputs": [
    {
     "data": {
      "text/plain": [
       "((198, 512, 3), (198, 512))"
      ]
     },
     "execution_count": 313,
     "metadata": {},
     "output_type": "execute_result"
    }
   ],
   "source": [
    "def convert_img_to_mask(img):\n",
    "    return ((img[:, :, 0] != 0) * -1 + (img[:, :, 1] != 0)).astype('int8')\n",
    "\n",
    "input_path = 'public_tests/05_test_img_input/'\n",
    "#gt_path = 'public_tests/01_test_img_input/'\n",
    "\n",
    "img = imread(input_path + 'img.png')\n",
    "mask = convert_img_to_mask(imread(input_path + 'mask.png'))\n",
    "img.shape, mask.shape"
   ]
  },
  {
   "cell_type": "code",
   "execution_count": 6,
   "id": "d131fced-56d1-48bf-b2c1-8b193dddb0a4",
   "metadata": {},
   "outputs": [],
   "source": [
    "def draw_img(img):\n",
    "    plt.figure(figsize=(20, 8))\n",
    "    if len(img.shape) == 3 and img.shape[2] == 3:\n",
    "        plt.imshow(img, cmap='gray')\n",
    "        plt.show()\n",
    "    elif len(img.shape) == 2:\n",
    "        img_copy = img.copy()\n",
    "        img_copy[0, 0] = 0\n",
    "        img_copy[0, 1] = 1\n",
    "        plt.imshow(img_copy, cmap='gray')\n",
    "        plt.show()\n",
    "    else:\n",
    "        raise ValueError"
   ]
  },
  {
   "cell_type": "code",
   "execution_count": 291,
   "id": "4aa1751e-53ea-4692-bb65-422fa1527cd5",
   "metadata": {},
   "outputs": [],
   "source": [
    "import numpy as np\n",
    "\n",
    "\n",
    "def compute_brightness(img):\n",
    "    return 0.299 * img[:, :, 0] + 0.587 * img[:, :, 1] + 0.114 * img[:, :, 2]\n",
    "\n",
    "def compute_energy_x(img):\n",
    "    assert len(img.shape) == 2\n",
    "    return np.hstack((\n",
    "        img[:, 1:], \n",
    "        img[:, -1].reshape(-1, 1)\n",
    "    )) - np.hstack((\n",
    "        img[:, 0].reshape(-1, 1), \n",
    "        img[:, :-1]\n",
    "    ))\n",
    "\n",
    "def compute_energy_y(img):\n",
    "    assert len(img.shape) == 2\n",
    "    return np.vstack((\n",
    "        img[1:, :], \n",
    "        img[-1, :].reshape(1, -1)\n",
    "    )) - np.vstack((\n",
    "        img[0, :].reshape(1, -1), \n",
    "        img[:-1, :]\n",
    "    ))\n",
    "\n",
    "def compute_energy(img, mask):\n",
    "    img_br = compute_brightness(img)\n",
    "    result = np.sqrt(compute_energy_x(img_br) ** 2 + compute_energy_y(img_br) ** 2) + 256 * img.shape[0] * img.shape[1] * mask\n",
    "    result -= result.min()\n",
    "    result /= result.max()\n",
    "    return result\n",
    "\n",
    "def compute_hseam(img, mask):\n",
    "    e = compute_energy(img, mask)\n",
    "    \n",
    "    dp = np.zeros(e.shape)\n",
    "    dpj = np.zeros(e.shape, dtype=int)\n",
    "    dp[0, :] = e[0, :]\n",
    "    \n",
    "    h, w = dp.shape\n",
    "    for i in range(1, h):\n",
    "        ind = np.argmin(dp[i - 1, 0:2])\n",
    "        dpj[i, 0] = ind\n",
    "        dp[i, 0] = dp[i - 1, dpj[i, 0]] + e[i, 0]\n",
    "        for j in range(1, w-1):\n",
    "            #ind = np.argmin(dp[i - 1, max(0, j - 1):min(j + 2, w)])\n",
    "            #ind = dp[i - 1, j - 1:j + 2].argmin()\n",
    "            ind = 0\n",
    "            if dp[i - 1, j] < dp[i - 1, j - 1 + ind]:\n",
    "                ind = 1\n",
    "            if dp[i - 1, j + 1] < dp[i - 1, j - 1 + ind]:\n",
    "                ind = 2\n",
    "            \n",
    "            dpj[i, j] = j - 1 + ind\n",
    "            dp[i, j] = dp[i - 1, dpj[i, j]] + e[i, j]\n",
    "        ind = np.argmin(dp[i - 1, w-2:w])\n",
    "        dpj[i, w - 1] = w - 2 + ind\n",
    "        dp[i, w - 1] = dp[i - 1, dpj[i, w - 1]] + e[i, w - 1]\n",
    "    \n",
    "    seam = np.zeros(h, dtype=int)\n",
    "    seam[-1] = dp[-1, :].argmin()\n",
    "    for j in range(h - 2, -1, -1):\n",
    "        seam[j] = dpj[j + 1, seam[j + 1]]\n",
    "    \n",
    "    return seam\n",
    "\n",
    "def compute_hseam_mask(seam, shape):\n",
    "    seam_mask = np.zeros(shape)\n",
    "    for i in range(shape[0]):\n",
    "        seam_mask[i, seam[i]] = 1\n",
    "    return seam_mask\n",
    "\n",
    "def carve_hseam_img(img, seam):\n",
    "    result = np.zeros(img.shape - np.array([0, 1, 0]))\n",
    "    for i in range(img.shape[0]):\n",
    "        result[i, :seam[i], :] = img[i, :seam[i], :]\n",
    "        result[i, seam[i]:, :] = img[i, seam[i]+1:, :]\n",
    "    return result\n",
    "    \n",
    "def carve_hseam_mask(mask, seam):\n",
    "    result = np.zeros(mask.shape - np.array([0, 1]))\n",
    "    for i in range(mask.shape[0]):\n",
    "        result[i, :seam[i]] = mask[i, :seam[i]]\n",
    "        result[i, seam[i]:] = mask[i, seam[i]+1:]\n",
    "    return result\n",
    "\n",
    "def expand_hseam_img(img, seam):\n",
    "    result = np.zeros(img.shape + np.array([0, 1, 0]))\n",
    "    for i in range(img.shape[0]):\n",
    "        j = seam[i]\n",
    "        assert 0 <= j < img.shape[1]\n",
    "        \n",
    "        if j == 0:\n",
    "            result[i, 0, :] = img[i, 0, :]\n",
    "            result[i, 1:, :] = img[i, 0:, :]\n",
    "            continue\n",
    "        if j == img.shape[1] - 1:\n",
    "            result[i, :-1, :] = img[i, :, :]\n",
    "            result[i, -1:, :] = img[i, -1:, :]\n",
    "            continue\n",
    "        \n",
    "        result[i, :j+1, :] = img[i, :j+1, :]\n",
    "        result[i, j + 1, :] = img[i, j:j + 2, :].mean(axis=0)\n",
    "        result[i, j+2:, :] = img[i, j+1:, :]\n",
    "    return result\n",
    "\n",
    "def expand_hseam_mask(mask, seam):\n",
    "    result = np.zeros(mask.shape + np.array([0, 1]))\n",
    "    for i in range(mask.shape[0]):\n",
    "        j = seam[i]\n",
    "        assert 0 <= j < mask.shape[1]\n",
    "        \n",
    "        if j == 0:\n",
    "            result[i, 0] = mask[i, 0]\n",
    "            result[i, 1:] = mask[i, 0:]\n",
    "            continue\n",
    "        if j == mask.shape[1] - 1:\n",
    "            result[i, :-1] = mask[i, :]\n",
    "            result[i, -1:] = mask[i, -1:]\n",
    "            continue\n",
    "        \n",
    "        result[i, :j+1] = mask[i, :j+1]\n",
    "        result[i, j + 1] = mask[i, j:j + 2].mean()\n",
    "        result[i, j+2:] = mask[i, j+1:]\n",
    "    return result\n",
    "\n",
    "def seam_carve(img, mode, mask=None):\n",
    "    # img = img.astype(np.float32) / 255.\n",
    "    \n",
    "    if mask is None:\n",
    "        mask = np.zeros(img.shape[:2])\n",
    "    \n",
    "    if mode == 'horizontal shrink':\n",
    "        print('hs', end=' ')\n",
    "\n",
    "        seam = compute_hseam(img, mask)\n",
    "        \n",
    "        res_img = carve_hseam_img(img, seam)\n",
    "        res_mask = carve_hseam_mask(mask, seam)\n",
    "        seam_mask = compute_hseam_mask(seam, img.shape[:2])\n",
    "        return res_img, res_mask, seam_mask\n",
    "    \n",
    "    if mode == 'vertical shrink':\n",
    "        print('vs', end=' ')\n",
    "        \n",
    "        img = img.transpose(1, 0, 2)\n",
    "        mask = mask.transpose(1, 0)\n",
    "        \n",
    "        seam = compute_hseam(img, mask)\n",
    "\n",
    "        res_img = carve_hseam_img(img, seam).transpose(1, 0, 2)\n",
    "        res_mask = carve_hseam_mask(mask, seam).transpose(1, 0)\n",
    "        seam_mask = compute_hseam_mask(seam, img.shape[:2]).transpose(1, 0)\n",
    "        return res_img, res_mask, seam_mask\n",
    "        \n",
    "    if mode == 'horizontal expand':\n",
    "        print('he', end=' ')\n",
    "        \n",
    "        seam = compute_hseam(img, mask)\n",
    "        \n",
    "        res_img = expand_hseam_img(img, seam)\n",
    "        res_mask = expand_hseam_mask(mask, seam)\n",
    "        seam_mask = compute_hseam_mask(seam, img.shape[:2])\n",
    "        \n",
    "        return res_img, res_mask, seam_mask\n",
    "    \n",
    "    if mode == 'vertical expand':\n",
    "        print('ve', end=' ')\n",
    "        \n",
    "        img = img.transpose(1, 0, 2)\n",
    "        mask = mask.transpose(1, 0)\n",
    "        \n",
    "        seam = compute_hseam(img, mask)\n",
    "        \n",
    "        res_img = expand_hseam_img(img, seam).transpose(1, 0, 2)\n",
    "        res_mask = expand_hseam_mask(mask, seam).transpose(1, 0)\n",
    "        seam_mask = compute_hseam_mask(seam, img.shape[:2]).transpose(1, 0)\n",
    "    \n",
    "        return res_img, res_mask, seam_mask\n",
    "    \n",
    "    raise \"unk\"\n"
   ]
  },
  {
   "cell_type": "code",
   "execution_count": 292,
   "id": "a3b52097-8360-46cf-aa83-d1948700faec",
   "metadata": {},
   "outputs": [],
   "source": [
    "seam = compute_hseam(img, mask)\n",
    "\n",
    "res_img = carve_hseam_img(img, seam)\n",
    "seam_mask = compute_hseam_mask(seam, img.shape[:2])"
   ]
  },
  {
   "cell_type": "code",
   "execution_count": 293,
   "id": "e06866b3-f43b-4d08-a79d-247e31820ceb",
   "metadata": {},
   "outputs": [],
   "source": [
    "modes = [\n",
    "    'horizontal shrink',\n",
    "    'vertical shrink',\n",
    "    'horizontal expand',\n",
    "    'vertical expand',\n",
    "]"
   ]
  },
  {
   "cell_type": "code",
   "execution_count": 294,
   "id": "43da94d5-321b-43e4-be63-fb7d8bc47eaa",
   "metadata": {},
   "outputs": [
    {
     "name": "stdout",
     "output_type": "stream",
     "text": [
      "he "
     ]
    },
    {
     "data": {
      "image/png": "[encoded data removed]",
      "text/plain": [
       "<Figure size 1440x576 with 1 Axes>"
      ]
     },
     "metadata": {
      "needs_background": "light"
     },
     "output_type": "display_data"
    },
    {
     "data": {
      "text/plain": [
       "(198, 513, 3)"
      ]
     },
     "execution_count": 294,
     "metadata": {},
     "output_type": "execute_result"
    }
   ],
   "source": [
    "res, res_mask, seam_mask = seam_carve(img, mode=modes[2], mask=mask)\n",
    "draw_img(seam_mask)\n",
    "res.shape"
   ]
  },
  {
   "cell_type": "code",
   "execution_count": 295,
   "id": "fd3d69df-715c-44e5-9504-2457be82c1a3",
   "metadata": {},
   "outputs": [
    {
     "name": "stdout",
     "output_type": "stream",
     "text": [
      "ve "
     ]
    },
    {
     "data": {
      "image/png": "[encoded data removed]",
      "text/plain": [
       "<Figure size 1440x576 with 1 Axes>"
      ]
     },
     "metadata": {
      "needs_background": "light"
     },
     "output_type": "display_data"
    }
   ],
   "source": [
    "res, _, seam_mask = seam_carve(img, mode=modes[3], mask=mask)\n",
    "draw_img(seam_mask)"
   ]
  },
  {
   "cell_type": "code",
   "execution_count": 296,
   "id": "50020756-51df-4daa-a063-9f18276caaff",
   "metadata": {},
   "outputs": [],
   "source": [
    "from pickle import load"
   ]
  },
  {
   "cell_type": "code",
   "execution_count": 297,
   "id": "8b4c883a-8381-4185-ab7b-10493bb21864",
   "metadata": {},
   "outputs": [
    {
     "data": {
      "text/plain": [
       "'public_tests/05_test_img_check/output/output_seams'"
      ]
     },
     "execution_count": 297,
     "metadata": {},
     "output_type": "execute_result"
    }
   ],
   "source": [
    "check_path = 'public_tests/05_test_img_check/'\n",
    "output_seams_path = check_path + 'output/output_seams'\n",
    "seams_path = check_path + 'gt/seams'\n",
    "output_seams_path"
   ]
  },
  {
   "cell_type": "code",
   "execution_count": 298,
   "id": "86e95b84-04d9-4ab0-8640-815bccf59791",
   "metadata": {},
   "outputs": [
    {
     "name": "stdout",
     "output_type": "stream",
     "text": [
      "- "
     ]
    }
   ],
   "source": [
    "with open(output_seams_path, 'rb') as fout, open(seams_path, 'rb') as fgt:\n",
    "    for i in range(8):\n",
    "        output_seam = np.array(load(fout))\n",
    "        correct_seam = np.array(load(fgt))\n",
    "        if (output_seam == correct_seam).all():\n",
    "            print('+', end=' ')\n",
    "        else:\n",
    "            print('-', end=' ')\n",
    "        break"
   ]
  },
  {
   "cell_type": "code",
   "execution_count": 299,
   "id": "f8014b4f-4fc8-40e4-932e-4ae0c095b125",
   "metadata": {},
   "outputs": [
    {
     "data": {
      "text/plain": [
       "array([[0, 1],\n",
       "       [0, 1]])"
      ]
     },
     "execution_count": 299,
     "metadata": {},
     "output_type": "execute_result"
    }
   ],
   "source": [
    "(output_seam - correct_seam)[185:187, :]"
   ]
  },
  {
   "cell_type": "code",
   "execution_count": 300,
   "id": "0b6007cf-fb95-4df7-8493-c06fce8577a0",
   "metadata": {},
   "outputs": [
    {
     "data": {
      "text/plain": [
       "(array([[185, 449],\n",
       "        [186, 448]]),\n",
       " array([[185, 448],\n",
       "        [186, 447]]))"
      ]
     },
     "execution_count": 300,
     "metadata": {},
     "output_type": "execute_result"
    }
   ],
   "source": [
    "output_seam[185:187, :], correct_seam[185:187, :], "
   ]
  },
  {
   "cell_type": "code",
   "execution_count": 301,
   "id": "f5792d46-5cf7-4d8a-8c5f-6be1c5eb00c9",
   "metadata": {},
   "outputs": [
    {
     "data": {
      "text/plain": [
       "(198, 512, 3)"
      ]
     },
     "execution_count": 301,
     "metadata": {},
     "output_type": "execute_result"
    }
   ],
   "source": [
    "img.shape"
   ]
  },
  {
   "cell_type": "code",
   "execution_count": 311,
   "id": "98100a4a-9b95-4971-8250-a5ab336874f8",
   "metadata": {},
   "outputs": [
    {
     "data": {
      "text/plain": [
       "(0.003184521617207402, 0.003184521617207221)"
      ]
     },
     "execution_count": 311,
     "metadata": {},
     "output_type": "execute_result"
    }
   ],
   "source": [
    "e = compute_energy(img, np.zeros(img.shape[:2]))\n",
    "e[185:187, 447:450]\n",
    "e[185, 448], e[185, 449]"
   ]
  },
  {
   "cell_type": "code",
   "execution_count": null,
   "id": "8f3faa7a-3232-4f02-b87a-61bab56bd100",
   "metadata": {},
   "outputs": [],
   "source": []
  },
  {
   "cell_type": "code",
   "execution_count": 303,
   "id": "68f2a613-9b67-4456-9a4e-269626ea98a2",
   "metadata": {},
   "outputs": [
    {
     "data": {
      "text/plain": [
       "array([449, 448])"
      ]
     },
     "execution_count": 303,
     "metadata": {},
     "output_type": "execute_result"
    }
   ],
   "source": [
    "compute_hseam(img, np.zeros(img.shape[:2]))[185:187]"
   ]
  },
  {
   "cell_type": "code",
   "execution_count": 304,
   "id": "79eb142c-2261-473e-a1b2-c85e6620e043",
   "metadata": {},
   "outputs": [
    {
     "data": {
      "text/plain": [
       "dtype('uint8')"
      ]
     },
     "execution_count": 304,
     "metadata": {},
     "output_type": "execute_result"
    }
   ],
   "source": [
    "img.dtype"
   ]
  },
  {
   "cell_type": "code",
   "execution_count": 305,
   "id": "eea6c8b4-047b-457e-a562-dcfe2d074c71",
   "metadata": {},
   "outputs": [
    {
     "data": {
      "text/plain": [
       "array([3.44223605e-10, 9.75401126e-10, 6.46819997e-09, 7.36755805e-09,\n",
       "       9.70470951e-09, 1.14929362e-08, 1.24687172e-08, 1.32464843e-08,\n",
       "       1.34006126e-08, 1.35223733e-08])"
      ]
     },
     "execution_count": 305,
     "metadata": {},
     "output_type": "execute_result"
    }
   ],
   "source": [
    "e = compute_energy(img, mask).ravel()\n",
    "e.sort()\n",
    "d = np.absolute(e[:1] - e[:-1])\n",
    "d.sort()\n",
    "d = d[d > 0]\n",
    "d[:10]"
   ]
  },
  {
   "cell_type": "code",
   "execution_count": 263,
   "id": "006684e3-a50b-413d-a1c1-844c4116ec9f",
   "metadata": {},
   "outputs": [
    {
     "data": {
      "text/plain": [
       "array([-1.])"
      ]
     },
     "execution_count": 263,
     "metadata": {},
     "output_type": "execute_result"
    }
   ],
   "source": [
    "d"
   ]
  },
  {
   "cell_type": "code",
   "execution_count": null,
   "id": "8eeca6d7-1eb9-4311-a84b-717aa417deae",
   "metadata": {},
   "outputs": [],
   "source": []
  }
 ],
 "metadata": {
  "kernelspec": {
   "display_name": "Python 3 (ipykernel)",
   "language": "python",
   "name": "python3"
  },
  "language_info": {
   "codemirror_mode": {
    "name": "ipython",
    "version": 3
   },
   "file_extension": ".py",
   "mimetype": "text/x-python",
   "name": "python",
   "nbconvert_exporter": "python",
   "pygments_lexer": "ipython3",
   "version": "3.8.10"
  }
 },
 "nbformat": 4,
 "nbformat_minor": 5
}
