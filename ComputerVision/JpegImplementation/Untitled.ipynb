{
 "cells": [
  {
   "cell_type": "code",
   "execution_count": 29,
   "id": "452ee2b5-499d-4cbf-8772-81e1a0d0b230",
   "metadata": {},
   "outputs": [],
   "source": [
    "from image_compression import jpeg_visualize\n",
    "#jpeg_visualize()"
   ]
  },
  {
   "cell_type": "code",
   "execution_count": 12,
   "id": "e584b55d-1932-480a-873b-0c8ac9ecdd3a",
   "metadata": {},
   "outputs": [],
   "source": [
    "from image_compression import get_gauss_1, get_gauss_2"
   ]
  },
  {
   "cell_type": "code",
   "execution_count": 15,
   "id": "0eefd903-7809-4466-a90f-ceff28e38aae",
   "metadata": {},
   "outputs": [],
   "source": [
    "#get_gauss_1()"
   ]
  },
  {
   "cell_type": "code",
   "execution_count": 16,
   "id": "ac7d57b3-e124-40ba-9b16-fe784e03f05c",
   "metadata": {},
   "outputs": [],
   "source": [
    "#get_gauss_2()"
   ]
  },
  {
   "cell_type": "code",
   "execution_count": 21,
   "id": "f47e524a-5c34-486a-99fa-65d79246636e",
   "metadata": {},
   "outputs": [
    {
     "data": {
      "text/plain": [
       "array([[100, 101, 102, 103, 104, 105, 106, 107],\n",
       "       [108, 109, 110, 111, 112, 113, 114, 115],\n",
       "       [116, 117, 118, 119, 120, 121, 122, 123],\n",
       "       [124, 125, 126, 127, 128, 129, 130, 131],\n",
       "       [132, 133, 134, 135, 136, 137, 138, 139],\n",
       "       [140, 141, 142, 143, 144, 145, 146, 147],\n",
       "       [148, 149, 150, 151, 152, 153, 154, 155],\n",
       "       [156, 157, 158, 159, 160, 161, 162, 163]])"
      ]
     },
     "execution_count": 21,
     "metadata": {},
     "output_type": "execute_result"
    }
   ],
   "source": [
    "block = np.arange(64).reshape(8, 8) + 100\n",
    "block"
   ]
  },
  {
   "cell_type": "code",
   "execution_count": 22,
   "id": "5a836570-daef-4a92-a442-75204ff9f037",
   "metadata": {},
   "outputs": [],
   "source": [
    "index = np.array([0, 1, 8, 16, 9, 2, 3, 10, \n",
    "                  17, 24, 32, 25, 18, 11, 4, 5, \n",
    "                  12, 19, 26, 33, 40, 48, 41, 34, \n",
    "                  27, 20, 13, 6, 7, 14, 21, 28, \n",
    "                  35, 42, 49, 56, 57, 50, 43, 36, \n",
    "                  29, 22, 15, 23, 30, 37, 44, 51, \n",
    "                  58, 59, 52, 45, 38, 31, 39, 46, \n",
    "                  53, 60, 61, 54, 47, 55, 62, 63])"
   ]
  },
  {
   "cell_type": "code",
   "execution_count": 24,
   "id": "de279e07-14dc-4dba-b5e1-f98df2b818e6",
   "metadata": {},
   "outputs": [
    {
     "data": {
      "text/plain": [
       "array([100, 101, 108, 116, 109, 102, 103, 110, 117, 124, 132, 125, 118,\n",
       "       111, 104, 105, 112, 119, 126, 133, 140, 148, 141, 134, 127, 120,\n",
       "       113, 106, 107, 114, 121, 128, 135, 142, 149, 156, 157, 150, 143,\n",
       "       136, 129, 122, 115, 123, 130, 137, 144, 151, 158, 159, 152, 145,\n",
       "       138, 131, 139, 146, 153, 160, 161, 154, 147, 155, 162, 163])"
      ]
     },
     "execution_count": 24,
     "metadata": {},
     "output_type": "execute_result"
    }
   ],
   "source": [
    "zz = block.reshape(-1)[index]\n",
    "zz"
   ]
  },
  {
   "cell_type": "code",
   "execution_count": 27,
   "id": "5987950d-0cc1-4d52-b6d0-083d54127b13",
   "metadata": {},
   "outputs": [
    {
     "data": {
      "text/plain": [
       "array([[ True,  True,  True,  True,  True,  True,  True,  True],\n",
       "       [ True,  True,  True,  True,  True,  True,  True,  True],\n",
       "       [ True,  True,  True,  True,  True,  True,  True,  True],\n",
       "       [ True,  True,  True,  True,  True,  True,  True,  True],\n",
       "       [ True,  True,  True,  True,  True,  True,  True,  True],\n",
       "       [ True,  True,  True,  True,  True,  True,  True,  True],\n",
       "       [ True,  True,  True,  True,  True,  True,  True,  True],\n",
       "       [ True,  True,  True,  True,  True,  True,  True,  True]])"
      ]
     },
     "execution_count": 27,
     "metadata": {},
     "output_type": "execute_result"
    }
   ],
   "source": [
    "zz[np.argsort(index)].reshape(8, 8)"
   ]
  },
  {
   "cell_type": "code",
   "execution_count": null,
   "id": "e553c4ab-afad-4376-bbdc-f62f3899fd25",
   "metadata": {},
   "outputs": [],
   "source": []
  },
  {
   "cell_type": "code",
   "execution_count": null,
   "id": "9fe65f65-1653-436f-aa1b-c6e03c1e257f",
   "metadata": {},
   "outputs": [],
   "source": []
  },
  {
   "cell_type": "code",
   "execution_count": 10,
   "id": "f1e01365-abe4-4c64-a7dd-af2cebebc26f",
   "metadata": {},
   "outputs": [
    {
     "ename": "NameError",
     "evalue": "name 'block' is not defined",
     "output_type": "error",
     "traceback": [
      "\u001b[0;31m---------------------------------------------------------------------------\u001b[0m",
      "\u001b[0;31mNameError\u001b[0m                                 Traceback (most recent call last)",
      "Input \u001b[0;32mIn [10]\u001b[0m, in \u001b[0;36m<cell line: 3>\u001b[0;34m()\u001b[0m\n\u001b[1;32m      1\u001b[0m result \u001b[38;5;241m=\u001b[39m []\n\u001b[1;32m      2\u001b[0m bs \u001b[38;5;241m=\u001b[39m \u001b[38;5;241m2\u001b[39m\n\u001b[0;32m----> 3\u001b[0m \u001b[38;5;28;01mfor\u001b[39;00m i \u001b[38;5;129;01min\u001b[39;00m \u001b[38;5;28mrange\u001b[39m(\u001b[38;5;241m0\u001b[39m, \u001b[43mblock\u001b[49m\u001b[38;5;241m.\u001b[39mshape[\u001b[38;5;241m0\u001b[39m], bs):\n\u001b[1;32m      4\u001b[0m     \u001b[38;5;28;01mif\u001b[39;00m i \u001b[38;5;241m+\u001b[39m bs \u001b[38;5;241m>\u001b[39m block\u001b[38;5;241m.\u001b[39mshape[\u001b[38;5;241m0\u001b[39m]:\n\u001b[1;32m      5\u001b[0m             \u001b[38;5;28;01mbreak\u001b[39;00m\n",
      "\u001b[0;31mNameError\u001b[0m: name 'block' is not defined"
     ]
    }
   ],
   "source": [
    "result = []\n",
    "bs = 2\n",
    "for i in range(0, block.shape[0], bs):\n",
    "    if i + bs > block.shape[0]:\n",
    "            break\n",
    "    for j in range(0, block.shape[1], bs):\n",
    "        if j + bs > block.shape[1]:\n",
    "            break\n",
    "        result.append(block[i:i+bs, j:j+bs])\n",
    "#result"
   ]
  },
  {
   "cell_type": "code",
   "execution_count": 46,
   "id": "3577efea-fdc8-4491-a490-bd9a4eb85f12",
   "metadata": {},
   "outputs": [
    {
     "data": {
      "text/plain": [
       "[array([100]),\n",
       " array([101]),\n",
       " array([102]),\n",
       " array([103]),\n",
       " array([104]),\n",
       " array([105]),\n",
       " array([106]),\n",
       " array([107]),\n",
       " array([108]),\n",
       " array([109])]"
      ]
     },
     "execution_count": 46,
     "metadata": {},
     "output_type": "execute_result"
    }
   ],
   "source": [
    "blocks = [np.array([i]) for i in range(10)]\n",
    "for b in blocks:\n",
    "    b += 100\n",
    "blocks"
   ]
  },
  {
   "cell_type": "code",
   "execution_count": 1,
   "id": "3545f8ac-c64f-456d-8263-c7ca2d504258",
   "metadata": {},
   "outputs": [],
   "source": [
    "lst = [1,2,3,4,5,6,7]\n",
    "it = iter(lst)"
   ]
  },
  {
   "cell_type": "code",
   "execution_count": 30,
   "id": "f0b8fa33-76ef-4f7b-bdd1-2907b42cb6ce",
   "metadata": {},
   "outputs": [
    {
     "ename": "TypeError",
     "evalue": "unsupported operand type(s) for //: 'tuple' and 'int'",
     "output_type": "error",
     "traceback": [
      "\u001b[0;31m---------------------------------------------------------------------------\u001b[0m",
      "\u001b[0;31mTypeError\u001b[0m                                 Traceback (most recent call last)",
      "Input \u001b[0;32mIn [30]\u001b[0m, in \u001b[0;36m<cell line: 1>\u001b[0;34m()\u001b[0m\n\u001b[0;32m----> 1\u001b[0m \u001b[43m(\u001b[49m\u001b[38;5;241;43m11\u001b[39;49m\u001b[43m,\u001b[49m\u001b[43m \u001b[49m\u001b[38;5;241;43m20\u001b[39;49m\u001b[43m)\u001b[49m\u001b[43m \u001b[49m\u001b[38;5;241;43m/\u001b[39;49m\u001b[38;5;241;43m/\u001b[39;49m\u001b[43m \u001b[49m\u001b[38;5;241;43m2\u001b[39;49m\n",
      "\u001b[0;31mTypeError\u001b[0m: unsupported operand type(s) for //: 'tuple' and 'int'"
     ]
    }
   ],
   "source": [
    "(11, 20) // 2"
   ]
  },
  {
   "cell_type": "code",
   "execution_count": null,
   "id": "3923703d-2637-43c9-87db-52eb5b449c4f",
   "metadata": {},
   "outputs": [],
   "source": []
  }
 ],
 "metadata": {
  "kernelspec": {
   "display_name": "Python 3 (ipykernel)",
   "language": "python",
   "name": "python3"
  },
  "language_info": {
   "codemirror_mode": {
    "name": "ipython",
    "version": 3
   },
   "file_extension": ".py",
   "mimetype": "text/x-python",
   "name": "python",
   "nbconvert_exporter": "python",
   "pygments_lexer": "ipython3",
   "version": "3.8.10"
  }
 },
 "nbformat": 4,
 "nbformat_minor": 5
}
