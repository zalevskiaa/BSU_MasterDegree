{
 "cells": [
  {
   "cell_type": "code",
   "execution_count": 1,
   "id": "2a1ae9a1",
   "metadata": {
    "cellId": "z021ls1dg8blynzuf3fzl",
    "tags": []
   },
   "outputs": [],
   "source": [
    "import os\n",
    "import sys\n",
    "\n",
    "from collections import defaultdict, Counter\n",
    "from tqdm.notebook import tqdm_notebook\n",
    "\n",
    "import numpy as np\n",
    "import pandas as pd\n",
    "import scipy.stats as sps\n",
    "import scipy.sparse as scsp\n",
    "from sklearn.preprocessing import LabelEncoder\n",
    "from sklearn.metrics import ndcg_score, dcg_score, roc_auc_score, average_precision_score\n",
    "from sklearn.metrics.pairwise import cosine_similarity\n",
    "\n",
    "from joblib import Parallel, delayed\n",
    "\n",
    "import tqdm\n",
    "import json\n",
    "\n",
    "import matplotlib.pyplot as plt\n",
    "import seaborn as sns\n",
    "from IPython.display import display, clear_output\n",
    "\n",
    "sns.set()"
   ]
  },
  {
   "cell_type": "markdown",
   "id": "67ab1b35",
   "metadata": {
    "cellId": "haiwmhlwql60c6m3s5fl8jk"
   },
   "source": [
    "# Датасет"
   ]
  },
  {
   "cell_type": "code",
   "execution_count": 2,
   "id": "30d4ecd0",
   "metadata": {
    "cellId": "bwrhphv7oevjxppox35a6",
    "tags": []
   },
   "outputs": [],
   "source": [
    "# !wget -O zen_dataset.tar.gz https://www.dropbox.com/s/15mkthbvlturbsz/zen_dataset.tar.gz?dl=0\n",
    "# !tar -xzvf zen_dataset.tar.gz"
   ]
  },
  {
   "cell_type": "code",
   "execution_count": 3,
   "id": "4ea76ffe",
   "metadata": {
    "cellId": "0gyhuxhwh96f3755om28gy2",
    "tags": []
   },
   "outputs": [],
   "source": [
    "item_counts = pd.read_csv('zen_dataset/item_counts.csv', index_col=0)\n",
    "item_meta = pd.read_csv('zen_dataset/item_meta.gz', compression='gzip', index_col=0)\n",
    "user_ratings = pd.read_csv('zen_dataset/user_ratings.gz', compression='gzip', index_col=0)"
   ]
  },
  {
   "cell_type": "code",
   "execution_count": 4,
   "id": "f081ce92",
   "metadata": {
    "cellId": "fvt650kzkslobpgai6oml",
    "tags": []
   },
   "outputs": [],
   "source": [
    "item_counts['itemId'] = item_counts['itemId'].apply(str)"
   ]
  },
  {
   "cell_type": "markdown",
   "id": "1659de41",
   "metadata": {
    "cellId": "uug7l3pqj3c0eayinkl8njh"
   },
   "source": [
    "Датасет состоит из текстовых статей и истории взаимодействия пользователей с ними.\n",
    "* 105000 айтемов\n",
    "* 95000 пользователей\n",
    "* 40 млн взаимодействий"
   ]
  },
  {
   "cell_type": "code",
   "execution_count": 5,
   "id": "05fe7923",
   "metadata": {
    "cellId": "owd3jsucrvs05h343m4rmf",
    "tags": []
   },
   "outputs": [
    {
     "data": {
      "text/html": [
       "<div>\n",
       "<style scoped>\n",
       "    .dataframe tbody tr th:only-of-type {\n",
       "        vertical-align: middle;\n",
       "    }\n",
       "\n",
       "    .dataframe tbody tr th {\n",
       "        vertical-align: top;\n",
       "    }\n",
       "\n",
       "    .dataframe thead th {\n",
       "        text-align: right;\n",
       "    }\n",
       "</style>\n",
       "<table border=\"1\" class=\"dataframe\">\n",
       "  <thead>\n",
       "    <tr style=\"text-align: right;\">\n",
       "      <th></th>\n",
       "      <th>itemId</th>\n",
       "      <th>title</th>\n",
       "      <th>content</th>\n",
       "    </tr>\n",
       "  </thead>\n",
       "  <tbody>\n",
       "    <tr>\n",
       "      <th>0</th>\n",
       "      <td>5480844460835530524</td>\n",
       "      <td>Нехитрые способы, как самостоятельно проверить качество воды из скважины или колодца</td>\n",
       "      <td>С раннего детства нам рассказывают, что самая вкусная и полезная вода – та, что добывается из ...</td>\n",
       "    </tr>\n",
       "    <tr>\n",
       "      <th>1</th>\n",
       "      <td>25708764690236829</td>\n",
       "      <td>Где находилась сверхсекретная база подводных лодок СССР, которую совершенно не видно с моря?</td>\n",
       "      <td>Сомневаюсь, что найдётся сейчас человек, который никогда не слышал о Балаклаве. Даже если допуст...</td>\n",
       "    </tr>\n",
       "    <tr>\n",
       "      <th>2</th>\n",
       "      <td>25995859650472943</td>\n",
       "      <td>Тапки ( жуткий рассказ)</td>\n",
       "      <td>Год назад эту историю рассказала мне моя родственница и с её позволения, я хочу ей  поделиться....</td>\n",
       "    </tr>\n",
       "    <tr>\n",
       "      <th>3</th>\n",
       "      <td>26039067597386753</td>\n",
       "      <td>Крутые находки на Aliexpress №1113</td>\n",
       "      <td>Доброго времени суток, Уважаемые читатели! Добро пожаловать на канал \"Чайна Таун\", где ежедневно...</td>\n",
       "    </tr>\n",
       "    <tr>\n",
       "      <th>4</th>\n",
       "      <td>26225874317634871</td>\n",
       "      <td>Нам пообещали высокую инфляцию. Деньги сильно обесценятся — и целое поколение будет «жить в долгах»</td>\n",
       "      <td>Цены в магазинах и темпы инфляции растут не только в нашей стране, но и практически во всех стра...</td>\n",
       "    </tr>\n",
       "    <tr>\n",
       "      <th>...</th>\n",
       "      <td>...</td>\n",
       "      <td>...</td>\n",
       "      <td>...</td>\n",
       "    </tr>\n",
       "    <tr>\n",
       "      <th>104498</th>\n",
       "      <td>6221825086402198588</td>\n",
       "      <td>Сколько можно заработать на видеокартах с AGP интерфейсом</td>\n",
       "      <td>Очень старые видеокарты с интерфейсом AGP, которые как кажется, никому уже не нужны. К нам в маг...</td>\n",
       "    </tr>\n",
       "    <tr>\n",
       "      <th>104499</th>\n",
       "      <td>6221897338759013055</td>\n",
       "      <td>Укрытие Роз на зиму</td>\n",
       "      <td>По Вашим просьбам - повторяю пост прошлого года - про укрытие Роз ( с небольшой редакцией)\\n\\nЯ ...</td>\n",
       "    </tr>\n",
       "    <tr>\n",
       "      <th>104500</th>\n",
       "      <td>6221960724554910431</td>\n",
       "      <td>Мама, мамочка, мамуля: снимки самого близкого человека на свете</td>\n",
       "      <td>В подборке снимков из нашего архива — фотографии мам со своими детьми времен царской России и СС...</td>\n",
       "    </tr>\n",
       "    <tr>\n",
       "      <th>104501</th>\n",
       "      <td>6222047264920702976</td>\n",
       "      <td>Что лучше: сдавать наследственную квартиру или продать? Рассказываю, почему я выбрал второй вариант</td>\n",
       "      <td>\"Кварта − новый бренд ПИК-Брокер\" Привет, меня зовут Андрей, мне 30 лет. Я вообще никогда не пис...</td>\n",
       "    </tr>\n",
       "    <tr>\n",
       "      <th>104502</th>\n",
       "      <td>6222253041173097582</td>\n",
       "      <td>Алёна Чижикова, шпионка</td>\n",
       "      <td>Разумеется, Алёна не допускала мысли, что муж может ей изменять. Но слишком уж явными были призн...</td>\n",
       "    </tr>\n",
       "  </tbody>\n",
       "</table>\n",
       "<p>104503 rows × 3 columns</p>\n",
       "</div>"
      ],
      "text/plain": [
       "                     itemId   \n",
       "0       5480844460835530524  \\\n",
       "1         25708764690236829   \n",
       "2         25995859650472943   \n",
       "3         26039067597386753   \n",
       "4         26225874317634871   \n",
       "...                     ...   \n",
       "104498  6221825086402198588   \n",
       "104499  6221897338759013055   \n",
       "104500  6221960724554910431   \n",
       "104501  6222047264920702976   \n",
       "104502  6222253041173097582   \n",
       "\n",
       "                                                                                                      title   \n",
       "0                      Нехитрые способы, как самостоятельно проверить качество воды из скважины или колодца  \\\n",
       "1              Где находилась сверхсекретная база подводных лодок СССР, которую совершенно не видно с моря?   \n",
       "2                                                                                   Тапки ( жуткий рассказ)   \n",
       "3                                                                        Крутые находки на Aliexpress №1113   \n",
       "4       Нам пообещали высокую инфляцию. Деньги сильно обесценятся — и целое поколение будет «жить в долгах»   \n",
       "...                                                                                                     ...   \n",
       "104498                                            Сколько можно заработать на видеокартах с AGP интерфейсом   \n",
       "104499                                                                                  Укрытие Роз на зиму   \n",
       "104500                                      Мама, мамочка, мамуля: снимки самого близкого человека на свете   \n",
       "104501  Что лучше: сдавать наследственную квартиру или продать? Рассказываю, почему я выбрал второй вариант   \n",
       "104502                                                                              Алёна Чижикова, шпионка   \n",
       "\n",
       "                                                                                                    content  \n",
       "0         С раннего детства нам рассказывают, что самая вкусная и полезная вода – та, что добывается из ...  \n",
       "1       Сомневаюсь, что найдётся сейчас человек, который никогда не слышал о Балаклаве. Даже если допуст...  \n",
       "2        Год назад эту историю рассказала мне моя родственница и с её позволения, я хочу ей  поделиться....  \n",
       "3       Доброго времени суток, Уважаемые читатели! Добро пожаловать на канал \"Чайна Таун\", где ежедневно...  \n",
       "4       Цены в магазинах и темпы инфляции растут не только в нашей стране, но и практически во всех стра...  \n",
       "...                                                                                                     ...  \n",
       "104498  Очень старые видеокарты с интерфейсом AGP, которые как кажется, никому уже не нужны. К нам в маг...  \n",
       "104499  По Вашим просьбам - повторяю пост прошлого года - про укрытие Роз ( с небольшой редакцией)\\n\\nЯ ...  \n",
       "104500  В подборке снимков из нашего архива — фотографии мам со своими детьми времен царской России и СС...  \n",
       "104501  \"Кварта − новый бренд ПИК-Брокер\" Привет, меня зовут Андрей, мне 30 лет. Я вообще никогда не пис...  \n",
       "104502  Разумеется, Алёна не допускала мысли, что муж может ей изменять. Но слишком уж явными были призн...  \n",
       "\n",
       "[104503 rows x 3 columns]"
      ]
     },
     "metadata": {},
     "output_type": "display_data"
    }
   ],
   "source": [
    "with pd.option_context('display.max_colwidth', 100):\n",
    "    display(item_meta)"
   ]
  },
  {
   "cell_type": "code",
   "execution_count": 6,
   "id": "883afd63",
   "metadata": {
    "cellId": "0lbuqp62e10b1vw21tmh1ne",
    "tags": []
   },
   "outputs": [],
   "source": [
    "user_encoder = LabelEncoder().fit(user_ratings['userId'])\n",
    "item_encoder = LabelEncoder().fit(item_counts['itemId'])"
   ]
  },
  {
   "cell_type": "code",
   "execution_count": 7,
   "id": "829e0c22",
   "metadata": {
    "cellId": "fzzxg365wr2fp3obhm8db",
    "tags": []
   },
   "outputs": [],
   "source": [
    "all_items = item_counts['itemId']\n",
    "indices = item_encoder.transform(all_items)\n",
    "item_to_id = dict(zip(all_items, indices))"
   ]
  },
  {
   "cell_type": "markdown",
   "id": "9fa14354",
   "metadata": {
    "cellId": "qa58ktmevh0zuqxz8x729g"
   },
   "source": [
    "# SLIM"
   ]
  },
  {
   "cell_type": "markdown",
   "id": "d838e504",
   "metadata": {
    "cellId": "l8pvy2jwu2np9tlblj10mg"
   },
   "source": [
    "Пусть $R \\in \\mathbb{R}^{|U| \\times |I|}$ &mdash; бинарная матрица взаимодействий пользователей и айтемов. Тогда SLIM оптимизирует\n",
    "\n",
    "$$L = \\frac{1}{2} \\Vert R - RW \\Vert_F^2 + \\frac{\\beta}{2} \\Vert W \\Vert_F^2 + \\lambda \\Vert W \\Vert_1 \\rightarrow \\min_W,\\\\\n",
    "  s.t. \\forall i, j \\; W_{ij} \\geq 0, W_{ii} = 0.$$\n",
    "  \n",
    "Матрица $W$ &mdash; матрица попарных айтемых \"взаимосвязей\"."
   ]
  },
  {
   "cell_type": "markdown",
   "id": "45e7340c",
   "metadata": {
    "cellId": "xfwhpngrvxe97gbt05rhf"
   },
   "source": [
    "Сохраним по-айтемную историю.\n",
    "\n",
    "Для ускорения будем использовать библиотеку `numba`. Она позволяет вместо компилятора Python использовать jit-компилятор кода питоновского кода, что, как правило, заметно ускоряет выполнение программы. Поддерживает не всю, но существенную часть функциональности Python, а именно\n",
    "1. Классическая функциональность Python (списки, множества, словари и т.п.);\n",
    "2. Библиотека numpy.\n",
    "\n",
    "Перед названием функции нужно добавить `@numba.njit()`."
   ]
  },
  {
   "cell_type": "code",
   "execution_count": 8,
   "id": "61941e0c-af4b-47e4-bc75-0c764fee4342",
   "metadata": {
    "tags": []
   },
   "outputs": [],
   "source": [
    "# !pip install numpy==1.23.1"
   ]
  },
  {
   "cell_type": "code",
   "execution_count": 10,
   "id": "32c502ec",
   "metadata": {
    "cellId": "86dkt01ija4m3whpv0ypzq",
    "tags": []
   },
   "outputs": [
    {
     "data": {
      "application/vnd.jupyter.widget-view+json": {
       "model_id": "e94e6087a8834b1c9fc750534bfd170b",
       "version_major": 2,
       "version_minor": 0
      },
      "text/plain": [
       "  0%|          | 0/75910 [00:00<?, ?it/s]"
      ]
     },
     "metadata": {},
     "output_type": "display_data"
    }
   ],
   "source": [
    "import numba\n",
    "\n",
    "item_ratings_ind = [numba.typed.List() for _ in range(len(item_encoder.classes_))]\n",
    "user_ids = user_encoder.transform(user_ratings['userId'])\n",
    "for user_id, items_with_ratings in tqdm_notebook(zip(user_ids, user_ratings['trainRatings']),\n",
    "                                                 total=len(user_ratings)):\n",
    "    item_ids, item_ratings = zip(*json.loads(items_with_ratings.replace(\"'\", '\"')).items())\n",
    "    item_ids = [item_to_id[item_id] for item_id in item_ids]\n",
    "    for item_id, rating in zip(item_ids, item_ratings):\n",
    "        item_ratings_ind[item_id].append((user_id, rating))"
   ]
  },
  {
   "cell_type": "code",
   "execution_count": 11,
   "id": "2db472b7",
   "metadata": {
    "cellId": "6y38vdgh88o3a01pxtxv2j"
   },
   "outputs": [],
   "source": [
    "item_ratings_ind_nb = numba.typed.List(item_ratings_ind)"
   ]
  },
  {
   "cell_type": "code",
   "execution_count": 12,
   "id": "f8281482",
   "metadata": {
    "cellId": "witagmh002m134c2xwkhjxo"
   },
   "outputs": [],
   "source": [
    "@numba.njit()\n",
    "def fit_one_item(item_ratings, j, n_iter=20, l2_reg=1.0, l1_reg=2.0):\n",
    "    \"\"\"\n",
    "    Оптимизирует один столбец матрицы W\n",
    "    * item_ratings -- список списков взаимодействий айтема,\n",
    "      item_ratings[j] -- список взаимодействий айтема j с пользователями\n",
    "    * j -- номер айтема, для которого ищем веса\n",
    "    * n_iter -- количество итераций оптимизации\n",
    "    * l1_reg, l2_reg -- коэффициенты регуляризации L1 и L2\n",
    "    \n",
    "    Возвращает dict: item -> вес, все ненулевые веса\n",
    "    \"\"\"\n",
    "    n_items = len(item_ratings)\n",
    "    per_item_positives = []\n",
    "    item_interactions = set()\n",
    "    for user, rating in item_ratings[j]:\n",
    "        item_interactions.add(user)\n",
    "    for i in range(n_items):\n",
    "        positives = set()\n",
    "        for user, rating in item_ratings[i]:\n",
    "            if rating == 1 and user in item_interactions:\n",
    "                positives.add(user)\n",
    "        per_item_positives.append(positives)\n",
    "        \n",
    "    w = np.zeros(n_items)\n",
    "    non_zero_items = set()\n",
    "    for _ in range(n_iter):\n",
    "        for k in range(n_items):\n",
    "            if k == j:\n",
    "                continue\n",
    "            \n",
    "            raise 'lol'\n",
    "            \n",
    "            # score = ... # <YOUR CODE HERE>\n",
    "            score = len(per_item_positives[j] & per_item_positives[k]) - l1_reg\n",
    "            for i in non_zero_items:\n",
    "                if i == k:\n",
    "                    continue\n",
    "                score = -w[i] * len(per_item_positives[j] & per_item_positives[k])\n",
    "                if score < 0:\n",
    "                    break\n",
    "            score /= len(per_item_positives[k]) + l2_reg\n",
    "            score = max(score, 0)\n",
    "            \n",
    "            w[k] = score\n",
    "            if w[k] > 1e-5:\n",
    "                non_zero_items.add(k)\n",
    "\n",
    "    non_zero_elements = {}\n",
    "    for i, value in enumerate(w):\n",
    "        assert value >= 0.0\n",
    "        if value > 0:\n",
    "            non_zero_elements[i] = value\n",
    "\n",
    "    return non_zero_elements"
   ]
  },
  {
   "cell_type": "code",
   "execution_count": 13,
   "id": "747426a0",
   "metadata": {
    "cellId": "p117wta2ngsr7o2cj0706"
   },
   "outputs": [],
   "source": [
    "def get_item_meta(item_id):\n",
    "    item_id = int(item_encoder.inverse_transform([item_id])[0])\n",
    "    return item_meta[item_meta['itemId'] == item_id].iloc[0].to_dict()\n",
    "\n",
    "\n",
    "def visualize_top(item_ratings_ind_nb, j, top=10):\n",
    "    weights = fit_one_item(item_ratings_ind_nb, j)\n",
    "    sorted_items = sorted(weights.items(), key=lambda x: x[1], reverse=True)[:top]\n",
    "\n",
    "    item_ids, weights = zip(*sorted_items)\n",
    "    items = map(get_item_meta, item_ids)\n",
    "    anchor_item = get_item_meta(j)\n",
    "    \n",
    "    with pd.option_context('display.max_colwidth', 100):\n",
    "        display(pd.DataFrame({\n",
    "            anchor_item['title']: [item['title'] for item in items],\n",
    "            'score': weights\n",
    "        }))"
   ]
  },
  {
   "cell_type": "code",
   "execution_count": 14,
   "id": "9f1bb397",
   "metadata": {
    "cellId": "1dnk9sncyjyi5dv4hah9in3"
   },
   "outputs": [],
   "source": [
    "# visualize_top(item_ratings_ind_nb, 1)"
   ]
  },
  {
   "cell_type": "code",
   "execution_count": 15,
   "id": "bcc9ca5f",
   "metadata": {
    "cellId": "w01fvs0xh5lex3k2uiigp"
   },
   "outputs": [],
   "source": [
    "# visualize_top(item_ratings_ind_nb, 50)"
   ]
  },
  {
   "cell_type": "code",
   "execution_count": 16,
   "id": "0168880c",
   "metadata": {
    "cellId": "tgvn8rnjh3lo8b1mf158jm"
   },
   "outputs": [],
   "source": [
    "# visualize_top(item_ratings_ind_nb, 100)"
   ]
  },
  {
   "cell_type": "markdown",
   "id": "88e23ccd",
   "metadata": {
    "cellId": "l3mnf90t3bq41gqfvseoak"
   },
   "source": [
    "# Нейросети\n"
   ]
  },
  {
   "cell_type": "markdown",
   "id": "d435043a",
   "metadata": {
    "cellId": "lzw1tbxpfc9v8enuknez4i"
   },
   "source": [
    "Как обсуждалось на лекции, как правило в нейросетевых рекомендациях используют архитектуры типа DSSM.\n",
    "\n",
    "![](data:image/png;base64,iVBORw0KGgoAAAANSUhEUgAAAroAAAG6CAYAAADnFeWEAAAK4mlDQ1BJQ0MgUHJvZmlsZQAASImVlwdUU1kagO976SEhQEIEpITekU4AKSG00KWDqIQkkFBCTAgKdmVwBEcFEWnqCI6KKDg6AjIWxIIVxYZ9QAYFZR0s2FDZByxhZvbs7tn/nPvud/7337/cc+87/wOAHMKVSDJhFQCyxDnSyAAfRnxCIgP3DKABCVAAAVhxeTIJKyIiBCAyPf9V3t8F0MR8y3rC17+//6+ixhfIeABASQin8GW8LITbkfGKJ5HmAIA6jOgNl+RIJvg2wjQpkiDCgxOcNsVfJjhlktEqkzbRkWyEjQDAk7hcaRoAJFtEz8jlpSF+SBEI24r5IjHCqxH25Am5fISRuMAqKyt7gocRNkPsJQCQaQgzU/7kM+0v/lMU/rncNAVP1TUpeF+RTJLJzfs/t+Z/S1amfDqGCTJIQmlgJDLTkf27l5EdrGBxSlj4NIv4k/aTLJQHxkwzT8ZOnGY+1zdYsTYzLGSaU0X+HIWfHE70NAtkflHTLM2OVMRKlbJZ08yVzsSVZ8Qo9EIBR+E/XxgdN825otiwaZZlRAXP2LAVeqk8UpG/QBzgMxPXX1F7luxP9Yo4irU5wuhARe3cmfwFYtaMT1m8Ije+wNdvxiZGYS/J8VHEkmRGKOwFmQEKvSw3SrE2BzmcM2sjFHuYzg2KmGYQAvxAGGCAaGAPXIAEWAM7gJyqHMHSnIli2NmSPKkoTZjDYCE3TsDgiHk2Vgx7W3t7ACbu79SReBs5eS8h+qkZXfYe5Ci/R+5MyYwupQyAlkIANB7M6Ix2AkApAKC5gyeX5k7p0BMPDCAi3wUa0AS6wBCYIZnZA2fgDryRjINAOJJxAlgIeEAIsoAULAHLwRpQCIrBFrANVIFdoA7sB4fAEdACToAz4AK4Am6AO+Ah6AUD4CUYAe/BGARBOIgMUSFNSA8yhiwhe4gJeUJ+UAgUCSVAyVAaJIbk0HJoHVQMlUJV0G6oHvoZOg6dgS5B3dB9qA8agt5An2EUTIJpsA5sAs+BmTALDoaj4QVwGrwYzocL4E1wBVwLH4Sb4TPwFfgO3Au/hEdRAKWEoqP0UdYoJoqNCkclolJRUtRKVBGqHFWLakS1oTpRt1C9qGHUJzQWTUUz0NZod3QgOgbNQy9Gr0RvRFeh96Ob0efQt9B96BH0NwwZo42xxLhhOJh4TBpmCaYQU47ZizmGOY+5gxnAvMdisXSsKdYFG4hNwKZjl2E3Yndgm7Dt2G5sP3YUh8Np4ixxHrhwHBeXgyvEVeIO4k7jbuIGcB/xSng9vD3eH5+IF+PX4svxB/Cn8Dfxz/FjBBWCMcGNEE7gE/IImwl7CG2E64QBwhhRlWhK9CBGE9OJa4gVxEbieeIj4lslJSUDJVeleUoipdVKFUqHlS4q9Sl9IqmRLEhsUhJJTtpE2kdqJ90nvSWTySZkb3IiOYe8iVxPPkt+Qv6oTFW2UeYo85VXKVcrNyvfVH5FIVCMKSzKQko+pZxylHKdMqxCUDFRYatwVVaqVKscV+lRGVWlqtqphqtmqW5UPaB6SXVQDadmouanxlcrUKtTO6vWT0VRDalsKo+6jrqHep46QMPSTGkcWjqtmHaI1kUbUVdTd1SPVV+qXq1+Ur2XjqKb0Dn0TPpm+hH6XfrnWTqzWLMEszbMapx1c9YHjdka3hoCjSKNJo07Gp81GZp+mhmaJZotmo+10FoWWvO0lmjt1DqvNTybNtt9Nm920ewjsx9ow9oW2pHay7TrtK9qj+ro6gToSHQqdc7qDOvSdb1103XLdE/pDulR9Tz1RHpleqf1XjDUGSxGJqOCcY4xoq+tH6gv19+t36U/ZmBqEGOw1qDJ4LEh0ZBpmGpYZthhOGKkZxRqtNyoweiBMcGYaSw03m7cafzBxNQkzmS9SYvJoKmGKcc037TB9JEZ2czLbLFZrdltc6w50zzDfIf5DQvYwslCaFFtcd0StnS2FFnusOy2wli5Womtaq16rEnWLOtc6wbrPhu6TYjNWpsWm1dzjOYkzimZ0znnm62TbabtHtuHdmp2QXZr7drs3thb2PPsq+1vO5Ad/B1WObQ6vHa0dBQ47nS850R1CnVa79Th9NXZxVnq3Og85GLkkuxS49LDpDEjmBuZF10xrj6uq1xPuH5yc3bLcTvi9oe7tXuG+wH3wbmmcwVz98zt9zDw4Hrs9uj1ZHgme/7o2eul78X1qvV66m3ozffe6/2cZc5KZx1kvfKx9ZH6HPP5wHZjr2C3+6J8A3yLfLv81Pxi/Kr8nvgb+Kf5N/iPBDgFLAtoD8QEBgeWBPZwdDg8Tj1nJMglaEXQuWBScFRwVfDTEIsQaUhbKBwaFLo19FGYcZg4rCUchHPCt4Y/jjCNWBzx6zzsvIh51fOeRdpFLo/sjKJGLYo6EPU+2id6c/TDGLMYeUxHLCU2KbY+9kOcb1xpXG/8nPgV8VcStBJECa2JuMTYxL2Jo/P95m+bP5DklFSYdHeB6YKlCy4t1FqYufDkIsoi7qKjyZjkuOQDyV+44dxa7mgKJ6UmZYTH5m3nveR788v4QwIPQangeapHamnqYJpH2ta0IaGXsFw4LGKLqkSv0wPTd6V/yAjP2JcxnhmX2ZSFz0rOOi5WE2eIz2XrZi/N7pZYSgolvYvdFm9bPCINlu6VQbIFstYcGtIoXZWbyb+T9+V65lbnflwSu+ToUtWl4qVX8yzyNuQ9z/fP/2kZehlvWcdy/eVrlvetYK3YvRJambKyY5XhqoJVA6sDVu9fQ1yTsebaWtu1pWvfrYtb11agU7C6oP+7gO8aCpULpYU9693X7/oe/b3o+64NDhsqN3wr4hddLrYtLi/+spG38fIPdj9U/DC+KXVT12bnzTu3YLeIt9wt8SrZX6paml/avzV0a3MZo6yo7N22RdsulTuW79pO3C7f3lsRUtFaaVS5pfJLlbDqTrVPdVONds2Gmg87+Dtu7vTe2bhLZ1fxrs8/in68tztgd3OtSW15HbYut+7Zntg9nT8xf6rfq7W3eO/XfeJ9vfsj95+rd6mvP6B9YHMD3CBvGDqYdPDGId9DrY3Wjbub6E3Fh8Fh+eEXPyf/fPdI8JGOo8yjjb8Y/1JzjHqsqBlqzmseaRG29LYmtHYfDzre0ebeduxXm1/3ndA/UX1S/eTmU8RTBafGT+efHm2XtA+fSTvT37Go4+HZ+LO3z80713U++PzFC/4XznayOk9f9Lh44pLbpeOXmZdbrjhfab7qdPXYNadrx7qcu5qvu1xvveF6o617bvepm143z9zyvXXhNuf2lTthd7rvxty915PU03uPf2/wfub91w9yH4w9XP0I86joscrj8ifaT2p/M/+tqde592Sfb9/Vp1FPH/bz+l/+Lvv9y0DBM/Kz8ud6z+sH7QdPDPkP3Xgx/8XAS8nLseHCf6j+o+aV2atf/vD+4+pI/MjAa+nr8Tcb32q+3ffO8V3HaMTok/dZ78c+FH3U/Lj/E/NT5+e4z8/HlnzBfan4av617Vvwt0fjWePjEq6UO9kKoJABp6YC8GYf0h8nAEC9AQBx/lR/PSnQ1D/BJIH/xFM9+KQ4A1DXA0D0MgBCrgFQWYW0tIh/CvJfEEFB9O4AdnBQjH+JLNXBfsoXyQtpTR6Pj781AwBXAsDXkvHxsbrx8a91SLIPAWjPm+rrJ8S2EQDug/hQdtgDmLYB/E2mev4/1fj3GUxk4Aj+Pv8TVJocQaH94NMAAACKZVhJZk1NACoAAAAIAAQBGgAFAAAAAQAAAD4BGwAFAAAAAQAAAEYBKAADAAAAAQACAACHaQAEAAAAAQAAAE4AAAAAAAAAkAAAAAEAAACQAAAAAQADkoYABwAAABIAAAB4oAIABAAAAAEAAAK6oAMABAAAAAEAAAG6AAAAAEFTQ0lJAAAAU2NyZWVuc2hvdASwVhcAAAAJcEhZcwAAFiUAABYlAUlSJPAAAAHWaVRYdFhNTDpjb20uYWRvYmUueG1wAAAAAAA8eDp4bXBtZXRhIHhtbG5zOng9ImFkb2JlOm5zOm1ldGEvIiB4OnhtcHRrPSJYTVAgQ29yZSA2LjAuMCI+CiAgIDxyZGY6UkRGIHhtbG5zOnJkZj0iaHR0cDovL3d3dy53My5vcmcvMTk5OS8wMi8yMi1yZGYtc3ludGF4LW5zIyI+CiAgICAgIDxyZGY6RGVzY3JpcHRpb24gcmRmOmFib3V0PSIiCiAgICAgICAgICAgIHhtbG5zOmV4aWY9Imh0dHA6Ly9ucy5hZG9iZS5jb20vZXhpZi8xLjAvIj4KICAgICAgICAgPGV4aWY6UGl4ZWxZRGltZW5zaW9uPjQ0MjwvZXhpZjpQaXhlbFlEaW1lbnNpb24+CiAgICAgICAgIDxleGlmOlBpeGVsWERpbWVuc2lvbj42OTg8L2V4aWY6UGl4ZWxYRGltZW5zaW9uPgogICAgICAgICA8ZXhpZjpVc2VyQ29tbWVudD5TY3JlZW5zaG90PC9leGlmOlVzZXJDb21tZW50PgogICAgICA8L3JkZjpEZXNjcmlwdGlvbj4KICAgPC9yZGY6UkRGPgo8L3g6eG1wbWV0YT4Kp/sYjAAAABxpRE9UAAAAAgAAAAAAAADdAAAAKAAAAN0AAADdAABZ4x9/az8AAEAASURBVHgB7J0JvFXj+sdfLiqpVESlGaFBmpCiDIUoQyJDZnJNmUnGyDyVi3BRV6RBSpKhgQyVRmN0pZQuUjfzEPb//T73v47TmdrnnD2stfbv/Xx2+7T3Gt739679rN963uf5PZskfHNqQkAICAEhIASEgBAQAkIgZghsIqIbsxnVcISAEBACQkAICAEhIAQMARFdXQhCQAgIASEgBISAEBACsURARDeW06pBCQEhIASEgBAQAkJACIjo6hoQAkJACAgBISAEhIAQiCUCIrqxnFYNSggIASEgBISAEBACQkBEV9eAEBACQkAICAEhIASEQCwRENGN5bRqUEJACAgBISAEhIAQEAIiuroGhIAQEAJCQAgIASEgBGKJgIhuLKdVgxICQkAICAEhIASEgBAQ0dU1IASEgBAQAkJACAgBIRBLBER0YzmtGpQQEAJCQAgIASEgBISAiK6uASEgBISAEBACQkAICIFYIiCiG8tp1aCEgBBIFwJ//PGH++2339yvv/7qfvnlF3v/888/3eabb+4qVqzoKlSoYC/+v8kmm6SrGzquEBACQkAIJIGAiG4SIGkTISAEchMBSO26devc6tWr3apVq9yXX37pvvnmG/fDDz+4n376yf3444/2/vvvv7tKlSq5Lbfc0lWuXNneq1Wr5mrVquVq167ttt9+e/ubbdSEgBAQAkIgcwiI6GYOa51JCAiBCCCQSCSM2H7xxRduxYoV7sMPP3SLFi1yK1eudN9++615c/HW8tpiiy3shecWsound/369fbOUCG2NWrUcLvssotr1aqVa9y4satbt669+G7TTTeNACLqohAQAkIgugiI6EZ37tRzISAEUogABBVvLeT25ZdfdjNmzHDLly+3M1StWtXVr1/ftWzZ0jVt2tTIK97b4LXZZpu5n3/+2by7vOPxhSi///779lqzZo19xnGaN2/uevToYceC9FapUkWEN4XzqEMJASEgBPIjIKKbHw39LQSEQM4hgCf2u+++c8uWLXNPPfWUGz9+vJFWQg72339/17FjR/PG1qlTx7y4pQEI7zDhDZ988ombN2+eEej58+cb6d19991dnz593H777ee22247I82K6S0NutpWCAgBIbBxBER0N46RthACQiCGCEBCCTVYunSpGzlypHvyySeN8LZu3dr169fPHXTQQQ4PbKrJJ6QXQv3MM89YzG+bNm3c6aef7rp162bnwzusJgSEgBAQAqlBQEQ3NTjqKEJACEQMgf/+979u9OjRbsiQIRai0L59e3fJJZe4Qw45xMhtqglufngg2YQ2PP7442748OHu66+/NmJ9+eWXuz333DP/pvpbCAgBISAEyoGAiG45wNOuQkAIRBOBWbNmuXvvvddNnz7dEsTOPPNM17NnT4uXJcEsEw1FB+TJlixZYmT32WeftcS20047zV1wwQWm3pCJfugcQkAICIE4IyCiG+fZ1diEgBDYAAESzvDiDh061GTD8N5CLBs2bOi22mqrlIcpbHDyYv5Dn9auXesg3w899JB79913LW731ltvdTvssIMS1YrBTR8LASEgBJJBQEQ3GZS0jRAQApFHgHhciOTDDz/stt56ayO4Xbt2NY3bbMfFBklrH3/8scUKQ8abNWvm7r77blN5QMpMTQgIASEgBEqPgIhu6THTHkJACEQMAcIEILj33XefeW/POecc16lTJ5MJC9NQIOPo9Y4aNcpih4nXHTx4sNtpp50srCFMfVVfhIAQEAJRQEBENwqzpD4KASFQZgQo1Uv864033miFGi699FK3zz77WDxumQ+axh0h5VRie/TRR92DDz7oDjjgAHfVVVcZ2c225zmNw9ahhYAQEAJpQUBENy2w6qBCQAiEAQGKN7z55pumplChQgV37bXXWvwrRRrC3P7880+HKgRxumPGjLFEufPPP98S51RNLcwzp74JASEQNgREdMM2I+qPEBACKUGAMADK9+IN5f2WW26ximQknUWlrVq1yg0YMMC99dZbprXbt29fRyELNSEgBISAEEgOARHd5HDSVkJACEQIATyin3/+ubvzzjtNZeHiiy82yS5K9katQdL79+9v5YnR+UUGLUpkPWp4q79CQAjECwER3XjNp0YjBISAR2DdunVu7Nix7pprrrFCDCSiEbqQziIQ6QT+pZdecgMHDnTbbrutve+1116SHUsn4Dq2EBACsUFARDc2U6mBCAEhAAIkc82cOdNddtllDs8uMa6NGzeONDiM46677nLDhg1z3bt3NwK/zTbbRHpM6rwQEAJCIBMIiOhmAmWdQwgIgYwhsGLFCtOfHT9+vLvhhhvcySefnLFzp/NEX331lZH3efPmOUoFx2Vc6cRMxxYCQkAIiOjqGhACQiA2CFB4AQ/udddd53bbbTc3YsSI2JTSxav7/PPPu5tvvtnVq1fPdHbr1q0bm7nTQISAEBAC6UBARDcdqOqYQkAIZAWBZcuWmSTX7NmzjRBS4jeqcblFAbhmzRp3++23u0mTJjn0gE899dSiNtNnQkAICAEh8P8IiOjqUhACQiA2CBCugIwYlcTuv/9+V7169diMjYHg1Z08ebK76aabXJ06ddwTTzzhqlatGqsxajBCQAgIgVQiIKKbSjR1LCEgBLKGwPfff29eXBQKLrzwQothjZM3NwAW2bQ77rjDvfbaa1bSuEuXLsFXehcCQkAICIECCIjoFgBE/xUCQiCaCCxcuNCKQ2yxxRa2vN+0adNoDmQjvaakMdJpgwcPdocffriFamxkF30tBISAEMhZBER0c3bqNXAhEC8EHnvsMQtXIC4X/dyKFSvGa4D5RjNnzhx39dVXu19++cVNnDgxdiEa+YaqP4WAEBAC5UJARLdc8GlnISAEwoAAXk6Ss2bNmmUSXL179w5Dt9LWB0oDDxkyxBQmhg8f7jp27Ji2c+nAQkAICIEoIyCiG+XZU9+FgBAwBNDOPeecc0xhYdCgQa5Vq1axRgZij9QYJYEpD3zRRRfFerwanBAQAkKgrAiI6JYVOe0nBIRAaBAgMYsiCh06dHADBgywUrmh6VyaOvL222+7s88+27Vo0cKNHDkyTWfRYYWAEBAC0UZARDfa86feCwEh4BF4/PHHrUTuaaedZh7OTTfdNPa4fPjhh+bRJYxhwYIFLhfGHPtJ1QCFgBBIOQIiuimHVAcUAkIg0wiQfPbCCy+4iy++2J144okZPT3atrRME01kxqiSRgjDokWL3DbbbBOr4hgZnUSdTAgIgdgiIKIb26nVwIRA7iBAhbCPP/7YDRw40B166KEZGTjlhn/88UfzplarVs3tvPPOGVV6WL16tXvkkUdMSxeS37p164yT7YwArZMIASEgBMqBgIhuOcDTrkJACIQDAfRkKRhBIlqnTp3S3im8uMuXL3ennHKKEWwKU5x55pkWM1u3bt20n58TfPvtt6a6cOWVV7oRI0a4bt26ub/97W8ZObdOIgSEgBCICgIiulGZKfVTCAiBIhFYv369QzuX0AGKKLRt27bI7VL54XfffefGjRtnSg8oINB23XVXK8nbvn37VJ6q2GP99NNPVg74rLPOMv1gJNU222yzYrfXF0JACAiBXERARDcXZ11jFgIxQgDC1717d1e5cmV30003ZURaDKI7atQo8+AGUO6www7u6aefzpimLcUipk6dajHJd999t71vvvnmQXf0LgSEgBAQAh4BEV1dBkJACEQaAeJkIbpVqlQxorv77runfTx4kVE9wJuK4kGlSpVcr169LEa4UaNGaT8/J4DoTps2zZ1wwgnuzjvvdH379nUiuhmBXicRAkIgQgiI6EZostRVISAECiMA4SN0AbKJR5ekrEy0n3/+2c2YMcMtXLjQvMkHHHCAa9KkScYS0jj/K6+8YnHC99xzjxFehS5kYuZ1DiEgBKKEgIhulGZLfRUCQqAQAn/88YcpLfz+++8Wo7vnnnsW2iadH6C+QDJaptsPP/xg0mLnnXeeGzZsmDviiCMUo5vpSdD5hIAQCD0CIrqhnyJ1UAgIgY0hcMwxx7ivvvrK3XDDDa5Lly4b2zwW3//3v/+1imiMefTo0W7fffeV6kIsZlaDEAJCIJUIiOimEk0dSwgIgawggFfznXfecVdddZV5NrPSiQyf9D//+Y8bMmSIVYUjhAId30wXrcjwkHU6ISAEhECpERDRLTVk2kEICIGwIXDbbbeZ4gGE9/TTT89KKEGmMfn0008dFeHefPNN98EHH1iccDZCKDI9bp1PCAgBIVAaBER0S4OWthUCQiCUCKBpe91117njjjvOXX755W6LLbYIZT9T2SmS4Pr37+8oXvH666+n8tA6lhAQAkIgNgiI6MZmKjUQIZC7CMyfP99IH8v31157ratfv37swXjttdfMe03JY0IY1ISAEBACQqAwAiK6hTHRJ0JACEQMgXXr1lkJ3tWrV2esDHA2IaLcMcUpkFO7+eab3UknnZTN7ujcQkAICIHQIiCiG9qpUceEgBBIFgGW71EfmDBhguvXr5+9kt03itv9+9//NoL79ttvu4kTJ1oiWhTHoT4LASEgBNKNgIhuuhHW8YWAEMgIApMmTTJvLgUjBg8e7KpXr56R82bjJFREu/LKK12dOnXcM8884ypUqJCNbuicQkAICIHQIyCiG/opUgeFgBAoCYFff/3VffLJJ1Y84cknn3Tbbrutu+WWW1yHDh1K2i2y33333XcmKUbIAqT+ggsucG3atHG1atXKCbWJyE6cOi4EhEBWEBDRzQrsOqkQEALlQYBQBXRk3333XTdr1ixHMhr/pywurU+fPqap+7e//a08pwnlvox50KBBjmS0HXfc0VERrnnz5q5du3auffv2Fsaw1VZbifSGcvbUKSEgBDKNgIhuphHX+YSAECgTApBbkrDQj33vvffcnDlz3Lx589xPP/3k6tWr51q1auW22WYb8+wiL3b//fcbESzTyUK6E95rvNZDhw51u+66q+vatavp6IIHJYEbNWrk9tprL7fHHnu43XbbzdWuXdtVrFgxpKNRt4SAEBAC6UdARDf9GOsMQkAIlAMBvLSU9126dKlbtGiRmz59uluyZImrVKmS22mnndx+++3nOnbs6Jo0aeJ++eUX98ADD1jc6plnnunOPfdct9lmm5Xj7OHa9eOPPzZvLsloxCEzdkoB49F+9dVX3YIFC9wXX3zhqlSpYmEN4AIh5kGgZs2aqpwWrulUb4SAEMgAAiK6GQBZpxACQqB0CPzxxx8OyTDkwiB3L7/8sps9e7aROmJw8VoedthhtlwPqctf+pbiCVQM++2339zw4cNjo0iA5/qRRx5xjz32mOvcubMR3qpVq+YBm0gkHAR45syZjsQ84pbXr1/vGjZs6A488EDXqVMn8/CC35Zbbpm3n/4QAkJACMQZARHdOM+uxiYEIoYA3luSrfDgvvLKK27KlClG3iCyLMUfeeSRrkuXLrZEX9zQIMgjR450d911lzv66KNNdizqxA4SO3fuXDdgwACLyUVKbd999y0OAvfjjz+ad/eFF14wT++XX37piNvlAQEMW7Zs6apVq2ae3zh5vIsFRF8IASGQswiI6Obs1GvgQiAcCOC9JfYUkovXdvTo0RaeAOFlyZ3KXz179rSl+GRltD788EPz6kIOhw0bZrGs+b2+4Rh58r0gPOGSSy6xUr/nnXee+/vf/55UmWMIMiSXxLWxY8eatxecmzZt6o444gjDdYcddrAwkM0333wDz3jyvdOWQkAICIHwIiCiG965Uc+EQOwRYGl92bJlFlP71FNP2XI7ZLZbt27u+OOPN+8tsaWlbSgRUEyhb9++tkyP7ixL9lElu7fffrsl1x1++OHuiiuuKFOJY7Bevny5VVQDa8IciHMmrOGEE06weF+w3mSTTUoLt7YXAkJACIQWARHd0E6NOiYE4osAXsYZM2aYl5GYWjy6SGUdddRRtrRet25dI2Esq5eVnH777bfu2Wefdf3797dl/ieeeMLVqFEjckTuueees+IQxNpee+21Fn5QVkzwnhO7DN5vvPGG4U9yH+EeDRo0cIcccoh5etu2bevw8KoJASEgBKKOgIhu1GdQ/RcCEUGAJXPUAUiUQiEA3dv8caNIYpFcxWepiBtFjuzrr792Q4YMcffdd587/fTT3cCBA62wQhQgI+yAUI5zzjnH8fdNN93kDjjgAHsASEX/mQ/k2oiHJtmPeGgS2NAeDuKhDzrooDJ5j1PRPx1DCAgBIZAKBER0U4GijiEEhECxCKB7i9d24sSJRqQIK8B7CIkioQqtV/Rv05EwxrlWrlzprr76aotTPeOMM1y/fv3c9ttvX2x/w/AF/UZtgr7yQHD99de77t27p6WsMefC+43CBUQXwgvBXrt2rYV7UGGOkAmqr/EgUlZvchhwVR+EgBDIPQREdHNvzjViIZBWBFgez6/tSlEHtF0hSSyJI3O1yy67OJKgCCVId/Uy+gOBI7aVd+J2eXH+MDbCCkimQ2Hh/ffft3737t3bSGe642fx8uLh/eyzz0yzeOrUqYZZ5cqVLbQE3V7mD81iPlMTAkJACIQdARHdsM+Q+icEIoJAULWMimWU5YWsoZzQuHFjt/fee1u1LooX4E0lCSrTjT5ROhcPL97Rk046yTR20020SzNO8KKfVHVDMeL88893p512WsYT6fJXofvggw/Mw8sDC7JlxE8TZsKcIlPGA0OYMCwN3tpWCAiB+CMgohv/OdYIhUDaECCTf9WqVUZqib995513TEWBErwtWrQwD2779u2NUOIBzOayN3GuJGD94x//sP62a9fOlB3wMqMpm81G+ABeb8IGnnnmGfv75JNPdlR3C0NFMx4OKDNMSAOEl//zsNK8eXPH/FJ+mWTCrbfeOpsw6txCQAgIgUIIiOgWgkQfCAEhsDEEiN9Eqmrx4sXuzTfftCSzH374wby1u+++u8mC4fUj/jZsbeHChVZdDG1ZJMeOOeYYqzTWqFGjpLRpUzkeyDdYEqIwYcIER6gAIR4nnniivYhbTne4QmnGQ2gDsmRItzHvxBHj5cWrS1hD69atjfDWqVPHIRMXpr6XZpzaVggIgfggIKIbn7nUSIRA2hCAkBE7SvwmyVEsr7/00ksWywmhwZuHHivJZTvttFPGCWNpB44XGtku9GSJJ4agEcpAaAUkLRNL8SSArVixwmTWxo0bZ55x+nH22Wcbjtn0fieD5zfffOPeffddU2yA9HJt4OXdc889TQeZ6wAs8ZZLqiwZRLWNEBAC6UBARDcdqOqYQiAmCBCagKd2zZo1bsmSJW78+PFWXYvPUEpA7uqwww5zeHGrV68eqVEztkWLFpl3l3LDeB8pVAHhpSIb40m1V5IHBuJw8eISRkGpYhLk8HxTtIGSxdttt12kcCTsgocfinKgW0xs9i+//GLhKuDZuXNn8/hCeMPmoY4U0OqsEBACZUJARLdMsGknIRBfBALvLcvUeBzx3L7wwgsWownxIyQBFYCuXbuaJm0mvJ/pRBvSjof6wQcfNBKPhi9yWowRdQh0fRk3XsnSjhUsIYIUaYD8kbBHHO6oUaMs7AMyfeyxx7o+ffpYWd50jjMTxyaJjRhepOR4EXdM3C4SZZRx3muvvSw0A89vKrSSMzEmnUMICIFoIyCiG+35U++FQMoQgJQhxQXxI36VpCiql7G0j+5tr169jPyRZBbH2EuI/VtvvWXFJfBO4vGF6BKOwYukNTyvkN1g/MF7/kkAx+DFMfGEs7QPlugJgy9L+niOeSHVFfYwhfzjS/ZvQjMoDAKpZ9yQfMaK15q46J133tnGzdiLwjHZ82g7ISAEhEBJCIjoloSOvhMCOYQAy/gsPROegI4qS80dO3bMS9bCs4lXM46kjGkOiD7eV8IJiOElOYyleAhrxYoVLawA0s+LBCw8slWqVDFcSMoKKo3hCSdZj3fCFDg22+6zzz4W6kHIBxrCqFPEHU8eGJYuXWoV8Ui4I64XDznyZHiyKTuM1zeuOOSQCdFQhUAoERDRDeW0qFNCIP0I4L2lGhbxqWPGjLF4VQgd5V8hH0H5V2TBIHm55HWDnP30009GcEmyWrBggSlL8ABAWWESsdatW2cENvBIsmzPC6wgsbVq1TIPcNOmTS1Bi0Q3sCROlW1yidgRvgGeYIYuLw9U06dPt3hllC8OPfRQC20g1psHBzUhIASEQKoQENFNFZI6jhCICAKEIqCJStwtS/QQN7y1eNh69OhhS8qQD2SulC3vLMYWkobHljhb1CeCmFvCEHhBjCGw4AiZxVOL15IXn+fiw0JRPwc822CIl5uHLEJkuA4pE03MLqEiFPNAqowwB8XxFoWiPhMCQqA0CIjolgYtbSsEIooA5AwyQaY/5Jaleby3LMEjC0bxhPr165sObq55b8s6pUGoA95K/iZ2l1fg4S3rcXNlPzDjoYuENbR5CROh4AgPDih6ILV28MEHW/Ij3nE1ISAEhEBZEBDRLQtq2kcIRAQB9GKJiSQZiOV3/o+HkUpWeHCbNWvmKJRA/GguhSZEZPpyppt4yLk2SdyjoAdJgYSJBF5e1BpQbsDji2KDrtWcuTQ0UCFQbgREdMsNoQ4gBMKDADGiLLPjsQ1K8kJ08d6iDdumTRtTD6B0K8lUWhoOz9ypJ/9DALUGkte4fufOnWux42gPs+KA8gWrDyh/oIBBaIiaEBACQqAkBER0S0JH3wmBiCBA3OOXX35pBBf1hJkzZ1qoArGhJEPhveVFBTMl+0RkUnO8m4SEkPTH9UwsL55elCy4ftFypgIbD2wNGza05L9cSu7L8UtDwxcCpUJARLdUcGljIRAeBFBNIIudGEc8uJCBOXPmWKIP3i68X1SmItYRFYDSFjsIz0jVk1xHANJLjDkPcKiEcL0T7oCXl8pr7du3N8JLVTlCc9SEgBAQAgECIroBEnoXAhFBgNAEkngou0rsLZXLWOqFyO60004m07T//vvbjV9erohMqrqZNAIkqxHWMHnyZHu4QzWElQvCcqi+hjxezZo1TZtXD3dJw6oNhUBsERDRje3UamBxQgDvLfJWwU2eog5U24LwUmULzVvK1hK/iGqCmhDIBQQoyMFKBsU9WM3Ay4ssGRJl/B7w8BLqQCyvHvpy4YrQGIVAYQREdAtjok+EQCgQCOSrkAYjI33s2LH2IjMdfVvK0lJKFe/t9ttvH4o+qxNCIBsI8BshnGHcuHH2G2GFA3UGHgCPPfZYi09HWYTkS3l5szFDOqcQyB4CIrrZw15nFgIlIrBmzRo3Y8YMN2rUKAtPQDmB6lq9evWyF7JgQQlZyS2VCKW+zAEEggdDfieE9Dz11FPu5ZdftuprJGES1nD00Ue7li1bqhBKDlwPGqIQCBAQ0Q2Q0LsQCAEC3KSRA5s4caLFIK5cudLiD/He9u7d2xLLWIrFWyVpsBBMmLoQOgQgvIQwEMuOEgmV1yZNmmQeX8IX0JCG8OLtRWJPTQgIgXgjIKIb7/nV6CKAADdmxPHxQk2YMMF98MEHjphcPLZdu3a1ymWEJrD0qqplEZhQdTE0CPA7QoOXWHZ+VySwzZo1y2TLKHNNqWFieSlIoUIUoZk2dUQIpBQBEd2UwqmDCYHkEKCwA4llJNC8+OKLVvoU71O1atUse5yyvFSBCgiu4gqTw1VbCYHiEMDDiy4vCWzz5s2zcCBKDxPv3rhxYys3jFQZD5iQXjUhIATigYCIbjzmUaOICAIoJ5Aog2LCG2+84RYvXmxVy7i5durUyYTwkQiTHmhEJlTdjBwCgZeX4hP8/ig3PHv2bPf999+7unXrWmgDnl5CHNCj1kNm5KZYHRYCGyAgorsBHPqPEEg9AuvXrzfN2/fff99uqAsWLHDLli2zMAQqPCEJxk2VhJmqVatKBin1U6AjCoEiEaAQBXrUhDXg5WWFBQKMR5fET36bvPhtbr311kUeQx8KASEQbgREdMM9P+pdhBFYu3atxd4GBJdSpoQroHsLwe3QoYO9E54gr1GEJ1pdjwUCJIIiUQbZxcP74YcfmnY1CWuUz+Y3C/mtV6+eVBtiMeMaRK4gIKKbKzOtcaYdAZLK8N6ieYvHFg/R9OnTzUOEDBghCagndOzY0eJv+UxNCAiB8CHw1VdfmfrJtGnTLH4ery+JoJTVRrea3zLlh/HySv0kfPOnHgmB/AiI6OZHQ38LgTIgwPLnt99+61avXu0+/fRTkwYjs5t4XEqRQmyp1LT77rvb/8twCu0iBIRAFhBApozktZkzZ9rvmpheftcQ3W7dutlvm7hefudbbrmlk551FiZJpxQCG0FARHcjAOlrIVAUAqgmUI0J6SK8PVOnTjXpIsIU8PwgSn/UUUeZ94cbobw+RaGoz4RAdBD45Zdf3MKFC93zzz9vv3VUUvDo7rnnnq5Hjx4WZ48E4FZbbaXQhuhMq3qaAwiI6ObAJGuIqUOAjG28PBBc4vgoOfraa6+ZTiext0cccYSV5W3evLlVLUvdmXUkISAEwoIAurxUXRs9erTZAby8O++8szvssMOM9CJXVqFCBSO88vKGZdbUj1xFQEQ3V2de4y41AsTgkp397LPPurFjx5o0ESoJxN0ef/zxpsNZuXJlLV+WGlntIASihwD2gNfHH3/sxo8fbw+9VDXEBmATTjjhBCtGoUIU0Ztb9TheCIjoxms+NZoUI8CNjPhbyojivZk7d67p3pJ9jffm0EMPNYF5vDckl8l7k+IJ0OGEQMgRYJUnCGNCOnDMmDGWhIrXl+prRx55pJUcJpxJhShCPpnqXiwRENGN5bRqUOVFABkw5MAmTpxolctINCP+jlKhhCc0a9bM1ahRQ/F45QVa+wuBmCDAQzFxvIQ1ff311w7FBuJ5kSnjIbhFixauZ8+erkuXLq5BgwaK24/JvGsY4UdARDf8c6QeZggBYm+RBXv99dfNg0t5UMqGUrUMzy1amsTh4qXRcmSGJkWnEQIRRAAvLytBEF6UWCZPnuxQYqH6GgoNPDBjU9Dm3WabbSI4QnVZCEQHARHd6MyVepomBMieJpsazVu0b9HQRCqodevWrnPnzpZkEmhmqrBDmiZBhxUCMUWAB2iUWT777DM3f/58e5Dmb2wJMmXID1L+m1WizTffPKYoaFhCIHsIiOhmD3udOUsIsMRITN1HH31kGdPvvPOOLS+y7EjVI+SCILm77LKLoyqSbj5ZmiidVgjEDAHidlk1ImkNu0NML6EOSBDi3Q0qsFEtUXYnZpOv4WQNARHdrEGvE2cagcCzQswcN5i3337bqpaRJb3bbrtZTfv27du7Jk2auGrVqmW6ezqfEBACOYIAFRQJa3jvvfcspAFP79KlS20lCcJLBbZWrVqZLUKrd9NNN80RZDRMIZB6BER0U4+pjhgiBIiVW7dunfv8889NDuzNN9+0WvbEzxGOwE2Fkp5ULatVq5YtJ4ao++qKEBACMUeAlSRILrYJTW7kyn7++WezT4Q0tGnTxghv7dq1jQjHHA4NTwikHAER3ZRDqgOGAQEE3L/55hu3cuVKI7aIu3MzIfsZj+0hhxxi2c8NGzZUYYcwTJj6IASEgEPthZCGKVOmmKeX/AFWnAilouQwsobbbbedJbTJy6sLRggkh4CIbnI4aasIIID3lng3PLgsCU6aNMluFsTFcXMgsezwww+3GFzK9KoJASEgBMKIAHkEy5cvt8Q1JA5Jlv39998dD+YQXh7UWYEirAFbJtIbxllUn8KCgIhuWGZC/SgTAtwQiL1lqQ+1hOeee860b5EG22yzzSzu9uijj7bwBBI+1ISAEBACUUKA0AYqMkJ4J0yY4FasWGHlhXlwP+aYY8zGBYQXm6cmBITAhgiI6G6Ih/4XEQQguH/++afpUqJ7O3LkSCvsAOFt2rSpVSLq1auXKScoezkik6puCgEhUCICrFjNmDEjz96h8406DNXX8ts7KjSqSmOJUOrLHEJARDeHJjsuQ0UaDA8H9eXx4CLXw/Jd165d3bHHHmti7FWrVjV5HunexmXWNQ4hIAR4wCeEgVUsVrDGjh3rnn32WffJJ5/YChaFKCC8Bx54oBW3EWJCQAg4J6KrqyASCAQxa2QlQ26RB8Pg77jjjlZhqHv37laxrEqVKrasp5i1SEyrOikEhEAZESAngaRbqq0Rw0toA8oNJOGSk3DAAQe4Hj16mDZvhQoVyngW7SYEoo+AiG705zDWIyALee7cuZZY9sYbb7jVq1c7vLXt2rVzkFuW7SihWb16dSVkxPpK0OCEgBAoDgFCGEi6pQLbW2+9ZWFc5CmwotW4cWMjvBDfBg0aSGWmOBD1eWwRENGN7dRGd2CEJlAfntjbadOmuSVLlthSHRnHXbp0MV1J/sZrQaleNSEgBISAEHAOLy8a4cgqQnRZAaMwztq1a636GjJlhHihH77ttttKN1wXTU4gIKKbE9Mc/kEShkDM2aJFi9zMmTNtKY7YW7y3VAmiYlnz5s1do0aNTFJHoQnhn1P1UAgIgewhgMMAHV7id7GrrIihJU4+Awm7lDqn5DDhX6oEmb150pnTj0DOEl0y9on7VMsuAmjefvbZZ0ZsEUqnBjzhCjvssIN5biG4LVu2dKr9nt554sFBWdrpxVhHLx4B2ePisSnvN9znkCij4tq8efOsIMX777/vCHfAzuJIoPpas2bN7P+SKCsv4uXbP1DMkD0uH47594410eUHzjIOcZ0E6BO0z4+bAH5kqFjmUcseAswPHoeA4BJfhhQYcbdkD++22272f/3g0z9HxPIRBsKLSkwk9RH7zPImf8uDnv45iPsZ8DASR4o9ZikdO8wLm8x3cjyk/woIbC4FdWbPnm0xvZUqVbKVMjy8lEKneqRa9hDgfkfyYGCLscfoJFMgBJvMg4juiaWbn9gRXX7IPL0So8SLJ1eI1BdffGGeQr7jxVK5LpbSXSzaOr4I8LvBgLKsyY0P40riSuDpqVevnqtdu7ZiouN7CaRlZDgTILfYX1ZuUEthGR3HA3YYhwMkV00ICIH/IYAtxrHAAwe2mBehJTyEYI8J38MTTwK2vO/JXTWxIboBwcVDyPL3U089Zcs0EFpu2lwYvEhg4smoZs2a9tSUHEzaKl0IMG964EgXuskfF11OPG1ff/21vYiP5reEx43fT6tWrVyfPn02CCPRvCWPb65tye+asCQI7pQpU9zkyZMd1xTXDN4pkknr1Kljthh7zI1cqwbZvUpki7OLf3B2Hg5ZfQ5sMSudPCTye+KhEKKL4tBBBx1kvyN+O9KLD9Ar+j0WRBcyS4gC8UcPP/ywVY7hKQg5FWqCsySDUdWSTNEXgT4VAgURgPguX77cljchKiQI8lmnTp3chRdeaGElJArKwBZETv/nOsFjO3r0aKvg9fnnn9vqANn+2GRi7nE0qAkBIbBxBHgAIW+F1RBUNNBLxjbXr1/fHXfccVYVD34D51ErGoHIE12efpCfguCOGDHCXPnU/77gggtckyZN5CUoet71qRBIGgGIy+LFi92wYcNspYQHy3PPPdedd955Fs4gsps0lLHfkGsFOauBAwdaiALZ/WeccYbr2bOnJZTGHgANUAikGQHKQI8bN87s8YcffmhScf3797fCSTjztNJWeAIiTXTJ1MXbdPvttzuC69FYveKKKyyWhaQmTXjhCdcnQqAsCPBbI6YSw3rttdeaxjFanLfddpsV7+D3ppbbCBDm8uCDD7pbbrnFwsJwNhx//PG2msbDkOxxbl8fGn1qEMDDi4OPVZN//etf7rHHHrNQh759+7qrrrrKkodTc6b4HCWyRJcbL0tjd911ly2pMsknnHCCq1GjhkIU4nN9aiQhQgADizeXWDFWT+6//35LiLj55pttSVqhQSGarAx3hfjue+65xz300EPmaLjxxhtdixYt7KYrj3+GJ0OnywkE4EA8XBKyiS2mIt7hhx/u7rjjDtOfzwkQkhxkZInupEmT3E033WShCeecc4657SG58hokOfPaTAiUAwHkoVhNufXWW82o4uUl/lKkphygRnRXkhafeOIJ949//MOywnnwIWwMiSTZ44hOqrodGQRQLkEj+YEHHnAvvPCCI3QTu6zf319TGEmiO2vWLHPRo78Iye3Ro4d5cv8alv4SAkIg3Qjg2SVWDIKDosmVV17pOnTokO7T6vghQoAHngkTJlj4GHJ0rLChg60HnhBNkroSewRQY4Ds3n333e7ll1+2hGFCh5Sg9r+pjxzRXbVqlbvooovcBx984Pr16+d69+5tEjWxv5I1QCEQQgRYsn7kkUfcmDFjTN3ksssuM29eCLuqLqUYAWK2p02bZitrLKPeeeedbp999pEXN8U463BCIBkE+D2Sq8Tq2kcffWThDPvvv7+0zz14kSK6BGATf0LCA7Iaf//73022JpmLQNsIASGQHgSWLl1qJIcYsRNPPNF+l1T1UYs3AuiVk3hGUZ6rr77alkzlyY33nGt04UaAVW6kIOFGhA8NHTrU3nO9sERkiC5JMHhxe/XqZRMH4aVErAxruH946l38ESBJ7c033zTPHoYWJYa99947/gPP4RESthJIOqJVfs011ygBJoevBw09PAhggyG4qFFdeumlJu9HKfdcbpEhulQKIQbw2WeftUns1q2bZDRy+crV2EOFAMYVJQbidZH5g+wqPixUU5TSzvBgg7ICDzk4HShPqiYEhED2ESCMiLLbRxxxhMMuswLeunXrnC4XHAmiizf3008/tfgvYsCYOCqBqAkBIRAeBFjCvuGGG9y///1vN3z4cKuAFZ7eqSepQoDEF7xFzzzzjIWqXH755SrMkypwdRwhkAIEeADF8UBdgUsuucSdeuqpbptttknBkaN5iEgQXcr7IoqMQX3qqadMSqxy5crRRFy9zhkEMDboHEIMiC/nRawUpXORfolbQ+bm6aefdshLnXXWWWZk4zZGjcdZJUqSDvEWMdft2rUTLEIg1Ahge7FPJGzh8eT/m266qak1xbXYDV5dJB+RXWXVhQI/udoiQXRXrlzpTjvtNMsknD9/vj2ZSJ8xVy/Z6Iwbkjtq1CirUU4VG+IaWYm48MILY7vUS/lXPAjcPF599VV7j86MqafJIMA1TRJa165dzYOvxMNkUNM22UTg66+/ds8//7yDP2CLIYFVqlQxOS5k8eLaCPcMCmshw5qrOU2hJ7o8fVF2tHPnzu6oo46yC3OrrbaK63WpccUIgRUrVrjrrrvOzZgxwyGqjzehbdu2Vj2KmKk4tuXLl5sCA8Ll6KtSHUstXgjwIIOsGDKPVKRUEwJhRwAOwerDnDlz3GeffWZe3ebNm5sO+E477RT27pe5f2jqnnfeeVY1FiWGnE1K88uroW7fffddYuTIkQm/3Jt48sknE54shLq/6pwQCBDwseUJH3aT8BXEEh07dkz4VYjEwQcfbJ8F28Tt/Ycffkj4+uuJ7bffPuGrZcVteDk/Hl8gIuE9Q4kDDzww4eXkch4PARANBNavX5/wK2qJBQsWJLbeeuuEZ44JL4WY8KvF0RhAGXvpHSyJNm3aJI4++uiE19gt41Giv1voPbpfffWVGzJkiCWgodPJ01euut/L/FinHbOKAEk7JGn95z//cSeffLKtShAfFsfGCgy/Uzx9SAGStKQWHwRIOMQztPPOO5t2bqNGjeIzOI0k1giQK0FolX9Isxjd++67z+yUJ76xHTexyJ7kOioYopLCynguttATXZZCBw4c6KZOneoQplf95ly8TKM9ZkguRpWkgAEDBli8ebRHVHLvFy5c6M4880xXv359WxoseWt9GyUECFkgdOGwww4zjc5q1apFqfvqaw4jANn75z//aUntOBqQyCOEbIsttog1KoQYvfHGG3bvOfLII2M91uIGF3qiu2TJEnfxxRe7ZcuWWXm74gaiz4VAGBEg6aF///7Oh9+4vfbay7Jf415MgXg46qwTk4yBVYsPAuiYUwXtjDPOsKTKXK+4FJ+Zjf9IPv/8c4dayNixY+0hHNtEcnDcE9vRNEetiuIRJ510UvwnuogRhp7oLl682G6aPvbPlkSLGIM+ykEEkDbiCR0yVdqGYUMVgIIGeKT4O5XGzkc05R2PMqk8qOEJYykfz27t2rVL2+VIbf/JJ5/YmFFLwburFh8EfPy1JfWcf/757txzz43PwDSSMiOADUbV4Lfffiv1MfCs8rCEXChJ5umUXeQBnGV8dL4ppjBs2DBbZSt1pyO2A0V8qD2AZ/f000+PWO9T093QE92PPvrIsgZ9MLl7/fXXUzNqHSXSCEAkZ8+ebUUJkPDi/8k2CC0vDCqGdbvttjPiSawhtcHJSi2triLXJrHklKgm1IY+oZWLwsKiRYssTpUViXPOOccNHjy41MdPdmxh2Y5VGJa3CTUiplMtPgj4BEOreofHnutZLbcRIAZ05syZ5iX1ieOlssUgR74Nthh7ie3Fw9q4cWPXsGHDMhWFIkcAG4yDjAdttHNxZuy6664m7wjBZRsUGM4++2y7B8R9BiH05DmxskhIWS42Ed1cnPWIjxli++KLLxqBxNOPPi2kqmLFim633XbLi7lCL3HVqlWWeIARrVWrlqPKHkQUDwRlpSG9fAfJ9coIVr4WSaxkl7QoZoLXFimtWbNmOTRF6QceZ6884OgfsWBoNhKfy5Jv3JuIbnxn+PHHH7fwGzy6IrrxnedkRwbRJRSAgk6ssJFwi93FibDDDjuYPcReYwd56IXY4lSAfOIg4PM1a9Y4SDKe3Zo1a1qiY4cOHdz+++9vMbQkiyWTgI7NxQFCf/De4rCARJOEBpGuXr26e/TRR817jOwWjoi4x+cyjyK6zonoJvuL1nahQgDDyBM7RhWvP3GDEEwMWVDqcPLkyZZ8gFHlSbZly5a2vIamLfFZL730khFhvscQYihJGOvdu7eVNsWzUFJIA31glYGqM3hzDzroIFuyx5BDfq+99lpbuue4GG68ufvuu2+ocExHZ0R004FqOI4pohuOeQhLLyCxOA7QpuWh/7XXXjObW7duXQtt2XHHHY1oUqiBpXNUk4iTxbFAyAPEmH3QGseeE8LAvgFZJjyGkC/CvYpbaaMPkNlXXnnFEtfZ95BDDrFlesi2lxQzpRvUYCDmHAt7jc0vyb6HBePy9kNE1yPoL5JQN/9klvBPdolOnTqFup/qXPYQ8GEDiS5dupjWsi/SkNcRL22V8KQz4et9J9C0zd/88lVi6NChCW/0Evvtt1/CE+SEN8AJb5hNA/aUU05JoEFYXPOGNeG9yglPYBPeOCcOP/zwQtv7DN+EX4LL02z0N4PiDherz32MruHRrFmzWI1Lg0kkvOcu4ZeBEw888IDgEAKFEPDxr4lDDz004WWs8nSW0a996KGHEt4RkbjrrrsS3ou7wX7eE5y4++67E57gJtq3b5+YNGlSwlePTHiSmvB5FGa/seuepG6wX/AfbLF3XCS8youdw1dRTdCPoPnwhYRPxkp476197xVDEj6eOPg69u9g71c6Ew8//HDsx1rcAEV0i0NGn0cGgdWrVyd69uxphNNn1ub128dhJXbZZZeEL1ea91n+PzB2GGXIrl/usmIkzz33XKJVq1YJH7qQ8LqDxRrXjz/+ONGnT5+ET6ZIeE9xwnsl8h/a/p44caKd3y/JJa655poEBjkXmohufGdZRDe+c5uKkX3xxRcJL2GV8CtXCR+7a4eEyOJU8GFdRjghngWbj6lNeO3thPf0JrDB2EofXpCoV69ewodBWPEZv4JWcLcEDgvO6RVtEj68weytT4DdwG5DkP3qnh3Hr94luC9QQCJXmoiud/mHfbLl0Q37DG3YPwxPaV4b7l22/0F0Ma54VgsSXbxPxRFdznbvvfeaJwHvL1XM/HJawhd4MKLLU7CP5S2yU/fcc495fjHeVNgp6DFmp0GDBtk2eCogCLnSRHTjO9MiutGY29LY4GDbVIzM50SUSHSffvrpRFFEl8/8EnvC51Ekrr/++ryuDB8+POEThq2ipA8Hy/s8+AObzWoci9O8fLhYIZuNR9mr3dj3HMuHOGxAhINjxfVdRFdEN67XdsbHxdO2l9BKeM2+hE9SsZKDXbt2tVKhlAst+KKMqC8CkvDxq+Xua3mILl5XHzeW8CoBVg4So8+yl08aMwLM9wUbIQ2QW7y5Po438cgjjxTcxMg+Y2S5jvCG6dOnF9omrh+I6MZ1ZhW6EIWZ9TGqiVdffTXhcwISXlkgcdRRRxWyv4E99nkFCcK0CBdIRSsr0cXu4snFg0voQdC4P+znQ8sIAfM5FcHHee9eYSFBKAIkF3tMCEPBlTOfM2DH9PG4dhw8zJwvV5qIrohurlzraRknyz9eNsuW+HfffXcjhj6ZK+EVBmyZCpLns16LfFFvnJghnsjL28pDdH0ShMUv+bKmic/+P4bWF3lI3H///QmvxpDw+oOFuucze834YlwhsV5todA2PrEiASYYV1/2NwH5y5UmohvfmZZHN5xzy/I8Hk9CpPbYYw9bkcpvi4uzw9hoX87ZYmdTMbKyEl3OTc4DTgefDLxBV4jXxRM7bty4QgTVJyLbfQc7yzggvgVJLOTXF+mxeF9C1YqL9d3gpDH6j4iuiG6MLufMDoWn4hEjRiS8RIstNxE20K5du4RXNzCSiFHCq0DsalEvX3PckrdSEStVHqLrVRMSJE3hhQ6ILktdLKN59QYLbSiILJ4FXzrSvAjEBheVtDZlyhTz9mKA8azg8WY7L7Fjfxc8Zpz+L6Ibp9nccCwiuhviEYb/8WDuiwLYQzcP59gtbHG/fv0sCcxXs7PVtqLsMPZv7ty5tpqVirGUh+hiV8mpKEh0WW1jTISU5Sex/E08rldjMG8unuuiQs1Gjx5tRJljEBbBfl7SLOGVIAolxqUCg7AdQ0RXRDcU1yRPmF7TNQFhI7AewkWy03vvvZeYN2+ePaUGWaIQQ7YjeP+dd96x7/mb5apgm3QPiqdmPAc8QeMp6NatmxFDL99ifYcEE3NF3CpjK+qVyj6Wh+hCxonjDUIX6BfGeuDAgWYcvUB+oa4S49WmTRszriRQFIX7ddddZ8aZGw8Zv2wD+T/11FM3yAgudPAYfCCiG4NJLGYIuU50IUnYNmw0HlRssC8KYzaD+P78LdgWIgmpwsanurFy5Eu7WhIX8a1eVstWylh1YrWNh3b6W5QN5jP6mMpWHqJLwhge3fyhC/QP4otH12uVF+oq2HMPIhHNy5cluPfkbzwEkHwGGSb8gVA0bDFOGs6TX6Un/35x+ltEV0Q3FNcz8lg33HCDxX0ed9xxFlOFXNXBBx+cOOCAAxI33XRTwmsBWuYoBIr4UOKSkF3je7b1NaztaRVPIsdLV8MwYDiQcsH4IMnF0j1GPNVGM9kxlIfojho1yjyvPOlzHMaAt3mfffYxw8gNo2DDi0CMG95aiG5+rzT7e41G83QjZ4Pnd7qPz8Wb6wtGJLp3757W+SnY12z8X0Q3G6hn5py5SHT5TWPfILUkrxLmhPcQ+4ysIbkIKLBgQwiFCtQBIL5PPvlkgjhYrwWb0vAl+gSJu/zyyy3hFVlEZBSxV6kIByvr1VRWogvpxvOKpBhOh6Bha0kKJgwsUHEIvuMdhxDkGKLrS61vQHSxy+SBEONLmBkrd59++qkR/2OOOcacDjwoxL2J6IrohuIaJ/mJGCJ+jEW9+JEff/zxRp7wEGIMIFBoDvKUCqGCdBH3ymd4IzF4BT0M5R0s3gFudE2bNrW4KAy7F/zOGsENxlNWootxhaj7CmYWi8vNjMQFPkNe7Nhjjy3ypoHXAO8BUjUQXogtNx4SJyDJxORyTIwv+s94ujG4vs66PdBw3jg3Ed34zm6uEV0SmyBT6L+ycoUUIUlP2Gk8qL6KotniBg0amM2AVKExjDeVFTlWfpAXJMmK1blUNfpFuAL9ISGWJGBW2rJtW8pKdAk5QM4RhRpfrtZWA8HwrLPOShBrDPnNr6gT4IgDwReVMFuL08dXyLR9IfskR+OIwBYzX9xHuV/hXcdRw0pb8FASHC+O7yK6iYQqo/lfQLabJ2rOZ+5btZbPfIUZqsh4Q5bXLU9irVQhZWn33HNP50mxVZihfKEnyVYOl0pfnoAhF2elDj3Bct44OO+ZTKp8Yt7JivmD41Li1nuUrdKMJ4FW+YuyutluVMLxBtFR1pEqaf6mYl2iEpn3qDhv7NyVV16Z103G4h8CnL/xuPPOO8+q8FCel4pmVFPjOJSi9IbXeSKbt1/+P6iI5m9+znsInBdHt9LB9MN7dKxSkL/xuRdeeMFKUHrvgfMG2cpdeq+DlZ7Mf6y4/a3KaHGb0b/Gk0uV0fwSt9lknzTrfJyrlQ0HCSp0+RhYq4ToE7+sIiN2gMpc2Eif4OW8h9dKjHsyajYZm+RVBayk7V9olu0vypjzG/OSis6v3jnKMft4XCtbXrYjpm4vKp1RzYyyvn7lz8qqe8+zGzlypPMeZ6uadsQRRxhGwVm9A8X5VS+rMImdpKKkXy00W+zlyJyP23Xek+48US1UHY37pH+gsIqU/oHEylJ7z61VXKP0OmWFuU960mtV0KjORtVKT6KdD0uzKmz+wSXoSizfVRnNT2vYn2ByRUeXJ3FiqYhTwmvL1AQvPLZ4DnjS5Qm2YMPjgPcRj26wDyLbxGuBXyoa3k6euOkby3VFaRqm4jxlOUZJHt1AOgyMwIKlMG8AbUmxY8eOlomLhxxvABjzN+MjpAGvSXGN7zgOSWzsy/IlS5R4F8gEZp58aWD7nPOw1ElSSFHxvMWdI6qfy6Mb1ZnbeL9zyaNL7gPJtWhlB3YV7yxhTWTy55dGxH7jwcUD6R+STVYQ9Zlgv1R6dFlZY9WOvrCixCoUK0phaCV5dFF4oAIa9w5WwbDF4IjHkQITxNESDocmOnkTJI/xOWoMJXlescWsmhG+hy3G84499s4Ni58mXAFbjF3fz3vc+Y7EvFSveIYB/6L6II+uQheKui6y9hnGiuUals0DA8k75Au5q5KIF0vmEKpgWY39WPKBeKWCXGGciAVmaYniCmFqJRFd+ksmLzHNEFFCO1hmxKgS7gFOvua5YYyCBDFvxOIle+MgDoxlN8gtiYT59+Pmx1IZN0ziprO9rJipORPRzRTSmT9PrhBdHuzJRcCGBrYY2woRQ6mgOFsMgfMeyw3sMPuniuhiXwhRgAiShEWCa8GSupm/Kv46Y0lEl1AuQu5wwEDQscXYZwgwthh8cdBgn9kOoootSfb+BTacP7C3+ffjb2wwzg7uF/nt9F+9j+dfIroiuqG6sgMjVpDoUt6QeKOSGgoHBOPn9yJgPPBoYizK26hog3HliRgiGKZWEtHlxgQm3LDwgGBs+Qzyi3ea/1PYgXitkuqph2m8Ye+LiG7YZ6js/csVostqjQ9JyiO5kNWgCmL+5NOCSOIlZFWOh+eAIKeS6HL86T65FbuFDYPYhamVRHS5H7HqWL16des/zgbinEmk4z1YhUQZIZ0J1WHCKxN9EdEV0c3EdZb0OUoiuhi3jTV0BslQzW9gWUYjUaG8DS1YlpJIikODEGNfnhfEPFVP1SURXRLnWObDeJK0gQeBmxjn9vGGlsxBwhjKEanqT3mxjvr+IrpRn8Hi+58rRJfks4IOBx6Mx4wZs9GVGbSy0bHNb4dT5dFFaYEQNkgiUoXYvvLYYfZNpS0uiehWqlTJqkgSFkYyGI4T5B0h7yTWca8iKfszL92mljoERHSVjOZtUXiav7Sd9ypaspk3GHkd8x5dd8stt1jSU96HRfxBIsRVV11lCVHB1/4p2flsfwu8Dz4ry7tf0nc+m9h54+S8rI4F9pflOME+vsCE88UWnH+at4SB4POyvCeTjEayWpAQQUIfiWLew+B8XJfzxtZ5ySBL6vBZzGXpgvbJh4CS0fIN5/bTAAAZo0lEQVSBEbM//cOhJQ2RAOXj02M2uv8Nx5M/sweM1Ycb5Y2RhDKSmpo0aVKi/fOZ/84rt1gCW7Az+6YiGc0TW0vM8s4LSzQmMZlkq7I2bCAJxSQvt2zZsqyHydsvmWQ0H0bmvPPB+VU0S6gDKxpj8qEY7oQTTnCezJeIcd4J9cdGEVAymocodc8N6TlSriSjgV55PbrEh7EMz7QGL+K4CMIvbwskXEiMY1muvC+WsO67774NdA/L2seSPLp4DfxDgnlhSEgjfo6+47Ehtm3OnDlWMhOZtuHDhycdD1bWvubCfvLoxneWc8Gjy4oVRQoCGxq8YyN+/PHHjU4uElcF90+VR5eYf68UY33DtpfXDiOR6Im7JRpvdGBJbFCSR5fQD0LgSLomQYwwOLzm5J+QbEYhHiTAvPpNwj8UJHE2bZIMAvLoyqPrbVh4mr9oy+XRRWoMGS2eioOGvAryLEiwlKdxXG+QnFcmMA8xnoDyNDy6PvvVpMD8Mlx5DmXyYMnIi/klMpP/8eEX5gUZP368eWf++c9/OmSA8C4jn4aXRK3sCMijW3bswr5nLnh0fVKpSWT5Slx504G9wz4gYbUx2+eX3s0O+wIIefun0qOLHUa6yxNF54sGbSDVlXfCJP9gLD4kzWQrfZhXknsVv1kyHl3kxbgv+TAQ54shmZSjL5hk8mE+rMG8vdyzsM8+XMTFXf6reDRT8408uh7HZJ4IsrmNPLouQTJaMjG6ZP77cIANPBHEchEvVt6GPAtJXMhkUeCCksPleRFrRnxYKloyHl3Og8ccbw2FLsCFeGMq4yBEjjQNXhe/JJuyuu+pGFsUjyGPbhRnLbk+57JHlxh/4lk31tLp0UVazBMXS6xFUjIVtpjiCvkVCjY2vpK+T9ajyzFQq8E73cCrLHgdYFMcwnb40AVLTOvfv39ayiaX1P84fiePrpLRQnVdlzd0gWV4dAR5fgleJAAgC1beRgIBiW7oGnKeMLVkiS59hlxzcyABDeL+6KOPGvmlchlj23nnnS0xguU1tbIhIKJbNtyisFcuEF2kw04//XRTBgjsKO8QMsjZxlo6iW6gukDYAvYYpZgwJdGWhuiCI7KY6Npid6koB+lGvg1Nc5QYKAscJvm0jc19GL8X0RXRDdV1WV6iS1yTTyjII7kYZ6RcfKWZco+TTGLiW9H0xbubjGej3CdN8gClIbocEu8FxRuIDyPLF2OLp/fBBx+0m0eHDh2sZG+Sp9dmBRAQ0S0ASIz+mwtEl+nCZmI78xNdyu1iKzZGLCG6vhriBvumKkYXLW601ollheyOHTs2VESwtESXmGc81ORSkEuCdCVea0gv8cMU55g7d27OFHdIh6kQ0RXRTcd1VeZjlkR0N6ajC3ljSZ6n4MA4+/grC+z3ZWnL3KdgRwwSAuoc38eFWRWg4Ltsv5eW6IIzHluqmiFpc+GFFyZ8XJ0JsVMwgqQTqvOQvKZWegREdEuPWVT2yBWi+/zzzyfatGmTZ0sDpwGVvUp6yMe2kBTM6lBgh3lPFdHlOsHr6XMJLPyqe/fuZqdK6lMmr63SEl36hu0lZAyPuVe/Mck0wuKoSudzORJnnHGGVX8LyxgziWcqziWiK6KbiusoZccojuiyRIVGbklxVJAyL/u1QUUeCiUQx5WqpR/KNVLRZvvttzdySAZwGBpEF28zRpF426BBzBFVR3WhqEbJTi81ZoLlI0aMsMzfefPm5XmuKcBRVMnloo6lz/5CQET3Lyzi9leuEF2qHKI0k7/8Lx5UHvIhYcVVOWRlyCe3muZ4uogu9wFsF15QbB4a5/S3uD5l8hqkHzgJIPozZ860U69duzYxdOhQw5LCPAXDwrjvkYOC9xYFCMIVGCPKDFT7RL/YJ61Z7kQYxphJPFNxLhFdEd1UXEcpO0ZxRBdjdtxxxyUIHyBGK39jH+LGBgwYsIHAOUYZEocBSVWjtvu//vUve/JmGe/WW2+1Erf0IZuN8VPeF6kdYtaCBsEl9gtPd3F9fPjhh82DS310liUxwsjc7LHHHkbo77zzTvMwyMAGqG78XUR34xhFdYtcIbrYixdffNFsKImrAWnFFoMBybT5bQJ/Q+goKNG8efO87YP9UunR5dqBCLLkT/gVRXCQ6CKxNlUJvmW9Pj/z3lnKrSMdRmEeGlgRikC+CDkR3EcKNrzUfMdYCCcjPIPGHDRr1sxsNGPEuZIf94LH0f8LIyCiK6Jb+KrI4icYV+qYF6zIQwgC5RExIJAxyiNiPPAesD1EDgOBUWVbDErbtm1NszDVw2FpKqiShhYuXk+MG7XhM2mAIPx4VvC4LliwwLyyJJe9++67RvwhvxDdBn45jApCGE4+K3iDIh6sT58+5oG59NJLzYvAeDC6jI84MTzD7M85iyPMqcY5yscT0Y3y7JXc91whuqDAQy/eRTynFStWzLOvhG/hmWT1CHKLHSIul+pexM4GpcYDkst7qoku/YPsstRPf7hnXH311QmUd1jBy4Yt5r700ksv2cMB8bZUPcPmYk8hujhfCBMjGZhtIbf5iTl245RTTjFbTAgZ+/LCm4ttB0PuPRyvKLIMJmqFERDRlY6ut0Hhaf4SLVJH1xNX00r0P27nvZbOL+dYhTJvKJz32DpvOJyPX3K+/rlt542M8wTU+eWjjWo+lmX0PlTAqtp4gu187K7zT9xWJYmKNz6Bw3QP0T5Eo7G4xncb26a4ffl89uzZDv1bKsn5m4xDu9WHajjG7m9Ktqt/CHBeng4JPdPA9PJA9k71OE9g8w7vl9jcFVdc4bwBtbGgK8m40B7mGDSqqd17772udevW5apElHfSGP8hHd34Tm4u6Ojmnz1Pdp33TFo1OOyEJ2ZWLY1qZOjYehLssMs+5Ml5oma2wSfsOv8A7jxJyzuUJ2kpqYyWd8D//4P+YYeffPJJ5x0frn379s4/2Fv1Sv+gbvcEbG26bLF/8Ddtcl9sx3kniPOOBnv34W3Oe7bNzrIN9wyfK2L6ufTRE1dHxU+/Uul8OWAbjSfnziv6uBNPPNF5IuwOPfRQu0ewP/c5/0DhuBd27tzZeaeEaQgXxEP/L4yAdHSd2wT+Xxia8Hzin1Cd19ozA+NlR8LTsTT0pDiiGxgvSJ3PsnU+dskMF9tjBDBivpqMlYT02b5WzhHSly6hbc7rPbhWOveaa67JE1HHuEEI/bK/FYKATBZXDMIvAZpAONuUZISLgpkx+5hld8EFFzjvUTEiG1zG+clzgA/H4Bz0BSFyn2hi/QvOi4FFhN1XajNiy+fsG7zY38fqWQlkH39mDxt8plY0AiK6ReMSh09zjegyZ9gb7MyUKVOsGA+kC/tHC2wI9hbiRklxiBsFbLh3BS1dRJfj+5UmK2/u42CdT4Qzcost5r7hV/YcZc0D0hv0J3in/zgnfIiXq1GjRvBx0u84WJ544gnHfQAyC1bYTY4bvPg/je9o2GheXgrTeQ+tOQ/sC/8Pzhvucdh2L/MWfLzBcRs2bOguuugiK9met4H+KBYBEV0R3WIvjmx8gUGAzFKZi6fjoGFABw0aZCTSL0uZp4Dv8S5AFKkeg7HiaZcX3obAAAfHSPU7fcUQYdyoxEaVG57mMXwQSrzLgaEr6tx8RzUcX7TB+l7UNiV9hicDoxgYz5K2zf8dfcOg07/8DQ8uL/pfVKO/YI23OF0PEEWdN4qfiehGcdaS6zOk5vbbbzeS4VVLktspBlthZ7B32B2IJd5FbB//Z5XNhw6YXcH+Uj3NFz2w1aRg6OkkupwDrzL3Dh7ivXSi2WIe4ANbXJLNYgXr5JNPdj7PI+huqd6xmxD/0tpibKkPydtghSzA2YeUGWEuqiNUVcPxwL5qG0dARDcCRHfx4sX2dMcPycenbnxWI7xFSUTXx5vakg3bYMAgufwNYeOHjyFLN7ktCloMk69T7nzsqy3XLVq0yEIJWEbjJlCc8cOj6+VjzPvrY7eKOrQ+iygCLOESOuOTY9zChQsjOgp1uygEfDKqlZ/1clBWJreobXLhMx6IeWGDsb0QyoBMYgN5gCdsKmjpJrqch/5wn8QW4wgh9IqwNv4PES6q0WfCCHxFTbu/FLWNPos2ApS39zHSZpN9IZRoD6aMvQ996ELgHWK5nmWZOLdkiG6Yx4+hxeMMwfWJEkbIi+svBB1PAk/m2SDoxfVLn5cfAW7wECGuAeIa1eKDwPjx451PenKnnXaa84lFRvDiM7rUjCRbRDd/73GE4GmF4AZxxfm/z/83jgZWq+QhzY9KfP726kju6aefdpdddpnFP8dnZMmPJPREl2QgX6XGecknezplaSiuxCjqRDf5y05bxhkBr4LhvMi785qYzmetx3moOTc2Eorw1h9yyCF24yT2U21DBMJAdDfskf6XywjwQPrWW2/ZA6rXm89JKEJPdMlcxfU+ZMgQ8w6R5VowvjIuMyeiG5eZzN1xEKriC4tYzB8Z1YTcqMUHARKs+vXr51AwGThwoD3MxGd0qRmJiG5qcNRRyo8Aq6wkUBNeeOONN5pSSPmPGr0jhJ7osvwyefJkR2wJZNdrnrq4xXQyRmIZiaUiyeGSSy6xLN/gciIjFsmYFi1a2BITmbSBhFawjd6FQBgQIEaQ5ESWt0laIilHLT4IkCSELeadZFKkDtX+pxZAPCyyYsgUcu2THBY0wrRQJmCVA0WEHXfc0Wx58L3ehUA6ECBPAi8u15svG21yeOk4T9iPGXqiS+IVMX8slSFHgnc3brFEXnjcyK2vfGbxVPyfuKqgEceKUgDjbtq0qXvkkUdMaSH4Xu9CICwIcJO/7bbb3NSpU92ECROcL18dlq6pHylAgFUndKh9YQCLw+YBPK6hZKWBC6UF5AmRHkOVwVfw2kAei2Q1lBkIvfOlbi38Q7+N0iCsbcuCwKRJk+xaQ1Xj7LPPtryYshwn6vuEnugCsK+fbZNEFini3RiMIMM16hNA/wOiy/gYFzeO/DcPbi4sCfMO0aVQAh4CNSEQJgS4Pglb8FWN7KGMlRhu8GrxQgD5Kl8t0ArS4NVFXivXG0ojFJSZNm2a2e7Ajge48NsI7Dj6thQ8aNmyZfC13oVAyhGAM3CdQXZ9KXvXvXv32IZ9bgy8SBBd4ktGjBhhWb5UgOnRo4dDniouDZUCDCWhCxAD5MJ4QXa5WPFqE2vDC68uBRniRPTjMo+5Pg5CcPh94tFFdQFRd7X4IcASPZUE0bH25VmtUEL8Rlm6EaFuQOI0oQvomGO/ySXhhQ0P7DcrdSgcNPRFD9A+VxMC6UIAnecDDzzQQmUIpfHlqdN1qtAfNxJEF0OBEWnXrp0Z1QcffNBRZjG/1zP0SKuDQiDmCJCEQ8LDsmXL7MGU0tBq8UMAe4xkEZq66MUSygCxUxMCQiAcCPAbfeyxxywunIdSKvbVrFkzHJ3LQi8iQXTBBW8RCS6PPvqoGdhu3bqZBmsWMNMphYAQKIAAmrkPP/ywu+uuu2zFhXhFtfgiMGvWLJN9xENJkjCJsmpCQAhkHwFCZOBLxIKzGjxy5Mic9uYyI5EhujyhEMvapUsXc8VzU23evLm8utn/XakHQsCScIjXxMhCfHJ5mSwXLgcSrh566CGbaxKFecCREkwuzLzGGHYECKMhVIG4XGLp8eaSzJ7LLTJEl0kizgnjSgwgkhkIlzdq1CiX509jFwJZRwClhUGDBrk5c+a4s846yxJH4yYBmHWQQ9YBHmjIKyCEgQREwheolqYmBIRA9hAg34dqlCeeeKJr06aNu//++y0ePK61B5JFOlJEl0GhMwvBZekMuQx0OtElVBMCQiDzCKxZs8Y8B88995w76KCDLEmpbt26me+IzphxBH799Ve7qfKQQ8IwHiQkINWEgBDIPAL8HpEoPffcc92qVassZIG8Jq20RCh0If9lQ3EFJIzIKoTs9urVS3Jb+QHS30IgAwhAblhhGT58uGvVqpVJ2RCyIEWQDIAfklNQOOLFF1+0Cngku7Bk2rp165yVMQrJtKgbOYYAORKQ3Ouvv95Rgp0wsmOPPdbymJS0H1GiS4A1wtyDBw92xKP07dvXytzVrl07xy5vDVcIZAcBVlaQ/EPTmao7SIntvffesatamB10o3VWyrSPGjXK4nXR+SbLG61YeZKiNY/qbTQRIFxh/vz5bujQoe6dd96xECLkHatUqaIcpv+f0siFLgSXIm76KVOmWAwKXoXDDjvMHXXUUW6XXXaRSH0Akt6FQIoRIMueSoVjx451o0eP3oDkxknbOsWwxfpwxOtCdnnooWojJctxPhDGsO2228q7G+vZ1+CyhQC/O3SbiZFHWYGYeTgQJHe77bbLVrdCed7IEl3QJPMXzy4KDIiYU1IRXUcKKqCzqyXUUF5z6lQEEWBpjLKm8+bNc08//bR5EPid9e/f335vIrkRnNQUdpmbLgVv0O7k+mDVrWfPng4ZSJwPW2+9texxCvHWoXIbAZx7EFucfYQO4YA4+uij3SmnnOK0sl342og00WU4GFQ8TCyjUn+d/x988MEWylC/fn2L3WUJTaS38OTrEyFQEgJI+hEaRJjC0qVL3YQJE8yoUr2PcpL9+vVz/MZULKAkFHPrO5RxsMMU9fnoo48s4xsvE5qelG6H8FI5TE0ICIHSIQC3Wbt2rfvqq6/c22+/7Z555hm3cuVKW1U79dRT7aGSyqlqhRGIPNENhkQ5SpQYMLAkq3EzRnMX0kvcGPXYIbz5SzMqSDtAT++5jgAeOQwpL8gKcV8km33wwQfmNZg9e7Z9hheXpbEOHTooHjfXL5oSxs+SKnG7vFgJaNCggYUydO7c2VbbttxySyO8QZlcHBGyxyUAqq9yBgFsMU6GwB7jraUABA6HqVOn2oMklWJJ/iThDE9ukyZNcgafsgw0NkQ3GPz333/vpk2b5oYNG2bLq9ywiVchrKFx48YWM4Z4Mp4FaX0GqOk91xEgNAFvAcvPqJmwLLZ48WL7DC9B27ZtbVmM4gA8RKoJgWQQ+PTTT924ceMsppu/IbasAlDsp169eq569eomZk/iTK5rfSaDp7aJPwIQ3B9++MFsLzYZqbD33nvPwjN5GGRlBILbu3dvI7j63Wz8mogd0Q2GzFMRN+tXXnnFvf766+bqJ2GCJyW+UxMCQqAwAhhSXpAQNBjxwPEiwUjhP4Xx0ifJIcCKG7JHr776qiXPkCWOE4Ime5wchtoqtxAIVjhYiW7ZsqWtonXt2tXttddeDudD8H1uoVK20caW6AIHpJZlWF54rPD28oTEi2BulBvUhIAQcLaMzEoHL7xseNiIpSTUh5dIrq6S8iAAmQ3CYrDH2F5WDwJ7jG3mezUhkOsI4KGFyAb2mNXnSpUq5dlivhfJLd1VEmuiWxAKiG8Q+yLPbkF09P9cRgDDCZnFiPIuYpvLV0P6xw7xLWiP039WnUEIRAOBwAYH9ljEtnzzllNEt3xQaW8hIASEgBAQAkJACAiBKCEgohul2VJfhYAQEAJCQAgIASEgBJJGQEQ3aai0oRAQAkJACAgBISAEhECUEBDRjdJsqa9CQAgIASEgBISAEBACSSMgops0VNpQCAgBISAEhIAQEAJCIEoIiOhGabbUVyEgBISAEBACQkAICIGkERDRTRoqbSgEhIAQEAJCQAgIASEQJQREdKM0W+qrEBACQkAICAEhIASEQNIIiOgmDZU2FAJCQAgIASEgBISAEIgSAiK6UZot9VUICAEhIASEgBAQAkIgaQREdJOGShsKASEgBISAEBACQkAIRAkBEd0ozZb6KgSEgBAQAkJACAgBIZA0AiK6SUOlDYWAEBACQkAICAEhIASihICIbpRmS30VAkJACAgBISAEhIAQSBoBEd2kodKGQkAICAEhIASEgBAQAlFCQEQ3SrOlvgoBISAEhIAQEAJCQAgkjYCIbtJQaUMhIASEgBAQAkJACAiBKCEgohul2VJfhYAQEAJCQAgIASEgBJJGQEQ3aai0oRAQAkJACAgBISAEhECUEBDRjdJsqa9CQAgIASEgBISAEBACSSMgops0VNpQCAgBISAEhIAQEAJCIEoIiOhGabbUVyEgBISAEBACQkAICIGkERDRTRoqbSgEhIAQEAJCQAgIASEQJQREdKM0W+qrEBACQkAICAEhIASEQNIIiOgmDZU2FAJCQAgIASEgBISAEIgSApEkur/++qv79ttv3fr166OEtfoqBGKLQIUKFdxWW23lKlasGNsxamCFEfjzzz/dzz//7NatW1f4S30iBIRAxhHYZJNNXOXKlV3VqlUdf6s5F0mi+95777kxY8a4b775RnMoBIRACBCoU6eO69Gjh2vZsmUIeqMuZAqB77//3s2cOdNNmjQpU6fUeYSAECgBgc0228y1adPGHXfccQ4HhFpEie7w4cPdDTfcYJNYs2ZNzaMQEAJZRGDFihVuyy23dFdeeaU7+eSTs9gTnTrTCCxfvtzdcccd7vHHH3ctWrRw3GTVhIAQyA4CrHYvXbrUtW3b1o0dO9ZVqVIlOx0J2Vkj6dEdOHCgGz16tLvwwgvdPvvsEzJI1R0hkFsIjBs3zoxq3759jexquSx35p/VtQEDBrglS5YY2a1UqVLuDF4jFQIhQ2D16tVu0KBB7vPPP3fz5893NWrUCFkPs9OdSBLd3r17OzwJd955p+vUqVN2kNNZhYAQMASmTJnirrnmGtehQwd3++23a7ksh64Lwhbw5NeqVcuNHz8+h0auoQqB8CFAOOfgwYPd0KFD3SeffOIaNGjgNt100/B1NMM9+j8AAAD//3uLKHMAAD/3SURBVO2dBbhV1daGB51S0iAheaS8ICEl3RKCpNIpKd0Sh+5ujnSLdEiLgNSlFEQklRKQkAb97zd+71GvxIkda871zefxsu85e681xjvXWXusOcf4RoTf/zPEoPH06VPJnTu3JEmSRIYMGSLZs2c3yHqaSgL2ETh06JB06dJFXn31VRk2bJikSJHCPifp0TMJrFy5Unr06CHlypXT+/Ez38QfkgAJ+ITA7du3ZcGCBdKiRQtZv369FC5cWKJHj+6Tczv5JBFMC3QvXLggRYoUkeLFi0v37t0lTZo0TuZL20jAegIXL16Uzp07y9WrV2Xw4MGSM2dO632mgyJYdJgzZ47069dPg91GjRoRCwmQgB8JPHz4UPbs2SNFixaV0aNHS/369SVOnDh+tMgZpzYu0N26davUrVtX2rRpIw0aNJCECRM6gyStIAGXEnj06JGu6O7YsUODnvLly7uUhLvcvnHjhkyYMEEWLlwoY8aMkRIlSrgLAL0lAYcRwAb9Tz/9JOnSpZPGjRtL3759GSP9Z46MC3SnTZumqwdTp06VsmXLSrRo0Rx2qdEcEnAXAdxckbKAgKdJkya6beYuAu709vTp0zJo0CA5fPiwzJ07VzJmzOhOEPSaBBxEAA+g+fPnl7Rp08qMGTMkefLkDrLOP6YYFejiCxVbpEuWLNE8lHz58kmECBH8Q45nJQESCCaALeyxY8dqShHSFzjsJ3DgwAHp2bOnYLsUubqxY8e232l6SAIOJ4A8Xex6nzhxQvN0md5p2IouAt2KFSvKlStX9EklW7ZsDr/kaB4JuIPA5s2b5ZNPPtGceawicKfF/nlHsUv//v11m3TWrFlcdLB/yumhAQTu3r2rf5dTpkwRpHoiTooUKZIBlnvPRKNWdJ88eSJZsmSRzJkzy4gRIyR9+vTeI8MjkwAJhJjAkSNHpHfv3oJ83enTp3O7LMTkzH3j7NmzZdSoUVKpUiXp06ePuY7QchKwiMCDBw9k0aJF0rJlS00pKlWqlMSMGdMiD0PvijGB7m+//SaXLl2SHDlySO3ataVr1678Mg39fPMTJOAVAiiAGDBggEBqbNy4cZIrVy6vnIcHdQYBLDqgqhsruUgn+/DDD51hGK0gAZcTwN/mwYMHpWTJkqpMhaI0SD+6eRgT6D5+/Fh27twplStX1i/UOnXqSPz48d08d/SdBBxD4N69ezJy5EhZvHixBAYGaoqRY4yjIR4n8Msvv+h9eNu2bTJ8+HCVfPT4SXhAEiCBUBNAiicK0t544w29DyOlLGXKlKE+jk0fMCbQxXL8zJkzVcZo2bJlFEK26SqkL1YQgCIKZKawgtCuXTsrfKITzybw/fffa7oCtJMhMUbFhWdz4k9JwB8EsAMOPfOkSZNqkbDb/z6NCXSRYI10BXT9wMpupkyZWPzgj78gnpMEnkNg+fLlKjeVJ08eGT9+/HPexR/bQGD37t3Sq1cvSZAggeABJ27cuDa4RR9IwAoCWNWtVauWHD9+XJBLj5RPNw9jAt1bt25J1apVdUkeX6ipU6d287zRdxJwHAE8gCL4QcvJ1atXu77S13ET5EGD/vpQg5xsyjx6EC4PRQLhJIBAF80ioLwAOVbo6kaMGDGcRzX348YEusg5yZ49u+TNm1dXi5IlS2YudVpOAhYS+Pbbb/XmevbsWdVVTZIkiYVe0iUQwIr9p59+KtWrV9diNFIhARJwDgEEuvPnz5cOHTpo7QSUUWLFiuUcA31siRGBLnqqnzlzRtMV2rdvrykMbq8i9PF1wtORwEsJXLx4USvx161bpzrXSGHgsI8AvkR79OihYvRQXKhZs6Z9TtIjEjCcwNdffy3vv/++NGrUSJo3by5uXngwItC9f/++Ch9XqFBB88GwivDKK68YfhnSfBKwiwCUF4KCgnQFYciQIVKtWjW7HKQ3SuDmzZu6UoSCNEjKFSpUiGRIgAQcRuD69euC7rH4D8oLbu47YESgi/xcdFvq2LGjfPnll5I7d26JGjWqwy4rmkMC7iaASl/kbnbr1k0aNmyoOy/uJmKn9whwcS9GtyW0e3Z7Rbeds0yvTCeAnfB33nlHayaGDh2qKgym+xRW+40IdCFhg65Lc+bMkZMnTwryc92cWB3WyebnSMDbBLZs2SKdOnXSKl/IAXLYRwBFh126dJGsWbNqoEs9c/vmmB7ZQaBBgwZy+PBh3WUrUqSIHU6FwQsjAt0ff/xR80zw71dffSXx4sULg6v8CAmQgLcJHDhwQIOghw8fCpoJuL3Hurd5++P4CxcuFKwQIZUMCxCRI0f2hxk8JwmQwEsIYMcFLdnR1KVixYquXSA0ItD94YcfpFy5crqCgEpf5ue+5Ormr0nATwROnTqlygv79u2THTt2SOLEif1kCU/rLQLIv0YHPBS5fPTRR946DY9LAiQQTgKQFsPuC3bZ6tat61rlBccHusgzwdJ78eLFpWXLltq7OWbMmOGcfn6cBEjAGwQuX74skydPVumpRYsWqRygN87DY/qHAPKwW7VqJQcPHtQv0CpVqvjHEJ6VBEjgpQT27t0r9evX19XcNm3aSPLkyV/6GRvf4PhAFx3RIFeE4pZJkyZpJXe0aNFsnAv6RALGE8DfKwrSIDs1bNgwqVOnjvE+0YE/Cdy5c0dXhvBv//795e233/7zl3xFAiTgKAJYeHj33XclXbp0qrwQEBDgKPt8ZYzjA92ff/5ZJcXwpbl582ZtGsGcMF9dHjwPCYSOAFb8oIyCALdx48bSp0+f0B2A73Y0ASguNGvWTFKkSKH5uRkyZHC0vTSOBNxMADviSPt89OiRBAYGSoECBVyJw/GB7vnz5/VJZO3atYKbLPJz2W7SldcqnTaEALa1sQOD1YMFCxYYYjXNDAmB7du3C5r2lChRQlft2bgnJNT4HhLwHwHk0aNmomfPnoIOaW4cjg90T5w4IcgtQQvg/fv3u3GO6DMJGEUAf7Pt2rUTyAJChYEPpkZN3wuNhcTjwIEDtdMScnWpqvFCXPwlCfidwKhRo1R5Ae2AITfmxvux4wNdrA7Vq1dPUxbmzZvn94uGBpAACbyYAHZh+vbtK6tXr1bd6zhx4rjy5vpiSmb+Fh2WPv/8c13NZf61mXNIq91FYOXKldrE54MPPpCPP/5YG0i4i4CIowPd/+b71apVS1cQoNnIQQIk4GwC165d0xUEaK2uX79eO/Iwr97ZcxZS6xDcnj59WnOvS5cuHdKP8X0kQAJ+IoBdNShWvfXWWxrwIr/ebcPRge6vv/4qy5Yt08kZOXKk1KxZ023zQ39JwDgC9+7dkw0bNuhOzLhx4/Tvlkopxk3jPwzGvJYpU0Yg7zhgwADJlSvXP97DH5AACTiLwKVLl1RiDH+3/fr1k2zZsjnLQB9Y4+hAF9IYEyZM0Na/S5cu1ScSHzDhKUiABMJBADsxR44ckWLFimmFPnZiYsSIEY4j8qNOIIBi4OrVq+t9uGvXripZ5AS7aAMJkMDzCUBxAemf6CyLlDLcl902HB3o4saKnDDk6e7atUsSJEjgtvmhvyRgJAF0M4R+Y8aMGWXu3LkSO3ZsI/2g0X8SgLwjtkCR69eiRQuh4sKfbPiKBJxMALrmW7du1SJhN+bWOzrQhcoC2tc9efJEJylixIhOvpZoGwmQwB8ELly4IE2bNtV8TnTniRs3LtkYTmDGjBmquIDFB6SRRY0a1XCPaD4JuIPAxIkTtR8BHlIhD+g25QVHB7pbtmwRSGIgF2z69OnuuCLpJQlYQADSYmgWMWvWLIHcGAog+KBq9sRi0WHVqlUyfPhwFaE32xtaTwLuIbBmzRrdHS9atKjm6botlcyxgS7y/NBKFLlgTZo0UTkb91yW9JQEzCZw69YtCQoK0tWDbdu2Sd68eYUFaWbPaeXKlVUbGV0q3dphyewZpPVuJQDlBTyoYsEBOthuU15wbKB79+5d/aKE2DFkiqpWrerWa5R+k4BxBO7fvy/oooX2k5MnTxZIBKKrIYeZBB4+fCh58uSRVKlSyaBBgyRr1qxmOkKrScCFBFCIht3x27dv69/vm2++6SoKjg10f/rpJ0GQC5kirAxBA46DBEjADALosX727FltA9y6dWvp3r07i5fMmLpnWgntXLT9xYNLp06dJHXq1M98H39IAiTgPAJ4UEWgi1bAkBhzmwa2YwPdb775RnP80GUJeWGJEyd23tVDi0iABJ5L4Pr169os4l//+pdMmjRJkiVL9tz38hfOJrBx40Zp2LChdOzYUerWrUsFHGdPF60jgX8QCAwMlM8++0wVU5AO6qbh2ED3yy+/lJ49e0qsWLEEidRuqxJ000VIX+0kcPPmTalRo4ZAsBwPq1wFNHeeUbUNtYVPP/1USpUqJVGiRDHXGVpOAi4kgJ1x9CXArgxWdd00HBvoohAN3Xfy588vY8eOddOc0FcSsIIAOhviYRXKC9DBzpw5Mx9YDZ3Ztm3b6sPKggULtLDQUDdoNgm4lgB2ZfCwGhAQIFOnThU3tWV3bKA7bdo0zdFt3ry5tGnTxrUXJx0nAVMJoCANQS62u5csWSJFihRhhzRDJxM5fXfu3NEvSBaiGTqJNNvVBA4dOiS9evVSmUcUCLsplcyRgS4UF0aOHKlfjpDCqFChgqsvUDpPAiYSePz4sa7kokNa//79Nbczfvz4JrriapvRsCdTpkyCSm0o4KRLl87VPOg8CZhI4L8tgL/77jsZPXq01k+Y6EdYbHZkoIsJQdrC4cOHNacExSwcJEACZhGAFjYaR2TJkkXlxbp16+Y6/UazZuyf1mIOURAM1Zv69etr5babVoL+SYQ/IQEzCdy7d08GDx4sK1eu1PiqfPnyZjoSBqsdGegiwO3du7c8evRIpcWSJk0aBtf4ERIgAX8TwKpu9uzZJUOGDLpLkz59en+bxPOHggDuwVu3bpXq1asLGkXg33jx4oXiCHwrCZCAEwj8/vvvgqJS5OdCdaFVq1ZOMMsnNjgy0N20aZNKi6VNm1bQX5091X1yLfAkJOBxAri5oqMWdLFR9ZstWzaPn4MH9B4B5FlPmTJFFx5WrFihxcHscOc93jwyCXiTwOLFi/WBtWDBgloD5c1zOenYjgx058yZo0oLEChHFx4OEiABMwkg0EUb74ULF+p/aAUcMWJEM51xodVQzoDQPLY70co5Y8aMVM5w4XVAl+0ggL/hPn36CGolEPS6RSbQcYEuvhixRYYvxmbNmul/dlxi9IIE3EcAf88zZ84U5Oei0hcajtGjR3cfCEM9vnXrlqCYEJ2VoJyBFsAcJEACZhI4duyYBrpXrlyRZcuWuaYRl+MC3QcPHuiXIhpGoJNHmTJlzLyiaDUJkIAS2LFjh9SuXVvQCrhRo0aSMGFCkjGAAB5Srl27pukmkIZDpTbrJQyYOJpIAs8hgBSy4cOHy/bt2wUSrrly5XrOO+36seMCXSguYKsT1dpDhgwRKi7YdcHRG/cRwM21cOHCUrRoUenRo4cg957D+QSePn0qJ0+elDfeeEO6d++uKQwJEiRwvuG0kARI4JkEIN2KYjTsriG+Qv2EG4bjAt2DBw/qiu6rr76qTx7Jkyd3wzzQRxKwlgAkqiBPlShRIk1LggoDh/MJoBBtw4YNUqVKFW388d5770ns2LGdbzgtJAESeC4BdDeEqhWacSH/3g3DcYHuunXrdBLQ+hdL7G5JlnbDxUYf3UugZs2acvr0aZUYQ8Uvh/MJ3Lx5U1d+kF/99ddf6+4a78fOnzdaSAIvIrB+/XrdWcPiAxRV3DAcF+gCPJbW33//fenSpQsrfN1wFdJH6wmgx/r8+fM1z9NNQuUmTyzSxxDkLlq0SE6dOiVJkiTh/djkCaXtJPAfAnhoxd81xubNm13xN+24QBc5fBs3btTClbp16+pk8H9IgATMJjB37lzdqenZs6cWplF5wfnziXoJ3INv3Lih0mJsFOH8OaOFJPAyAmgBDIkxKDBs2bJFU8pe9hnTf++oQBcSNk2bNpUffvhB+vbtK8WLFzedL+0nARL4DwGoqOBvG521WrZs6RpZG5MnH/fhkiVLCrSPscv2yiuvmOwObScBEvgPgUuXLsn48eN1pwYyrkhhsH04KtC9ePGi6uZGihRJ+vXrp61DbZ8A+kcCbiBw4cIFqVSpkkpVYdcGjQc4nEvgyZMngsLgUqVKSfv27aVjx44SM2ZM5xpMy0iABEJEAE1g0CwC6WSog6pRo0aIPmfymxwV6B44cEDatm2rX4a9evUSKi6YfGnRdhL4kwB2a8qWLSuRI0eW/v376yrhn7/lK6cRwJfhqlWrdOEBbdgrVqwobP3rtFmiPSQQegKQDdy0aZPusGGXDQsPtg9HBbpoMwnZC8jZdO7cWWLEiGE7f/pHAq4h0LBhQ/n222/1bxwd0jicSwCFaJMmTdLiQaSdBAQECHbaOEiABMwngII0dJ6F1OPs2bPNd+glHjgq0B0zZoxg9QA5fJgEDhIgAXsIDBo0SJUXOnXqJB9++KErqn1Nnb1z584JCgdRrIKmEUhbiBAhgqnu0G4SIIG/EEAh2scffyx37tyRXbt2ScSIEf/yW/teOirQbdOmjezZs0c7o0GcnIMESMAeAkuXLhWkJDVu3FhVVaJGjWqPc5Z5cvz4cV1wQEt2fBFykAAJ2EPg7NmzmqOLB1kEvXHixLH6QdYxgS6KH9CODrlhyOErVKiQPVcVPSEBEpDdu3cLHmbRDhipSdBl5XAmAdRLYNUdigtBQUHONJJWkQAJhIkAUpPQs2DcuHGydu1abQZjc2qSYwLdy5cvS9WqVSVFihSq8Yb+6hwkQAL2EDh//rw0aNBAdRtR8Yu8Tw7nEUDL5m3btkmtWrVUcQGNezhIgATsIXD37l1ZvXq1tGjRQoNdyD7a3PXQMYHu3r17pUmTJipng9wRKi7Y80dFT0gABB49eqTB07Vr1yQwMJC7Ng69LG7fvi1LlizRNBOs+GABgoMESMAeAniYxa4N5ANbtWqlf+s2p5I5JtBdtmyZtvzF1iZy+KjZaM8fFT0hARD4/fffpV27dpqHD11WtPnmcB4B6JmPHTtWICa/YsUKyZEjh/OMpEUkQALhInDixAlBLVSWLFlkzpw5YnO3SscEukOGDJGZM2dqfm61atWsrwIM1xXKD5OAoQRGjRqlN9X69etrvq6hblhtNlqEQnHh6NGjgp02FKpwkAAJ2EUABWnNmzcXtPrG37nNi4uOCXQbNWokhw8fFkgQoe0kBwmQgH0Eli9frg+zZcqU0Vx8m7fLTJ09fOmhWBDNPTZu3MhFB1MnknaTwAsIoBVwnz59dOcGEoKJEiWy9m/dEYEuOnUUK1ZMk6ER6ObOnfsF08NfkQAJmEoAQuUobkqfPr0MHDhQEidObKor1tr9xRdfaMvf/Pnza9MIax2lYyTgYgK//PKL9i1AZzQUn+bKlUtsXXhwRKALqYsiRYpIzpw5VdstQ4YMLr786DoJ2EsA22UdOnSQx48fa6CbNWtWe5010DMsOqBeolu3bqp1jJxqDhIgAfsI3L9/XzZv3qx5upAag/JCrFix7HP0Px45ItDFKg+kbKDbCLmLpEmTWgmbTpGA2wlAJxuBLkTKoZeNnRwO5xCA4gK6U06YMEFGjhwpFStWdI5xtIQESMBjBPBQi3z8t956Sx9q8XAbL148jx3fSQdyRKA7f/58zQkbMGCAoBDN1qcKJ008bSEBfxCA8gI0dNesWSNt27aVunXr+sMMnvM5BC5cuCAjRozQ1r+oxKbiwnNA8cckYAEB9C/Ily+f7qZjVRd5ujYORwS6ffv2lenTp8usWbM0hcH2vss2Xkj0iQRCSmDq1KmC/9AJEdX9HM4hAKWF3r17C74AISj/6quvOsc4WkICJOBRAtevX9fd9CtXrmiHNDTssnE4ItCtXbu2oLc6vvxYiGbjZUafSOBPAljNRdrCm2++qVvkNree/NNrM16hKKVXr16SIEEC+fzzzyVChAhmGE4rSYAEQk3g1q1butiA3Zv9+/dLunTprPyb93ugi61MBLdYOYDGJlv/hvpa5QdIwCgCuKGi0jd27Njabz1hwoRG2W+zsUuXLlWJRxQHI4WBgwRIwF4CaAUcFBSkKitYgChYsKBEixbNOof9GugiyEXxQ+bMmaVs2bKau5c6dWrrINMhEiCBPwlAeQH6jefPn5cxY8ZItmzZ/vwlX/mVwOTJk3VOkD8NMXkOEiABewmgLfuOHTu06HT48OGC3XUbC9L8Guii6g+rOxUqVNBKbDSNsDUZ2t4/FXpGAqEjAOWFwMBAbUYwePBg7bceuiPw3d4gcOfOHVVa+OyzzwSdKtHUg4MESMBeAr/99pugcUSmTJmkcePG0rVrVytVr/wa6OJpAv3U27Rpo5I2WNW1uQ2dvX8u9IwEQk4AN9exY8fq3zz+9ps0aRLyD/OdXiNw7tw5gfIN6iUgL5Y9e3avnYsHJgEScAYB6OliVw2a5qNHj5Y0adI4wzAPWuHXQPfBgwfSr18/LUJDq0kUp1BxwYOzy0ORgEMJQFIQOaBo941VXQ7/Ezh48KAWoqEADQo4VFzw/5zQAhLwNgE076lUqZKgcReK0gICArx9Sp8f36+B7r1796ROnTqCPsuo8GVHNJ/PP09IAn4hsGnTJs3ThZzNggUL+IDrl1n4+0nXr1+vahgZM2aUadOmSeTIkf/+Bv4/EiAB6wg8efJE+xgsXrxYVqxYoZq6tqmt+DXQRU5Ynjx5dKkcYsWpUqWy7iKiQyRAAv8kcOjQIdVrxT0ALWchZ8XhXwKovkbKQrly5XSnzb/W8OwkQAK+IIBaKfQxgBLOzJkztWYievTovji1z87ht0AXeXoXL17UZXK0/kW3pCRJkvjMcZ6IBEjAfwSQDzp06FBB+28EWFRe8N9c4MxQwBk0aJAsWbJE24E2bNjQvwbx7CRAAj4hgFhs+/bt2jiiU6dOUr9+fevSlvwW6KIQDV9y6HWPL7wGDRpYKWvhkyuVJyEBwwhAVnDixImaC4pcXawicviPAPQ0u3fvLrt375aBAwdKiRIl/GcMz0wCJOAzAnjI/fHHH6VAgQJ6H+7WrZvYJvPqt0AXEkPIzWvRooWsXLlSihYtKjFixPDZ5PJEJEAC/iOAVYS5c+dqTmi7du2kZcuW/jOGZxassENa6ObNm7rwwBV2XhQk4B4CyNPNlSuXpEyZUv/+s2TJYpXzfgt0f/nlF9XSRE7YkSNHtPUcW4FadW3RGRJ4IYHVq1dr+8nChQur3NgL38xfepXAvn37BCs5yZIlEwjHM43Mq7h5cBJwHIGqVavKhQsX9F6cL18+x9kXHoP8FuheuXJFmjZtqkEuUhgSJ04cHj/4WRIgAcMIfPXVV7pdDu3stWvXWtlj3ZQpwa4apB7x0IFUMioumDJztJMEPEMAqUtQXpg0aZKmLtmkvOC3QBc5IWgQAXkhaGqy6tozFyuPQgKmEPjmm29Ut/XUqVOya9cuiR07timmW2fn+PHjtSiwZs2agoIUDhIgAXcRQFFwr169tCtitWrVJFq0aNYA8Eugi+Tn77//XnLnzq0Vfv3795c4ceJYA5WOkAAJvJwAHnbRiQeriZAYY17oy5l56x2dO3eWrVu3yscff6z97r11Hh6XBEjAmQSgvIA2wPXq1ZNmzZpJokSJnGloGKzyS6CLjmg7duyQKlWqaD4YwLL1bxhmjx8hAYMJQHkBBWnojDZu3DjtzmOwO8aajvtxo0aN5Pz581ocWKRIEWN9oeEkQAJhI4CC1AoVKmhvA6QxpEuXLmwHcuCn/BLoohBt3rx5WuWLgpT8+fNL1KhRHYiHJpEACXiLACp9N2zYIM2bN9eVxPbt23vrVDzuCwggwMUcQPUGebq2VVy/wHX+igRI4A8CDx8+lOLFi2sK2YABA1SFwRY4fgl0L126pFqNWM1Bnl7SpEnZAtSWK4p+kEAoCKAgDdtk0HBEd0QO3xNAMTBSFnLmzKk5elRc8P0c8Iwk4AQCaN6FtFKkk5YsWdIJJnnEBr8EuqdPnxZoZ548eVIOHz5sVdKzR2aFByEBlxDA33/btm21MxdyxDh8T+Czzz6TPn36SPXq1bUQzaYiFN/T5BlJwFwCCHAXLVqkD7w1atQw15H/sdwvge63334reHKA4gJuspSy+Z9Z4f8lAZcQ+OGHH1RLF6uKCHqhvGCTrI0J0wjd3Dlz5kirVq2kSZMmJphMG0mABLxAAE28+vbtqw18IP9qy0OvzwNddETav3+/QJy4Vq1a2l+djSK8cMXykCRgAIHLly8LpK2mT58umzZtkjfeeINpTD6eN3SnPHjwoGoaV6pUycdn5+lIgAScQmDnzp3SunVrKV26tKBmwpb+Bj4PdO/fvy/r16/XlYMhQ4ZIgwYN+MXmlKucdpCAjwncuXNHli9frjmiU6dOVeUF7vD4bhJQgFK5cmV59OiR5uWhMJiDBEjAnQTOnj0rdevWlVSpUmn6QqZMmawA4fNA99q1azJz5kzVz1y4cKEUKlSIW5VWXEp0ggRCTwDKC0hbqFixonTo0EE6duxIBZbQYwzzJ9DyE7l4adOm1S+2zJkzh/lY/CAJkIDZBCA1+P7778u9e/esevD1eaCLJwZIV3zxxRfaDQm91ZmTZ/YfB60ngfAQOH78uLz77rsqM4hV3ejRo4fncPxsKAigIx2kxcqXL68FwlRcCAU8vpUELCTw31Smrl27aq8DG1z0eaB79OhRrey9cuWK5oUxyLXhMqIPJBB2AlBhQcOCu3fvyrZt29g8JuwoQ/1J7Kr17NlTV9MbNmxoTfFJqEHwAyRAAkpg6NChgqI0yD7iIdiG4fNAFysIkBbDVhlkLDhIgATcTeDixYvSrVs3bQV85swZiRs3Lnd5fHRJBAYGanc67LKhQJiDBEjA3QSWLl2qjWPee+89TWeyQSzA54HuunXrVMamTp06CtPdlxS9JwESuH79ukycOFFTmnbv3i1Zs2aVKFGiEIwPCKDw5MSJE9qGuVixYj44I09BAiTgZAK4B3fq1EmyZcumMVqiRImcbG6IbPNpoAvFBaziQpwcwsTQ0uUgARJwNwGkLKxdu1bw8Dtr1ixVXogZM6a7ofjAexQCFi5cWLWLBw8erJ3RfHBanoIESMDBBLCrhiY+UL/Bjg8kH00fPg10r169qis38+fPlxkzZqjigukAaT8JkED4CCDgOnbsmOTNm1dTGNCOFukLHN4l8NNPP0mJEiUkX758mqebLl06756QRycBEnA8ASw8tGzZUtDMB4HuO++843ibX2agTwNd9FAGuEOHDsnq1avltddee5l9/D0JkIDlBH7//XdB0IVAFzfVsWPHSsKECS332v/uffnll6qZiUJAdEGyRRze/2RpAQmYSwD34+7du2sDHyw61K5d21xn/rDcp4Hu3r17deUA4uQbNmxgha/xlw8dIAHPEPj555+1GAo6jitWrBDIDnJ4lwDSRPCFNmzYMJURihEjhndPyKOTAAkYQWDChAkSFBQk1atXl86dOxth84uM9Gmgi45on3zyieZ8ACIHCZAACYDAzZs3tVnEqlWrZM+ePZImTRoqL3j50ujRo4cgjQwNfLCSHjFiRC+fkYcnARIwgQAWGwYOHKhpTSNGjNB8XRPsfp6NPg10582bJ4MGDdKlcKwkcJAACZAACPz6668yadIklbPZsmWLvPXWW+yQ5uVLo1q1aoIGPpMnT1beXj4dD08CJGAIAey+I0aD4sL48ePl1VdfNcTyZ5vps0D3t99+0xsq8u+guIA2cxwkQAIkAAJIWdi0aZNulWHbDJquceLEIRwvEXj69KmqLKRIkUKwYhMQEOClM/GwJEACphGA8kKvXr0EKWUjR46ULFmymObC3+z1WaCLSr4xY8bIsmXL9Anh7bff/psh/D8kQALuJYDACx3ScubMqRW/7du3Z3GUly4HFJvgCyxHjhzaehmd0VKlSuWls/GwJEACphG4ffu29O3bV1Cwil344sWLm+bC3+z1WaB7/vx5FSVHX3sUQfDG+rd54P8hAdcTgM52+vTppUCBAjJ8+HDeI7x0ReChAh0qq1SpIuhn36BBA+O3Jr2EioclAdcSGDJkiCDdFMoLuEeYPHwW6EJSDI0iMJYsWcLOR0qC/0MCJPBfAlBjKVOmjKYxfPrpp5IxY8b//or/epAAOM+ePVuL//BvyZIlhYoLHgTMQ5GABQSwIDlu3DgpV66c8V1sfRboIv8O3XfQZQMpDBEiRLDgUqALJEACniLw+PFj7cgDjW2oL2BrncPzBJAPjXQFfJHhvpw9e3bejz2PmUckAaMJQCWrX79+gkYyeCA2OWbzWaA7d+5cmTp1qlSuXFmQf8dBAiRAAn8lgA5pEydO1JsrZK+KFClC5YW/AvLQ63v37mkxMJp0YHctQ4YMHjoyD0MCJGALgYMHD2pBGu7LCxculPjx4xvrms8CXeTcoRAN4sPIDeMgARIggb8SgDLLxo0bpV69eqq3XatWLaNvrn/1zUmv79y5I2+++aZWUkM6iPUSTpod2kICziAA6UFo6R49elSmT59utPKCTwJdKC4gP3f//v2avoBWnxwkQAIk8FcCUAOA8kLhwoV1xbFjx46SMmXKv76Fr8NJAIVoP/74o35pofUvmkaw9W84ofLjJGAhgVu3bmma6eLFi1VirFSpUsZ66ZNAF4oLyAnDSsLo0aMlderUxgKj4SRAAt4jAOWFXLlySaZMmVTWJnPmzN47mQuP/PDhQ9m5c6eULVtWRo0aJR988IHEjRvXhSToMgmQwIsI4KEYXROho9uuXTtp1qzZi97u6N/5JNA9cOCAdtmAODmq+GLFiuVoKDSOBEjAfwTKly+vLYHxUJw7d27/GWLhmbHYgMISfHGh2ARSbtGjR7fQU7pEAiQQXgLLly/Xmgno6CL91NThk0B3zZo1CgtNIvDlxUECJEACzyMA3cZ169ZpYVrRokWNrvZ9no/++vmNGzdUCH7GjBly+PBhSZs2rUSMGNFf5vC8JEACDiawfft23Y1PkCCBIOg19V7hk0B3ypQpqriAtp7on8xBAiRAAs8jMHnyZC2CQGtaqLREiRLleW/lz0NJ4MqVK9KwYUM5deqUpjCglz0HCZAACTyLAArRkHYKhZYtW7YY25bd64EuCkzQM3nDhg3SunVrqVu37rN48mckQAIkoARwr2jRooX+h4IprCZweIbAhQsXBEUlkBSDjq7JkkGeIcKjkAAJPI8A6quw4PDFF18IitKyZs36vLc6+udeD3RR/IAvrRMnTkj//v2N75ns6NmkcSRgAYGTJ0+qBCHUF7p06SJp0qSxwCv/uwD5tu+++07znnFP7t27t7zyyiv+N4wWkAAJOJLAzZs3BV0qx44dq/9VqFDBkXa+zCivB7pYQcBKLlZ2AwMDJVu2bC+zib8nARJwMQE8HBcsWFCwrQ4dR2i+coSfABQtNm/eLNWrV9ei4Nq1a7P1b/ix8ggkYC0BKC+sXLlSY7hOnTpp50oTnfV6oLtv3z7p0KGDBAQEqJZusmTJTOREm0mABHxEAA/FCMYuXryoD8coSOMIPwEUogUFBWkzDjTmgKIF85/Dz5VHIAGbCWzbtk1atmypnSonTJhgpKteD3RXrFihW2SVKlXSpOaoUaMaCYpGkwAJ+I4AilZXr16tQRmKWDnCTwAFJUgfW7RokSA9JGHChFS0CD9WHoEErCYAeVgo4SB227Rpk5G+ej3QhZwYcjyaNGkiH330EW+sRl4mNJoEfEsA94xBgwZJ+/btBQVpkSNH9q0BFp7thx9+0C1IpJOhS2W0aNEs9JIukQAJeJIAHoqx8HDkyBH597//bWQfBK8Hum3atJE9e/ZI586dpVq1ap7kz2ORAAlYSgBSNmhqAHkx/EvlhfBP9LFjx6ROnTqquLBw4UI+PIQfKY9AAtYTQArZmDFjZN68eYKUJ6ShRogQwSi/vRrooqikRo0agp7J/fr1k0KFChkFh8aSAAn4hwBWERo0aKCtgLGakD59ev8YYslZobjw9ddf62IDuPbt21ciRYpkiXd0gwRIwFsEEL8tWbJEevToIeiJULFiReMaR3g10EVOWK1atQQFaJ988om88cYb3poLHpcESMAiArdv35aaNWsKAjQ8JOfJk8ci73zvyr179zTnGUUl0MX84IMPjPuy8j01npEESODx48faXAaLlh07dlRxAdMekr0a6GIFAXqNxYoVUzhUXOAfDQmQQEgIQHkBubnHjx/XlQRT9RtD4qsv3nP16lXtTjlp0iRZtmyZ5M2b17jtR19w4jlIgAT+SQD5uSgKxq48VnVNU2vxaqCLGyqWu5s3by7NmjWjZuM/rx/+hARI4DkEoBCA/uqtWrXStrXPeRt/HAICZ86c0XSFHTt2aM0ENIpNy7MLgZt8CwmQgBcIfP/999K4cWN58uSJbN26VRUYvHAarx3Sq4HukCFDVHEBHXiQwsBBAiRAAiElgOIH3EOQwoAOaaZtl4XUT1+8Dysy2HZEpyPstDHI9QV1noME7CAApZauXbtqwxkEvbFjxzbqHuLVQBdbj0ePHlXtxtKlS9sx4/SCBEjAJwSw+ohuPPny5dPVyHjx4vnkvDaeZOfOndrVCHUSc+bMsdFF+kQCJOAlAj///LOMHz9e8/vxoJwpUyajVFu8Fugix+6dd97RJW608WQxiZeuQB6WBCwlAOWFtm3bSty4cfVhOUOGDJZ66l23cC9et26ddjfC4kPPnj29e0IenQRIwCoCv/76q6D5F/oh4EG5fPnyEj16dGN89Fqge+nSJcEqbo4cOaRXr16SMWNGY6DQUBIgAf8TgPICilmh3oKH5fz58/vfKAMtgOLCggUL9GFh8ODBmgpioBs0mQRIwE8EkJt76NAhKViwoD4oQ9sc6QumDK8Furt27ZJ69epJ7dq1tSNakiRJTGFCO0mABBxAANJiyCv98ssvNUeXDWfCNimXL1/WbcelS5dqzQRSQThIgARIIKQEsCt07tw5DXSLFi0q48aNE5NSybwW6KKQBMnLgYGBUr16dSouhPSK4vtIgASCCYwcOVLmz5+vuq9YReAIPYHvvvtOtYi/+eYb2bBhg3DRIfQM+QkScDsB7NIjlnv06JGsWbNGEiZMaAwSrwW6ffr00VyOiRMnSsmSJSlObswlQUNJwDkE0JFn6NChmu+PfyNGjOgc4wyxBC3Y/5uXi1xd0zQwDcFMM0nAagLXrl3T4uBVq1bJ4cOHJXny5MYoL3gt0IWcGIpJJkyYoFXTVl8BdI4ESMArBL766isN0l577TXdLkNhGkfoCGD1BS1/33zzTW0aEbpP890kQAIkIIKaCcRzWMREOtm//vUvYx6avRLoPn36VDvvYGl7+PDhkjVrVl4nJEACJBBqAnhYxmrk3bt3ZfTo0ULlhdAhRG4dqqShR9ygQQPNeQ7dEfhuEiABEhC5f/++rF+/XtAKeObMmVK5cmVjCtI8HujixgrNtbfeektTFqC4kCZNGl4nJEACJBBqAjdu3JBPPvlE9u/frykMaEHJEXIC+HLCKgy+mAYMGCBVqlQJ+Yf5ThIgARL4gwCUF5Dvj9gORcKQfjQlT9fjgS4qpZET9t577wmKR6DbiHaTHCRAAiQQWgLYHRo0aJAgVxfd0aDiwhFyAhcvXtQHBKSAoF4id+7cIf8w30kCJEACfxDAIuatW7ckc+bMUqxYMRk2bJikSJHCCD4eD3QR9c+dO1cj/ilTpkjZsmUlZsyYRsCgkSRAAs4jMH36dA3SqlatKj169HCegQ626NixY5qfe/36db0vo4CEgwRIgATCQgCa3OiPgKB39uzZ8vrrr4flMD7/jMcD3cePH2uDiKCgIJWgyJUrlzGVeT6nzxOSAAm8lACqfNEwArn+U6dO5f3kpcT+fMO2bdukd+/euqu2cOFCY4pH/vSAr0iABJxC4MGDB9K6dWvZuHGjrF27VtBSPEKECE4x77l2eDzQhcYatNbOnj2r3XgCAgKee3L+ggRIgAReRgC91VGQBlkspDDEihXrZR/h7/8gsGjRIu1Pj45G0CTmIAESIIGwEkB8h2YR/fr105bABQoUMOLh2eOBLiJ+yNikT59egaRNmzasTPk5EiABEpBTp05pIRX+RVEVlRdCflGMGTNGsLuGWgmsxHCQAAmQQFgJIDUVTWfq1q0raCeORU0TJB89GuiiEO3q1auSMWNG7WQExYVkyZKFlSk/RwIkQAIC5YVRo0bJypUrBYFbkSJFSCUEBB4+fKj5uWgSAR3dihUrhuBTfAsJkAAJPJsAYrzTp08LVnIR7H788cfaOOLZ73bOTz0a6GJZG4oLSFZGpXS9evUkfvz4zvGWlpAACRhHAKsI06ZNUx1dFKPhBsvxcgJQXMBiA76YUCENWSAOEiABEggPATxAZ8mSRXfuEeeZsMPm0UAXou7z5s2TNm3ayPLly3XlJUaMGOFhys+SAAmQgObmBgYGyrvvviv4l+PlBNCmEw8G0aJF05XwlClTvvxDfAcJkAAJvIRAqVKltIEE8nWRqur04dFAFxpr2CKDHNDevXs10o8UKZLTGdA+EiABhxPYsmWLrk5Ct3Hx4sUOt9YZ5n3xxRequJA9e3ZdDeeigzPmhVaQgOkE/qu8MGPGDEGhq9OHRwPda9euSf369bV4BF9M1Gx0+vTTPhIwg8ChQ4dUeQF6sJs2baLyQgimDUVo48eP11VwdJczQQYoBG7xLSRAAn4mgPsK2opjRbdcuXISNWpUP1v04tN7NNC9dOmSpisgZwM3WXZEezF8/pYESCBkBM6cOaM31p07d2palAl5YSHzzHvvggQQCviaN28ujRs39t6JeGQSIAFXEUCBK+4rKEYzoRbLY4EuqvEg/5MzZ05p0qSJ9qePFy+eqyafzpIACXiHAJQXUJCG/yZNmiQlS5b0zoksOSoKg1ErgTxdNIxAh0oOEiABEvAEge+++053iiA80KlTJ0mVKpUnDuu1Y3gs0IV+7vbt29V5LGd/8MEH3F702rTxwCTgLgII3FDg2rlzZy2watq0qbsAhNLby5cvS6tWrQQtO1G8hwUIDhIgARLwBAEIDyA397XXXgvuWumJ43rrGB4LdG/evKm9j/FFBEHht99+2/F5G96CyuOSAAl4nsDmzZulZcuWUr58ee325fkz2HNE5DS3b99eUqdOrV2M8IXEQQIkQAKeIlC5cmVBXRYkxgoVKuSpw3rlOB4LdLGC0L9/f/n00081hSFJkiQSMWJErxjNg5IACbiPAJRckBMGbe7Vq1e7D0AoPEYOXffu3aVMmTKaukDFhVDA41tJgAReSgCLmuvXr9cdI6c3o/FYoHv27FndKjt58qTmhfHG+tLrhG8gARIIBYHjx49Lly5dBPeYY8eOSeTIkUPxaXe9FXnM+K9hw4bSrl07dzlPb0mABLxOADKyWM1FUxo08XHywqbHAt0TJ05IjRo1dKsMOpfRo0f3OmiegARIwD0ELly4IMOHD5fPPvtMtm3bJq+//jols54z/SgQASOkL9SqVes57+KPSYAESCBsBKDTjYdo3F+QUubkLrgeCXShuPDvf/9bK3sbNGigKQxO11UL29TyUyRAAv4i8Msvv8j8+fODU6TQncfJqwj+4vT06VOpWbOmIJ0MDXyKFSvmL1N4XhIgAUsJYHETK7nojNa1a1ddeHCqqx4JdFHZiwI0aDWipzqc57aiU6ecdpGAmQSgvLB161apU6eOyhd+9NFHws6L/5zLq1evaqAbN25cDXTRGY2DBEiABDxJ4M6dO1KpUiVtMQ5ll1y5cnny8B49lkcCXVTeoRXcyJEjdVsxX758/ALy6DTxYCRAAr///rvuHFWtWlW78YwZM4YP1M+4LLC7Bvk13IeR05wyZcpnvIs/IgESIIGwE8BOPppFnD59WvN0Ufjq1OGRQPfcuXO6nYhV3f3790vixImZO+fUGaddJGAwAWyXIT0qZsyYWvEbJUoUg73xjumrVq1SvWFwwqp37NixvXMiHpUESMDVBNBaHPcb5OpiJ9+pwyOB7jfffCMdO3aUK1euyL59+7ia69TZpl0kYDgBPFTjXoP7DO47CHgjRIhguFeeNX/06NEyZcoU6datmzbuYR6zZ/nyaCRAAv9PYNasWVogjJVdBLtOTVn1SKD79ddfa9Vd+vTpZeHChbwGSIAESMArBPAwPWLECJk8ebKmMaRJk4YP1v9DGhXQe/bs0fzcChUq/M9v+X9JgARIwDMEUDMBhZeiRYtqx8p48eJ55sAePkq4A13kaaBjUbNmzeTDDz/Um6uHbeThSIAESEAJ3L59W5YsWSJt2rQRyBiWKFFCiyGI5/8JQHGhXLlygsK9AQMGSP78+YmGBEiABLxCAKlkaDWeNGlS6dOnj2Cx04kj3IHu/fv3ZenSpbpNNnjwYN0qc6KjtIkESMB8AgjgsINUunRpbW3bokULiRUrlvmOeciDGzdu6OpKpkyZdNEhICDAQ0fmYUiABEjg7wRu3rwpTZo0EUg/QnkBBbBOHOEOdLGViG3EOXPmyOzZs7mC4MRZpk0kYBGBM2fOSO7cuaVKlSqaHwYZLY7/J3DgwAGpXbu2smndurWkSJGCaEiABEjAKwSghIMVXdRMoCYA92QnjnAHut9//70qLhw8eFDQKSNZsmRO9JM2kQAJWELg4sWLqt+INuPokpYwYUJLPAu/G9hd69Chg3Tv3l31hqm4EH6mPAIJkMDzCQwZMkTTyNBuHPUBThzhDnQRyeOm+uDBA9m+fTs7FTlxlmkTCVhE4Oeff9YcXRRCHDp0SPPDLHIvXK7gS2fChAm6ywZdSyouhAsnP0wCJPASAgsWLNBGYbjfoC7AiSo44Q50N27cKD179pQsWbJIUFDQS5Dw1yRAAiQQPgK3bt1S5QUEdXv37tV7j1NlbcLnaeg/jVUVpC8g2C1YsGDoD8BPkAAJkEAoCOzYsUMVFzJmzKhNw5yYShbuQHfRokVabQexYORocJAACZCANwmg5fjnn3+uXXmwmlC2bFkWpP0BvECBAhI9enT9wsmRI4c3p4HHJgESIAGB8gJiP+TrDh8+3JHKC+EKdKG4MG3aNF09QMXd+++/z2knARIgAa8SePz4sRw9elQrfNGZB8oLCRIk8Oo5nX5wfMmgAhr95iEp1q9fP3n99dedbjbtIwESMJwAlF4Q6KKBD3bZ8LDttBGuQPfy5cu6coAitEmTJjlWWsJp0GkPCZBA2AkgqLt27ZpkzpxZKlasKAMHDnR9ESz0zJGvjAYRTZs21eA/SZIkYYfMT5IACZBACAg8efJEH6xXr14tXbt2lerVq4fgU759S7gC3W+//VYd/OmnnwRbiClTpvSt9TwbCZCAKwncvXtXChcuLMgHmzlzpqBDmpsHGkWgkQYkxcaMGaMPAFRccPMVQd9JwHcEJk6cKDNmzJAaNWpI586dfXfiEJ4pXIHuzp07pVevXvLKK6/oTTZatGghPC3fRgIkQAJhJ4C0KQiVo3nEqlWrdHU37Ecz/5NI58DKNr5wli9fLnnz5mVrZPOnlR6QgBEEcM9B2gJSp8aNG+c4tZdwBbrLli2ToUOHqnj7+PHjjZgQGkkCJGA+gYcPH2rhw4gRI2TNmjV6D3Kz8gI6xtWrV08OHz6siw5QweEgARIgAV8Q2L17t6pvxYkTR5uHOW03KcyBLvLk0BFtypQpAsWF9u3b+4Inz0ECJEACghXMFStWaD4qtuorV66sO0tuRQMd87ffflsSJUqk92UWorn1SqDfJOB7AidPntQ0VjTzgUBBunTpfG/EC84Y5kAXKwjYKkNnIlT44ouGgwRIgAR8QQA5qagRKF68uDRr1kzbULq1+AqLDug1jy+X9957TztVJk+e3BfTwHOQAAmQgBYHDxs2TDZt2iSjRo3S+gknYQlzoAvFhT59+qikBLYP8+TJ4yS/aAsJkIDFBBDcYRUzU6ZM2hgB8oZuXcXE6jYUF9555x3p3bu3rnK7XW7N4kufrpGA4whg4QHpq1DfQt1WnTp1HGVjmANd6FjCIcjaoAvPa6+95ijHaAwJkID9BKC8EClSJBk7dqxky5bNfoef4SEK85YuXarFeVC/KV26tMSMGfMZ7+SPSIAESMA7BObPn68FadhVgr65k0aYA90tW7ZooJshQwbN06XigpOmlbaQgDsIQHlh165dMn36dM1RdYfXf/fy9u3bMnjwYN0y3LdvnwQEBFBx4e+I+P9IgAS8TGDDhg3St29f3VmbO3eul88WusOHOdCdM2dOsOJCjx49JEKECKE7M99NAiRAAuEkgILY2bNnS1BQkJQqVcqVAR46E6FJBBYfVq5cKczPDedFxY+TAAmEmsCRI0c0JowaNaps27Yt1J/35gfCHOhiBWHkyJESJUoU14u1e3OCeGwSIIHnE0CVL/6D8kLt2rUF8jZuG1euXJESJUoIKp+RvsHdNbddAfSXBPxP4Ndff5Uff/xRd5TQY8FJI8yBLrrwbN68WaC+wEECJEAC/iRQqVIlKVasmCslxm7duqVpZOgWhyI9DhIgARLwFwGov2CX30kjzIEues3jBssbq5Omk7aQgDsJxI8fX1dzscPktoFe8+fOneO92G0TT39JwIEEUAjrtPSpMAe6DuRLk0iABEiABEiABEiABEggmAAD3WAUfEECJEACJEACJEACJGATAQa6Ns0mfSEBEiABEiABEiABEggmwEA3GAVfkAAJkAAJkAAJkAAJ2ESAga5Ns0lfSIAESIAESIAESIAEggkw0A1GwRckQAIkQAIkQAIkQAI2EWCga9Ns0hcSIAESIAESIAESIIFgAgx0g1HwBQmQAAmQAAmQAAmQgE0EGOjaNJv0hQRIgARIgARIgARIIJgAA91gFHxBAiRAAiRAAiRAAiRgEwEGujbNJn0hARIgARIgARIgARIIJsBANxgFX5AACZAACZAACZAACdhEgIGuTbNJX0iABEiABEiABEiABIIJMNANRsEXJEACJEACJEACJEACNhFgoGvTbNIXEiABEiABEiABEiCBYAIMdINR8AUJkAAJkAAJkAAJkIBNBBjo2jSb9IUESIAESIAESIAESCCYAAPdYBR8QQIkQAIkQAIkQAIkYBMBBro2zSZ9IQESIAESIAESIAESCCbAQDcYBV+QAAmQAAmQAAmQAAnYRICBrk2zSV9IgARIgARIgARIgASCCTDQDUbBFyRAAiRAAiRAAiRAAjYRYKBr02zSFxIgARIgARIgARIggWACDHSDUfAFCZAACZAACZAACZCATQQY6No0m/SFBEiABEiABEiABEggmAAD3WAUfEECJEACJEACJEACJGATAQa6Ns0mfSEBEiABEiABEiABEggmwEA3GAVfkAAJkAAJkAAJkAAJ2ESAga5Ns0lfSIAESIAESIAESIAEggkw0A1GwRckQAIkQAIkQAIkQAI2EWCga9Ns0hcSIAESIAESIAESIIFgAgx0g1HwBQmQAAmQAAmQAAmQgE0EGOjaNJv0hQRIgARIgARIgARIIJgAA91gFHxBAiRAAiRAAiRAAiRgEwEGujbNJn0hARIgARIgARIgARIIJsBANxgFX5AACZAACZAACZAACdhEgIGuTbNJX0iABEiABEiABEiABIIJMNANRsEXJEACJEACJEACJEACNhFgoGvTbNIXEiABEiABEiABEiCBYAIMdINR8AUJkAAJkAAJkAAJkIBNBBjo2jSb9IUESIAESIAESIAESCCYAAPdYBR8QQIkQAIkQAIkQAIkYBMBBro2zSZ9IQESIAESIAESIAESCCbAQDcYBV+QAAmQAAmQAAmQAAnYROD/AEASSS8h08VyAAAAAElFTkSuQmCC)\n",
    "\n",
    "\n",
    "Модель состоит из двух нейросетевых частей:\n",
    "1. Айтемная. Может принимать на вход контент документа, его статистики, признаки автора.\n",
    "2. Пользовательская. Должна содержать некоторую агрегацию взаимодействий пользователя. \n",
    "   * В случае текстовых документов можно использовать bag of words сконкатенированных позитивов;\n",
    "   * RNN по истории пользователя;\n",
    "   * Transformer;\n",
    "   * etc."
   ]
  },
  {
   "cell_type": "code",
   "execution_count": 17,
   "id": "213fefbe",
   "metadata": {
    "cellId": "p3sgg7yw4d9y04w8jt2hm"
   },
   "outputs": [],
   "source": [
    "#!g1.1\n",
    "import torch\n",
    "import torch.nn as nn\n",
    "import torch.nn.functional as F\n",
    "from torch.utils.data import DataLoader, TensorDataset\n",
    "\n",
    "device = 'cuda' if torch.cuda.is_available() else 'cpu'"
   ]
  },
  {
   "cell_type": "markdown",
   "id": "d73097f0",
   "metadata": {
    "cellId": "382gu8zhsyrefuxji9mjzd"
   },
   "source": [
    "Создадим torch датасеты по train и test данным"
   ]
  },
  {
   "cell_type": "code",
   "execution_count": 18,
   "id": "077c45e5",
   "metadata": {
    "cellId": "k6ih6362qwjqzb7tu55qxd"
   },
   "outputs": [],
   "source": [
    "#!g1.1\n",
    "def make_dataset(user_ratings, rating_col):\n",
    "    users, items, ratings = [], [], []\n",
    "    user_ids = user_encoder.transform(user_ratings['userId'])\n",
    "    for user_id, items_with_ratings in tqdm_notebook(zip(user_ids, user_ratings[rating_col]),\n",
    "                                                     total=len(user_ratings)):\n",
    "        item_ids, item_ratings = zip(*json.loads(items_with_ratings.replace(\"'\", '\"')).items())\n",
    "        item_ids = [item_to_id[item_id] for item_id in item_ids]\n",
    "#         item_ids = item_encoder.transform(item_ids)\n",
    "        for item_id, rating in zip(item_ids, item_ratings):\n",
    "            users.append(user_id)\n",
    "            items.append(item_id)\n",
    "            ratings.append(rating)\n",
    "    return TensorDataset(torch.tensor(users), torch.tensor(items), torch.tensor(ratings))"
   ]
  },
  {
   "cell_type": "code",
   "execution_count": 19,
   "id": "7ada1076",
   "metadata": {
    "cellId": "hyal62xg7ukfb5oq9q4y"
   },
   "outputs": [
    {
     "data": {
      "application/vnd.jupyter.widget-view+json": {
       "model_id": "c1de95d96b764c5b87aa3b1829fed756",
       "version_major": 2,
       "version_minor": 0
      },
      "text/plain": [
       "  0%|          | 0/75910 [00:00<?, ?it/s]"
      ]
     },
     "metadata": {},
     "output_type": "display_data"
    },
    {
     "data": {
      "application/vnd.jupyter.widget-view+json": {
       "model_id": "bc285ba306c1471491e13320c606028d",
       "version_major": 2,
       "version_minor": 0
      },
      "text/plain": [
       "  0%|          | 0/75910 [00:00<?, ?it/s]"
      ]
     },
     "metadata": {},
     "output_type": "display_data"
    }
   ],
   "source": [
    "#!g1.1\n",
    "train_dataset = make_dataset(user_ratings, 'trainRatings')\n",
    "test_dataset = make_dataset(user_ratings, 'testRatings')"
   ]
  },
  {
   "cell_type": "code",
   "execution_count": 20,
   "id": "aecac45d",
   "metadata": {
    "cellId": "01dbe05cd16w266aldmyys5"
   },
   "outputs": [],
   "source": [
    "#!g1.1\n",
    "train_loader = DataLoader(train_dataset, batch_size=128, shuffle=True, pin_memory=True)\n",
    "test_loader = DataLoader(test_dataset, batch_size=128, shuffle=False)"
   ]
  },
  {
   "cell_type": "markdown",
   "id": "d33bed0a",
   "metadata": {
    "cellId": "mdfww1p19pqzl7lwwnd2wl"
   },
   "source": [
    "В нашем семинаре реализуем самую простую возможную DSSM-like модель, модель обычной матричной факторизации."
   ]
  },
  {
   "cell_type": "code",
   "execution_count": 25,
   "id": "c1d99b0f",
   "metadata": {
    "cellId": "p906nz8a4geqymtlt2tqj"
   },
   "outputs": [],
   "source": [
    "#!g1.1\n",
    "class MatrixDecompositionModel(nn.Module):\n",
    "    def __init__(self, num_users, num_items, emb_size=10):\n",
    "        super(MatrixDecompositionModel, self).__init__()\n",
    "        \n",
    "        # <YOUR CODE HERE>: user and item embeddings\n",
    "        self.user_embeddings = nn.Embedding(num_users, emb_size)\n",
    "        self.item_embeddings = nn.Embedding(num_items, emb_size)\n",
    "        \n",
    "    def forward(self, users, items):\n",
    "        # <YOUR CODE HERE>: dot-product for all pairs in batch\n",
    "        user_embs = self.user_embeddings(users)\n",
    "        item_embs = self.item_embeddings(items)\n",
    "        dot_product = (user_embs * item_embs).sum(dim=-1)\n",
    "        \n",
    "        return dot_product"
   ]
  },
  {
   "cell_type": "code",
   "execution_count": 30,
   "id": "4dfed077",
   "metadata": {
    "cellId": "5zs01e8ffy5vib85azdaii"
   },
   "outputs": [],
   "source": [
    "#!g1.1\n",
    "def plot_loss(train_loss, test_loss=None):\n",
    "    clear_output(True)\n",
    "\n",
    "    plt.figure(figsize=(10, 6))\n",
    "    plt.plot(train_loss, label='Train')\n",
    "    if test_loss is not None:\n",
    "        plt.plot(test_loss, label='Test')\n",
    "    plt.xlabel('Iteration')\n",
    "    plt.ylabel('Loss')\n",
    "    plt.title('Train progress')\n",
    "    plt.legend()\n",
    "    \n",
    "    plt.show()\n",
    "\n",
    "\n",
    "def train(model, optimizer, train_loader, test_loader, num_epochs=5):\n",
    "    train_loss_per_iteration = []\n",
    "    for epoch in range(num_epochs):\n",
    "        model.train()\n",
    "        train_loss = 0.0\n",
    "        for iteration, (users, items, ratings) in enumerate(tqdm_notebook(train_loader, total=len(train_loader))):\n",
    "            users = users.to(device)\n",
    "            items = items.to(device)\n",
    "            ratings = ratings.to(device)\n",
    "\n",
    "            optimizer.zero_grad()\n",
    "            ratings_pred = model(users, items)\n",
    "            \n",
    "            # <YOUR CODE HERE>: backward step\n",
    "            # ratings_prediction = ...\n",
    "            # loss = ...\n",
    "            loss = F.mse_loss(ratings_pred, ratings.float())\n",
    "            loss.backward()\n",
    "            optimizer.step()\n",
    "            \n",
    "            train_loss_per_iteration.append(loss.item())\n",
    "            train_loss += loss.item()\n",
    "            \n",
    "            if iteration % 1000 == 0:\n",
    "                plot_loss(train_loss_per_iteration)\n",
    "\n",
    "        train_loss /= len(train_loader)\n",
    "        \n",
    "        model.eval()\n",
    "        test_loss = 0.0\n",
    "        for users, items, ratings in tqdm_notebook(test_loader, total=len(test_loader)):\n",
    "            users = users.to(device)\n",
    "            items = items.to(device)\n",
    "            ratings = ratings.to(device)\n",
    "            \n",
    "            with torch.no_grad():\n",
    "                ratings_pred = model(users, items)\n",
    "            \n",
    "            # loss = ...\n",
    "            loss = F.mse_loss(ratings_pred, ratings.float())\n",
    "\n",
    "            test_loss += loss.detach().cpu()\n",
    "        test_loss /= len(test_loader)\n",
    "        \n",
    "        print(f'Epoch {epoch}: Train loss: {train_loss}, Test loss: {test_loss}')"
   ]
  },
  {
   "cell_type": "code",
   "execution_count": 31,
   "id": "1a39bbd3",
   "metadata": {
    "cellId": "3yacybzhgcj4sbh98ykd5h"
   },
   "outputs": [],
   "source": [
    "#!g1.1\n",
    "model = MatrixDecompositionModel(len(user_encoder.classes_), len(item_encoder.classes_), emb_size=8).to(device)\n",
    "optimizer = torch.optim.Adam(model.parameters(), lr=0.001)"
   ]
  },
  {
   "cell_type": "code",
   "execution_count": null,
   "id": "4382fe2c",
   "metadata": {
    "cellId": "6sgyrfajoprdnbq2owp74m"
   },
   "outputs": [
    {
     "data": {
      "image/png": "[encoded data removed]",
      "text/plain": [
       "<Figure size 1000x600 with 1 Axes>"
      ]
     },
     "metadata": {},
     "output_type": "display_data"
    }
   ],
   "source": [
    "#!g1.1\n",
    "train(model, optimizer, train_loader, test_loader)"
   ]
  },
  {
   "cell_type": "code",
   "execution_count": null,
   "id": "16433268-9d90-4aa4-84c9-3dafc7bbf427",
   "metadata": {},
   "outputs": [],
   "source": []
  }
 ],
 "metadata": {
  "kernelspec": {
   "display_name": "Python 3 (ipykernel)",
   "language": "python",
   "name": "python3"
  },
  "language_info": {
   "codemirror_mode": {
    "name": "ipython",
    "version": 3
   },
   "file_extension": ".py",
   "mimetype": "text/x-python",
   "name": "python",
   "nbconvert_exporter": "python",
   "pygments_lexer": "ipython3",
   "version": "3.10.6"
  },
  "notebookId": "827d964d-9953-4b8e-8b79-5e5dc25b6b6b",
  "notebookPath": "recsys/3/seminar/seminar.ipynb"
 },
 "nbformat": 4,
 "nbformat_minor": 5
}
