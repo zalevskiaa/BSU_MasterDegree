{
 "cells": [
  {
   "cell_type": "markdown",
   "id": "ae90c4df",
   "metadata": {},
   "source": [
    "# План домашней работы\n",
    "1. Реализовать алгоритмы **item2item**, **ALS**, **IALS** (2 балл за каждый)\n",
    "2. Посчитать метрику предсказаний **MRR@100** выбрасывая случайный лайк пользователя (2 балла)\n",
    "\n",
    "Будем решать задачу предсказания: на 4/5 пользователей учимся, на 1/5 выбрасываем случайный лайк и пытаемся предсказать его беря топ 100 наших лучших предсказаний для этого пользователя.\n",
    "\n",
    "MRR@100 будет равно $1/(p+1)$, где $p$ - позиция на которой оказался выброшенный лайк в нашем ранжировании и 0 если в топ 100 его не было.\n",
    "\n",
    "3. Подобрать параметры алгоритмов для максимизации MRR@100 (1 балл)\n",
    "4. Сравнить похожести айтемов получаюшиеся для item2item, ALS, IALS (1 балл)\n",
    "\n",
    "Замерить насколько получаются похожими топы похожестей. Так же рекомендуется взять 5-топовых (или любимых) треков и посмотреть на похожести которые получаются для них в разных алгоритмах."
   ]
  },
  {
   "cell_type": "markdown",
   "id": "4f167286",
   "metadata": {},
   "source": [
    "### Ссылки на датасет музыки:\n",
    "\n",
    "1. Матричка: https://disk.yandex.ru/d/cLbDbw3mCido_w\n",
    "2. Имена тайтемов: https://disk.yandex.ru/d/pPCaGJOqcpcABw\n",
    "3. Линки между айтемами: https://disk.yandex.ru/d/hMErnDJqtVm9HQ"
   ]
  },
  {
   "cell_type": "markdown",
   "id": "b7468264",
   "metadata": {},
   "source": [
    "# Разбираемся с датасетом музыки"
   ]
  },
  {
   "cell_type": "markdown",
   "id": "b1e82044-70af-44f8-b695-95d1d2121e44",
   "metadata": {},
   "source": [
    "Взял 0.01 юзеров и 0.005 айтемов от исходного датасета, затем выбросил юзеров, у которых меньше 10 лайков"
   ]
  },
  {
   "cell_type": "code",
   "execution_count": 1,
   "id": "51630f5f",
   "metadata": {
    "tags": []
   },
   "outputs": [],
   "source": [
    "import os, zipfile\n",
    "import numpy as np\n",
    "import pandas as pd\n",
    "import scipy.sparse as sp\n",
    "from tqdm.notebook import tqdm, tnrange, trange\n",
    "\n",
    "from scipy.sparse.linalg import spsolve"
   ]
  },
  {
   "cell_type": "code",
   "execution_count": 2,
   "id": "d2f2da9c",
   "metadata": {
    "tags": []
   },
   "outputs": [],
   "source": [
    "# base_name = \"yt___home_music_recom_burlada_recsys_2022_02_19_\"\n",
    "# for fname in tqdm([n for n in os.listdir(\".\") if base_name in n and n.endswith(\".zip\")]):\n",
    "#     extract_name = fname.replace(\".zip\", \"\")\n",
    "#     if os.path.exists(extract_name): continue\n",
    "#     with zipfile.ZipFile(fname) as f:\n",
    "#         f.extract(f.filelist[0])"
   ]
  },
  {
   "cell_type": "code",
   "execution_count": 106,
   "id": "90965805",
   "metadata": {
    "tags": []
   },
   "outputs": [],
   "source": [
    "# all_names = pd.read_json(\"yt___home_music_recom_burlada_recsys_2022_02_19_public_all_names\", lines=True)\n",
    "# track_links = pd.read_json(\"yt___home_music_recom_burlada_recsys_2022_02_19_public_tracks_links\", lines=True)\n",
    "\n",
    "# dataset = pd.read_json(\"yt___home_music_recom_burlada_recsys_2022_02_19_public_data_train part_2\", lines=True)"
   ]
  },
  {
   "cell_type": "code",
   "execution_count": 4,
   "id": "6e7c549f",
   "metadata": {
    "scrolled": true,
    "tags": []
   },
   "outputs": [],
   "source": [
    "# dataset"
   ]
  },
  {
   "cell_type": "code",
   "execution_count": 5,
   "id": "e8820e36",
   "metadata": {
    "tags": []
   },
   "outputs": [],
   "source": [
    "# total_interactions_count = dataset.track_ids.map(len).sum()\n",
    "# user_coo, item_coo = np.zeros(total_interactions_count, dtype=np.int32), np.zeros(total_interactions_count, dtype=np.int32)\n",
    "# pos = 0\n",
    "# for u, tracks in enumerate(tqdm(dataset.track_ids)):\n",
    "#     user_coo[pos:pos+len(tracks)] = u\n",
    "#     item_coo[pos:pos+len(tracks)] = tracks\n",
    "#     pos += len(tracks)\n",
    "# shape = (max(user_coo) + 1, max(item_coo) + 1)\n",
    "# user_item_matrix = sp.coo_matrix((np.ones(len(user_coo)), (user_coo, item_coo)), shape=shape)\n",
    "# user_item_matrix = user_item_matrix.tocsr()\n",
    "# sp.save_npz(\"data_train.npz\", user_item_matrix)\n",
    "# # Cleanup memory. Later you need just data_train.npz\n",
    "# del user_coo\n",
    "# del item_coo\n",
    "# del dataset"
   ]
  },
  {
   "cell_type": "code",
   "execution_count": 6,
   "id": "357976e2-faff-4ce9-9b9a-aeec0a7b7784",
   "metadata": {
    "tags": []
   },
   "outputs": [],
   "source": [
    "# from scipy.sparse import vstack\n",
    "\n",
    "# user_item_matrix1 = sp.load_npz(\"data_train part_1.npz\")\n",
    "# user_item_matrix2 = sp.load_npz(\"data_train part_2.npz\")\n",
    "# user_item_matrix = vstack((user_item_matrix1, user_item_matrix2))\n",
    "# sp.save_npz(\"data_train.npz\", user_item_matrix)\n",
    "# user_item_matrix.shape"
   ]
  },
  {
   "cell_type": "code",
   "execution_count": 93,
   "id": "b694e04f",
   "metadata": {
    "tags": []
   },
   "outputs": [],
   "source": [
    "# user_item_matrix = sp.load_npz(\"data_train.npz\")"
   ]
  },
  {
   "cell_type": "code",
   "execution_count": 95,
   "id": "4cd37f54",
   "metadata": {
    "tags": []
   },
   "outputs": [],
   "source": [
    "# item_weights = np.array(user_item_matrix.tocsc().sum(0))[0]\n",
    "# top_to_bottom_order = np.argsort(-item_weights)\n",
    "# item_mapping = np.empty(top_to_bottom_order.shape, dtype=int)\n",
    "# item_mapping[top_to_bottom_order] = np.arange(len(top_to_bottom_order))\n",
    "# total_item_count = (item_weights > 0).sum()\n",
    "# total_user_count = user_item_matrix.shape[0]\n",
    "\n",
    "# def build_dataset(user_item_matrix, item_pct, user_pct):\n",
    "#     user_count, item_count = int(total_user_count * user_pct), int(total_item_count * item_pct)\n",
    "#     item_ids = top_to_bottom_order[:item_count]\n",
    "#     user_ids = np.random.choice(np.arange(user_item_matrix.shape[0]), size=user_count, replace=False)\n",
    "#     train = user_item_matrix[user_ids]\n",
    "#     train = train[:, item_ids]\n",
    "#     return train"
   ]
  },
  {
   "cell_type": "code",
   "execution_count": 96,
   "id": "678c5a52",
   "metadata": {
    "tags": []
   },
   "outputs": [],
   "source": [
    "# small_dataset = build_dataset(user_item_matrix, 0.005, 0.010)"
   ]
  },
  {
   "cell_type": "code",
   "execution_count": 97,
   "id": "40e93390-6c6a-40cb-a0c1-35d14d9ad138",
   "metadata": {
    "tags": []
   },
   "outputs": [],
   "source": [
    "# sp.save_npz(\"data_train_not_very_small.npz\", small_dataset)"
   ]
  },
  {
   "cell_type": "code",
   "execution_count": 98,
   "id": "5adad40d-a039-4428-963b-84174625fad1",
   "metadata": {
    "tags": []
   },
   "outputs": [
    {
     "name": "stdout",
     "output_type": "stream",
     "text": [
      "<13732x5000 sparse matrix of type '<class 'numpy.int32'>'\n",
      "\twith 742963 stored elements in Compressed Sparse Row format>\n",
      "<9916x5000 sparse matrix of type '<class 'numpy.int32'>'\n",
      "\twith 726459 stored elements in Compressed Sparse Row format>\n"
     ]
    }
   ],
   "source": [
    "# dataset = sp.load_npz(\"data_train_very_small.npz\").astype(np.int8)\n",
    "dataset = sp.load_npz(\"data_train_not_very_small.npz\").astype(np.int32)\n",
    "# dataset = sp.load_npz(\"data_train_small.npz\").astype(np.int8)\n",
    "\n",
    "\n",
    "print(dataset.__repr__())\n",
    "\n",
    "dataset = dataset.toarray()\n",
    "dataset = dataset[dataset.sum(axis=1) >= 10]\n",
    "dataset = sp.csr_matrix(dataset)\n",
    "\n",
    "print(dataset.__repr__())"
   ]
  },
  {
   "cell_type": "markdown",
   "id": "e45f2216-576e-4811-8314-f75eaa2f1556",
   "metadata": {},
   "source": [
    "# 1. Реализация алгоритмов"
   ]
  },
  {
   "cell_type": "markdown",
   "id": "325d421e-7b05-4383-995e-859c3ccda701",
   "metadata": {},
   "source": [
    "## item2item"
   ]
  },
  {
   "cell_type": "markdown",
   "id": "ea6dab5e-e128-413d-89d4-8847238636eb",
   "metadata": {},
   "source": [
    "Порога по количеству пересечений у айтемов не делал, соседей отсекал не по значению похожести, а по количеству."
   ]
  },
  {
   "cell_type": "code",
   "execution_count": 19,
   "id": "604117c0-0ca2-4856-b8fb-e96b89d512d7",
   "metadata": {
    "tags": []
   },
   "outputs": [],
   "source": [
    "def pairwise_jaccard(X):\n",
    "    \"\"\"\n",
    "    Computes the Jaccard distance between the rows of `X`.\n",
    "    source: https://stackoverflow.com/questions/32805916/compute-jaccard-distances-on-sparse-matrix\n",
    "    \"\"\"\n",
    "    X = X.astype(bool).astype(int)\n",
    "\n",
    "    intrsct = X.dot(X.T)\n",
    "    row_sums = intrsct.diagonal()\n",
    "    unions = row_sums[:, None] + row_sums - intrsct\n",
    "    sim = intrsct / unions\n",
    "    # dist = 1 - sim\n",
    "    return np.array(sim)\n",
    "\n",
    "def compute_neighbors(similarities, num_neighbors=1000):\n",
    "    argsorted_similarities = np.argsort(similarities, axis=1)[:, ::-1]\n",
    "    return argsorted_similarities[:, :num_neighbors]\n",
    "\n",
    "def compute_r_hat(dataset, similarities, items_neighbors):\n",
    "    ratings = dataset.toarray()\n",
    "    ratings_hat = np.zeros_like(ratings)\n",
    "    \n",
    "    for i in trange(ratings.shape[1], leave=False):\n",
    "        Ni = items_neighbors[i]\n",
    "        R = ratings[:, Ni]\n",
    "        s = similarities[i, Ni]\n",
    "        \n",
    "        ratings_hat[:, i] = R @ s / np.sum(np.abs(s))\n",
    "            \n",
    "    return ratings_hat\n",
    "\n",
    "# similarities = pairwise_jaccard(dataset.T)\n",
    "# items_neighbors = compute_neighbors(similarities, 100 // 2)\n",
    "# items_neighbors.shape\n",
    "# ratings_hat = compute_r_hat(dataset, similarities, items_neighbors)"
   ]
  },
  {
   "cell_type": "code",
   "execution_count": 20,
   "id": "73efa19d-3883-4c1a-87dd-e5165fbdc401",
   "metadata": {},
   "outputs": [],
   "source": [
    "class Item2Item:    \n",
    "    def __init__(self, neighbors_size=50):\n",
    "        self.neighbors_size = neighbors_size\n",
    "    \n",
    "    def fit(self, dataset):\n",
    "        self.dataset = dataset\n",
    "        self.ratings = dataset.toarray()\n",
    "        \n",
    "        self.similarities = pairwise_jaccard(self.dataset.T)\n",
    "        self.items_neighbors = compute_neighbors(self.similarities, self.neighbors_size)\n",
    "        self.ratings_hat = compute_r_hat(self.dataset, self.similarities, self.items_neighbors)\n",
    "        \n",
    "    def get_top_for_user(self, u, size=100):\n",
    "        return np.argsort(self.ratings_hat[u, self.ratings[u, :] != 1])[::-1][:size]"
   ]
  },
  {
   "cell_type": "code",
   "execution_count": 32,
   "id": "f7392e7b-e749-4bbe-8f31-a29c0abea94e",
   "metadata": {
    "tags": []
   },
   "outputs": [
    {
     "data": {
      "application/vnd.jupyter.widget-view+json": {
       "model_id": "",
       "version_major": 2,
       "version_minor": 0
      },
      "text/plain": [
       "  0%|          | 0/5000 [00:00<?, ?it/s]"
      ]
     },
     "metadata": {},
     "output_type": "display_data"
    }
   ],
   "source": [
    "i2i = Item2Item()\n",
    "i2i.fit(dataset)"
   ]
  },
  {
   "cell_type": "code",
   "execution_count": 33,
   "id": "8642fdbb-52cf-4323-b141-1d3a758ccc38",
   "metadata": {
    "tags": []
   },
   "outputs": [
    {
     "data": {
      "text/plain": [
       "array([4946, 1650, 1643, 1644, 1645, 1646, 1647, 1648, 1649, 1651, 1660,\n",
       "       1652, 1653, 1654, 1655, 1656, 1657, 1658, 1642, 1641, 1640, 1639,\n",
       "       1624, 1625, 1626, 1627, 1628, 1629, 1630, 1631, 1632, 1633, 1634,\n",
       "       1635, 1636, 1637, 1638, 1659, 1661, 1699, 1689, 1682, 1683, 1684,\n",
       "       1685, 1686, 1687, 1688, 1690, 1662, 1691, 1692, 1693, 1694, 1695,\n",
       "       1696, 1697, 1681, 1680, 1679, 1678, 1663, 1664, 1665, 1666, 1667,\n",
       "       1668, 1669, 1670, 1671, 1672, 1673, 1674, 1675, 1676, 1677, 1623,\n",
       "       1622, 1621, 1573, 1566, 1567, 1568, 1569, 1570, 1571, 1572, 1574,\n",
       "       1620, 1575, 1576, 1577, 1578, 1579, 1580, 1581, 1565, 1564, 1563,\n",
       "       1562])"
      ]
     },
     "execution_count": 33,
     "metadata": {},
     "output_type": "execute_result"
    }
   ],
   "source": [
    "i2i.get_top_for_user(0, 100)"
   ]
  },
  {
   "cell_type": "markdown",
   "id": "a24b011c-1a41-4b1f-a93d-6a4108670300",
   "metadata": {
    "tags": []
   },
   "source": [
    "## ALS"
   ]
  },
  {
   "cell_type": "markdown",
   "id": "6fcbaf6e-0821-4a2c-a7cf-5d48ab2ddc5c",
   "metadata": {},
   "source": [
    "Источники:  \n",
    "http://activisiongamescience.github.io/2016/01/11/Implicit-Recommender-Systems-Biased-Matrix-Factorization/#Alternating-Least-Squares  \n",
    "https://academy.yandex.ru/handbook/ml/article/rekomendacii-na-osnove-matrichnyh-razlozhenij"
   ]
  },
  {
   "cell_type": "code",
   "execution_count": 8,
   "id": "c991fd9e-e57c-4bb3-ab7b-237e6857453c",
   "metadata": {},
   "outputs": [
    {
     "data": {
      "application/vnd.jupyter.widget-view+json": {
       "model_id": "d27b1937fac74250b25e791b362becd1",
       "version_major": 2,
       "version_minor": 0
      },
      "text/plain": [
       "  0%|          | 0/9916 [00:00<?, ?it/s]"
      ]
     },
     "metadata": {},
     "output_type": "display_data"
    },
    {
     "name": "stderr",
     "output_type": "stream",
     "text": [
      "/home/zalevskiaa/.local/lib/python3.10/site-packages/scipy/sparse/_index.py:103: SparseEfficiencyWarning: Changing the sparsity structure of a csr_matrix is expensive. lil_matrix is more efficient.\n",
      "  self._set_intXint(row, col, x.flat[0])\n"
     ]
    },
    {
     "data": {
      "text/plain": [
       "<9916x5000 sparse matrix of type '<class 'numpy.int32'>'\n",
       "\twith 735247 stored elements in Compressed Sparse Row format>"
      ]
     },
     "execution_count": 8,
     "metadata": {},
     "output_type": "execute_result"
    }
   ],
   "source": [
    "def add_some_random_dislikes(dataset, max_dislikes=100):\n",
    "    e_dataset = dataset.copy()\n",
    "    for u in trange(dataset.shape[0]):\n",
    "        row = dataset[u, :].toarray()\n",
    "        likes_count = (row == 1).sum()\n",
    "        \n",
    "        dislikes_ind = np.random.choice(np.where(row == 0)[0], size=min(likes_count, max_dislikes), replace=False)\n",
    "        for i in dislikes_ind:\n",
    "            e_dataset[u, i] = -1\n",
    "        \n",
    "    return e_dataset\n",
    "\n",
    "e_dataset = add_some_random_dislikes(dataset, 100)\n",
    "e_dataset"
   ]
  },
  {
   "cell_type": "code",
   "execution_count": 232,
   "id": "55d732e7-13dc-41d5-9aae-4dbe7776b308",
   "metadata": {},
   "outputs": [],
   "source": [
    "def explicit_als(dataset, iterations=10, lambda_val=0.1, S=10):    \n",
    "    N, D = dataset.shape\n",
    "    t_dataset = dataset.T\n",
    "    \n",
    "    X = sp.csr_matrix(np.random.normal(size = (N, S)))\n",
    "    Y = sp.csr_matrix(np.random.normal(size = (D, S)))\n",
    "    \n",
    "    I = sp.eye(S)\n",
    "    lI = lambda_val * I\n",
    "    \n",
    "    for it in trange(iterations, leave=False):        \n",
    "        yTy = Y.T.dot(Y)\n",
    "        xTx = X.T.dot(X)\n",
    "\n",
    "        for u in trange(N, leave=False):\n",
    "            ru = dataset[u].toarray().reshape(-1)\n",
    "            # print(Y.T.shape, ru.shape)\n",
    "            yT_ru = Y.T.dot(ru)\n",
    "            X[u] = spsolve(yTy + lI, yT_ru)\n",
    "            \n",
    "        for i in trange(D, leave=False):\n",
    "            ri = t_dataset[i].toarray().reshape(-1)\n",
    "            # print(X.T.shape, ri.shape)\n",
    "            xT_ri = X.T.dot(ri)\n",
    "            Y[i] = spsolve(xTx + lI, xT_ri)\n",
    "        \n",
    "    return X, Y"
   ]
  },
  {
   "cell_type": "code",
   "execution_count": 10,
   "id": "3bb013bd-0e2e-4a8d-9be1-b12b23592e0e",
   "metadata": {
    "tags": []
   },
   "outputs": [],
   "source": [
    "class ALS:\n",
    "    def __init__(self, iterations=4, lambda_val=0.1, features=20):\n",
    "        self.iterations = iterations\n",
    "        self.lambda_val = lambda_val\n",
    "        self.features = features\n",
    "        \n",
    "    def fit(self, dataset):\n",
    "        self.X, self.Y = explicit_als(dataset, self.iterations, self.lambda_val, self.features)\n",
    "        self.ratings = dataset.toarray()\n",
    "        self.ratings_hat = (self.X @ self.Y.T).toarray()\n",
    "        \n",
    "    def get_top_for_user(self, u, size=100):\n",
    "        return np.argsort(self.ratings_hat[u, self.ratings[u, :] != 1])[::-1][:size]"
   ]
  },
  {
   "cell_type": "code",
   "execution_count": 77,
   "id": "5c8f0ec1-0c18-477a-990b-a0347381190e",
   "metadata": {
    "tags": []
   },
   "outputs": [
    {
     "data": {
      "application/vnd.jupyter.widget-view+json": {
       "model_id": "",
       "version_major": 2,
       "version_minor": 0
      },
      "text/plain": [
       "  0%|          | 0/1 [00:00<?, ?it/s]"
      ]
     },
     "metadata": {},
     "output_type": "display_data"
    },
    {
     "data": {
      "application/vnd.jupyter.widget-view+json": {
       "model_id": "",
       "version_major": 2,
       "version_minor": 0
      },
      "text/plain": [
       "  0%|          | 0/9916 [00:00<?, ?it/s]"
      ]
     },
     "metadata": {},
     "output_type": "display_data"
    },
    {
     "data": {
      "application/vnd.jupyter.widget-view+json": {
       "model_id": "",
       "version_major": 2,
       "version_minor": 0
      },
      "text/plain": [
       "  0%|          | 0/5000 [00:00<?, ?it/s]"
      ]
     },
     "metadata": {},
     "output_type": "display_data"
    }
   ],
   "source": [
    "als = ALS(iterations=1)\n",
    "als.fit(dataset)"
   ]
  },
  {
   "cell_type": "code",
   "execution_count": 78,
   "id": "e7359f84-1526-4906-aa29-7b4f8950a624",
   "metadata": {
    "tags": []
   },
   "outputs": [
    {
     "data": {
      "text/plain": [
       "array([ 158,   75,  132,  202,  443,   20,   43,  186,   83,   50,  142,\n",
       "         32,    2,    8,  628,  618,   35,   64,   51,  294,  575,   66,\n",
       "         70,  115,   36,  336,  271,  201,  174,  257,  234,  544,   98,\n",
       "        568,  624,  235,   76,  421,  610,   18,  477,   46,  716,  341,\n",
       "        258, 1337, 1627,  259,  473,  129,  845,  308,   30,  133,  480,\n",
       "        989,  564,  507, 1333,  130,  654,  906,    3, 2274,   34,  581,\n",
       "       1287,   60,  597,  493, 1104, 1180,  673, 2470, 1332,  714,  276,\n",
       "       1776,  231,  537,  571,  250,  233,  192, 2348, 2567, 1341, 2065,\n",
       "          6,  854,  217,   42,  210,  635,  371,  119,  232,   86,  578,\n",
       "        272])"
      ]
     },
     "execution_count": 78,
     "metadata": {},
     "output_type": "execute_result"
    }
   ],
   "source": [
    "als.get_top_for_user(0)"
   ]
  },
  {
   "cell_type": "code",
   "execution_count": 12,
   "id": "b756f1d4-6661-4c12-97b9-d2e0859ac2ff",
   "metadata": {
    "tags": []
   },
   "outputs": [],
   "source": [
    "# als.ratings_hat"
   ]
  },
  {
   "cell_type": "markdown",
   "id": "66bc747e-0ef5-4996-a47a-b9b903acc2f2",
   "metadata": {
    "tags": []
   },
   "source": [
    "## IALS"
   ]
  },
  {
   "cell_type": "markdown",
   "id": "d3a2b7b9-4845-430e-b1c3-2c83179c20aa",
   "metadata": {},
   "source": [
    "Источники:  \n",
    "http://activisiongamescience.github.io/2016/01/11/Implicit-Recommender-Systems-Biased-Matrix-Factorization/#Implicit-Feedback  \n",
    "https://medium.com/radon-dev/als-implicit-collaborative-filtering-5ed653ba39fe  \n",
    "https://academy.yandex.ru/handbook/ml/article/rekomendacii-na-osnove-matrichnyh-razlozhenij"
   ]
  },
  {
   "cell_type": "code",
   "execution_count": 21,
   "id": "e009d64f-5c76-4eb3-8ab6-9fba2fefa4a8",
   "metadata": {
    "tags": []
   },
   "outputs": [],
   "source": [
    "def compute_f(dataset, X, Y, confidence, lambda_val):\n",
    "    diff = dataset - X.dot(Y.T)\n",
    "    \n",
    "    # print(confidence.shape, diff.shape)\n",
    "    \n",
    "    f = (confidence.toarray() * diff.toarray() ** 2).sum()\n",
    "    f += lambda_val * (np.linalg.norm(X.toarray(), axis=1) ** 2).sum()\n",
    "    f += lambda_val * (np.linalg.norm(Y.toarray(), axis=0) ** 2).sum()\n",
    "    return f\n",
    "\n",
    "def implicit_als(dataset, alpha=40, iterations=10, lambda_val=0.1, S=10):  \n",
    "    \"\"\"\n",
    "    source : https://medium.com/radon-dev/als-implicit-collaborative-filtering-5ed653ba39fe\n",
    "    \"\"\"\n",
    "    \n",
    "    confidence = dataset * alpha\n",
    "    N, D = dataset.shape\n",
    "    \n",
    "    X = sp.csr_matrix(np.random.normal(size = (N, S)))\n",
    "    Y = sp.csr_matrix(np.random.normal(size = (D, S)))\n",
    "    \n",
    "    X_I = sp.eye(N)\n",
    "    Y_I = sp.eye(D)\n",
    "    \n",
    "    I = sp.eye(S)\n",
    "    lI = lambda_val * I\n",
    "    \n",
    "    for it in trange(iterations, leave=False):        \n",
    "        yTy = Y.T.dot(Y)\n",
    "        xTx = X.T.dot(X)\n",
    "\n",
    "        for u in trange(N, leave=False):\n",
    "            u_row = confidence[u, :].toarray() \n",
    "\n",
    "            p_u = u_row.copy()\n",
    "            p_u[p_u != 0] = 1.0\n",
    "\n",
    "            CuI = sp.diags(u_row, [0])\n",
    "            Cu = CuI + Y_I\n",
    "\n",
    "            yT_CuI_y = Y.T.dot(CuI).dot(Y)\n",
    "            yT_Cu_pu = Y.T.dot(Cu).dot(p_u.T)\n",
    "            X[u] = spsolve(yTy + yT_CuI_y + lI, yT_Cu_pu)\n",
    "\n",
    "        for i in trange(D, leave=False):\n",
    "            i_row = confidence[:, i].T.toarray()\n",
    "\n",
    "            p_i = i_row.copy()\n",
    "            p_i[p_i != 0] = 1.0\n",
    "\n",
    "            CiI = sp.diags(i_row, [0])\n",
    "            Ci = CiI + X_I\n",
    "\n",
    "            xT_CiI_x = X.T.dot(CiI).dot(X)\n",
    "            xT_Ci_pi = X.T.dot(Ci).dot(p_i.T)\n",
    "            Y[i] = spsolve(xTx + xT_CiI_x + lI, xT_Ci_pi)\n",
    "        \n",
    "        # f = compute_f(dataset, X, Y, confidence, lambda_val)\n",
    "        # print(f)\n",
    "        \n",
    "    return X, Y"
   ]
  },
  {
   "cell_type": "code",
   "execution_count": 22,
   "id": "702bf1b6-32b1-4afb-86b2-a85885e22db4",
   "metadata": {
    "tags": []
   },
   "outputs": [],
   "source": [
    "class IALS:\n",
    "    def __init__(self, alpha=40, iterations=4, lambda_val=0.1, features=20):\n",
    "        self.alpha = alpha\n",
    "        self.iterations = iterations\n",
    "        self.lambda_val = lambda_val\n",
    "        self.features = features\n",
    "        \n",
    "    def fit(self, dataset):\n",
    "        self.X, self.Y = implicit_als(dataset, self.alpha, self.iterations, self.lambda_val, self.features)\n",
    "        self.ratings = dataset.toarray()\n",
    "        self.ratings_hat = (self.X @ self.Y.T).toarray()\n",
    "        \n",
    "    def get_top_for_user(self, u, size=100):\n",
    "        return np.argsort(self.ratings_hat[u, self.ratings[u, :] != 1])[::-1][:size]"
   ]
  },
  {
   "cell_type": "code",
   "execution_count": 79,
   "id": "348ac657-e666-4948-b837-e78658210139",
   "metadata": {
    "tags": []
   },
   "outputs": [
    {
     "data": {
      "application/vnd.jupyter.widget-view+json": {
       "model_id": "",
       "version_major": 2,
       "version_minor": 0
      },
      "text/plain": [
       "  0%|          | 0/1 [00:00<?, ?it/s]"
      ]
     },
     "metadata": {},
     "output_type": "display_data"
    },
    {
     "data": {
      "application/vnd.jupyter.widget-view+json": {
       "model_id": "",
       "version_major": 2,
       "version_minor": 0
      },
      "text/plain": [
       "  0%|          | 0/9916 [00:00<?, ?it/s]"
      ]
     },
     "metadata": {},
     "output_type": "display_data"
    },
    {
     "data": {
      "application/vnd.jupyter.widget-view+json": {
       "model_id": "",
       "version_major": 2,
       "version_minor": 0
      },
      "text/plain": [
       "  0%|          | 0/5000 [00:00<?, ?it/s]"
      ]
     },
     "metadata": {},
     "output_type": "display_data"
    }
   ],
   "source": [
    "ials = IALS(iterations=1)\n",
    "ials.fit(dataset)"
   ]
  },
  {
   "cell_type": "code",
   "execution_count": 80,
   "id": "615da9ca-3ccb-4ba1-ac27-17b386f82ef2",
   "metadata": {
    "tags": []
   },
   "outputs": [
    {
     "data": {
      "text/plain": [
       "array([ 15,   7,  10, 101,  32,  54,  41,  20,  13,   8,  29,  50,  95,\n",
       "         1,  17,  19,  11,  53, 149,  72,   4,  52, 111,  67,  38, 118,\n",
       "        82,  49,  45, 114,  48, 157,  62,  76, 127,  89,  80, 116,  33,\n",
       "        93, 237,  66,  44, 148, 193, 190, 138, 163, 274, 112, 139,  90,\n",
       "        39, 196, 151, 185,  79, 170, 150,  73, 173, 200,  34, 168, 134,\n",
       "       368, 357, 204,  12, 129, 342, 100, 205, 132, 445,  42, 456, 289,\n",
       "       249, 345, 321, 229, 104, 102,  96, 405, 135, 427, 123,  22,  31,\n",
       "       156,  84, 142, 337,  35, 136, 359, 275, 221])"
      ]
     },
     "execution_count": 80,
     "metadata": {},
     "output_type": "execute_result"
    }
   ],
   "source": [
    "ials.get_top_for_user(0)"
   ]
  },
  {
   "cell_type": "markdown",
   "id": "332eb4b5-4e13-46ba-84ab-44bb9632f31e",
   "metadata": {},
   "source": [
    "# 2. MRR@100"
   ]
  },
  {
   "cell_type": "markdown",
   "id": "ae34e824-462b-472c-bfda-9a89816b852d",
   "metadata": {},
   "source": [
    "Делал так:  \n",
    "- Модифицируется датасет: для выбранных (1/5) пользователей убирается по отдому случайному лайку\n",
    "- На модифицированном датасете обучается модель, для выбранных пользователей рекомендуется топ 100 айтемов\n",
    "- Собираются позиции выбранных случайных лайков в топах-100, считается среднее значение 1 / (1 + p) \n",
    "\n",
    "mrr-ы получились на порядок ниже, чем у ребят в чате, мб потому что я по-другому их считал, либо недостаточно потюнил параметры. Не бейте сильно пожалуйста"
   ]
  },
  {
   "cell_type": "code",
   "execution_count": 23,
   "id": "fbaf668a-1d8d-4dcc-9279-371c5bd9cd21",
   "metadata": {},
   "outputs": [],
   "source": [
    "def choose_random_items(ratings, test_users):\n",
    "    chosen_items = []\n",
    "    for row in ratings[test_users, :]:\n",
    "        likes_indices = np.where(row == 1)[0]\n",
    "        if likes_indices.shape[0] > 0:\n",
    "            chosen_items.append(np.random.choice(likes_indices))\n",
    "        else:\n",
    "            chosen_items.append(-1)\n",
    "    return np.array(chosen_items)\n",
    "\n",
    "\n",
    "def remove_chosen_items(ratings, test_users, chosen_items):\n",
    "    modified_ratings = ratings.copy()\n",
    "    \n",
    "    for u, i in zip(test_users, chosen_items):\n",
    "        if i == -1:\n",
    "            continue\n",
    "            \n",
    "        assert modified_ratings[u, i] == 1\n",
    "        modified_ratings[u, i] = 0\n",
    "    \n",
    "    return modified_ratings\n",
    "\n",
    "\n",
    "def compute_mrr(dataset, model):\n",
    "    # print(type(dataset))\n",
    "    \n",
    "    ratings = dataset.toarray()\n",
    "    N, D = ratings.shape\n",
    "    \n",
    "    test_users = np.arange(N - N // 5, N)\n",
    "    chosen_items = choose_random_items(ratings, test_users)\n",
    "    # print(chosen_items.dtype)\n",
    "    \n",
    "    modified_ratings = remove_chosen_items(ratings, test_users, chosen_items) # to sparse\n",
    "    modified_dataset = sp.csr_matrix(modified_ratings)\n",
    "    # print(modified_dataset.dtype)\n",
    "    \n",
    "    model.fit(modified_dataset)\n",
    "    # model.fit(dataset)\n",
    "    \n",
    "    mrrs = []\n",
    "    for u, i in tqdm(zip(test_users, chosen_items), total=test_users.shape[0], leave=False):\n",
    "        top = model.get_top_for_user(u)\n",
    "        \n",
    "        pos = np.where(top == i)[0] # array\n",
    "        mrr = 1 / (pos[0] + 1) if pos.shape[0] > 0 else 0\n",
    "        mrrs.append(mrr)\n",
    "    mrrs = np.array(mrrs)    \n",
    "    \n",
    "    return mrrs.mean()"
   ]
  },
  {
   "cell_type": "code",
   "execution_count": 24,
   "id": "5bec6f23-4e14-4fdd-a179-71833dba2e04",
   "metadata": {
    "tags": []
   },
   "outputs": [
    {
     "data": {
      "application/vnd.jupyter.widget-view+json": {
       "model_id": "",
       "version_major": 2,
       "version_minor": 0
      },
      "text/plain": [
       "  0%|          | 0/5000 [00:00<?, ?it/s]"
      ]
     },
     "metadata": {},
     "output_type": "display_data"
    },
    {
     "data": {
      "application/vnd.jupyter.widget-view+json": {
       "model_id": "",
       "version_major": 2,
       "version_minor": 0
      },
      "text/plain": [
       "  0%|          | 0/1983 [00:00<?, ?it/s]"
      ]
     },
     "metadata": {},
     "output_type": "display_data"
    },
    {
     "data": {
      "text/plain": [
       "0.0010326685836356709"
      ]
     },
     "execution_count": 24,
     "metadata": {},
     "output_type": "execute_result"
    }
   ],
   "source": [
    "compute_mrr(dataset, Item2Item(neighbors_size=100))"
   ]
  },
  {
   "cell_type": "code",
   "execution_count": 25,
   "id": "37c19b5a-0761-4bc8-a160-b77f6fb0135f",
   "metadata": {
    "tags": []
   },
   "outputs": [
    {
     "data": {
      "application/vnd.jupyter.widget-view+json": {
       "model_id": "",
       "version_major": 2,
       "version_minor": 0
      },
      "text/plain": [
       "  0%|          | 0/1 [00:00<?, ?it/s]"
      ]
     },
     "metadata": {},
     "output_type": "display_data"
    },
    {
     "data": {
      "application/vnd.jupyter.widget-view+json": {
       "model_id": "",
       "version_major": 2,
       "version_minor": 0
      },
      "text/plain": [
       "  0%|          | 0/9916 [00:00<?, ?it/s]"
      ]
     },
     "metadata": {},
     "output_type": "display_data"
    },
    {
     "data": {
      "application/vnd.jupyter.widget-view+json": {
       "model_id": "",
       "version_major": 2,
       "version_minor": 0
      },
      "text/plain": [
       "  0%|          | 0/5000 [00:00<?, ?it/s]"
      ]
     },
     "metadata": {},
     "output_type": "display_data"
    },
    {
     "data": {
      "application/vnd.jupyter.widget-view+json": {
       "model_id": "",
       "version_major": 2,
       "version_minor": 0
      },
      "text/plain": [
       "  0%|          | 0/1983 [00:00<?, ?it/s]"
      ]
     },
     "metadata": {},
     "output_type": "display_data"
    },
    {
     "data": {
      "text/plain": [
       "0.005099959289752171"
      ]
     },
     "execution_count": 25,
     "metadata": {},
     "output_type": "execute_result"
    }
   ],
   "source": [
    "compute_mrr(e_dataset, ALS(iterations=1))"
   ]
  },
  {
   "cell_type": "code",
   "execution_count": 26,
   "id": "b54421a2-ac15-41a0-a3c6-8a499e793691",
   "metadata": {},
   "outputs": [
    {
     "data": {
      "application/vnd.jupyter.widget-view+json": {
       "model_id": "",
       "version_major": 2,
       "version_minor": 0
      },
      "text/plain": [
       "  0%|          | 0/1 [00:00<?, ?it/s]"
      ]
     },
     "metadata": {},
     "output_type": "display_data"
    },
    {
     "data": {
      "application/vnd.jupyter.widget-view+json": {
       "model_id": "",
       "version_major": 2,
       "version_minor": 0
      },
      "text/plain": [
       "  0%|          | 0/9916 [00:00<?, ?it/s]"
      ]
     },
     "metadata": {},
     "output_type": "display_data"
    },
    {
     "data": {
      "application/vnd.jupyter.widget-view+json": {
       "model_id": "",
       "version_major": 2,
       "version_minor": 0
      },
      "text/plain": [
       "  0%|          | 0/5000 [00:00<?, ?it/s]"
      ]
     },
     "metadata": {},
     "output_type": "display_data"
    },
    {
     "data": {
      "application/vnd.jupyter.widget-view+json": {
       "model_id": "",
       "version_major": 2,
       "version_minor": 0
      },
      "text/plain": [
       "  0%|          | 0/1983 [00:00<?, ?it/s]"
      ]
     },
     "metadata": {},
     "output_type": "display_data"
    },
    {
     "data": {
      "text/plain": [
       "0.0062626160237228305"
      ]
     },
     "execution_count": 26,
     "metadata": {},
     "output_type": "execute_result"
    }
   ],
   "source": [
    "compute_mrr(dataset, IALS(iterations=1))"
   ]
  },
  {
   "cell_type": "markdown",
   "id": "f66f63c7-da40-419a-85af-3a295808e7d9",
   "metadata": {},
   "source": [
    "# 3. Максимизация MRR@100"
   ]
  },
  {
   "cell_type": "code",
   "execution_count": 76,
   "id": "52ccaa4b-b26a-4915-af56-d68ec4fcdb21",
   "metadata": {
    "tags": []
   },
   "outputs": [],
   "source": [
    "def run_i2i():\n",
    "    for ns in [10, 30, 50, 100, 200, 500, 1000]:\n",
    "        mrr = compute_mrr(dataset, Item2Item(neighbors_size=ns))\n",
    "        print(ns, mrr)\n",
    "\n",
    "def run_als():\n",
    "    for S in [10, 20, 30]:\n",
    "        for lam in [0.001, 0.1, 1]:\n",
    "            mrr = compute_mrr(e_dataset, ALS(iterations=6, lambda_val=lam, features=S))\n",
    "            print(S, lam, mrr)\n",
    "            \n",
    "def run_ials():\n",
    "    for S in [20, 30, 40]:\n",
    "        for lam in [0.1, 1]:\n",
    "            mrr = compute_mrr(dataset, IALS(iterations=6, lambda_val=lam, features=S))\n",
    "            print(S, lam, mrr)"
   ]
  },
  {
   "cell_type": "code",
   "execution_count": 77,
   "id": "574dbc0f-e24e-4f13-aab8-8cd7cf5a4d2e",
   "metadata": {
    "tags": []
   },
   "outputs": [],
   "source": [
    "# run_i2i()"
   ]
  },
  {
   "cell_type": "code",
   "execution_count": 78,
   "id": "da8aa8f0-3da9-43ec-9cc2-2edb4c2adea4",
   "metadata": {
    "tags": []
   },
   "outputs": [],
   "source": [
    "# run_als()"
   ]
  },
  {
   "cell_type": "code",
   "execution_count": 79,
   "id": "dd3b4ab0-b081-4313-b93d-5c576ad31c3c",
   "metadata": {
    "tags": []
   },
   "outputs": [],
   "source": [
    "# run_ials()"
   ]
  },
  {
   "cell_type": "markdown",
   "id": "e66d2904-6d4c-4a1f-92f4-ab9be5b743f0",
   "metadata": {},
   "source": [
    "Перебирал параметры. Получил вот такие результаты:"
   ]
  },
  {
   "cell_type": "code",
   "execution_count": 30,
   "id": "bb7297c8-c060-4086-876d-6b24ee78f4da",
   "metadata": {
    "tags": []
   },
   "outputs": [
    {
     "name": "stdout",
     "output_type": "stream",
     "text": [
      "item-2-item\n"
     ]
    },
    {
     "data": {
      "text/html": [
       "<div>\n",
       "<style scoped>\n",
       "    .dataframe tbody tr th:only-of-type {\n",
       "        vertical-align: middle;\n",
       "    }\n",
       "\n",
       "    .dataframe tbody tr th {\n",
       "        vertical-align: top;\n",
       "    }\n",
       "\n",
       "    .dataframe thead th {\n",
       "        text-align: right;\n",
       "    }\n",
       "</style>\n",
       "<table border=\"1\" class=\"dataframe\">\n",
       "  <thead>\n",
       "    <tr style=\"text-align: right;\">\n",
       "      <th></th>\n",
       "      <th>neighbors_size</th>\n",
       "      <th>MRR@100</th>\n",
       "    </tr>\n",
       "  </thead>\n",
       "  <tbody>\n",
       "    <tr>\n",
       "      <th>0</th>\n",
       "      <td>10</td>\n",
       "      <td>0.000770</td>\n",
       "    </tr>\n",
       "    <tr>\n",
       "      <th>1</th>\n",
       "      <td>30</td>\n",
       "      <td>0.000534</td>\n",
       "    </tr>\n",
       "    <tr>\n",
       "      <th>2</th>\n",
       "      <td>50</td>\n",
       "      <td>0.000860</td>\n",
       "    </tr>\n",
       "    <tr>\n",
       "      <th>3</th>\n",
       "      <td>100</td>\n",
       "      <td>0.001020</td>\n",
       "    </tr>\n",
       "    <tr>\n",
       "      <th>4</th>\n",
       "      <td>200</td>\n",
       "      <td>0.001590</td>\n",
       "    </tr>\n",
       "    <tr>\n",
       "      <th>5</th>\n",
       "      <td>500</td>\n",
       "      <td>0.001380</td>\n",
       "    </tr>\n",
       "    <tr>\n",
       "      <th>6</th>\n",
       "      <td>1000</td>\n",
       "      <td>0.000670</td>\n",
       "    </tr>\n",
       "  </tbody>\n",
       "</table>\n",
       "</div>"
      ],
      "text/plain": [
       "   neighbors_size   MRR@100\n",
       "0              10  0.000770\n",
       "1              30  0.000534\n",
       "2              50  0.000860\n",
       "3             100  0.001020\n",
       "4             200  0.001590\n",
       "5             500  0.001380\n",
       "6            1000  0.000670"
      ]
     },
     "execution_count": 30,
     "metadata": {},
     "output_type": "execute_result"
    }
   ],
   "source": [
    "import pandas as pd\n",
    "\n",
    "print('item-2-item')\n",
    "pd.DataFrame({'neighbors_size': [10, 30, 50, 100, 200, 500, 1000], 'MRR@100': [0.00077, 0.000534, 0.00086, 0.00102, 0.00159, 0.00138, 0.00067]})"
   ]
  },
  {
   "cell_type": "code",
   "execution_count": 27,
   "id": "eb9d9992-9b64-40c0-bdf5-24464874f6b7",
   "metadata": {
    "tags": []
   },
   "outputs": [
    {
     "name": "stdout",
     "output_type": "stream",
     "text": [
      "ALS\n"
     ]
    },
    {
     "data": {
      "text/html": [
       "<div>\n",
       "<style scoped>\n",
       "    .dataframe tbody tr th:only-of-type {\n",
       "        vertical-align: middle;\n",
       "    }\n",
       "\n",
       "    .dataframe tbody tr th {\n",
       "        vertical-align: top;\n",
       "    }\n",
       "\n",
       "    .dataframe thead th {\n",
       "        text-align: right;\n",
       "    }\n",
       "</style>\n",
       "<table border=\"1\" class=\"dataframe\">\n",
       "  <thead>\n",
       "    <tr style=\"text-align: right;\">\n",
       "      <th></th>\n",
       "      <th>features</th>\n",
       "      <th>lambda</th>\n",
       "      <th>MRR@100</th>\n",
       "    </tr>\n",
       "  </thead>\n",
       "  <tbody>\n",
       "    <tr>\n",
       "      <th>0</th>\n",
       "      <td>10</td>\n",
       "      <td>0.01</td>\n",
       "      <td>0.00460</td>\n",
       "    </tr>\n",
       "    <tr>\n",
       "      <th>1</th>\n",
       "      <td>10</td>\n",
       "      <td>0.10</td>\n",
       "      <td>0.00480</td>\n",
       "    </tr>\n",
       "    <tr>\n",
       "      <th>2</th>\n",
       "      <td>10</td>\n",
       "      <td>1.00</td>\n",
       "      <td>0.00680</td>\n",
       "    </tr>\n",
       "    <tr>\n",
       "      <th>3</th>\n",
       "      <td>20</td>\n",
       "      <td>0.01</td>\n",
       "      <td>0.00530</td>\n",
       "    </tr>\n",
       "    <tr>\n",
       "      <th>4</th>\n",
       "      <td>20</td>\n",
       "      <td>0.10</td>\n",
       "      <td>0.00705</td>\n",
       "    </tr>\n",
       "    <tr>\n",
       "      <th>5</th>\n",
       "      <td>20</td>\n",
       "      <td>1.00</td>\n",
       "      <td>0.00950</td>\n",
       "    </tr>\n",
       "    <tr>\n",
       "      <th>6</th>\n",
       "      <td>30</td>\n",
       "      <td>0.01</td>\n",
       "      <td>0.00440</td>\n",
       "    </tr>\n",
       "    <tr>\n",
       "      <th>7</th>\n",
       "      <td>30</td>\n",
       "      <td>0.10</td>\n",
       "      <td>0.00390</td>\n",
       "    </tr>\n",
       "    <tr>\n",
       "      <th>8</th>\n",
       "      <td>30</td>\n",
       "      <td>1.00</td>\n",
       "      <td>0.00900</td>\n",
       "    </tr>\n",
       "  </tbody>\n",
       "</table>\n",
       "</div>"
      ],
      "text/plain": [
       "   features  lambda  MRR@100\n",
       "0        10    0.01  0.00460\n",
       "1        10    0.10  0.00480\n",
       "2        10    1.00  0.00680\n",
       "3        20    0.01  0.00530\n",
       "4        20    0.10  0.00705\n",
       "5        20    1.00  0.00950\n",
       "6        30    0.01  0.00440\n",
       "7        30    0.10  0.00390\n",
       "8        30    1.00  0.00900"
      ]
     },
     "execution_count": 27,
     "metadata": {},
     "output_type": "execute_result"
    }
   ],
   "source": [
    "print('ALS')\n",
    "pd.DataFrame({\n",
    "    'features': [10, 10, 10, 20, 20, 20, 30, 30, 30], \n",
    "    'lambda': [0.01, 0.1, 1, 0.01, 0.1, 1, 0.01, 0.1, 1], \n",
    "    'MRR@100': [0.0046, 0.0048, 0.0068, 0.0053, 0.00705, 0.0095, 0.0044, 0.0039, 0.009]})"
   ]
  },
  {
   "cell_type": "code",
   "execution_count": 28,
   "id": "f14a1cd5-3e51-453b-9e44-645de8ab6fc4",
   "metadata": {
    "tags": []
   },
   "outputs": [
    {
     "name": "stdout",
     "output_type": "stream",
     "text": [
      "IALS\n"
     ]
    },
    {
     "data": {
      "text/html": [
       "<div>\n",
       "<style scoped>\n",
       "    .dataframe tbody tr th:only-of-type {\n",
       "        vertical-align: middle;\n",
       "    }\n",
       "\n",
       "    .dataframe tbody tr th {\n",
       "        vertical-align: top;\n",
       "    }\n",
       "\n",
       "    .dataframe thead th {\n",
       "        text-align: right;\n",
       "    }\n",
       "</style>\n",
       "<table border=\"1\" class=\"dataframe\">\n",
       "  <thead>\n",
       "    <tr style=\"text-align: right;\">\n",
       "      <th></th>\n",
       "      <th>features</th>\n",
       "      <th>lambda</th>\n",
       "      <th>MRR@100</th>\n",
       "    </tr>\n",
       "  </thead>\n",
       "  <tbody>\n",
       "    <tr>\n",
       "      <th>0</th>\n",
       "      <td>20</td>\n",
       "      <td>0.1</td>\n",
       "      <td>0.0052</td>\n",
       "    </tr>\n",
       "    <tr>\n",
       "      <th>1</th>\n",
       "      <td>20</td>\n",
       "      <td>1.0</td>\n",
       "      <td>0.0057</td>\n",
       "    </tr>\n",
       "    <tr>\n",
       "      <th>2</th>\n",
       "      <td>30</td>\n",
       "      <td>0.1</td>\n",
       "      <td>0.0069</td>\n",
       "    </tr>\n",
       "    <tr>\n",
       "      <th>3</th>\n",
       "      <td>30</td>\n",
       "      <td>1.0</td>\n",
       "      <td>0.0051</td>\n",
       "    </tr>\n",
       "    <tr>\n",
       "      <th>4</th>\n",
       "      <td>40</td>\n",
       "      <td>0.1</td>\n",
       "      <td>0.0059</td>\n",
       "    </tr>\n",
       "    <tr>\n",
       "      <th>5</th>\n",
       "      <td>40</td>\n",
       "      <td>1.0</td>\n",
       "      <td>0.0053</td>\n",
       "    </tr>\n",
       "  </tbody>\n",
       "</table>\n",
       "</div>"
      ],
      "text/plain": [
       "   features  lambda  MRR@100\n",
       "0        20     0.1   0.0052\n",
       "1        20     1.0   0.0057\n",
       "2        30     0.1   0.0069\n",
       "3        30     1.0   0.0051\n",
       "4        40     0.1   0.0059\n",
       "5        40     1.0   0.0053"
      ]
     },
     "execution_count": 28,
     "metadata": {},
     "output_type": "execute_result"
    }
   ],
   "source": [
    "print('IALS')\n",
    "pd.DataFrame({\n",
    "    'features': [20, 20, 30, 30, 40, 40], \n",
    "    'lambda': [0.1, 1, 0.1, 1, 0.1, 1], \n",
    "    'MRR@100': [0.0052, 0.0057, 0.0069, 0.0051, 0.0059, 0.0053]})"
   ]
  },
  {
   "cell_type": "code",
   "execution_count": 29,
   "id": "d4f8dc4e-0df4-49b2-a488-3af374b719fd",
   "metadata": {
    "tags": []
   },
   "outputs": [
    {
     "name": "stdout",
     "output_type": "stream",
     "text": [
      "Best parameters\n"
     ]
    },
    {
     "data": {
      "text/html": [
       "<div>\n",
       "<style scoped>\n",
       "    .dataframe tbody tr th:only-of-type {\n",
       "        vertical-align: middle;\n",
       "    }\n",
       "\n",
       "    .dataframe tbody tr th {\n",
       "        vertical-align: top;\n",
       "    }\n",
       "\n",
       "    .dataframe thead th {\n",
       "        text-align: right;\n",
       "    }\n",
       "</style>\n",
       "<table border=\"1\" class=\"dataframe\">\n",
       "  <thead>\n",
       "    <tr style=\"text-align: right;\">\n",
       "      <th></th>\n",
       "      <th>model</th>\n",
       "      <th>MRR@100</th>\n",
       "      <th>neighbors_size</th>\n",
       "      <th>features</th>\n",
       "      <th>lambda</th>\n",
       "    </tr>\n",
       "  </thead>\n",
       "  <tbody>\n",
       "    <tr>\n",
       "      <th>1</th>\n",
       "      <td>ALS</td>\n",
       "      <td>0.00950</td>\n",
       "      <td>&lt;NA&gt;</td>\n",
       "      <td>20</td>\n",
       "      <td>1</td>\n",
       "    </tr>\n",
       "    <tr>\n",
       "      <th>2</th>\n",
       "      <td>IALS</td>\n",
       "      <td>0.00690</td>\n",
       "      <td>&lt;NA&gt;</td>\n",
       "      <td>30</td>\n",
       "      <td>0.1</td>\n",
       "    </tr>\n",
       "    <tr>\n",
       "      <th>0</th>\n",
       "      <td>item-2-item</td>\n",
       "      <td>0.00159</td>\n",
       "      <td>200</td>\n",
       "      <td>&lt;NA&gt;</td>\n",
       "      <td>&lt;NA&gt;</td>\n",
       "    </tr>\n",
       "  </tbody>\n",
       "</table>\n",
       "</div>"
      ],
      "text/plain": [
       "         model  MRR@100 neighbors_size features lambda\n",
       "1          ALS  0.00950           <NA>       20      1\n",
       "2         IALS  0.00690           <NA>       30    0.1\n",
       "0  item-2-item  0.00159            200     <NA>   <NA>"
      ]
     },
     "execution_count": 29,
     "metadata": {},
     "output_type": "execute_result"
    }
   ],
   "source": [
    "print('Best parameters')\n",
    "pd.DataFrame({\n",
    "    'model': ['item-2-item', 'ALS', 'IALS'],\n",
    "    'MRR@100': [0.001590, 0.00950, 0.0069],\n",
    "    'neighbors_size': [200, pd.NA, pd.NA], \n",
    "    'features': [pd.NA, 20, 30],\n",
    "    'lambda': [pd.NA, 1, 0.1], \n",
    "}).sort_values('MRR@100', ascending=False)"
   ]
  },
  {
   "cell_type": "markdown",
   "id": "098aea98-12f5-44cc-917f-f96365f79624",
   "metadata": {},
   "source": [
    "# 4. Сравнение похожестей айтемов для item2item, ALS, IALS"
   ]
  },
  {
   "cell_type": "markdown",
   "id": "8dd8b059-81ba-4d61-84dc-55ba3bc1cfed",
   "metadata": {},
   "source": [
    "Сравним топы похожих для одного айтема у разных моделей - в каждой паре топов посчитаем количество общих айтемов"
   ]
  },
  {
   "cell_type": "code",
   "execution_count": 38,
   "id": "6ab656ac-5172-4089-8d9c-dfc45ce57590",
   "metadata": {
    "tags": []
   },
   "outputs": [
    {
     "data": {
      "application/vnd.jupyter.widget-view+json": {
       "model_id": "",
       "version_major": 2,
       "version_minor": 0
      },
      "text/plain": [
       "  0%|          | 0/5000 [00:00<?, ?it/s]"
      ]
     },
     "metadata": {},
     "output_type": "display_data"
    },
    {
     "data": {
      "application/vnd.jupyter.widget-view+json": {
       "model_id": "",
       "version_major": 2,
       "version_minor": 0
      },
      "text/plain": [
       "  0%|          | 0/4 [00:00<?, ?it/s]"
      ]
     },
     "metadata": {},
     "output_type": "display_data"
    },
    {
     "data": {
      "application/vnd.jupyter.widget-view+json": {
       "model_id": "",
       "version_major": 2,
       "version_minor": 0
      },
      "text/plain": [
       "  0%|          | 0/9916 [00:00<?, ?it/s]"
      ]
     },
     "metadata": {},
     "output_type": "display_data"
    },
    {
     "data": {
      "application/vnd.jupyter.widget-view+json": {
       "model_id": "",
       "version_major": 2,
       "version_minor": 0
      },
      "text/plain": [
       "  0%|          | 0/5000 [00:00<?, ?it/s]"
      ]
     },
     "metadata": {},
     "output_type": "display_data"
    },
    {
     "data": {
      "application/vnd.jupyter.widget-view+json": {
       "model_id": "",
       "version_major": 2,
       "version_minor": 0
      },
      "text/plain": [
       "  0%|          | 0/9916 [00:00<?, ?it/s]"
      ]
     },
     "metadata": {},
     "output_type": "display_data"
    },
    {
     "data": {
      "application/vnd.jupyter.widget-view+json": {
       "model_id": "",
       "version_major": 2,
       "version_minor": 0
      },
      "text/plain": [
       "  0%|          | 0/5000 [00:00<?, ?it/s]"
      ]
     },
     "metadata": {},
     "output_type": "display_data"
    },
    {
     "data": {
      "application/vnd.jupyter.widget-view+json": {
       "model_id": "",
       "version_major": 2,
       "version_minor": 0
      },
      "text/plain": [
       "  0%|          | 0/9916 [00:00<?, ?it/s]"
      ]
     },
     "metadata": {},
     "output_type": "display_data"
    },
    {
     "data": {
      "application/vnd.jupyter.widget-view+json": {
       "model_id": "",
       "version_major": 2,
       "version_minor": 0
      },
      "text/plain": [
       "  0%|          | 0/5000 [00:00<?, ?it/s]"
      ]
     },
     "metadata": {},
     "output_type": "display_data"
    },
    {
     "data": {
      "application/vnd.jupyter.widget-view+json": {
       "model_id": "",
       "version_major": 2,
       "version_minor": 0
      },
      "text/plain": [
       "  0%|          | 0/9916 [00:00<?, ?it/s]"
      ]
     },
     "metadata": {},
     "output_type": "display_data"
    },
    {
     "data": {
      "application/vnd.jupyter.widget-view+json": {
       "model_id": "",
       "version_major": 2,
       "version_minor": 0
      },
      "text/plain": [
       "  0%|          | 0/5000 [00:00<?, ?it/s]"
      ]
     },
     "metadata": {},
     "output_type": "display_data"
    },
    {
     "data": {
      "application/vnd.jupyter.widget-view+json": {
       "model_id": "",
       "version_major": 2,
       "version_minor": 0
      },
      "text/plain": [
       "  0%|          | 0/4 [00:00<?, ?it/s]"
      ]
     },
     "metadata": {},
     "output_type": "display_data"
    },
    {
     "data": {
      "application/vnd.jupyter.widget-view+json": {
       "model_id": "",
       "version_major": 2,
       "version_minor": 0
      },
      "text/plain": [
       "  0%|          | 0/9916 [00:00<?, ?it/s]"
      ]
     },
     "metadata": {},
     "output_type": "display_data"
    },
    {
     "data": {
      "application/vnd.jupyter.widget-view+json": {
       "model_id": "",
       "version_major": 2,
       "version_minor": 0
      },
      "text/plain": [
       "  0%|          | 0/5000 [00:00<?, ?it/s]"
      ]
     },
     "metadata": {},
     "output_type": "display_data"
    },
    {
     "data": {
      "application/vnd.jupyter.widget-view+json": {
       "model_id": "",
       "version_major": 2,
       "version_minor": 0
      },
      "text/plain": [
       "  0%|          | 0/9916 [00:00<?, ?it/s]"
      ]
     },
     "metadata": {},
     "output_type": "display_data"
    },
    {
     "data": {
      "application/vnd.jupyter.widget-view+json": {
       "model_id": "",
       "version_major": 2,
       "version_minor": 0
      },
      "text/plain": [
       "  0%|          | 0/5000 [00:00<?, ?it/s]"
      ]
     },
     "metadata": {},
     "output_type": "display_data"
    },
    {
     "data": {
      "application/vnd.jupyter.widget-view+json": {
       "model_id": "",
       "version_major": 2,
       "version_minor": 0
      },
      "text/plain": [
       "  0%|          | 0/9916 [00:00<?, ?it/s]"
      ]
     },
     "metadata": {},
     "output_type": "display_data"
    },
    {
     "data": {
      "application/vnd.jupyter.widget-view+json": {
       "model_id": "",
       "version_major": 2,
       "version_minor": 0
      },
      "text/plain": [
       "  0%|          | 0/5000 [00:00<?, ?it/s]"
      ]
     },
     "metadata": {},
     "output_type": "display_data"
    },
    {
     "data": {
      "application/vnd.jupyter.widget-view+json": {
       "model_id": "",
       "version_major": 2,
       "version_minor": 0
      },
      "text/plain": [
       "  0%|          | 0/9916 [00:00<?, ?it/s]"
      ]
     },
     "metadata": {},
     "output_type": "display_data"
    },
    {
     "data": {
      "application/vnd.jupyter.widget-view+json": {
       "model_id": "",
       "version_major": 2,
       "version_minor": 0
      },
      "text/plain": [
       "  0%|          | 0/5000 [00:00<?, ?it/s]"
      ]
     },
     "metadata": {},
     "output_type": "display_data"
    }
   ],
   "source": [
    "i2i = Item2Item(neighbors_size=200)\n",
    "i2i.fit(dataset)\n",
    "\n",
    "als = ALS(features=20, lambda_val=1)\n",
    "als.fit(e_dataset)\n",
    "\n",
    "ials = IALS(features=30, lambda_val=0.1)\n",
    "ials.fit(dataset)"
   ]
  },
  {
   "cell_type": "code",
   "execution_count": 219,
   "id": "7c50c9fc-7aed-4220-814a-32d0522b0572",
   "metadata": {
    "tags": []
   },
   "outputs": [],
   "source": [
    "def compare_similar_items_tops(item, top_size=100):\n",
    "    i2i_neighbors = i2i.items_neighbors[item][:top_size]\n",
    "    # i2i.similarities[item, i2i.items_neighbors[item]][:top_size]\n",
    "    \n",
    "    als_similarities = als.Y.dot(als.Y.T)[item, :].toarray().reshape(-1)\n",
    "    als_neighbors = np.argsort(als_similarities)[::-1][:top_size]\n",
    "    \n",
    "    ials_similarities = ials.Y.dot(ials.Y.T)[item, :].toarray().reshape(-1)\n",
    "    ials_neighbors = np.argsort(ials_similarities)[::-1][:top_size]\n",
    "    \n",
    "    print('item', item, 'top_size', top_size)\n",
    "    print('i2i - als ', np.intersect1d(i2i_neighbors, als_neighbors).size)\n",
    "    print('i2i - ials ', np.intersect1d(i2i_neighbors, ials_neighbors).size)\n",
    "    print('als - ials ', np.intersect1d(als_neighbors, ials_neighbors).size)\n",
    "    print()"
   ]
  },
  {
   "cell_type": "code",
   "execution_count": 217,
   "id": "d479ff90-8a70-4b0e-a70c-1eafbafc477a",
   "metadata": {
    "tags": []
   },
   "outputs": [
    {
     "name": "stdout",
     "output_type": "stream",
     "text": [
      "item 0 top_size 200\n",
      "i2i - als  134\n",
      "i2i - ials  128\n",
      "als - ials  167\n",
      "\n",
      "item 705 top_size 200\n",
      "i2i - als  61\n",
      "i2i - ials  56\n",
      "als - ials  158\n",
      "\n",
      "item 2001 top_size 200\n",
      "i2i - als  6\n",
      "i2i - ials  4\n",
      "als - ials  167\n",
      "\n",
      "item 3006 top_size 200\n",
      "i2i - als  5\n",
      "i2i - ials  6\n",
      "als - ials  147\n",
      "\n",
      "item 1984 top_size 200\n",
      "i2i - als  13\n",
      "i2i - ials  13\n",
      "als - ials  167\n",
      "\n"
     ]
    }
   ],
   "source": [
    "compare_similar_items_tops(0, 200)\n",
    "compare_similar_items_tops(705, 200)\n",
    "compare_similar_items_tops(2001, 200)\n",
    "compare_similar_items_tops(3006, 200)\n",
    "compare_similar_items_tops(1984, 200)"
   ]
  },
  {
   "cell_type": "code",
   "execution_count": 218,
   "id": "ca676db6-740f-47b2-8e74-ea4482495370",
   "metadata": {
    "tags": []
   },
   "outputs": [
    {
     "name": "stdout",
     "output_type": "stream",
     "text": [
      "item 0 top_size 500\n",
      "i2i - als  189\n",
      "i2i - ials  187\n",
      "als - ials  424\n",
      "\n",
      "item 705 top_size 500\n",
      "i2i - als  100\n",
      "i2i - ials  92\n",
      "als - ials  394\n",
      "\n",
      "item 2001 top_size 500\n",
      "i2i - als  12\n",
      "i2i - ials  16\n",
      "als - ials  395\n",
      "\n",
      "item 3006 top_size 500\n",
      "i2i - als  32\n",
      "i2i - ials  28\n",
      "als - ials  387\n",
      "\n",
      "item 1984 top_size 500\n",
      "i2i - als  35\n",
      "i2i - ials  29\n",
      "als - ials  410\n",
      "\n"
     ]
    }
   ],
   "source": [
    "compare_similar_items_tops(0, 500)\n",
    "compare_similar_items_tops(705, 500)\n",
    "compare_similar_items_tops(2001, 500)\n",
    "compare_similar_items_tops(3006, 500)\n",
    "compare_similar_items_tops(1984, 500)"
   ]
  },
  {
   "cell_type": "markdown",
   "id": "8f8997e4-a421-4791-8a27-ae5456596a52",
   "metadata": {},
   "source": [
    "Топы треков Item2Item плохо пересекаются с топами ALS и IALS, но лучше, если исходный трек популярный"
   ]
  },
  {
   "cell_type": "markdown",
   "id": "2284726c-4940-4826-8b68-626521dc06f2",
   "metadata": {},
   "source": [
    "**Получим списки названий похожих треков**"
   ]
  },
  {
   "cell_type": "code",
   "execution_count": 103,
   "id": "175be3e8-4b5e-45d2-ae94-f66151ff4c79",
   "metadata": {
    "tags": []
   },
   "outputs": [],
   "source": [
    "# item_weights = np.array(sp.load_npz(\"data_train.npz\").tocsc().sum(0))[0]\n",
    "# top_to_bottom_order = np.argsort(-item_weights)\n",
    "# item_mapping = np.empty(top_to_bottom_order.shape, dtype=int)\n",
    "# item_mapping[top_to_bottom_order] = np.arange(len(top_to_bottom_order))\n",
    "# total_item_count = (item_weights > 0).sum()\n",
    "\n",
    "# item_ids = top_to_bottom_order[:int(total_item_count * 0.005)]\n",
    "# np.save('item_ids_not_very_small', item_ids)"
   ]
  },
  {
   "cell_type": "code",
   "execution_count": 104,
   "id": "cb4cb18e-4c82-481f-bffb-017062252be8",
   "metadata": {
    "tags": []
   },
   "outputs": [],
   "source": [
    "item_ids = np.load('item_ids_not_very_small.npy')"
   ]
  },
  {
   "cell_type": "code",
   "execution_count": 109,
   "id": "9824475f-4902-4ecb-95f9-d6f570dcb939",
   "metadata": {
    "tags": []
   },
   "outputs": [],
   "source": [
    "all_names = pd.read_json(\"yt___home_music_recom_burlada_recsys_2022_02_19_public_all_names\", lines=True)\n",
    "all_names = all_names[all_names.type == 'track']"
   ]
  },
  {
   "cell_type": "code",
   "execution_count": 174,
   "id": "d0d9c385-6cc4-4594-b544-be66d6ccd022",
   "metadata": {
    "tags": []
   },
   "outputs": [],
   "source": [
    "def get_name_by_item(item):\n",
    "    return list(all_names[all_names.id == item_ids[item]]['name'])[0]\n",
    "\n",
    "def item_to_id(item):\n",
    "    return item_ids[item]\n",
    "\n",
    "def id_to_item(i):\n",
    "    res = np.where(item_ids == i)\n",
    "    if len(res) > 0:\n",
    "        return res[0][0]\n",
    "    return None"
   ]
  },
  {
   "cell_type": "code",
   "execution_count": 175,
   "id": "ef096ed2-e232-45d6-9258-f2bf772c2c88",
   "metadata": {
    "tags": []
   },
   "outputs": [
    {
     "data": {
      "text/plain": [
       "(1052, 19079574)"
      ]
     },
     "execution_count": 175,
     "metadata": {},
     "output_type": "execute_result"
    }
   ],
   "source": [
    "id_to_item(19079574), item_to_id(1052)"
   ]
  },
  {
   "cell_type": "code",
   "execution_count": 230,
   "id": "949cee52-106f-428e-8241-6cf6fa6a5276",
   "metadata": {
    "tags": []
   },
   "outputs": [
    {
     "name": "stdout",
     "output_type": "stream",
     "text": [
      "0 53404 Smells Like Teen Spirit\n",
      "1 33311009 Believer\n",
      "2 178529 Numb\n",
      "3 35505245 I Got Love\n",
      "4 65851540 Юность\n",
      "5 24692821 Way Down We Go\n",
      "6 32947997 Shape of You\n",
      "7 51241318 In The End\n",
      "8 795836 Shape Of My Heart\n",
      "9 45499814 Life\n"
     ]
    }
   ],
   "source": [
    "# popular tracks\n",
    "for item, i in enumerate(item_ids[:10]):\n",
    "    print(item, i, get_name_by_item(item))"
   ]
  },
  {
   "cell_type": "code",
   "execution_count": 231,
   "id": "39973c39-5500-45a7-8674-fefc40e53cfa",
   "metadata": {},
   "outputs": [
    {
     "data": {
      "text/html": [
       "<div>\n",
       "<style scoped>\n",
       "    .dataframe tbody tr th:only-of-type {\n",
       "        vertical-align: middle;\n",
       "    }\n",
       "\n",
       "    .dataframe tbody tr th {\n",
       "        vertical-align: top;\n",
       "    }\n",
       "\n",
       "    .dataframe thead th {\n",
       "        text-align: right;\n",
       "    }\n",
       "</style>\n",
       "<table border=\"1\" class=\"dataframe\">\n",
       "  <thead>\n",
       "    <tr style=\"text-align: right;\">\n",
       "      <th></th>\n",
       "      <th>type</th>\n",
       "      <th>id</th>\n",
       "      <th>name</th>\n",
       "    </tr>\n",
       "  </thead>\n",
       "  <tbody>\n",
       "    <tr>\n",
       "      <th>829704</th>\n",
       "      <td>track</td>\n",
       "      <td>106160</td>\n",
       "      <td>Город</td>\n",
       "    </tr>\n",
       "    <tr>\n",
       "      <th>939394</th>\n",
       "      <td>track</td>\n",
       "      <td>2286226</td>\n",
       "      <td>Город</td>\n",
       "    </tr>\n",
       "    <tr>\n",
       "      <th>959316</th>\n",
       "      <td>track</td>\n",
       "      <td>3616404</td>\n",
       "      <td>Гореть</td>\n",
       "    </tr>\n",
       "    <tr>\n",
       "      <th>1095937</th>\n",
       "      <td>track</td>\n",
       "      <td>17926967</td>\n",
       "      <td>Город, которого нет</td>\n",
       "    </tr>\n",
       "    <tr>\n",
       "      <th>1213737</th>\n",
       "      <td>track</td>\n",
       "      <td>27317888</td>\n",
       "      <td>Город</td>\n",
       "    </tr>\n",
       "    <tr>\n",
       "      <th>1222036</th>\n",
       "      <td>track</td>\n",
       "      <td>28130240</td>\n",
       "      <td>Город Сочи</td>\n",
       "    </tr>\n",
       "    <tr>\n",
       "      <th>1226543</th>\n",
       "      <td>track</td>\n",
       "      <td>28420997</td>\n",
       "      <td>Город под подошвой</td>\n",
       "    </tr>\n",
       "    <tr>\n",
       "      <th>1344696</th>\n",
       "      <td>track</td>\n",
       "      <td>36843979</td>\n",
       "      <td>Город золотой</td>\n",
       "    </tr>\n",
       "    <tr>\n",
       "      <th>1356114</th>\n",
       "      <td>track</td>\n",
       "      <td>37572518</td>\n",
       "      <td>Горы по колено</td>\n",
       "    </tr>\n",
       "    <tr>\n",
       "      <th>1484538</th>\n",
       "      <td>track</td>\n",
       "      <td>48591946</td>\n",
       "      <td>Город дорог</td>\n",
       "    </tr>\n",
       "    <tr>\n",
       "      <th>1718475</th>\n",
       "      <td>track</td>\n",
       "      <td>76434671</td>\n",
       "      <td>Горький вкус</td>\n",
       "    </tr>\n",
       "  </tbody>\n",
       "</table>\n",
       "</div>"
      ],
      "text/plain": [
       "          type        id                 name\n",
       "829704   track    106160                Город\n",
       "939394   track   2286226                Город\n",
       "959316   track   3616404               Гореть\n",
       "1095937  track  17926967  Город, которого нет\n",
       "1213737  track  27317888                Город\n",
       "1222036  track  28130240           Город Сочи\n",
       "1226543  track  28420997   Город под подошвой\n",
       "1344696  track  36843979        Город золотой\n",
       "1356114  track  37572518       Горы по колено\n",
       "1484538  track  48591946          Город дорог\n",
       "1718475  track  76434671         Горький вкус"
      ]
     },
     "execution_count": 231,
     "metadata": {},
     "output_type": "execute_result"
    }
   ],
   "source": [
    "# search by name\n",
    "all_names[all_names.name.str.contains('Гор') & all_names.id.isin(item_ids)]"
   ]
  },
  {
   "cell_type": "code",
   "execution_count": 225,
   "id": "355464c9-822a-460b-acba-9b8c5873e2bf",
   "metadata": {
    "tags": []
   },
   "outputs": [],
   "source": [
    "def write_i2i_similar_names(i2i, item, top_size=10):\n",
    "    print(f'{item} {get_name_by_item(item)}:')\n",
    "    for i in i2i.items_neighbors[item][:top_size]:\n",
    "        print(f'{i:7} {get_name_by_item(i)}')\n",
    "    print()\n",
    "        \n",
    "def write_als_similar_names(als, item, top_size=10):\n",
    "    als_similarities = als.Y.dot(als.Y.T)[item, :].toarray().reshape(-1)\n",
    "    als_neighbors = np.argsort(als_similarities)[::-1][:top_size]\n",
    "    \n",
    "    print(f'{item} {get_name_by_item(item)}:')\n",
    "    for i in als_neighbors:\n",
    "        print(f'{i:7} {get_name_by_item(i)}')\n",
    "    print()"
   ]
  },
  {
   "cell_type": "code",
   "execution_count": 226,
   "id": "ab4ea382-dae2-47f5-956a-995ea3e4355f",
   "metadata": {
    "tags": []
   },
   "outputs": [
    {
     "name": "stdout",
     "output_type": "stream",
     "text": [
      "0 Smells Like Teen Spirit:\n",
      "      0 Smells Like Teen Spirit\n",
      "      2 Numb\n",
      "     11 Seven Nation Army\n",
      "     14 Zombie\n",
      "     38 Californication\n",
      "     43 Highway to Hell\n",
      "    309 Come As You Are\n",
      "     18 Bring Me To Life\n",
      "     30 It's My Life\n",
      "     16 The Show Must Go On\n",
      "\n",
      "0 Smells Like Teen Spirit:\n",
      "      0 Smells Like Teen Spirit\n",
      "      2 Numb\n",
      "      1 Believer\n",
      "     18 Bring Me To Life\n",
      "     11 Seven Nation Army\n",
      "      5 Way Down We Go\n",
      "     13 Human\n",
      "      8 Shape Of My Heart\n",
      "     16 The Show Must Go On\n",
      "     12 In My Mind\n",
      "\n",
      "0 Smells Like Teen Spirit:\n",
      "      0 Smells Like Teen Spirit\n",
      "      1 Believer\n",
      "      2 Numb\n",
      "     11 Seven Nation Army\n",
      "     16 The Show Must Go On\n",
      "      8 Shape Of My Heart\n",
      "      9 Life\n",
      "     14 Zombie\n",
      "      5 Way Down We Go\n",
      "     18 Bring Me To Life\n",
      "\n"
     ]
    }
   ],
   "source": [
    "write_i2i_similar_names(i2i, 0)\n",
    "write_als_similar_names(als, 0)\n",
    "write_als_similar_names(ials, 0)"
   ]
  },
  {
   "cell_type": "code",
   "execution_count": 227,
   "id": "0b1e85dd-77bb-4e5c-aeb6-9cc12a0913f5",
   "metadata": {
    "tags": []
   },
   "outputs": [
    {
     "name": "stdout",
     "output_type": "stream",
     "text": [
      "1052 Беспечный ангел:\n",
      "   1052 Беспечный ангел\n",
      "    839 Потерянный рай\n",
      "   1557 Возьми моё сердце\n",
      "     65 Я свободен\n",
      "    575 Осколок льда\n",
      "    585 Звезда по имени Солнце\n",
      "   1020 Хочу перемен\n",
      "    382 Группа крови\n",
      "    518 Штиль\n",
      "   1613 Кукушка\n",
      "\n",
      "1052 Беспечный ангел:\n",
      "      0 Smells Like Teen Spirit\n",
      "      2 Numb\n",
      "     18 Bring Me To Life\n",
      "      1 Believer\n",
      "     11 Seven Nation Army\n",
      "     14 Zombie\n",
      "     16 The Show Must Go On\n",
      "      8 Shape Of My Heart\n",
      "      5 Way Down We Go\n",
      "     51 In the End\n",
      "\n",
      "1052 Беспечный ангел:\n",
      "      1 Believer\n",
      "      2 Numb\n",
      "      0 Smells Like Teen Spirit\n",
      "     16 The Show Must Go On\n",
      "     11 Seven Nation Army\n",
      "     18 Bring Me To Life\n",
      "     14 Zombie\n",
      "      8 Shape Of My Heart\n",
      "      6 Shape of You\n",
      "     65 Я свободен\n",
      "\n"
     ]
    }
   ],
   "source": [
    "write_i2i_similar_names(i2i, 1052)\n",
    "write_als_similar_names(als, 1052)\n",
    "write_als_similar_names(ials, 1052)"
   ]
  },
  {
   "cell_type": "code",
   "execution_count": 228,
   "id": "00329976-1bfd-4a8d-b7f7-5f6caa1ce37d",
   "metadata": {
    "tags": []
   },
   "outputs": [
    {
     "name": "stdout",
     "output_type": "stream",
     "text": [
      "3423 Воины света:\n",
      "   3423 Воины света\n",
      "   4781 12 обезьян\n",
      "    948 В руках автомат\n",
      "    646 Воины света\n",
      "   1497 Я верю\n",
      "   2623 Шут\n",
      "   3589 Гитары\n",
      "   2597 Россия для грустных\n",
      "   3339 Северный флот\n",
      "   1737 Андерграунд\n",
      "\n",
      "3423 Воины света:\n",
      "      0 Smells Like Teen Spirit\n",
      "      2 Numb\n",
      "     18 Bring Me To Life\n",
      "      1 Believer\n",
      "     16 The Show Must Go On\n",
      "     14 Zombie\n",
      "     47 Выхода нет\n",
      "      8 Shape Of My Heart\n",
      "     51 In the End\n",
      "      9 Life\n",
      "\n",
      "3423 Воины света:\n",
      "      0 Smells Like Teen Spirit\n",
      "      1 Believer\n",
      "      2 Numb\n",
      "      4 Юность\n",
      "     11 Seven Nation Army\n",
      "     14 Zombie\n",
      "      8 Shape Of My Heart\n",
      "     16 The Show Must Go On\n",
      "      9 Life\n",
      "     33 Зелёные волны\n",
      "\n"
     ]
    }
   ],
   "source": [
    "write_i2i_similar_names(i2i, 3423)\n",
    "write_als_similar_names(als, 3423)\n",
    "write_als_similar_names(ials, 3423)"
   ]
  },
  {
   "cell_type": "code",
   "execution_count": 229,
   "id": "532fb0a3-9a2a-4ea0-acb7-3541d3113e92",
   "metadata": {
    "tags": []
   },
   "outputs": [
    {
     "name": "stdout",
     "output_type": "stream",
     "text": [
      "681 Гореть:\n",
      "    681 Гореть\n",
      "    625 Sid & Nancy\n",
      "    996 Три полоски\n",
      "    747 Вселенная бесконечна?\n",
      "    766 Выдыхай\n",
      "    457 Прости. Прощай. Привет\n",
      "   2896 Дыши со мной\n",
      "   1171 Кофе – мой друг\n",
      "   1437 Три полоски\n",
      "   3587 На Марсе классно\n",
      "\n",
      "681 Гореть:\n",
      "      0 Smells Like Teen Spirit\n",
      "      2 Numb\n",
      "      1 Believer\n",
      "     18 Bring Me To Life\n",
      "      5 Way Down We Go\n",
      "     11 Seven Nation Army\n",
      "     14 Zombie\n",
      "     13 Human\n",
      "      8 Shape Of My Heart\n",
      "     16 The Show Must Go On\n",
      "\n",
      "681 Гореть:\n",
      "      2 Numb\n",
      "      0 Smells Like Teen Spirit\n",
      "     18 Bring Me To Life\n",
      "     11 Seven Nation Army\n",
      "      1 Believer\n",
      "     14 Zombie\n",
      "     16 The Show Must Go On\n",
      "     51 In the End\n",
      "      8 Shape Of My Heart\n",
      "     38 Californication\n",
      "\n"
     ]
    }
   ],
   "source": [
    "write_i2i_similar_names(i2i, 681)\n",
    "write_als_similar_names(als, 681)\n",
    "write_als_similar_names(ials, 681)"
   ]
  },
  {
   "cell_type": "markdown",
   "id": "92c2e4f3-ba33-4f65-9d4a-51ae713426b9",
   "metadata": {},
   "source": [
    "- ALS и IALS чаще, чем Item2Item предлагают популярные треки  \n",
    "- Ещё есть такое ощущение, что Item2Item предлагает \"слишком\" похожие треки по сравнению с ALS, IALS, то есть если слушать список, предложенный, i2i, то он быстро надоест, а ALS, IALS скорее предлагают треки, похожие по \"стилю/жанру\""
   ]
  },
  {
   "cell_type": "code",
   "execution_count": null,
   "id": "9947991e-134f-4523-8473-fcfd7789e522",
   "metadata": {},
   "outputs": [],
   "source": []
  }
 ],
 "metadata": {
  "kernelspec": {
   "display_name": "Python 3 (ipykernel)",
   "language": "python",
   "name": "python3"
  },
  "language_info": {
   "codemirror_mode": {
    "name": "ipython",
    "version": 3
   },
   "file_extension": ".py",
   "mimetype": "text/x-python",
   "name": "python",
   "nbconvert_exporter": "python",
   "pygments_lexer": "ipython3",
   "version": "3.10.6"
  }
 },
 "nbformat": 4,
 "nbformat_minor": 5
}
