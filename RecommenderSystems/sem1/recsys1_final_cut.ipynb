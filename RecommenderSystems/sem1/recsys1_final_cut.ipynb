{
 "cells": [
  {
   "cell_type": "markdown",
   "metadata": {
    "cellId": "n2nirnt4f5jsdvrilebmp",
    "id": "XJw50plyv1bR"
   },
   "source": [
    "# Коллаборативная фильтрация"
   ]
  },
  {
   "cell_type": "markdown",
   "metadata": {
    "cellId": "u8beyxhgmramqk69fct3an",
    "id": "3gt9TUqpv1bS"
   },
   "source": [
    "## Основная идея\n",
    "Как понять, что пользователю $u$ нужно показать айтем $i$?\n",
    "1. Если $u$ понравился айтем, похожий на $i$, то можно предположить, что ему понравится $i$.\n",
    "2. Если ему не понравился айтем, похожий на $i$, ему, вероятно, не понравится и $i$.\n",
    "\n",
    "Таким образом, идея состоит в том, чтобы посмотреть, насколько понравились $u$ айтемы, похожие на $i$."
   ]
  },
  {
   "cell_type": "markdown",
   "metadata": {
    "cellId": "2p3yhx2iuo4pnd523k99",
    "id": "80StAkPXv1bT"
   },
   "source": [
    "## Item-to-item collaborative filtering\n",
    "\n",
    "Реализуем на семинаре следующую вариацию item-to-item метода.\n",
    "1. Пусть $U_i$ &mdash; множество пользователей, оценивших $i$. Определим, как мы будем определять похожести между айтемами. Определим похожести между айтемами, как\n",
    "$$\n",
    "         w(i, j) = \\frac{\\sum_{u\\in U_i \\cap U_j}(r_{u,i}-\\bar{r}_u)(r_{u,j}-\\bar{r}_u)}{\\sqrt{\\sum_{u\\in U_i \\cap U_j} (r_{u,i}-\\bar{r}_u)^2}\\sqrt{\\sum_{u\\in U_i \\cap U_j} (r_{u,j}-\\bar{r}_u)^2}}.\n",
    "$$\n",
    "Обозначим за $S_k^{(i)}$ множество из $k$ наиболее близких к $i$ айтемов.\n",
    "   \n",
    "2. Пользователю $u$, оценившему множество айтемов $I_u$, будем рекомендовать $N$ наиболее подходящих ему айтемов. Для этого,\n",
    "- В качестве кандидатов на попадание в топ возьмем айтемы $$C = \\bigcup_{i \\in I_u} S_k^{(i)} \\setminus I_u.$$\n",
    "- Для кандидатов $c \\in C$ определим похожесть $c$ на историю пользователя $I_u$, как\n",
    "\\begin{equation}\n",
    " w(c,I_u) = \\sum_{i\\in I_u} w_{c,i}.\n",
    "\\end{equation}\n",
    "- Вернем в качестве результата $N$ айтемов $c \\in C$ с максимальной величиной $w(c, I_u)$.\n"
   ]
  },
  {
   "cell_type": "markdown",
   "metadata": {
    "cellId": "tmnyods6w1zik992944cn",
    "id": "Xd0esHr4v1bU"
   },
   "source": [
    "### Import useful requirements"
   ]
  },
  {
   "cell_type": "code",
   "execution_count": 15,
   "metadata": {
    "id": "NR8VrEIn8mcL",
    "tags": []
   },
   "outputs": [],
   "source": [
    "import os\n",
    "if not (os.path.exists(\"recsys.zip\") or os.path.exists(\"recsys\")):\n",
    "    !wget https://github.com/nzhinusoftcm/review-on-collaborative-filtering/raw/master/recsys.zip    \n",
    "    !unzip recsys.zip"
   ]
  },
  {
   "cell_type": "code",
   "execution_count": 16,
   "metadata": {
    "cellId": "bkx1484jcydeaw0zk2m9hd",
    "id": "jHF2QTeIv1bU",
    "tags": []
   },
   "outputs": [],
   "source": [
    "from recsys.datasets import ml1m, ml100k\n",
    "from sklearn.preprocessing import LabelEncoder\n",
    "from tqdm.auto import tqdm\n",
    "\n",
    "import pandas as pd\n",
    "import numpy as np\n",
    "import os\n",
    "import joblib\n",
    "import sys\n",
    "\n",
    "import typing as tp"
   ]
  },
  {
   "cell_type": "code",
   "execution_count": 17,
   "metadata": {
    "cellId": "p0ltx0obd6ouwa94dtend",
    "id": "3DsS6bkwv1bW",
    "tags": []
   },
   "outputs": [
    {
     "name": "stdout",
     "output_type": "stream",
     "text": [
      "The autoreload extension is already loaded. To reload it, use:\n",
      "  %reload_ext autoreload\n"
     ]
    }
   ],
   "source": [
    "%load_ext autoreload\n",
    "%autoreload 2"
   ]
  },
  {
   "cell_type": "markdown",
   "metadata": {
    "cellId": "9uylwuwzrjree6751a94ke",
    "id": "IVifyiz-v1bX"
   },
   "source": [
    "### Загрузка датасета"
   ]
  },
  {
   "cell_type": "markdown",
   "metadata": {
    "id": "ei8jN45Rr8dw"
   },
   "source": [
    "Для применения методов будем использовать датасет Movielens. Он представляет из себя оценки, которые пользователи поставили просмотренным фильмам и небольшие описания самих фильмов.\n",
    "\n",
    "Для удобства изучения разных алгоритмов исследовательская группа, которая занимается разработкой датасета, подготовила данные разного объёма: 100к рейтингов, 1М, 10М, 20М. В этой работе мы будем пользоваться самым маленьким."
   ]
  },
  {
   "cell_type": "code",
   "execution_count": 18,
   "metadata": {
    "id": "wPWXnM8Uv1bX",
    "tags": []
   },
   "outputs": [],
   "source": [
    "ratings, movies = ml100k.load()"
   ]
  },
  {
   "cell_type": "code",
   "execution_count": 19,
   "metadata": {
    "colab": {
     "base_uri": "https://localhost:8080/",
     "height": 206
    },
    "id": "oLg6QFinsZFM",
    "outputId": "52b2206e-a9a4-4922-f759-f81bee2bdadf",
    "tags": []
   },
   "outputs": [
    {
     "data": {
      "text/html": [
       "<div>\n",
       "<style scoped>\n",
       "    .dataframe tbody tr th:only-of-type {\n",
       "        vertical-align: middle;\n",
       "    }\n",
       "\n",
       "    .dataframe tbody tr th {\n",
       "        vertical-align: top;\n",
       "    }\n",
       "\n",
       "    .dataframe thead th {\n",
       "        text-align: right;\n",
       "    }\n",
       "</style>\n",
       "<table border=\"1\" class=\"dataframe\">\n",
       "  <thead>\n",
       "    <tr style=\"text-align: right;\">\n",
       "      <th></th>\n",
       "      <th>userid</th>\n",
       "      <th>itemid</th>\n",
       "      <th>rating</th>\n",
       "    </tr>\n",
       "  </thead>\n",
       "  <tbody>\n",
       "    <tr>\n",
       "      <th>0</th>\n",
       "      <td>1</td>\n",
       "      <td>1</td>\n",
       "      <td>5</td>\n",
       "    </tr>\n",
       "    <tr>\n",
       "      <th>1</th>\n",
       "      <td>1</td>\n",
       "      <td>2</td>\n",
       "      <td>3</td>\n",
       "    </tr>\n",
       "    <tr>\n",
       "      <th>2</th>\n",
       "      <td>1</td>\n",
       "      <td>3</td>\n",
       "      <td>4</td>\n",
       "    </tr>\n",
       "    <tr>\n",
       "      <th>3</th>\n",
       "      <td>1</td>\n",
       "      <td>4</td>\n",
       "      <td>3</td>\n",
       "    </tr>\n",
       "    <tr>\n",
       "      <th>4</th>\n",
       "      <td>1</td>\n",
       "      <td>5</td>\n",
       "      <td>3</td>\n",
       "    </tr>\n",
       "  </tbody>\n",
       "</table>\n",
       "</div>"
      ],
      "text/plain": [
       "   userid  itemid  rating\n",
       "0       1       1       5\n",
       "1       1       2       3\n",
       "2       1       3       4\n",
       "3       1       4       3\n",
       "4       1       5       3"
      ]
     },
     "execution_count": 19,
     "metadata": {},
     "output_type": "execute_result"
    }
   ],
   "source": [
    "ratings.head()"
   ]
  },
  {
   "cell_type": "code",
   "execution_count": 20,
   "metadata": {
    "colab": {
     "base_uri": "https://localhost:8080/",
     "height": 206
    },
    "id": "plbJAU3FV12n",
    "outputId": "fdbc660b-8401-4881-f2ee-11677f6f593b",
    "tags": []
   },
   "outputs": [
    {
     "data": {
      "text/html": [
       "<div>\n",
       "<style scoped>\n",
       "    .dataframe tbody tr th:only-of-type {\n",
       "        vertical-align: middle;\n",
       "    }\n",
       "\n",
       "    .dataframe tbody tr th {\n",
       "        vertical-align: top;\n",
       "    }\n",
       "\n",
       "    .dataframe thead th {\n",
       "        text-align: right;\n",
       "    }\n",
       "</style>\n",
       "<table border=\"1\" class=\"dataframe\">\n",
       "  <thead>\n",
       "    <tr style=\"text-align: right;\">\n",
       "      <th></th>\n",
       "      <th>itemid</th>\n",
       "      <th>title</th>\n",
       "    </tr>\n",
       "  </thead>\n",
       "  <tbody>\n",
       "    <tr>\n",
       "      <th>0</th>\n",
       "      <td>1</td>\n",
       "      <td>Toy Story (1995)</td>\n",
       "    </tr>\n",
       "    <tr>\n",
       "      <th>1</th>\n",
       "      <td>2</td>\n",
       "      <td>GoldenEye (1995)</td>\n",
       "    </tr>\n",
       "    <tr>\n",
       "      <th>2</th>\n",
       "      <td>3</td>\n",
       "      <td>Four Rooms (1995)</td>\n",
       "    </tr>\n",
       "    <tr>\n",
       "      <th>3</th>\n",
       "      <td>4</td>\n",
       "      <td>Get Shorty (1995)</td>\n",
       "    </tr>\n",
       "    <tr>\n",
       "      <th>4</th>\n",
       "      <td>5</td>\n",
       "      <td>Copycat (1995)</td>\n",
       "    </tr>\n",
       "  </tbody>\n",
       "</table>\n",
       "</div>"
      ],
      "text/plain": [
       "   itemid              title\n",
       "0       1   Toy Story (1995)\n",
       "1       2   GoldenEye (1995)\n",
       "2       3  Four Rooms (1995)\n",
       "3       4  Get Shorty (1995)\n",
       "4       5     Copycat (1995)"
      ]
     },
     "execution_count": 20,
     "metadata": {},
     "output_type": "execute_result"
    }
   ],
   "source": [
    "movies.head()"
   ]
  },
  {
   "cell_type": "markdown",
   "metadata": {
    "cellId": "72xbmj2k4qqz2ybj3odc",
    "id": "yruhwBKkv1bX"
   },
   "source": [
    "### Предобработка датасета"
   ]
  },
  {
   "cell_type": "code",
   "execution_count": 21,
   "metadata": {
    "cellId": "62d8v8iu69h4uze9odubav",
    "id": "4GXx4kVWv1bX",
    "tags": []
   },
   "outputs": [],
   "source": [
    "def ids_encoder(ratings):\n",
    "    users = sorted(ratings['userid'].unique())\n",
    "    items = sorted(ratings['itemid'].unique())\n",
    "\n",
    "    # create users and items encoders\n",
    "    uencoder = LabelEncoder()\n",
    "    iencoder = LabelEncoder()\n",
    "\n",
    "    # fit users and items ids to the corresponding encoder\n",
    "    uencoder.fit(users)\n",
    "    iencoder.fit(items)\n",
    "\n",
    "    # encode userids and itemids\n",
    "    ratings.userid = uencoder.transform(ratings.userid.tolist())\n",
    "    ratings.itemid = iencoder.transform(ratings.itemid.tolist())\n",
    "\n",
    "    return ratings, uencoder, iencoder"
   ]
  },
  {
   "cell_type": "code",
   "execution_count": 22,
   "metadata": {
    "cellId": "pbcolehyqc90qf4r6u6n9",
    "id": "tLmj2sWuv1bY",
    "tags": []
   },
   "outputs": [],
   "source": [
    "# create the encoder\n",
    "ratings, uencoder, iencoder = ids_encoder(ratings)"
   ]
  },
  {
   "cell_type": "markdown",
   "metadata": {
    "cellId": "xs72r2xxg2j9vcam9ezl8",
    "id": "da46j6zMv1bY"
   },
   "source": [
    "## Реализация алгоритма"
   ]
  },
  {
   "cell_type": "markdown",
   "metadata": {
    "cellId": "hseep36n118brjb0uuee4b",
    "id": "8-IZJfnWv1bZ"
   },
   "source": [
    "### Шаг 1. Вычислить похожести между айтемами"
   ]
  },
  {
   "cell_type": "markdown",
   "metadata": {
    "id": "NgTJIeh4uCrP"
   },
   "source": [
    "#### adjustied cosine similarity\n",
    "\n",
    "Вспомним, что каждый айтем можно представить как вектор оценок пользователей, тогда для оценки похожести можно использовать:\n",
    "1. Косинусное расстояние\n",
    "2. Ajusted Cosine Similarity\n",
    "3. Евклидово расстояние\n",
    "4. Манхэттенское расстояние\n",
    "5. Коэффициент Жаккара"
   ]
  },
  {
   "cell_type": "markdown",
   "metadata": {
    "id": "C1rSNwK7v1bb"
   },
   "source": [
    "\n",
    "\n",
    "В item-based рекомендациях к-т adjustied cosine similarity доказал свою эффективность, поэтому будем использовать его. Схожесть между айтемами $i$ и $j$ считается по формуле:\n"
   ]
  },
  {
   "cell_type": "markdown",
   "metadata": {
    "cellId": "wfd7z0lf61z0i6ur83d2",
    "id": "-2OkygNZv1bb"
   },
   "source": [
    "\\begin{equation}\n",
    " w_{i,j}= \\frac{\\sum_{u\\in U}(r_{u,i}-\\bar{r}_u)(r_{u,j}-\\bar{r}_u)}{\\sqrt{\\sum_{u\\in U} (r_{u,i}-\\bar{r}_u)^2}\\sqrt{\\sum_{u\\in U} (r_{u,j}-\\bar{r}_u)^2}}.\n",
    "\\end{equation}"
   ]
  },
  {
   "cell_type": "markdown",
   "metadata": {
    "cellId": "qkjdwv480rbe8p6xoqf8hb",
    "id": "2PtDXI6Iv1bZ"
   },
   "source": [
    "Итак, чтобы вычислить похожесть между айтемами $i$ и $j$, нужно\n",
    "\n",
    "1. Выявить всех пользователей, которые оценили оба айтема, т.е. $U_i \\cap U_j$;\n",
    "2. Нормализовать рейтинги айтемов $i$ и $j$;\n",
    "3. Посчитать похожесть между векторами общих рейтингов $i$ и $j$.\n"
   ]
  },
  {
   "cell_type": "markdown",
   "metadata": {
    "id": "egzC9jh5v1bZ"
   },
   "source": [
    "Проведём подготовительную работу и нормализуем рейтинги всех пользователей:"
   ]
  },
  {
   "cell_type": "code",
   "execution_count": 23,
   "metadata": {
    "cellId": "9ipkwjqjb6fvn2pp6wb5fq",
    "id": "e325DrNhv1bZ",
    "tags": []
   },
   "outputs": [],
   "source": [
    "def normalize(ratings: pd.DataFrame) -> pd.DataFrame:\n",
    "    \"\"\"\n",
    "    Нормализует рейтинги по пользователям. Из каждого рейтинга вычитает средний рейтинг по пользователю.\n",
    "    ratings: таблица рейтингов\n",
    "    \n",
    "    Возвращает: \n",
    "        Таблица, содержащая все колонки таблицы `ratings` и колонку `norm_rating` с нормализованными рейтингами.\n",
    "    \"\"\"\n",
    "    # your code here\n",
    "    user_means = ratings[['userid', 'rating']].groupby('userid').mean().rename(columns={'rating': 'mean_rating'})\n",
    "    ratings = ratings.join(user_means, on='userid')\n",
    "    ratings['norm_rating'] = ratings.rating - ratings.mean_rating\n",
    "    ratings.drop(columns=['mean_rating'], inplace=True)\n",
    "    return ratings"
   ]
  },
  {
   "cell_type": "code",
   "execution_count": null,
   "metadata": {
    "id": "qBwrqi2i8mcS"
   },
   "outputs": [],
   "source": []
  },
  {
   "cell_type": "code",
   "execution_count": 24,
   "metadata": {
    "id": "isTOB7asv1ba",
    "tags": []
   },
   "outputs": [],
   "source": [
    "def test_normalize():\n",
    "    test_df = pd.DataFrame({\n",
    "        \"userid\": [0, 0, 0, 1, 1],\n",
    "        \"itemid\": [0, 1, 2, 1, 3],\n",
    "        \"rating\": [2, 2, 5, 5, 5],\n",
    "    })\n",
    "    \n",
    "    expected = pd.DataFrame({\n",
    "        \"userid\": [0, 0, 0, 1, 1],\n",
    "        \"itemid\": [0, 1, 2, 1, 3],\n",
    "        \"rating\": [2, 2, 5, 5, 5],\n",
    "        \"norm_rating\": [-1, -1, 2, 0, 0]\n",
    "    })    \n",
    "    \n",
    "    assert test_df.shape[0] == expected.shape[0], \"Number of user-item interactions is different\"\n",
    "    assert test_df.shape[1] + 1 == expected.shape[1], \"Number of columns is incorrect\"\n",
    "    assert (normalize(test_df) == expected).all().all(), \"Result is incorrect\"\n",
    "    \n",
    "test_normalize()"
   ]
  },
  {
   "cell_type": "code",
   "execution_count": 25,
   "metadata": {
    "cellId": "py2xe668c2bq26cxnvlqhn",
    "id": "7l7BkAB9v1ba",
    "scrolled": true,
    "tags": []
   },
   "outputs": [
    {
     "data": {
      "text/html": [
       "<div>\n",
       "<style scoped>\n",
       "    .dataframe tbody tr th:only-of-type {\n",
       "        vertical-align: middle;\n",
       "    }\n",
       "\n",
       "    .dataframe tbody tr th {\n",
       "        vertical-align: top;\n",
       "    }\n",
       "\n",
       "    .dataframe thead th {\n",
       "        text-align: right;\n",
       "    }\n",
       "</style>\n",
       "<table border=\"1\" class=\"dataframe\">\n",
       "  <thead>\n",
       "    <tr style=\"text-align: right;\">\n",
       "      <th></th>\n",
       "      <th>userid</th>\n",
       "      <th>itemid</th>\n",
       "      <th>rating</th>\n",
       "      <th>norm_rating</th>\n",
       "    </tr>\n",
       "  </thead>\n",
       "  <tbody>\n",
       "    <tr>\n",
       "      <th>0</th>\n",
       "      <td>0</td>\n",
       "      <td>0</td>\n",
       "      <td>5</td>\n",
       "      <td>1.389706</td>\n",
       "    </tr>\n",
       "    <tr>\n",
       "      <th>1</th>\n",
       "      <td>0</td>\n",
       "      <td>1</td>\n",
       "      <td>3</td>\n",
       "      <td>-0.610294</td>\n",
       "    </tr>\n",
       "    <tr>\n",
       "      <th>2</th>\n",
       "      <td>0</td>\n",
       "      <td>2</td>\n",
       "      <td>4</td>\n",
       "      <td>0.389706</td>\n",
       "    </tr>\n",
       "    <tr>\n",
       "      <th>3</th>\n",
       "      <td>0</td>\n",
       "      <td>3</td>\n",
       "      <td>3</td>\n",
       "      <td>-0.610294</td>\n",
       "    </tr>\n",
       "    <tr>\n",
       "      <th>4</th>\n",
       "      <td>0</td>\n",
       "      <td>4</td>\n",
       "      <td>3</td>\n",
       "      <td>-0.610294</td>\n",
       "    </tr>\n",
       "  </tbody>\n",
       "</table>\n",
       "</div>"
      ],
      "text/plain": [
       "   userid  itemid  rating  norm_rating\n",
       "0       0       0       5     1.389706\n",
       "1       0       1       3    -0.610294\n",
       "2       0       2       4     0.389706\n",
       "3       0       3       3    -0.610294\n",
       "4       0       4       3    -0.610294"
      ]
     },
     "execution_count": 25,
     "metadata": {},
     "output_type": "execute_result"
    }
   ],
   "source": [
    "norm_ratings = normalize(ratings)\n",
    "np_ratings = norm_ratings.to_numpy()\n",
    "norm_ratings.head()"
   ]
  },
  {
   "cell_type": "code",
   "execution_count": 26,
   "metadata": {
    "tags": []
   },
   "outputs": [
    {
     "data": {
      "text/plain": [
       "(100000, 4)"
      ]
     },
     "execution_count": 26,
     "metadata": {},
     "output_type": "execute_result"
    }
   ],
   "source": [
    "np_ratings.shape"
   ]
  },
  {
   "cell_type": "markdown",
   "metadata": {
    "id": "EzCNpi1kv1ba"
   },
   "source": [
    "Итак, мы вычислили средний рейтинг для каждого пользователя. Теперь мы готовы к вычислению похожестей айтемов."
   ]
  },
  {
   "cell_type": "code",
   "execution_count": 27,
   "metadata": {
    "id": "SpjOat_l5DXI",
    "tags": []
   },
   "outputs": [],
   "source": [
    "def cosine(x: np.array, y: np.array) -> float:\n",
    "    \"\"\"\n",
    "    Функция, вычисляющая косинус между векторами x и y.\n",
    "    \"\"\"\n",
    "    if np.linalg.norm(x) == 0 or np.linalg.norm(y) == 0:\n",
    "        return 0\n",
    "    return np.dot(x, y) / (np.linalg.norm(x) * np.linalg.norm(y))"
   ]
  },
  {
   "cell_type": "code",
   "execution_count": 28,
   "metadata": {
    "id": "LHykuwc7v1bb",
    "tags": []
   },
   "outputs": [],
   "source": [
    "from functools import lru_cache\n",
    "\n",
    "@lru_cache(2000)\n",
    "def ratings_for_item(i):\n",
    "    return np_ratings[np_ratings[:, 1] == i]\n",
    "\n",
    "def calculate_similarity_between_two(np_ratings: np.array, i: int, j: int) -> float:\n",
    "    \"\"\"\n",
    "    np_ratings: массив, каждый элемент которого является набором (user_id, item_id, rating, norm_rating)\n",
    "    i: номер первого айтема для вычисления похожести\n",
    "    j: номер второго айтема для вычисления похожести\n",
    "    \n",
    "    Возвращает значение adjustied cosine similarity для айтемов i и j.\n",
    "    \"\"\"\n",
    "    # your code here\n",
    "    \n",
    "    if i == j:\n",
    "        return 1\n",
    "    \n",
    "    ratings_i = ratings_for_item(i)\n",
    "    ratings_j = ratings_for_item(j)\n",
    "    \n",
    "    common_users = np.intersect1d(ratings_i[:, 0], ratings_j[:, 0])\n",
    "    common_ratings_i = ratings_i[np.isin(ratings_i[:, 0], common_users)]\n",
    "    common_ratings_j = ratings_j[np.isin(ratings_j[:, 0], common_users)]\n",
    "    \n",
    "    if len(common_users) > 0:\n",
    "        assert sorted(common_ratings_i[:, 0]) == sorted(common_ratings_j[:, 0])\n",
    "        return cosine(common_ratings_i[:, 3], common_ratings_j[:, 3])\n",
    "    \n",
    "    return 0"
   ]
  },
  {
   "cell_type": "code",
   "execution_count": 29,
   "metadata": {
    "tags": []
   },
   "outputs": [
    {
     "data": {
      "text/plain": [
       "array([  0.,  48.,  94., 129., 206., 266., 267., 275., 279., 292., 300.,\n",
       "       302., 319., 345., 392., 428., 434., 449., 471., 486., 496., 550.,\n",
       "       560., 620., 621., 659., 681., 750., 794., 805., 879., 885., 888.,\n",
       "       915.])"
      ]
     },
     "execution_count": 29,
     "metadata": {},
     "output_type": "execute_result"
    }
   ],
   "source": [
    "ratings_i = ratings_for_item(1)\n",
    "ratings_j = ratings_for_item(2)\n",
    "\n",
    "common_users = np.intersect1d(ratings_i[:, 0], ratings_j[:, 0])\n",
    "common_users"
   ]
  },
  {
   "cell_type": "code",
   "execution_count": null,
   "metadata": {},
   "outputs": [],
   "source": []
  },
  {
   "cell_type": "code",
   "execution_count": null,
   "metadata": {},
   "outputs": [],
   "source": []
  },
  {
   "cell_type": "code",
   "execution_count": 14,
   "metadata": {
    "id": "od1s7H5h5d7s",
    "tags": []
   },
   "outputs": [],
   "source": [
    "assert np.isclose(calculate_similarity_between_two(np_ratings, 0, 0), 1.0)\n",
    "assert np.isclose(calculate_similarity_between_two(np_ratings, 1, 2), 0.1069226)\n",
    "assert np.isclose(calculate_similarity_between_two(np_ratings, 1, 3), 0.0555092)\n",
    "assert np.isclose(calculate_similarity_between_two(np_ratings, 1, 5), -0.125509)\n",
    "assert np.isclose(calculate_similarity_between_two(np_ratings, 1, 1431), 1.0)\n",
    "assert np.isclose(calculate_similarity_between_two(np_ratings, 4, 1123), 0.0)"
   ]
  },
  {
   "cell_type": "code",
   "execution_count": 32,
   "metadata": {
    "id": "BV3cDuJ9LndX",
    "tags": []
   },
   "outputs": [],
   "source": [
    "def adjusted_cosine(np_ratings: np.array, similarity_between_two) -> tp.Tuple[np.array, np.array]:\n",
    "    \"\"\"\n",
    "    Функция, вычисляющая adjustied cosine similarity для всевозможных пар айтемов (i, j).\n",
    "    \n",
    "    np_ratings: массив, каждый элемент которого является набором (user_id, item_id, rating, norm_rating)\n",
    "    similarity_between_two: функция для подсчёта похожестей между двумя айтемами, принимает на вход массив с рейтингами и айди айтемов для подсчёта похожестей\n",
    "    \n",
    "    Возвращает:\n",
    "        1. массив размера |I|x|I|, в i-ой строке которого расположены в порядке убывания похожести i-го айтема\n",
    "        2. массив размера |I|x|I|, в i-ой строке которого расположены айди айтемов \n",
    "            в порядке убывания их похожестей с i-ым айтемом\n",
    "    \"\"\"\n",
    "    nb_items = np.unique(np_ratings[:, 1]).size\n",
    "    similarities = np.zeros(shape=(nb_items, nb_items))\n",
    "    similarities.fill(-1) # ...\n",
    "    \n",
    "    np.fill_diagonal(similarities, 1)\n",
    "    items = sorted(set(map(int, np_ratings[:, 1])))\n",
    "    \n",
    "    for i in tqdm(range(len(items))):\n",
    "        for j in range(i + 1, len(items)):\n",
    "            # your code here\n",
    "            \n",
    "            similarity = np.clip(similarity_between_two(np_ratings, items[i], items[j]), -1, 1) # clip для ассертов, а вообще не обязателен\n",
    "            similarities[items[i], items[j]] = similarity\n",
    "            similarities[items[j], items[i]] = similarity\n",
    "            \n",
    "    assert np.all(similarities.T == similarities), 'Similarity matrix should be symmetrical'\n",
    "    assert np.allclose(np.diag(similarities), 1.0), 'Similarities of items with themselves should be 1'\n",
    "    \n",
    "    # get neighbors by their neighbors in decreasing order of similarities\n",
    "    neighbors = np.flip(np.argsort(similarities), axis=1)\n",
    "    \n",
    "    # sort similarities in decreasing order\n",
    "    similarities = np.flip(np.sort(similarities), axis=1)\n",
    "        \n",
    "    return similarities, neighbors"
   ]
  },
  {
   "cell_type": "code",
   "execution_count": null,
   "metadata": {
    "id": "9TmPZMJI8mcT"
   },
   "outputs": [],
   "source": []
  },
  {
   "cell_type": "markdown",
   "metadata": {
    "id": "d_PBpLpJv1bc"
   },
   "source": [
    "Вспользуемся написанной функцией:"
   ]
  },
  {
   "cell_type": "code",
   "execution_count": 33,
   "metadata": {
    "cellId": "05t1irayiuvmhd88eg6y6c",
    "id": "l3wKNAwLv1bc",
    "tags": []
   },
   "outputs": [
    {
     "data": {
      "application/vnd.jupyter.widget-view+json": {
       "model_id": "6199f81269334e3884b981b03108ddad",
       "version_major": 2,
       "version_minor": 0
      },
      "text/plain": [
       "  0%|          | 0/1682 [00:00<?, ?it/s]"
      ]
     },
     "metadata": {},
     "output_type": "display_data"
    }
   ],
   "source": [
    "similarities, neighbors = adjusted_cosine(np_ratings, calculate_similarity_between_two)"
   ]
  },
  {
   "cell_type": "code",
   "execution_count": 34,
   "metadata": {
    "id": "I6H1mQDhv1bc",
    "tags": []
   },
   "outputs": [],
   "source": [
    "def sorted_neighbors(similarities, neighbors):\n",
    "    return [i[1] for i in sorted(zip(similarities, neighbors), key=lambda x: (x[0], -x[1]))][::-1]\n",
    "\n",
    "assert np.equal(sorted_neighbors(similarities[1], neighbors[1])[:10], \n",
    "            [1, 295, 307, 313, 358, 642, 705, 756, 821, 829]).all()\n",
    "assert np.equal(sorted_neighbors(similarities[2], neighbors[2])[:10], \n",
    "            [2, 112, 118, 313, 343, 376, 453, 535, 591, 593]).all() \n",
    "assert np.equal(sorted_neighbors(similarities[201], neighbors[201])[:10], \n",
    "            [201, 360, 598, 676, 813, 847, 1079, 1095, 1105, 1122]).all()\n",
    "assert np.equal(sorted_neighbors(similarities[800], neighbors[800])[:10], \n",
    "            [9, 18, 33, 35, 36, 44, 56, 73, 103, 212]).all()"
   ]
  },
  {
   "cell_type": "markdown",
   "metadata": {
    "id": "xzZTgr1Wv1bd"
   },
   "source": [
    "Посмотрим глазами на списки соседей, которые мы получили."
   ]
  },
  {
   "cell_type": "code",
   "execution_count": 35,
   "metadata": {
    "id": "g0j0C9p-v1bd",
    "tags": []
   },
   "outputs": [],
   "source": [
    "def neighbours_viz(item_id: int, movies: pd.DataFrame,\n",
    "                          similarities: np.array, neighbours: np.array, k=5):\n",
    "    \"\"\"\n",
    "    item_id: id фильма, для которого вычисляются соседи\n",
    "    movies: таблица с данными о фильмах\n",
    "    similarities: массив похожестей\n",
    "    neighbours: массив соседей для всех айтемов\n",
    "    \"\"\"\n",
    "    film_name = movies[movies.itemid == iencoder.inverse_transform([item_id])[0]].title.values[0]\n",
    "    similar_films = (\n",
    "        (neighbor_id, movies[movies.itemid == iencoder.inverse_transform([neighbor_id])[0]].title.values[0], similarity)\n",
    "        for neighbor_id, similarity in zip(neighbors[item_id][:k], similarities[item_id][:k])\n",
    "    )\n",
    "    display(pd.DataFrame(dict(zip(('item_id', film_name, 'Similarity'), zip(*similar_films)))))\n",
    "    print('\\n')"
   ]
  },
  {
   "cell_type": "code",
   "execution_count": 36,
   "metadata": {
    "id": "OHlDuu-f9G5g",
    "tags": []
   },
   "outputs": [
    {
     "data": {
      "text/html": [
       "<div>\n",
       "<style scoped>\n",
       "    .dataframe tbody tr th:only-of-type {\n",
       "        vertical-align: middle;\n",
       "    }\n",
       "\n",
       "    .dataframe tbody tr th {\n",
       "        vertical-align: top;\n",
       "    }\n",
       "\n",
       "    .dataframe thead th {\n",
       "        text-align: right;\n",
       "    }\n",
       "</style>\n",
       "<table border=\"1\" class=\"dataframe\">\n",
       "  <thead>\n",
       "    <tr style=\"text-align: right;\">\n",
       "      <th></th>\n",
       "      <th>item_id</th>\n",
       "      <th>Star Wars (1977)</th>\n",
       "      <th>Similarity</th>\n",
       "    </tr>\n",
       "  </thead>\n",
       "  <tbody>\n",
       "    <tr>\n",
       "      <th>0</th>\n",
       "      <td>1634</td>\n",
       "      <td>Two Friends (1986)</td>\n",
       "      <td>1.0</td>\n",
       "    </tr>\n",
       "    <tr>\n",
       "      <th>1</th>\n",
       "      <td>1195</td>\n",
       "      <td>Savage Nights (Nuits fauves, Les) (1992)</td>\n",
       "      <td>1.0</td>\n",
       "    </tr>\n",
       "    <tr>\n",
       "      <th>2</th>\n",
       "      <td>1462</td>\n",
       "      <td>Boys, Les (1997)</td>\n",
       "      <td>1.0</td>\n",
       "    </tr>\n",
       "    <tr>\n",
       "      <th>3</th>\n",
       "      <td>1646</td>\n",
       "      <td>Hana-bi (1997)</td>\n",
       "      <td>1.0</td>\n",
       "    </tr>\n",
       "    <tr>\n",
       "      <th>4</th>\n",
       "      <td>1645</td>\n",
       "      <td>Men With Guns (1997)</td>\n",
       "      <td>1.0</td>\n",
       "    </tr>\n",
       "  </tbody>\n",
       "</table>\n",
       "</div>"
      ],
      "text/plain": [
       "   item_id                          Star Wars (1977)  Similarity\n",
       "0     1634                       Two Friends (1986)          1.0\n",
       "1     1195  Savage Nights (Nuits fauves, Les) (1992)         1.0\n",
       "2     1462                          Boys, Les (1997)         1.0\n",
       "3     1646                            Hana-bi (1997)         1.0\n",
       "4     1645                      Men With Guns (1997)         1.0"
      ]
     },
     "metadata": {},
     "output_type": "display_data"
    },
    {
     "name": "stdout",
     "output_type": "stream",
     "text": [
      "\n",
      "\n"
     ]
    },
    {
     "data": {
      "text/html": [
       "<div>\n",
       "<style scoped>\n",
       "    .dataframe tbody tr th:only-of-type {\n",
       "        vertical-align: middle;\n",
       "    }\n",
       "\n",
       "    .dataframe tbody tr th {\n",
       "        vertical-align: top;\n",
       "    }\n",
       "\n",
       "    .dataframe thead th {\n",
       "        text-align: right;\n",
       "    }\n",
       "</style>\n",
       "<table border=\"1\" class=\"dataframe\">\n",
       "  <thead>\n",
       "    <tr style=\"text-align: right;\">\n",
       "      <th></th>\n",
       "      <th>item_id</th>\n",
       "      <th>Forrest Gump (1994)</th>\n",
       "      <th>Similarity</th>\n",
       "    </tr>\n",
       "  </thead>\n",
       "  <tbody>\n",
       "    <tr>\n",
       "      <th>0</th>\n",
       "      <td>1293</td>\n",
       "      <td>Ayn Rand: A Sense of Life (1997)</td>\n",
       "      <td>1.0</td>\n",
       "    </tr>\n",
       "    <tr>\n",
       "      <th>1</th>\n",
       "      <td>1640</td>\n",
       "      <td>Dadetown (1995)</td>\n",
       "      <td>1.0</td>\n",
       "    </tr>\n",
       "    <tr>\n",
       "      <th>2</th>\n",
       "      <td>1157</td>\n",
       "      <td>Fille seule, La (A Single Girl) (1995)</td>\n",
       "      <td>1.0</td>\n",
       "    </tr>\n",
       "    <tr>\n",
       "      <th>3</th>\n",
       "      <td>1331</td>\n",
       "      <td>My Life and Times With Antonin Artaud (En comp...</td>\n",
       "      <td>1.0</td>\n",
       "    </tr>\n",
       "    <tr>\n",
       "      <th>4</th>\n",
       "      <td>1462</td>\n",
       "      <td>Boys, Les (1997)</td>\n",
       "      <td>1.0</td>\n",
       "    </tr>\n",
       "  </tbody>\n",
       "</table>\n",
       "</div>"
      ],
      "text/plain": [
       "   item_id                                Forrest Gump (1994)  Similarity\n",
       "0     1293                   Ayn Rand: A Sense of Life (1997)         1.0\n",
       "1     1640                                    Dadetown (1995)         1.0\n",
       "2     1157             Fille seule, La (A Single Girl) (1995)         1.0\n",
       "3     1331  My Life and Times With Antonin Artaud (En comp...         1.0\n",
       "4     1462                                   Boys, Les (1997)         1.0"
      ]
     },
     "metadata": {},
     "output_type": "display_data"
    },
    {
     "name": "stdout",
     "output_type": "stream",
     "text": [
      "\n",
      "\n"
     ]
    },
    {
     "data": {
      "text/html": [
       "<div>\n",
       "<style scoped>\n",
       "    .dataframe tbody tr th:only-of-type {\n",
       "        vertical-align: middle;\n",
       "    }\n",
       "\n",
       "    .dataframe tbody tr th {\n",
       "        vertical-align: top;\n",
       "    }\n",
       "\n",
       "    .dataframe thead th {\n",
       "        text-align: right;\n",
       "    }\n",
       "</style>\n",
       "<table border=\"1\" class=\"dataframe\">\n",
       "  <thead>\n",
       "    <tr style=\"text-align: right;\">\n",
       "      <th></th>\n",
       "      <th>item_id</th>\n",
       "      <th>Dirty Dancing (1987)</th>\n",
       "      <th>Similarity</th>\n",
       "    </tr>\n",
       "  </thead>\n",
       "  <tbody>\n",
       "    <tr>\n",
       "      <th>0</th>\n",
       "      <td>1681</td>\n",
       "      <td>Scream of Stone (Schrei aus Stein) (1991)</td>\n",
       "      <td>1.0</td>\n",
       "    </tr>\n",
       "    <tr>\n",
       "      <th>1</th>\n",
       "      <td>1143</td>\n",
       "      <td>Quiet Room, The (1996)</td>\n",
       "      <td>1.0</td>\n",
       "    </tr>\n",
       "    <tr>\n",
       "      <th>2</th>\n",
       "      <td>1552</td>\n",
       "      <td>Underneath, The (1995)</td>\n",
       "      <td>1.0</td>\n",
       "    </tr>\n",
       "    <tr>\n",
       "      <th>3</th>\n",
       "      <td>1551</td>\n",
       "      <td>Hunted, The (1995)</td>\n",
       "      <td>1.0</td>\n",
       "    </tr>\n",
       "    <tr>\n",
       "      <th>4</th>\n",
       "      <td>1081</td>\n",
       "      <td>Female Perversions (1996)</td>\n",
       "      <td>1.0</td>\n",
       "    </tr>\n",
       "  </tbody>\n",
       "</table>\n",
       "</div>"
      ],
      "text/plain": [
       "   item_id                       Dirty Dancing (1987)  Similarity\n",
       "0     1681  Scream of Stone (Schrei aus Stein) (1991)         1.0\n",
       "1     1143                     Quiet Room, The (1996)         1.0\n",
       "2     1552                     Underneath, The (1995)         1.0\n",
       "3     1551                         Hunted, The (1995)         1.0\n",
       "4     1081                  Female Perversions (1996)         1.0"
      ]
     },
     "metadata": {},
     "output_type": "display_data"
    },
    {
     "name": "stdout",
     "output_type": "stream",
     "text": [
      "\n",
      "\n"
     ]
    },
    {
     "data": {
      "text/html": [
       "<div>\n",
       "<style scoped>\n",
       "    .dataframe tbody tr th:only-of-type {\n",
       "        vertical-align: middle;\n",
       "    }\n",
       "\n",
       "    .dataframe tbody tr th {\n",
       "        vertical-align: top;\n",
       "    }\n",
       "\n",
       "    .dataframe thead th {\n",
       "        text-align: right;\n",
       "    }\n",
       "</style>\n",
       "<table border=\"1\" class=\"dataframe\">\n",
       "  <thead>\n",
       "    <tr style=\"text-align: right;\">\n",
       "      <th></th>\n",
       "      <th>item_id</th>\n",
       "      <th>Evil Dead II (1987)</th>\n",
       "      <th>Similarity</th>\n",
       "    </tr>\n",
       "  </thead>\n",
       "  <tbody>\n",
       "    <tr>\n",
       "      <th>0</th>\n",
       "      <td>888</td>\n",
       "      <td>Tango Lesson, The (1997)</td>\n",
       "      <td>1.0</td>\n",
       "    </tr>\n",
       "    <tr>\n",
       "      <th>1</th>\n",
       "      <td>1552</td>\n",
       "      <td>Underneath, The (1995)</td>\n",
       "      <td>1.0</td>\n",
       "    </tr>\n",
       "    <tr>\n",
       "      <th>2</th>\n",
       "      <td>1561</td>\n",
       "      <td>Eye of Vichy, The (Oeil de Vichy, L') (1993)</td>\n",
       "      <td>1.0</td>\n",
       "    </tr>\n",
       "    <tr>\n",
       "      <th>3</th>\n",
       "      <td>1560</td>\n",
       "      <td>Tigrero: A Film That Was Never Made (1994)</td>\n",
       "      <td>1.0</td>\n",
       "    </tr>\n",
       "    <tr>\n",
       "      <th>4</th>\n",
       "      <td>1559</td>\n",
       "      <td>Clean Slate (Coup de Torchon) (1981)</td>\n",
       "      <td>1.0</td>\n",
       "    </tr>\n",
       "  </tbody>\n",
       "</table>\n",
       "</div>"
      ],
      "text/plain": [
       "   item_id                           Evil Dead II (1987)  Similarity\n",
       "0      888                      Tango Lesson, The (1997)         1.0\n",
       "1     1552                        Underneath, The (1995)         1.0\n",
       "2     1561  Eye of Vichy, The (Oeil de Vichy, L') (1993)         1.0\n",
       "3     1560    Tigrero: A Film That Was Never Made (1994)         1.0\n",
       "4     1559          Clean Slate (Coup de Torchon) (1981)         1.0"
      ]
     },
     "metadata": {},
     "output_type": "display_data"
    },
    {
     "name": "stdout",
     "output_type": "stream",
     "text": [
      "\n",
      "\n"
     ]
    }
   ],
   "source": [
    "neighbours_viz(49, movies, similarities, neighbors)\n",
    "neighbours_viz(68, movies, similarities, neighbors)\n",
    "neighbours_viz(154, movies, similarities, neighbors)\n",
    "neighbours_viz(200, movies, similarities, neighbors)"
   ]
  },
  {
   "cell_type": "code",
   "execution_count": 37,
   "metadata": {
    "id": "ykAWpIp08mcV",
    "tags": []
   },
   "outputs": [
    {
     "data": {
      "text/plain": [
       "1"
      ]
     },
     "execution_count": 37,
     "metadata": {},
     "output_type": "execute_result"
    }
   ],
   "source": [
    "len(np_ratings[np_ratings[:, 1] == 1634])"
   ]
  },
  {
   "cell_type": "markdown",
   "metadata": {
    "id": "PQfUUfdnKxuS"
   },
   "source": [
    "Как вам кажется, получились ли у нас хорошие результаты? Что объединяет нерелевантные айтемы из топов по похожестям?"
   ]
  },
  {
   "cell_type": "code",
   "execution_count": 38,
   "metadata": {
    "id": "Y70IKhWnKw8b",
    "tags": []
   },
   "outputs": [],
   "source": [
    "def calculate_similarity_between_two_with_threshold(np_ratings: np.array, i: int, j: int) -> float:\n",
    "    \"\"\"\n",
    "    np_ratings: массив, каждый элемент которого является набором (user_id, item_id, rating, norm_rating)\n",
    "    i: номер первого айтема для вычисления похожести\n",
    "    j: номер второго айтема для вычисления похожести\n",
    "\n",
    "    Возвращает значение adjustied cosine similarity для айтемов i и j. \n",
    "    \"\"\"\n",
    "    THRESHOLD = 20 # порог для числа общих юзеров. считаем пару валидной если общее число больше порога\n",
    "    # your code here\n",
    "    \n",
    "    i_ratings = ratings_for_item(i)\n",
    "    j_ratings = ratings_for_item(j)\n",
    "    common_users = np.intersect1d(i_ratings[:, 0].astype(int), j_ratings[:, 0].astype(int))\n",
    "    \n",
    "    if len(common_users) <= THRESHOLD:\n",
    "        return 0\n",
    "    \n",
    "    i_ratings = i_ratings[np.isin(i_ratings[:, 0].astype(int), list(common_users))]\n",
    "    j_ratings = j_ratings[np.isin(j_ratings[:, 0].astype(int), list(common_users))]\n",
    "    similarity = cosine(i_ratings[:, 3], j_ratings[:, 3])\n",
    "    \n",
    "    return similarity"
   ]
  },
  {
   "cell_type": "code",
   "execution_count": 39,
   "metadata": {
    "id": "0o_KjzkjrPJT",
    "tags": []
   },
   "outputs": [],
   "source": [
    "assert np.isclose(calculate_similarity_between_two_with_threshold(np_ratings, 1, 1431), 0)\n",
    "assert np.isclose(calculate_similarity_between_two_with_threshold(np_ratings, 1, 17), 0)\n",
    "assert np.isclose(calculate_similarity_between_two_with_threshold(np_ratings, 4, 1123), 0)\n",
    "assert np.isclose(calculate_similarity_between_two_with_threshold(np_ratings, 914, 1681), 0)"
   ]
  },
  {
   "cell_type": "code",
   "execution_count": 40,
   "metadata": {
    "id": "aUIBULBI8mcW",
    "tags": []
   },
   "outputs": [
    {
     "data": {
      "text/plain": [
       "-0.6264337107802631"
      ]
     },
     "execution_count": 40,
     "metadata": {},
     "output_type": "execute_result"
    }
   ],
   "source": [
    "calculate_similarity_between_two_with_threshold(np_ratings, 49, 840)"
   ]
  },
  {
   "cell_type": "code",
   "execution_count": 41,
   "metadata": {
    "id": "Kbx1ElEPLFF6",
    "tags": []
   },
   "outputs": [
    {
     "data": {
      "application/vnd.jupyter.widget-view+json": {
       "model_id": "413a8a85285544a39210eb437aa3b488",
       "version_major": 2,
       "version_minor": 0
      },
      "text/plain": [
       "  0%|          | 0/1682 [00:00<?, ?it/s]"
      ]
     },
     "metadata": {},
     "output_type": "display_data"
    }
   ],
   "source": [
    "similarities, neighbors = adjusted_cosine(np_ratings, calculate_similarity_between_two_with_threshold)"
   ]
  },
  {
   "cell_type": "markdown",
   "metadata": {
    "id": "z4QXqO2a9n9n"
   },
   "source": [
    "Посмотрим, что получилось теперь:"
   ]
  },
  {
   "cell_type": "code",
   "execution_count": 42,
   "metadata": {
    "id": "Q6n8kbeg9nS9",
    "tags": []
   },
   "outputs": [
    {
     "data": {
      "text/html": [
       "<div>\n",
       "<style scoped>\n",
       "    .dataframe tbody tr th:only-of-type {\n",
       "        vertical-align: middle;\n",
       "    }\n",
       "\n",
       "    .dataframe tbody tr th {\n",
       "        vertical-align: top;\n",
       "    }\n",
       "\n",
       "    .dataframe thead th {\n",
       "        text-align: right;\n",
       "    }\n",
       "</style>\n",
       "<table border=\"1\" class=\"dataframe\">\n",
       "  <thead>\n",
       "    <tr style=\"text-align: right;\">\n",
       "      <th></th>\n",
       "      <th>item_id</th>\n",
       "      <th>Star Wars (1977)</th>\n",
       "      <th>Similarity</th>\n",
       "    </tr>\n",
       "  </thead>\n",
       "  <tbody>\n",
       "    <tr>\n",
       "      <th>0</th>\n",
       "      <td>49</td>\n",
       "      <td>Star Wars (1977)</td>\n",
       "      <td>1.000000</td>\n",
       "    </tr>\n",
       "    <tr>\n",
       "      <th>1</th>\n",
       "      <td>171</td>\n",
       "      <td>Empire Strikes Back, The (1980)</td>\n",
       "      <td>0.826287</td>\n",
       "    </tr>\n",
       "    <tr>\n",
       "      <th>2</th>\n",
       "      <td>180</td>\n",
       "      <td>Return of the Jedi (1983)</td>\n",
       "      <td>0.728182</td>\n",
       "    </tr>\n",
       "    <tr>\n",
       "      <th>3</th>\n",
       "      <td>173</td>\n",
       "      <td>Raiders of the Lost Ark (1981)</td>\n",
       "      <td>0.714250</td>\n",
       "    </tr>\n",
       "    <tr>\n",
       "      <th>4</th>\n",
       "      <td>407</td>\n",
       "      <td>Close Shave, A (1995)</td>\n",
       "      <td>0.659379</td>\n",
       "    </tr>\n",
       "  </tbody>\n",
       "</table>\n",
       "</div>"
      ],
      "text/plain": [
       "   item_id                 Star Wars (1977)  Similarity\n",
       "0       49                 Star Wars (1977)    1.000000\n",
       "1      171  Empire Strikes Back, The (1980)    0.826287\n",
       "2      180        Return of the Jedi (1983)    0.728182\n",
       "3      173   Raiders of the Lost Ark (1981)    0.714250\n",
       "4      407            Close Shave, A (1995)    0.659379"
      ]
     },
     "metadata": {},
     "output_type": "display_data"
    },
    {
     "name": "stdout",
     "output_type": "stream",
     "text": [
      "\n",
      "\n"
     ]
    },
    {
     "data": {
      "text/html": [
       "<div>\n",
       "<style scoped>\n",
       "    .dataframe tbody tr th:only-of-type {\n",
       "        vertical-align: middle;\n",
       "    }\n",
       "\n",
       "    .dataframe tbody tr th {\n",
       "        vertical-align: top;\n",
       "    }\n",
       "\n",
       "    .dataframe thead th {\n",
       "        text-align: right;\n",
       "    }\n",
       "</style>\n",
       "<table border=\"1\" class=\"dataframe\">\n",
       "  <thead>\n",
       "    <tr style=\"text-align: right;\">\n",
       "      <th></th>\n",
       "      <th>item_id</th>\n",
       "      <th>Forrest Gump (1994)</th>\n",
       "      <th>Similarity</th>\n",
       "    </tr>\n",
       "  </thead>\n",
       "  <tbody>\n",
       "    <tr>\n",
       "      <th>0</th>\n",
       "      <td>68</td>\n",
       "      <td>Forrest Gump (1994)</td>\n",
       "      <td>1.000000</td>\n",
       "    </tr>\n",
       "    <tr>\n",
       "      <th>1</th>\n",
       "      <td>214</td>\n",
       "      <td>Field of Dreams (1989)</td>\n",
       "      <td>0.445981</td>\n",
       "    </tr>\n",
       "    <tr>\n",
       "      <th>2</th>\n",
       "      <td>309</td>\n",
       "      <td>Rainmaker, The (1997)</td>\n",
       "      <td>0.436435</td>\n",
       "    </tr>\n",
       "    <tr>\n",
       "      <th>3</th>\n",
       "      <td>21</td>\n",
       "      <td>Braveheart (1995)</td>\n",
       "      <td>0.422572</td>\n",
       "    </tr>\n",
       "    <tr>\n",
       "      <th>4</th>\n",
       "      <td>965</td>\n",
       "      <td>Affair to Remember, An (1957)</td>\n",
       "      <td>0.420235</td>\n",
       "    </tr>\n",
       "  </tbody>\n",
       "</table>\n",
       "</div>"
      ],
      "text/plain": [
       "   item_id            Forrest Gump (1994)  Similarity\n",
       "0       68            Forrest Gump (1994)    1.000000\n",
       "1      214         Field of Dreams (1989)    0.445981\n",
       "2      309          Rainmaker, The (1997)    0.436435\n",
       "3       21              Braveheart (1995)    0.422572\n",
       "4      965  Affair to Remember, An (1957)    0.420235"
      ]
     },
     "metadata": {},
     "output_type": "display_data"
    },
    {
     "name": "stdout",
     "output_type": "stream",
     "text": [
      "\n",
      "\n"
     ]
    },
    {
     "data": {
      "text/html": [
       "<div>\n",
       "<style scoped>\n",
       "    .dataframe tbody tr th:only-of-type {\n",
       "        vertical-align: middle;\n",
       "    }\n",
       "\n",
       "    .dataframe tbody tr th {\n",
       "        vertical-align: top;\n",
       "    }\n",
       "\n",
       "    .dataframe thead th {\n",
       "        text-align: right;\n",
       "    }\n",
       "</style>\n",
       "<table border=\"1\" class=\"dataframe\">\n",
       "  <thead>\n",
       "    <tr style=\"text-align: right;\">\n",
       "      <th></th>\n",
       "      <th>item_id</th>\n",
       "      <th>Dirty Dancing (1987)</th>\n",
       "      <th>Similarity</th>\n",
       "    </tr>\n",
       "  </thead>\n",
       "  <tbody>\n",
       "    <tr>\n",
       "      <th>0</th>\n",
       "      <td>154</td>\n",
       "      <td>Dirty Dancing (1987)</td>\n",
       "      <td>1.000000</td>\n",
       "    </tr>\n",
       "    <tr>\n",
       "      <th>1</th>\n",
       "      <td>626</td>\n",
       "      <td>Robin Hood: Prince of Thieves (1991)</td>\n",
       "      <td>0.727235</td>\n",
       "    </tr>\n",
       "    <tr>\n",
       "      <th>2</th>\n",
       "      <td>568</td>\n",
       "      <td>Wolf (1994)</td>\n",
       "      <td>0.716361</td>\n",
       "    </tr>\n",
       "    <tr>\n",
       "      <th>3</th>\n",
       "      <td>254</td>\n",
       "      <td>My Best Friend's Wedding (1997)</td>\n",
       "      <td>0.708146</td>\n",
       "    </tr>\n",
       "    <tr>\n",
       "      <th>4</th>\n",
       "      <td>416</td>\n",
       "      <td>Parent Trap, The (1961)</td>\n",
       "      <td>0.634029</td>\n",
       "    </tr>\n",
       "  </tbody>\n",
       "</table>\n",
       "</div>"
      ],
      "text/plain": [
       "   item_id                  Dirty Dancing (1987)  Similarity\n",
       "0      154                  Dirty Dancing (1987)    1.000000\n",
       "1      626  Robin Hood: Prince of Thieves (1991)    0.727235\n",
       "2      568                           Wolf (1994)    0.716361\n",
       "3      254       My Best Friend's Wedding (1997)    0.708146\n",
       "4      416               Parent Trap, The (1961)    0.634029"
      ]
     },
     "metadata": {},
     "output_type": "display_data"
    },
    {
     "name": "stdout",
     "output_type": "stream",
     "text": [
      "\n",
      "\n"
     ]
    },
    {
     "data": {
      "text/html": [
       "<div>\n",
       "<style scoped>\n",
       "    .dataframe tbody tr th:only-of-type {\n",
       "        vertical-align: middle;\n",
       "    }\n",
       "\n",
       "    .dataframe tbody tr th {\n",
       "        vertical-align: top;\n",
       "    }\n",
       "\n",
       "    .dataframe thead th {\n",
       "        text-align: right;\n",
       "    }\n",
       "</style>\n",
       "<table border=\"1\" class=\"dataframe\">\n",
       "  <thead>\n",
       "    <tr style=\"text-align: right;\">\n",
       "      <th></th>\n",
       "      <th>item_id</th>\n",
       "      <th>Evil Dead II (1987)</th>\n",
       "      <th>Similarity</th>\n",
       "    </tr>\n",
       "  </thead>\n",
       "  <tbody>\n",
       "    <tr>\n",
       "      <th>0</th>\n",
       "      <td>200</td>\n",
       "      <td>Evil Dead II (1987)</td>\n",
       "      <td>1.000000</td>\n",
       "    </tr>\n",
       "    <tr>\n",
       "      <th>1</th>\n",
       "      <td>183</td>\n",
       "      <td>Army of Darkness (1993)</td>\n",
       "      <td>0.574317</td>\n",
       "    </tr>\n",
       "    <tr>\n",
       "      <th>2</th>\n",
       "      <td>23</td>\n",
       "      <td>Rumble in the Bronx (1995)</td>\n",
       "      <td>0.536677</td>\n",
       "    </tr>\n",
       "    <tr>\n",
       "      <th>3</th>\n",
       "      <td>90</td>\n",
       "      <td>Nightmare Before Christmas, The (1993)</td>\n",
       "      <td>0.491057</td>\n",
       "    </tr>\n",
       "    <tr>\n",
       "      <th>4</th>\n",
       "      <td>557</td>\n",
       "      <td>Heavenly Creatures (1994)</td>\n",
       "      <td>0.481768</td>\n",
       "    </tr>\n",
       "  </tbody>\n",
       "</table>\n",
       "</div>"
      ],
      "text/plain": [
       "   item_id                     Evil Dead II (1987)  Similarity\n",
       "0      200                     Evil Dead II (1987)    1.000000\n",
       "1      183                 Army of Darkness (1993)    0.574317\n",
       "2       23              Rumble in the Bronx (1995)    0.536677\n",
       "3       90  Nightmare Before Christmas, The (1993)    0.491057\n",
       "4      557               Heavenly Creatures (1994)    0.481768"
      ]
     },
     "metadata": {},
     "output_type": "display_data"
    },
    {
     "name": "stdout",
     "output_type": "stream",
     "text": [
      "\n",
      "\n"
     ]
    }
   ],
   "source": [
    "neighbours_viz(49, movies, similarities, neighbors)\n",
    "neighbours_viz(68, movies, similarities, neighbors)\n",
    "neighbours_viz(154, movies, similarities, neighbors)\n",
    "neighbours_viz(200, movies, similarities, neighbors)"
   ]
  },
  {
   "cell_type": "markdown",
   "metadata": {
    "cellId": "hseep36n118brjb0uuee4b",
    "id": "TyLvzZfBv1bd"
   },
   "source": [
    "### Шаг 2. Выбрать топ рекомендаций для пользователя"
   ]
  },
  {
   "cell_type": "markdown",
   "metadata": {
    "id": "oXxnirjyv1be"
   },
   "source": [
    "Теперь, когда для каждого айтема есть список похожих, научимся формировать рекомендацию для пользователя.\n",
    "\n",
    "#### Отбор кандидатов\n",
    "\n",
    "1. Для каждого айтема из истории соберём сет из k самых похожих айтемов\n",
    "2. Объединим полученные сеты\n",
    "3. Уберём из полученного множества те айтемы, с которыми пользователь уже взаимодействовал"
   ]
  },
  {
   "cell_type": "code",
   "execution_count": 43,
   "metadata": {
    "cellId": "g318akv7ffe8fg0iufcoxw",
    "id": "cwWDrpN5v1be",
    "tags": []
   },
   "outputs": [],
   "source": [
    "def candidate_items(np_ratings: np.array, userid: int, k=-1) -> tp.Tuple[np.array, np.array]:\n",
    "    \"\"\"\n",
    "    np_ratings: массив, каждый элемент которого является набором (user_id, item_id, rating, norm_rating)\n",
    "    userid: id пользователя, для которого генерируются кандидаты\n",
    "    k: количество кандидатов с каждого айтема из истории\n",
    "    \n",
    "    Возвращает \n",
    "        1. массив user_item_ids с id фильмов, просмотренных пользователем\n",
    "        2. массив айтемов, близких к айтемам из истории пользователя\n",
    "    \"\"\"\n",
    "    \n",
    "    # your code here\n",
    "    \n",
    "    user_item_ids = np_ratings[np_ratings[:, 0] == userid]\n",
    "    user_item_ids = user_item_ids[:, 1].astype(int)\n",
    "    \n",
    "    c = set()\n",
    "    \n",
    "    for item_id in user_item_ids:\n",
    "        c.update(neighbors[item_id, :k])\n",
    "        \n",
    "    c = list(c)\n",
    "    \n",
    "    candidates = np.setdiff1d(c, user_item_ids, assume_unique=True)\n",
    "    \n",
    "    return user_item_ids, candidates"
   ]
  },
  {
   "cell_type": "code",
   "execution_count": 44,
   "metadata": {
    "cellId": "8tx2ejas3twa354gtswotm",
    "id": "RvwdB11Jv1be",
    "tags": []
   },
   "outputs": [
    {
     "name": "stdout",
     "output_type": "stream",
     "text": [
      "Количество просмотренных фильмов пользователя 1: 54\n",
      "Количество кандидатов для пользователя 1: 1628\n"
     ]
    }
   ],
   "source": [
    "user_item_ids, u_candidates = candidate_items(np_ratings, uencoder.transform([3])[0])\n",
    "\n",
    "print('Количество просмотренных фильмов пользователя 1:', len(user_item_ids))\n",
    "print('Количество кандидатов для пользователя 1:', len(u_candidates))"
   ]
  },
  {
   "cell_type": "code",
   "execution_count": 46,
   "metadata": {
    "id": "1UMBD0_lv1be",
    "tags": []
   },
   "outputs": [],
   "source": [
    "user_item_ids_test, u_candidates_test = candidate_items(np_ratings, uencoder.transform([1])[0])\n",
    "assert len(user_item_ids_test) == 272\n",
    "assert len(u_candidates_test) == 1410\n",
    "\n",
    "user_item_ids_test, u_candidates_test = candidate_items(np_ratings, uencoder.transform([50])[0])\n",
    "assert len(user_item_ids_test) == 24\n",
    "assert len(u_candidates_test) == 1658\n",
    "\n",
    "user_item_ids_test, u_candidates_test = candidate_items(np_ratings, uencoder.transform([200])[0], 30)\n",
    "assert len(user_item_ids_test) == 216\n",
    "assert len(u_candidates_test) == 607\n",
    "\n",
    "user_item_ids_test, u_candidates_test = candidate_items(np_ratings, uencoder.transform([200])[0], 15)\n",
    "assert len(user_item_ids_test) == 216\n",
    "assert len(u_candidates_test) == 526\n",
    "\n",
    "user_item_ids_test, u_candidates_test = candidate_items(np_ratings, uencoder.transform([942])[0])\n",
    "assert len(user_item_ids_test) == 79\n",
    "assert len(u_candidates_test) == 1603\n",
    "\n",
    "del user_item_ids_test, u_candidates_test"
   ]
  },
  {
   "cell_type": "markdown",
   "metadata": {
    "cellId": "2t3p1thkyiwapp43oni90l",
    "id": "Ep4AmKdOv1be"
   },
   "source": [
    "#### Вычисление похожести между кандидатом и множеством айтемов из истории пользователя u"
   ]
  },
  {
   "cell_type": "code",
   "execution_count": 47,
   "metadata": {
    "cellId": "azxskh7983hfjdsjtyzifq",
    "id": "K8GCR42Wv1bf"
   },
   "outputs": [],
   "source": [
    "def similarity_with_user_items(item_id: int, user_item_ids: np.array, similarities: np.array, neighbors: np.array) -> float:\n",
    "    \"\"\"\n",
    "    item_id: id айтема-кандидата, для которого считается похожесть с историей пользователя\n",
    "    user_item_ids: массив id фильмов, просмотренных пользователем\n",
    "    similarities: массив похожестей айтемов\n",
    "    neighbors: массив соседей для всех айтемов\n",
    "    \n",
    "    Возвращает число – похожесть айтема на историю пользователя.\n",
    "    \"\"\"\n",
    "    w = 0     \n",
    "    for i_id in user_item_ids:        \n",
    "        # get similarity between itemid and c, if c is one of the k nearest neighbors of itemid\n",
    "        # your code here\n",
    "        \n",
    "        if i_id in neighbors[item_id]:\n",
    "            w = w + similarities[i_id, neighbors[i_id] == item_id][0]\n",
    "    return w"
   ]
  },
  {
   "cell_type": "code",
   "execution_count": 48,
   "metadata": {
    "id": "pt3_t-LBv1bf"
   },
   "outputs": [],
   "source": [
    "user_item_ids_test, _ = candidate_items(np_ratings, uencoder.transform([1])[0])\n",
    "\n",
    "assert np.isclose(similarity_with_user_items(0, user_item_ids_test, similarities, neighbors), 9.852485)\n",
    "assert np.isclose(similarity_with_user_items(200, user_item_ids_test, similarities, neighbors), 5.914738)\n",
    "\n",
    "user_item_ids_test, _ = candidate_items(np_ratings, uencoder.transform([300])[0])\n",
    "\n",
    "assert np.isclose(similarity_with_user_items(200, user_item_ids_test, similarities, neighbors), 0.294773)\n",
    "assert np.isclose(similarity_with_user_items(242, user_item_ids_test, similarities, neighbors), 5.008178)"
   ]
  },
  {
   "cell_type": "markdown",
   "metadata": {
    "cellId": "2t3p1thkyiwapp43oni90l",
    "id": "BY9qaIOcv1bf"
   },
   "source": [
    "#### Ранжирование кандидатов по их похожестям на историю пользователя"
   ]
  },
  {
   "cell_type": "code",
   "execution_count": 49,
   "metadata": {
    "cellId": "angr2yo0e4zk965hv14r",
    "id": "Gj3efZMqv1bf"
   },
   "outputs": [],
   "source": [
    "def rank_candidates(candidates: np.array, user_item_ids: np.array, similarities: np.array, neighbors: np.array) -> np.array:\n",
    "    \"\"\"\n",
    "    candidates: массив id фильмов-кандидатов\n",
    "    user_item_ids: массив id фильмов, просмотренных пользователем\n",
    "    similarities: массив похожестей айтемов\n",
    "    neighbors: массив соседей для всех айтемов\n",
    "    \n",
    "    Возвращает массив tuple, где первый элемент – айди айтема, второй – похожесть на историю пользователя\n",
    "    \"\"\"\n",
    "    \n",
    "    # list of candidate items mapped to their corresponding similarities to user_item_ids\n",
    "    sims = [similarity_with_user_items(c, user_item_ids, similarities, neighbors) for c in candidates]\n",
    "    candidates = iencoder.inverse_transform(candidates)    \n",
    "    mapping = list(zip(candidates, sims))\n",
    "    \n",
    "    ranked_candidates = sorted(mapping, key=lambda couple:couple[1], reverse=True)    \n",
    "    return ranked_candidates"
   ]
  },
  {
   "cell_type": "code",
   "execution_count": 50,
   "metadata": {
    "id": "AJKMVQRcv1bf"
   },
   "outputs": [],
   "source": [
    "user_item_ids_test, candidates_test = candidate_items(np_ratings, uencoder.transform([1])[0])\n",
    "assert len(rank_candidates(candidates_test, user_item_ids_test, similarities, neighbors)) == len(candidates_test)\n",
    "assert rank_candidates(candidates_test, user_item_ids_test, similarities, neighbors)[0][0] == 408\n",
    "assert rank_candidates(candidates_test, user_item_ids_test, similarities, neighbors)[10][0] == 792\n",
    "assert rank_candidates(candidates_test, user_item_ids_test, similarities, neighbors)[19][0] == 661"
   ]
  },
  {
   "cell_type": "markdown",
   "metadata": {
    "id": "vJ4M9NLhv1bf"
   },
   "source": [
    "## Соберём всё вместе"
   ]
  },
  {
   "cell_type": "markdown",
   "metadata": {
    "id": "4T6EHhfUv1bf"
   },
   "source": [
    "Теперь у нас есть всё, что нужно: отбор кандидатов, ранжирующая функция и мы готовы собрать весь пайплайн item-to-item рекомендаций."
   ]
  },
  {
   "cell_type": "code",
   "execution_count": 55,
   "metadata": {
    "cellId": "xbxcbljvovnf3iolf27kw",
    "id": "iV9vTfbPv1bg"
   },
   "outputs": [],
   "source": [
    "def topn_recommendation(np_ratings: np.array, userid: int, similarities: np.array, neighbors: np.array, k=-1, N=30):\n",
    "    \"\"\"\n",
    "    np_ratings: массив, каждый элемент которого является набором (user_id, item_id, rating, norm_rating)\n",
    "    userid: id пользователя, для которого генерируются кандидаты\n",
    "    similarities: массив похожестей айтемов\n",
    "    neighbors: массив соседей для всех айтемов\n",
    "    k: количество кандидатов на стадии отбора кандидатов\n",
    "    N: количество рекомендаций фильмов для пользователя\n",
    "    \n",
    "    Возвращает dataframe c рекомендацией top-N фильмов для пользователя userid.\n",
    "    \"\"\"\n",
    "    # find candidate items\n",
    "    # user_item_ids, candidates = # your code here\n",
    "    user_item_ids, candidates = candidate_items(np_ratings, userid, k)\n",
    "    \n",
    "    \n",
    "    # rank candidate items according to their similarities with user_item_ids\n",
    "    # ranked_candidates = # your code here\n",
    "    ranked_candidates = rank_candidates(candidates, user_item_ids, similarities, neighbors)\n",
    "    \n",
    "    \n",
    "    # get the first N row of ranked_candidates to build the top N recommendation list\n",
    "    topn = pd.DataFrame(ranked_candidates[:N], columns=['itemid', 'similarity_with_Iu'])    \n",
    "    topn = pd.merge(topn, movies, on='itemid', how='inner')    \n",
    "    return topn"
   ]
  },
  {
   "cell_type": "markdown",
   "metadata": {
    "id": "Mi1AmzvzHXMw"
   },
   "source": [
    "Посмотрим, как это работает:"
   ]
  },
  {
   "cell_type": "code",
   "execution_count": 56,
   "metadata": {
    "cellId": "oihvlnpro923jizcej58x",
    "id": "NLD9Xo6Kv1bg"
   },
   "outputs": [
    {
     "data": {
      "text/html": [
       "<div>\n",
       "<style scoped>\n",
       "    .dataframe tbody tr th:only-of-type {\n",
       "        vertical-align: middle;\n",
       "    }\n",
       "\n",
       "    .dataframe tbody tr th {\n",
       "        vertical-align: top;\n",
       "    }\n",
       "\n",
       "    .dataframe thead th {\n",
       "        text-align: right;\n",
       "    }\n",
       "</style>\n",
       "<table border=\"1\" class=\"dataframe\">\n",
       "  <thead>\n",
       "    <tr style=\"text-align: right;\">\n",
       "      <th></th>\n",
       "      <th>itemid</th>\n",
       "      <th>similarity_with_Iu</th>\n",
       "      <th>title</th>\n",
       "    </tr>\n",
       "  </thead>\n",
       "  <tbody>\n",
       "    <tr>\n",
       "      <th>0</th>\n",
       "      <td>408</td>\n",
       "      <td>26.691274</td>\n",
       "      <td>Close Shave, A (1995)</td>\n",
       "    </tr>\n",
       "    <tr>\n",
       "      <th>1</th>\n",
       "      <td>302</td>\n",
       "      <td>26.377228</td>\n",
       "      <td>L.A. Confidential (1997)</td>\n",
       "    </tr>\n",
       "    <tr>\n",
       "      <th>2</th>\n",
       "      <td>316</td>\n",
       "      <td>23.746689</td>\n",
       "      <td>As Good As It Gets (1997)</td>\n",
       "    </tr>\n",
       "    <tr>\n",
       "      <th>3</th>\n",
       "      <td>467</td>\n",
       "      <td>22.908033</td>\n",
       "      <td>Bronx Tale, A (1993)</td>\n",
       "    </tr>\n",
       "    <tr>\n",
       "      <th>4</th>\n",
       "      <td>963</td>\n",
       "      <td>21.545264</td>\n",
       "      <td>Some Folks Call It a Sling Blade (1993)</td>\n",
       "    </tr>\n",
       "    <tr>\n",
       "      <th>5</th>\n",
       "      <td>293</td>\n",
       "      <td>20.832552</td>\n",
       "      <td>Donnie Brasco (1997)</td>\n",
       "    </tr>\n",
       "    <tr>\n",
       "      <th>6</th>\n",
       "      <td>313</td>\n",
       "      <td>20.058310</td>\n",
       "      <td>Titanic (1997)</td>\n",
       "    </tr>\n",
       "    <tr>\n",
       "      <th>7</th>\n",
       "      <td>1039</td>\n",
       "      <td>19.332570</td>\n",
       "      <td>Hamlet (1996)</td>\n",
       "    </tr>\n",
       "    <tr>\n",
       "      <th>8</th>\n",
       "      <td>750</td>\n",
       "      <td>19.318480</td>\n",
       "      <td>Amistad (1997)</td>\n",
       "    </tr>\n",
       "    <tr>\n",
       "      <th>9</th>\n",
       "      <td>315</td>\n",
       "      <td>18.907395</td>\n",
       "      <td>Apt Pupil (1998)</td>\n",
       "    </tr>\n",
       "    <tr>\n",
       "      <th>10</th>\n",
       "      <td>792</td>\n",
       "      <td>18.767661</td>\n",
       "      <td>Bullets Over Broadway (1994)</td>\n",
       "    </tr>\n",
       "    <tr>\n",
       "      <th>11</th>\n",
       "      <td>429</td>\n",
       "      <td>18.566623</td>\n",
       "      <td>Day the Earth Stood Still, The (1951)</td>\n",
       "    </tr>\n",
       "    <tr>\n",
       "      <th>12</th>\n",
       "      <td>651</td>\n",
       "      <td>18.029202</td>\n",
       "      <td>Glory (1989)</td>\n",
       "    </tr>\n",
       "    <tr>\n",
       "      <th>13</th>\n",
       "      <td>647</td>\n",
       "      <td>17.940708</td>\n",
       "      <td>Ran (1985)</td>\n",
       "    </tr>\n",
       "    <tr>\n",
       "      <th>14</th>\n",
       "      <td>478</td>\n",
       "      <td>17.932598</td>\n",
       "      <td>Philadelphia Story, The (1940)</td>\n",
       "    </tr>\n",
       "    <tr>\n",
       "      <th>15</th>\n",
       "      <td>513</td>\n",
       "      <td>17.746592</td>\n",
       "      <td>Third Man, The (1949)</td>\n",
       "    </tr>\n",
       "    <tr>\n",
       "      <th>16</th>\n",
       "      <td>347</td>\n",
       "      <td>17.448869</td>\n",
       "      <td>Wag the Dog (1997)</td>\n",
       "    </tr>\n",
       "    <tr>\n",
       "      <th>17</th>\n",
       "      <td>317</td>\n",
       "      <td>17.381253</td>\n",
       "      <td>In the Name of the Father (1993)</td>\n",
       "    </tr>\n",
       "    <tr>\n",
       "      <th>18</th>\n",
       "      <td>493</td>\n",
       "      <td>17.249266</td>\n",
       "      <td>Thin Man, The (1934)</td>\n",
       "    </tr>\n",
       "    <tr>\n",
       "      <th>19</th>\n",
       "      <td>661</td>\n",
       "      <td>17.164449</td>\n",
       "      <td>High Noon (1952)</td>\n",
       "    </tr>\n",
       "    <tr>\n",
       "      <th>20</th>\n",
       "      <td>520</td>\n",
       "      <td>16.826113</td>\n",
       "      <td>Great Escape, The (1963)</td>\n",
       "    </tr>\n",
       "    <tr>\n",
       "      <th>21</th>\n",
       "      <td>484</td>\n",
       "      <td>16.462115</td>\n",
       "      <td>Maltese Falcon, The (1941)</td>\n",
       "    </tr>\n",
       "    <tr>\n",
       "      <th>22</th>\n",
       "      <td>794</td>\n",
       "      <td>16.295608</td>\n",
       "      <td>It Could Happen to You (1994)</td>\n",
       "    </tr>\n",
       "    <tr>\n",
       "      <th>23</th>\n",
       "      <td>494</td>\n",
       "      <td>15.978844</td>\n",
       "      <td>His Girl Friday (1940)</td>\n",
       "    </tr>\n",
       "    <tr>\n",
       "      <th>24</th>\n",
       "      <td>652</td>\n",
       "      <td>15.546323</td>\n",
       "      <td>Rosencrantz and Guildenstern Are Dead (1990)</td>\n",
       "    </tr>\n",
       "    <tr>\n",
       "      <th>25</th>\n",
       "      <td>531</td>\n",
       "      <td>15.172430</td>\n",
       "      <td>Shine (1996)</td>\n",
       "    </tr>\n",
       "    <tr>\n",
       "      <th>26</th>\n",
       "      <td>1073</td>\n",
       "      <td>14.936064</td>\n",
       "      <td>Shallow Grave (1994)</td>\n",
       "    </tr>\n",
       "    <tr>\n",
       "      <th>27</th>\n",
       "      <td>285</td>\n",
       "      <td>14.633832</td>\n",
       "      <td>Secrets &amp; Lies (1996)</td>\n",
       "    </tr>\n",
       "    <tr>\n",
       "      <th>28</th>\n",
       "      <td>1007</td>\n",
       "      <td>14.503772</td>\n",
       "      <td>Waiting for Guffman (1996)</td>\n",
       "    </tr>\n",
       "    <tr>\n",
       "      <th>29</th>\n",
       "      <td>489</td>\n",
       "      <td>14.258992</td>\n",
       "      <td>Notorious (1946)</td>\n",
       "    </tr>\n",
       "  </tbody>\n",
       "</table>\n",
       "</div>"
      ],
      "text/plain": [
       "    itemid  similarity_with_Iu                                         title\n",
       "0      408           26.691274                         Close Shave, A (1995)\n",
       "1      302           26.377228                      L.A. Confidential (1997)\n",
       "2      316           23.746689                     As Good As It Gets (1997)\n",
       "3      467           22.908033                          Bronx Tale, A (1993)\n",
       "4      963           21.545264       Some Folks Call It a Sling Blade (1993)\n",
       "5      293           20.832552                          Donnie Brasco (1997)\n",
       "6      313           20.058310                                Titanic (1997)\n",
       "7     1039           19.332570                                 Hamlet (1996)\n",
       "8      750           19.318480                                Amistad (1997)\n",
       "9      315           18.907395                              Apt Pupil (1998)\n",
       "10     792           18.767661                  Bullets Over Broadway (1994)\n",
       "11     429           18.566623         Day the Earth Stood Still, The (1951)\n",
       "12     651           18.029202                                  Glory (1989)\n",
       "13     647           17.940708                                    Ran (1985)\n",
       "14     478           17.932598                Philadelphia Story, The (1940)\n",
       "15     513           17.746592                         Third Man, The (1949)\n",
       "16     347           17.448869                            Wag the Dog (1997)\n",
       "17     317           17.381253              In the Name of the Father (1993)\n",
       "18     493           17.249266                          Thin Man, The (1934)\n",
       "19     661           17.164449                              High Noon (1952)\n",
       "20     520           16.826113                      Great Escape, The (1963)\n",
       "21     484           16.462115                    Maltese Falcon, The (1941)\n",
       "22     794           16.295608                 It Could Happen to You (1994)\n",
       "23     494           15.978844                        His Girl Friday (1940)\n",
       "24     652           15.546323  Rosencrantz and Guildenstern Are Dead (1990)\n",
       "25     531           15.172430                                  Shine (1996)\n",
       "26    1073           14.936064                          Shallow Grave (1994)\n",
       "27     285           14.633832                         Secrets & Lies (1996)\n",
       "28    1007           14.503772                    Waiting for Guffman (1996)\n",
       "29     489           14.258992                              Notorious (1946)"
      ]
     },
     "execution_count": 56,
     "metadata": {},
     "output_type": "execute_result"
    }
   ],
   "source": [
    "topn_recommendation(np_ratings, uencoder.transform([1])[0], similarities, neighbors)"
   ]
  },
  {
   "cell_type": "markdown",
   "metadata": {
    "id": "9thC1LQtHMNT"
   },
   "source": [
    "А теперь попробуем применить то, что у нас получилось на тестовом пользователе, для которого соберём историю просмотров сами."
   ]
  },
  {
   "cell_type": "code",
   "execution_count": 57,
   "metadata": {
    "id": "vHvdh9tSHgtM"
   },
   "outputs": [
    {
     "data": {
      "text/html": [
       "<div>\n",
       "<style scoped>\n",
       "    .dataframe tbody tr th:only-of-type {\n",
       "        vertical-align: middle;\n",
       "    }\n",
       "\n",
       "    .dataframe tbody tr th {\n",
       "        vertical-align: top;\n",
       "    }\n",
       "\n",
       "    .dataframe thead th {\n",
       "        text-align: right;\n",
       "    }\n",
       "</style>\n",
       "<table border=\"1\" class=\"dataframe\">\n",
       "  <thead>\n",
       "    <tr style=\"text-align: right;\">\n",
       "      <th></th>\n",
       "      <th>itemid</th>\n",
       "      <th>title</th>\n",
       "    </tr>\n",
       "  </thead>\n",
       "  <tbody>\n",
       "    <tr>\n",
       "      <th>49</th>\n",
       "      <td>50</td>\n",
       "      <td>Star Wars (1977)</td>\n",
       "    </tr>\n",
       "    <tr>\n",
       "      <th>81</th>\n",
       "      <td>82</td>\n",
       "      <td>Jurassic Park (1993)</td>\n",
       "    </tr>\n",
       "    <tr>\n",
       "      <th>180</th>\n",
       "      <td>181</td>\n",
       "      <td>Return of the Jedi (1983)</td>\n",
       "    </tr>\n",
       "    <tr>\n",
       "      <th>256</th>\n",
       "      <td>257</td>\n",
       "      <td>Men in Black (1997)</td>\n",
       "    </tr>\n",
       "    <tr>\n",
       "      <th>131</th>\n",
       "      <td>132</td>\n",
       "      <td>Wizard of Oz, The (1939)</td>\n",
       "    </tr>\n",
       "    <tr>\n",
       "      <th>379</th>\n",
       "      <td>380</td>\n",
       "      <td>Star Trek: Generations (1994)</td>\n",
       "    </tr>\n",
       "  </tbody>\n",
       "</table>\n",
       "</div>"
      ],
      "text/plain": [
       "     itemid                          title\n",
       "49       50               Star Wars (1977)\n",
       "81       82           Jurassic Park (1993)\n",
       "180     181      Return of the Jedi (1983)\n",
       "256     257            Men in Black (1997)\n",
       "131     132       Wizard of Oz, The (1939)\n",
       "379     380  Star Trek: Generations (1994)"
      ]
     },
     "execution_count": 57,
     "metadata": {},
     "output_type": "execute_result"
    }
   ],
   "source": [
    "test_history = [49, 81, 180, 256, 131, 379]\n",
    "movies.iloc[test_history]"
   ]
  },
  {
   "cell_type": "code",
   "execution_count": 58,
   "metadata": {
    "id": "AJkSVqeEHmVy"
   },
   "outputs": [
    {
     "data": {
      "text/html": [
       "<div>\n",
       "<style scoped>\n",
       "    .dataframe tbody tr th:only-of-type {\n",
       "        vertical-align: middle;\n",
       "    }\n",
       "\n",
       "    .dataframe tbody tr th {\n",
       "        vertical-align: top;\n",
       "    }\n",
       "\n",
       "    .dataframe thead th {\n",
       "        text-align: right;\n",
       "    }\n",
       "</style>\n",
       "<table border=\"1\" class=\"dataframe\">\n",
       "  <thead>\n",
       "    <tr style=\"text-align: right;\">\n",
       "      <th></th>\n",
       "      <th>itemid</th>\n",
       "      <th>similarity_with_Iu</th>\n",
       "      <th>title</th>\n",
       "    </tr>\n",
       "  </thead>\n",
       "  <tbody>\n",
       "    <tr>\n",
       "      <th>0</th>\n",
       "      <td>172</td>\n",
       "      <td>2.628615</td>\n",
       "      <td>Empire Strikes Back, The (1980)</td>\n",
       "    </tr>\n",
       "    <tr>\n",
       "      <th>1</th>\n",
       "      <td>174</td>\n",
       "      <td>2.142320</td>\n",
       "      <td>Raiders of the Lost Ark (1981)</td>\n",
       "    </tr>\n",
       "    <tr>\n",
       "      <th>2</th>\n",
       "      <td>313</td>\n",
       "      <td>2.035859</td>\n",
       "      <td>Titanic (1997)</td>\n",
       "    </tr>\n",
       "    <tr>\n",
       "      <th>3</th>\n",
       "      <td>210</td>\n",
       "      <td>1.941583</td>\n",
       "      <td>Indiana Jones and the Last Crusade (1989)</td>\n",
       "    </tr>\n",
       "    <tr>\n",
       "      <th>4</th>\n",
       "      <td>651</td>\n",
       "      <td>1.880540</td>\n",
       "      <td>Glory (1989)</td>\n",
       "    </tr>\n",
       "    <tr>\n",
       "      <th>5</th>\n",
       "      <td>966</td>\n",
       "      <td>1.829362</td>\n",
       "      <td>Affair to Remember, An (1957)</td>\n",
       "    </tr>\n",
       "    <tr>\n",
       "      <th>6</th>\n",
       "      <td>22</td>\n",
       "      <td>1.773043</td>\n",
       "      <td>Braveheart (1995)</td>\n",
       "    </tr>\n",
       "    <tr>\n",
       "      <th>7</th>\n",
       "      <td>64</td>\n",
       "      <td>1.735550</td>\n",
       "      <td>Shawshank Redemption, The (1994)</td>\n",
       "    </tr>\n",
       "    <tr>\n",
       "      <th>8</th>\n",
       "      <td>79</td>\n",
       "      <td>1.707949</td>\n",
       "      <td>Fugitive, The (1993)</td>\n",
       "    </tr>\n",
       "    <tr>\n",
       "      <th>9</th>\n",
       "      <td>963</td>\n",
       "      <td>1.703303</td>\n",
       "      <td>Some Folks Call It a Sling Blade (1993)</td>\n",
       "    </tr>\n",
       "    <tr>\n",
       "      <th>10</th>\n",
       "      <td>204</td>\n",
       "      <td>1.686313</td>\n",
       "      <td>Back to the Future (1985)</td>\n",
       "    </tr>\n",
       "    <tr>\n",
       "      <th>11</th>\n",
       "      <td>429</td>\n",
       "      <td>1.676720</td>\n",
       "      <td>Day the Earth Stood Still, The (1951)</td>\n",
       "    </tr>\n",
       "    <tr>\n",
       "      <th>12</th>\n",
       "      <td>318</td>\n",
       "      <td>1.673867</td>\n",
       "      <td>Schindler's List (1993)</td>\n",
       "    </tr>\n",
       "    <tr>\n",
       "      <th>13</th>\n",
       "      <td>173</td>\n",
       "      <td>1.600043</td>\n",
       "      <td>Princess Bride, The (1987)</td>\n",
       "    </tr>\n",
       "    <tr>\n",
       "      <th>14</th>\n",
       "      <td>736</td>\n",
       "      <td>1.599564</td>\n",
       "      <td>Shadowlands (1993)</td>\n",
       "    </tr>\n",
       "    <tr>\n",
       "      <th>15</th>\n",
       "      <td>96</td>\n",
       "      <td>1.578550</td>\n",
       "      <td>Terminator 2: Judgment Day (1991)</td>\n",
       "    </tr>\n",
       "    <tr>\n",
       "      <th>16</th>\n",
       "      <td>195</td>\n",
       "      <td>1.551406</td>\n",
       "      <td>Terminator, The (1984)</td>\n",
       "    </tr>\n",
       "    <tr>\n",
       "      <th>17</th>\n",
       "      <td>794</td>\n",
       "      <td>1.509506</td>\n",
       "      <td>It Could Happen to You (1994)</td>\n",
       "    </tr>\n",
       "    <tr>\n",
       "      <th>18</th>\n",
       "      <td>228</td>\n",
       "      <td>1.461078</td>\n",
       "      <td>Star Trek: The Wrath of Khan (1982)</td>\n",
       "    </tr>\n",
       "    <tr>\n",
       "      <th>19</th>\n",
       "      <td>194</td>\n",
       "      <td>1.450726</td>\n",
       "      <td>Sting, The (1973)</td>\n",
       "    </tr>\n",
       "    <tr>\n",
       "      <th>20</th>\n",
       "      <td>1</td>\n",
       "      <td>1.446937</td>\n",
       "      <td>Toy Story (1995)</td>\n",
       "    </tr>\n",
       "    <tr>\n",
       "      <th>21</th>\n",
       "      <td>316</td>\n",
       "      <td>1.401663</td>\n",
       "      <td>As Good As It Gets (1997)</td>\n",
       "    </tr>\n",
       "    <tr>\n",
       "      <th>22</th>\n",
       "      <td>28</td>\n",
       "      <td>1.395897</td>\n",
       "      <td>Apollo 13 (1995)</td>\n",
       "    </tr>\n",
       "    <tr>\n",
       "      <th>23</th>\n",
       "      <td>265</td>\n",
       "      <td>1.363549</td>\n",
       "      <td>Hunt for Red October, The (1990)</td>\n",
       "    </tr>\n",
       "    <tr>\n",
       "      <th>24</th>\n",
       "      <td>430</td>\n",
       "      <td>1.353699</td>\n",
       "      <td>Duck Soup (1933)</td>\n",
       "    </tr>\n",
       "    <tr>\n",
       "      <th>25</th>\n",
       "      <td>199</td>\n",
       "      <td>1.352136</td>\n",
       "      <td>Bridge on the River Kwai, The (1957)</td>\n",
       "    </tr>\n",
       "    <tr>\n",
       "      <th>26</th>\n",
       "      <td>95</td>\n",
       "      <td>1.351532</td>\n",
       "      <td>Aladdin (1992)</td>\n",
       "    </tr>\n",
       "    <tr>\n",
       "      <th>27</th>\n",
       "      <td>408</td>\n",
       "      <td>1.348814</td>\n",
       "      <td>Close Shave, A (1995)</td>\n",
       "    </tr>\n",
       "    <tr>\n",
       "      <th>28</th>\n",
       "      <td>423</td>\n",
       "      <td>1.324165</td>\n",
       "      <td>E.T. the Extra-Terrestrial (1982)</td>\n",
       "    </tr>\n",
       "    <tr>\n",
       "      <th>29</th>\n",
       "      <td>520</td>\n",
       "      <td>1.315989</td>\n",
       "      <td>Great Escape, The (1963)</td>\n",
       "    </tr>\n",
       "  </tbody>\n",
       "</table>\n",
       "</div>"
      ],
      "text/plain": [
       "    itemid  similarity_with_Iu                                      title\n",
       "0      172            2.628615            Empire Strikes Back, The (1980)\n",
       "1      174            2.142320             Raiders of the Lost Ark (1981)\n",
       "2      313            2.035859                             Titanic (1997)\n",
       "3      210            1.941583  Indiana Jones and the Last Crusade (1989)\n",
       "4      651            1.880540                               Glory (1989)\n",
       "5      966            1.829362              Affair to Remember, An (1957)\n",
       "6       22            1.773043                          Braveheart (1995)\n",
       "7       64            1.735550           Shawshank Redemption, The (1994)\n",
       "8       79            1.707949                       Fugitive, The (1993)\n",
       "9      963            1.703303    Some Folks Call It a Sling Blade (1993)\n",
       "10     204            1.686313                  Back to the Future (1985)\n",
       "11     429            1.676720      Day the Earth Stood Still, The (1951)\n",
       "12     318            1.673867                    Schindler's List (1993)\n",
       "13     173            1.600043                 Princess Bride, The (1987)\n",
       "14     736            1.599564                         Shadowlands (1993)\n",
       "15      96            1.578550          Terminator 2: Judgment Day (1991)\n",
       "16     195            1.551406                     Terminator, The (1984)\n",
       "17     794            1.509506              It Could Happen to You (1994)\n",
       "18     228            1.461078        Star Trek: The Wrath of Khan (1982)\n",
       "19     194            1.450726                          Sting, The (1973)\n",
       "20       1            1.446937                           Toy Story (1995)\n",
       "21     316            1.401663                  As Good As It Gets (1997)\n",
       "22      28            1.395897                           Apollo 13 (1995)\n",
       "23     265            1.363549           Hunt for Red October, The (1990)\n",
       "24     430            1.353699                           Duck Soup (1933)\n",
       "25     199            1.352136       Bridge on the River Kwai, The (1957)\n",
       "26      95            1.351532                             Aladdin (1992)\n",
       "27     408            1.348814                      Close Shave, A (1995)\n",
       "28     423            1.324165          E.T. the Extra-Terrestrial (1982)\n",
       "29     520            1.315989                   Great Escape, The (1963)"
      ]
     },
     "execution_count": 58,
     "metadata": {},
     "output_type": "execute_result"
    }
   ],
   "source": [
    "def topn_recommendations_by_user_history(user_item_ids: tp.List[int], similarities: np.array, neighbors: np.array, k=-1, N=30):\n",
    "    c = set()\n",
    "    for i_id in user_item_ids:    \n",
    "        c.update(neighbors[i_id, :k])\n",
    "    candidates = np.setdiff1d(list(c), user_item_ids, assume_unique=True)\n",
    "    \n",
    "    ranked_candidates = rank_candidates(candidates, user_item_ids, similarities, neighbors)\n",
    "    topn = pd.DataFrame(ranked_candidates[:N], columns=['itemid','similarity_with_Iu'])    \n",
    "    topn = pd.merge(topn, movies, on='itemid', how='inner')\n",
    "    return topn\n",
    "\n",
    "topn_recommendations_by_user_history(test_history, similarities, neighbors)"
   ]
  },
  {
   "cell_type": "markdown",
   "metadata": {
    "id": "nslAYvmaQtvW"
   },
   "source": [
    "Итак, в этом семинаре мы научились строить item-to-item рекомендации. Этот подход можно улучшать и развивать. \n",
    "\n",
    "1. Например, мы можем учитывать рейтинги айтемов из истории пользователя. Определить, когда рейтинг был позитивный и учитывать кандидатов только для таких айтемов\n",
    "2. Можем поэксеприментировать над определением похожести"
   ]
  },
  {
   "cell_type": "code",
   "execution_count": null,
   "metadata": {
    "id": "e1tt1RBN8mca"
   },
   "outputs": [],
   "source": []
  }
 ],
 "metadata": {
  "colab": {
   "provenance": []
  },
  "kernelspec": {
   "display_name": "Python 3 (ipykernel)",
   "language": "python",
   "name": "python3"
  },
  "language_info": {
   "codemirror_mode": {
    "name": "ipython",
    "version": 3
   },
   "file_extension": ".py",
   "mimetype": "text/x-python",
   "name": "python",
   "nbconvert_exporter": "python",
   "pygments_lexer": "ipython3",
   "version": "3.10.6"
  },
  "notebookId": "fb2355fb-9f81-4225-8cbd-6f57bd3092a1",
  "notebookPath": "recsys/1/seminar.ipynb"
 },
 "nbformat": 4,
 "nbformat_minor": 4
}
