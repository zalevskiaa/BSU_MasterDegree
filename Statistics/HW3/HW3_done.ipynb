{
 "cells": [
  {
   "cell_type": "code",
   "execution_count": 1,
   "id": "17dc3393-0b64-444f-99db-1b2896179908",
   "metadata": {},
   "outputs": [],
   "source": [
    "import os\n",
    "import numpy as np\n",
    "import pandas as pd\n",
    "import matplotlib.pyplot as plt\n",
    "%matplotlib inline\n",
    "\n",
    "from scipy import stats"
   ]
  },
  {
   "cell_type": "markdown",
   "id": "534d1adc-3c4e-42e9-97e5-fb548a771dcf",
   "metadata": {},
   "source": [
    "<a name='_toc'></a>\n",
    "# Table of contents\n",
    "\n",
    "* [Task 1 (1)](#task1)\n",
    "* [Task 2 (1)](#task2)\n",
    "* [Task 3 (2)](#task3)\n",
    "* [Task 4 (2)](#task4)\n",
    "* [Task 5 (2)](#task5)\n",
    "* [Task 6 (2)](#task6)\n",
    "* [Task 7 (4)](#task7)\n",
    "* [Task 8 (3)](#task8)\n",
    "* [Task 9 (2+1)](#task9)\n",
    "* [Task 10 (3)](#task10)\n",
    "* [Task 11 (4)](#task11)\n",
    "* [Task 12 (4)](#task12)"
   ]
  },
  {
   "cell_type": "markdown",
   "id": "161f7e09-7898-45c0-a7ba-19bebc4335bf",
   "metadata": {},
   "source": [
    "<a name='task1'></a>\n",
    "## Task 1 (1)<sup>[toc](#_toc)</sup>\n",
    "\n",
    "Пусть дана обучающая выборка $\\{(\\boldsymbol{X}, \\boldsymbol{y}) \\colon \\boldsymbol{X} \\in \\mathbb{R}^{n \\times d}, \\boldsymbol{y} \\in \\mathbb{R}^{n} \\}$, $n \\ge d$. Предположим, что справедлива следующая модель линейной регрессии:\n",
    "$$\n",
    "y = \\boldsymbol{x}^T\\boldsymbol{w} + \\epsilon, \\quad \\epsilon \\sim Normal(0, \\sigma^2),\n",
    "$$\n",
    "где $\\boldsymbol{w}$ --- истинный, но неизвестный нам вектор весов. Пусть $\\hat{\\boldsymbol{w}}$ --- MLE-оценка вектора весов $\\boldsymbol{w}$.\n",
    "\n",
    "Предположим, к нам поступили тестовые данные $\\boldsymbol{X}^* \\in \\mathbb{R}^{m \\times d}$, для которых с помощью оценки $\\hat{\\boldsymbol{w}}$ предсказываем вектор $\\boldsymbol{y}^*\\in \\mathbb{R}^{m}$.\n",
    "Найдите математическое ожидание и матрицу ковариаций для вектора $\\boldsymbol{y}^*$ (при условии фиксированной матрицы дизайна $\\boldsymbol{X}$)."
   ]
  },
  {
   "cell_type": "markdown",
   "id": "594b65b8-4736-415c-9fc1-f9ec3d37d804",
   "metadata": {},
   "source": [
    "$\n",
    "\\hat w = (X^T X)^{-1} X^T y\n",
    "$"
   ]
  },
  {
   "cell_type": "markdown",
   "id": "908b2dec-6d6d-49cf-a7ea-5c631f6976f1",
   "metadata": {},
   "source": [
    "$ E[y^*] \n",
    "= E[X^* \\hat w]\n",
    "= E[X^* (X^T X)^{-1} X^T y] = \\\\\n",
    "= X^* (X^T X)^{-1} X^T E[y] = \\\\\n",
    "= X^* (X^T X)^{-1} X^T E[X w + \\epsilon] = \\\\\n",
    "= X^* (X^T X)^{-1} X^T X w = \\\\\n",
    "= X^* w\n",
    "$"
   ]
  },
  {
   "cell_type": "markdown",
   "id": "d0ed4189-ca72-439c-b3b4-74300e9f66b1",
   "metadata": {},
   "source": [
    "$ E[ y^* y^{*T} ]\n",
    "= E[ X^* (X^T X)^{-1} X^T y \\; y^T X(X^T X)^{-1} X^{*T}]\n",
    "= X^* w w^T X^{*T} + \\sigma^2 X^*(X^T X)^{-1} X^{*T} \n",
    "$"
   ]
  },
  {
   "cell_type": "markdown",
   "id": "33008dfd-c842-4671-b6d2-0a7a50bcc41b",
   "metadata": {},
   "source": [
    "$ cov(y^*, y^*)\n",
    "= E[ y^* y^{*T} ] - E[ y^* ] E[ y^{*T} ]\n",
    "= X^* w w^T X^{*T} + \\sigma^2 X^*(X^T X)^{-1} X^{*T} - X^* w w^T X^{*T} = \\\\\n",
    "= \\sigma^2 X^*(X^T X)^{-1} X^{*T}\n",
    "$"
   ]
  },
  {
   "cell_type": "markdown",
   "id": "fbc55bee-d572-4981-914b-96e376e74a40",
   "metadata": {},
   "source": [
    "<a name='task2'></a>\n",
    "## Task 2 (1)<sup>[toc](#_toc)</sup>\n",
    "\n",
    "Пусть дана выборка $(\\boldsymbol{X},\\boldsymbol{t}) = \\{(\\boldsymbol{x}_i, t_i)\\colon \\boldsymbol{x}_i \\in \\mathbb{R}^d, t_i \\in \\mathbb{R}\\}_{i = 1}^n$, ($\\boldsymbol{X} \\in \\mathbb{R}^{n \\times d}$, $\\boldsymbol{t} \\in \\mathbb{R}^n$, $n \\ge d$). Предположим справедливость следующей модели данных\n",
    "$$\n",
    "t = \\boldsymbol{x}^T\\boldsymbol{w} + \\epsilon(\\boldsymbol{x}),\n",
    "$$\n",
    "где $\\epsilon(\\boldsymbol{x}) \\sim Normal(0, \\sigma(\\boldsymbol{x})^2)$. Найдите MLE-оценку на вектор весов $\\boldsymbol{w}$ в данном случае."
   ]
  },
  {
   "cell_type": "markdown",
   "id": "385aadee-6d4d-458d-9ac6-232ec6a0b0f0",
   "metadata": {},
   "source": [
    "$ L = \\prod\\limits_{i=1}^n \n",
    "\\frac 1 {\\sqrt{2\\pi \\sigma^2 X_i}} \n",
    "\\; \\cdot \\;\n",
    "e^{-\\frac 1 2 \\sum\\limits_{i-1}^n \\frac {(t_i - X_i^T w)^2} {\\sigma^2(X_i)}}\n",
    "\\to \\max\n",
    "$"
   ]
  },
  {
   "cell_type": "markdown",
   "id": "45748c70-e776-4c8f-9d5e-8bb152746359",
   "metadata": {},
   "source": [
    "$ \\sum\\limits_{i-1}^n \\frac {(t_i - X_i^T w)^2} {\\sigma^2(X_i)} \\to \\min $"
   ]
  },
  {
   "cell_type": "markdown",
   "id": "da275540-7c13-4965-a779-73b965bc81ce",
   "metadata": {},
   "source": [
    "Пусть  \n",
    "$ Y_i = \\frac {X_i} {\\sigma(X_i)}, \\ u_i = \\frac {t_i}{\\sigma(X_i)}$  \n",
    "$ \n",
    "X = \\begin{pmatrix}\n",
    "  \\quad X_1 \\quad \\\\\n",
    "  \\quad \\vdots \\quad \\\\\n",
    "  \\quad X_n \\quad\n",
    "\\end{pmatrix}, \\quad\n",
    "t = \\begin{pmatrix}\n",
    "  t_1 \\\\\n",
    "  \\vdots \\\\\n",
    "  t_n\n",
    "\\end{pmatrix}\n",
    "$\n",
    "\n",
    "Тогда  \n",
    "$ Y = diag(\\frac 1 {\\sigma(X_1)}, ... , \\frac 1 {\\sigma(X_n)}) \\cdot X $  \n",
    "$ u = diag(\\frac 1 {\\sigma(X_1)}, ... , \\frac 1 {\\sigma(X_n)}) \\cdot t $"
   ]
  },
  {
   "cell_type": "markdown",
   "id": "1044edea-ee1a-47a0-a35c-084722149498",
   "metadata": {},
   "source": [
    "$ \\sum\\limits_{i-1}^n \\frac {(t_i - X_i^T w)^2} {\\sigma^2(X_i)}\n",
    "= \\sum\\limits_{i-1}^n (u_i - Y_i^T w)^2\n",
    "= || u - Y w ||_2^2 \\to \\min\n",
    "$\n",
    "\n",
    "$ \\hat w = (Y^T Y)^{-1} Y^T u $\n",
    "\n",
    "$ \\hat w = (X^T D^2 X)^{-1} X^T D^2 t $,  \n",
    "где $ D^2 = diag(\\frac 1 {\\sigma(X_1)^2}, ... , \\frac 1 {\\sigma(X_n)^2}) $"
   ]
  },
  {
   "cell_type": "markdown",
   "id": "8e56bbd0-388e-491d-98d1-c8c8413a9d2b",
   "metadata": {},
   "source": [
    "<a name='task3'></a>\n",
    "## Task 3 (2)<sup>[toc](#_toc)</sup>\n",
    "\n",
    "Пусть дана выборка $(\\boldsymbol{x}, \\boldsymbol{y}) = \\{(x_i,y_i)\\colon x_i, y_i \\in \\mathbb{R}\\}_{i=1}^n$. Пусть данные соответствуют модели\n",
    "\\begin{gather*}\n",
    "\ty_i = \\beta x_i + \\epsilon_i,\n",
    "\\end{gather*}\n",
    "где $\\epsilon_i \\sim Normal(0, \\sigma^2)$. При этом значения $\\boldsymbol{x}$ наблюдаются с ошибкой, т.е. представлена не выборка $(\\boldsymbol{x}, \\boldsymbol{y})$, а выборка $(\\boldsymbol{z}, \\boldsymbol{y}) = \\{(z_i, y_i)\\colon z_i, y_i \\in \\mathbb{R}\\}_{i = 1}^n$, где $z_i = x_i + \\delta_i$, $\\delta_i \\sim Normal(0, \\tau^2)$. Шумы $\\epsilon_i$ и $\\delta_i$ независимы. Оценим величину $\\beta$, используя стандартный метод наименьших квадратов согласно формуле\n",
    "\\begin{gather*}\n",
    "\t\\hat\\beta = \\frac{\\sum_{i=1}^n z_i y_i}{\\sum_{i=1}^n z_i^2}.\n",
    "\\end{gather*}\n",
    "Докажите, что оценка $\\hat\\beta$ не является состоятельной. Для этого покажите, что $\\hat\\beta \\xrightarrow[]{P} a\\beta$ при $n \\to \\infty$. Найдите явное выражение для $a$ в предположении, что точки $\\{x_i\\}_{i=1}^n$ поступают из некоторого распределения $F(x)$ с конечными первыми и вторыми моментами $E(X)$ и $E(X^2)$. "
   ]
  },
  {
   "cell_type": "markdown",
   "id": "3cc8e2e1-839c-4cce-bc10-d11078898033",
   "metadata": {},
   "source": [
    "$ \\hat \\beta = \\frac\n",
    "{ \\sum\\limits_{i=1}^n z_i y_i}\n",
    "{ \\sum\\limits_{i=1}^n z_i^2}\n",
    "= \\frac \n",
    "{\\sum\\limits_{i=1}^n (x_i + \\delta_i)(\\beta x_i + \\epsilon_i)} \n",
    "{\\sum\\limits_{i=1}^n (x_i + \\delta_i)^2}\n",
    "= \\frac\n",
    "{\n",
    "    \\beta \\frac 1 n \\sum\\limits_{i=1}^n x_i^2 \\ + \\\n",
    "    \\frac 1 n \\sum\\limits_{i=1}^n x_i \\epsilon_i \\ + \\\n",
    "    \\beta \\frac 1 n \\sum\\limits_{i=1}^n x_i \\delta_i \\ + \\\n",
    "    \\frac 1 n \\sum\\limits_{i=1}^n \\delta_i \\epsilon_i\n",
    "}\n",
    "{\n",
    "    \\frac 1 n \\sum\\limits_{i=1}^n x_i^2 \\ + \\\n",
    "    \\frac 1 n \\sum\\limits_{i=1}^n \\delta_i^2 \\ + \\\n",
    "    \\frac 2 n \\sum\\limits_{i=1}^n x_i \\delta_i\n",
    "}\n",
    "$"
   ]
  },
  {
   "cell_type": "markdown",
   "id": "9d3b06ed-7601-4540-bcfd-c48896be3239",
   "metadata": {},
   "source": [
    "По закону больших чисел \n",
    "$ \\frac 1 n \\sum\\limits_{i=1}^n x_i^2 \\xrightarrow[]{P} E[x^2]\n",
    "$\n",
    "\n",
    "Шумы независимы, поэтому т.к.  \n",
    "$ E[x_i \\epsilon_i] = E[x_i] E[\\epsilon_i] = 0 $  \n",
    "$ E[x_i \\delta_i] = E[x_i] E[\\delta_i] = 0 $  \n",
    "$ E[\\delta_i \\epsilon_i] = E[\\delta_i] E[\\epsilon_i] = 0 $  \n",
    "то  \n",
    "$ \\frac 1 n \\sum\\limits_{i=1}^n x_i \\epsilon_i \\xrightarrow[]{P} 0 \\quad $\n",
    "$ \\frac 1 n \\sum\\limits_{i=1}^n x_i \\delta_i \\xrightarrow[]{P} 0 \\quad $\n",
    "$ \\frac 1 n \\sum\\limits_{i=1}^n \\delta_i \\epsilon_i \\xrightarrow[]{P} 0 \\quad $  \n",
    "\n",
    "Т.к. $ E[\\delta_i^2] = V[\\delta_i] + (E[\\delta_i])^2 = \\tau^2 + 0 $  \n",
    "то $ \\frac 1 n \\sum\\limits_{i=1}^n \\delta_i^2 \\xrightarrow[]{P} \\tau^2 $\n"
   ]
  },
  {
   "cell_type": "markdown",
   "id": "b8d9d9b9-9952-4687-9871-e57c5b237ffb",
   "metadata": {},
   "source": [
    "Тогда\n",
    "\n",
    "$ \\hat \\beta \\xrightarrow[]{P} \n",
    "\\frac {\\beta E[x^2] \\ + \\ 0 \\ + \\ 0 \\ + \\ 0} {\\beta E[x^2] \\ + \\ 0 \\ + \\ \\tau^2}\n",
    "= \\frac {E[x^2]} {E[x^2] + \\tau^2} \\beta\n",
    "= \\alpha \\beta \n",
    "$  \n",
    "где $ \\alpha = \\frac {E[x^2]} {E[x^2] + \\tau^2}\n",
    "$"
   ]
  },
  {
   "cell_type": "markdown",
   "id": "0cf4d8f5-eb44-4f53-a53c-b8f65490526f",
   "metadata": {},
   "source": [
    "<a name='task4'></a>\n",
    "## Task 4 (2)<sup>[toc](#_toc)</sup>\n",
    "\n",
    "Пусть дана обучающая выборка $\\{(\\boldsymbol{x}, \\boldsymbol{y}) \\colon \\boldsymbol{x} \\in \\mathbb{R}^{n}, \\boldsymbol{y} \\in \\mathbb{R}^{n} \\}$. Предположим, что справедлива следующая модель линейной регрессии:\n",
    "$$\n",
    "y = w_0 + w_1 x + \\epsilon,\\qquad \\epsilon \\sim Normal(0, \\sigma^2).\n",
    "$$\n",
    "Сконструируйте асимтотический тест Вальда для проверки гипотезы $H_0 \\colon w_1 = \\alpha w_0$.\n",
    "\n",
    "*Внимание. Замечание про асимптотичность тут не просто так.*"
   ]
  },
  {
   "cell_type": "markdown",
   "id": "47ec3fb4-7884-4924-b600-c9c75d584ac8",
   "metadata": {},
   "source": [
    "$ W\n",
    "= \\frac {w_1 - \\alpha w_0} {\\hat{se} (w_1 - \\alpha w_0)}\n",
    "$ "
   ]
  },
  {
   "cell_type": "markdown",
   "id": "8aa5767b-e276-4217-b6eb-78b1279e5557",
   "metadata": {},
   "source": [
    "$ V(\\hat w)\n",
    "= \\sigma^2 (X^T X)^{-1}\n",
    "$  "
   ]
  },
  {
   "cell_type": "markdown",
   "id": "75fef617",
   "metadata": {},
   "source": [
    "Гипотеза $ H_0 $ отклоняется, если\n",
    "\n",
    "$ |W| \\ge z_{\\beta \\ / \\ 2} $"
   ]
  },
  {
   "cell_type": "markdown",
   "id": "2e5371e9-267c-4a23-8d2f-4607a49b99c8",
   "metadata": {},
   "source": [
    "<a name='task5'></a>\n",
    "## Task 5 (2)<sup>[toc](#_toc)</sup>\n",
    "\n",
    "Рассмотрим задачу восстановления регрессии. Модель регрессии имеет вид\n",
    "$$\n",
    "t = \\boldsymbol{x}^T\\boldsymbol{w} + \\epsilon,\n",
    "$$ \n",
    "где $\\epsilon \\sim Normal(0,\\beta^{-1})$, и на веса $\\boldsymbol{w}$ наложено априорное распределение вида $p(\\boldsymbol{w}) = Normal(\\boldsymbol{w}|\\boldsymbol{w}_0,\\boldsymbol{S}_0)$. \n",
    "Пусть дана выборка $(\\boldsymbol{X}, \\boldsymbol{t}) = \\{(\\boldsymbol{x}_i, t_i)\\colon \\boldsymbol{x}_i \\in \\mathbb{R}^d, t_i \\in \\mathbb{R}\\}_{i=1}^n$. Найдите апостериорное распределение $p(\\boldsymbol{w}|\\boldsymbol{X}, \\boldsymbol{t})$."
   ]
  },
  {
   "cell_type": "markdown",
   "id": "317fd8db",
   "metadata": {},
   "source": [
    "$ p(w | X, t) \n",
    "= \\frac {p(w, X, t)} {p(X, t)}\n",
    "= \\frac {p(t | X, w) p(X, w)} {p(X, t)}\n",
    "= \\frac {p(t | X, w) p(X) p(w)} {p(X) p(t)}\n",
    "= \\frac {p(t | X, w) p(w)} {p(t)}\n",
    "= \\frac {\\prod\\limits_{i=1}^n p(t_i | X_i, w) \\ \\cdot \\ p(w)} {p(t)}\n",
    "$\n",
    "\n"
   ]
  },
  {
   "cell_type": "markdown",
   "id": "7fd6903d-9972-4a9b-9b63-fef1ebc6ef6d",
   "metadata": {},
   "source": [
    "<a name='task6'></a>\n",
    "## Task 6 (2)<sup>[toc](#_toc)</sup>\n",
    "\n",
    "Пусть $\\boldsymbol{x}^{n} \\sim f(\\cdot)$, и пусть $\\hat f(\\cdot) = \\hat f(\\cdot;\\boldsymbol{x}^n)$ обозначает ядерную оценку плотности на основе ядра\n",
    "$$\n",
    "K(x) = \n",
    "\\begin{cases}\n",
    "\t1, &x \\in \\left( -\\frac{1}{2}, \\frac{1}{2} \\right);\\\\\n",
    "\t0, &\\text{в противном случае}.\n",
    "\\end{cases}\n",
    "$$\n",
    "Найдите $E [\\hat f(x)]$ и $V [\\hat f(x)]$. Покажите, что если $h\\to0$ и $nh\\to\\infty$ при $n\\to\\infty$, то $\\hat f(x) \\xrightarrow{P} f(x)$ при $n\\to\\infty$.\n",
    "\n",
    "*Примечание. В ответе может быть использована истинная плотность $f(x)$.*\n"
   ]
  },
  {
   "cell_type": "markdown",
   "id": "e18a05b3",
   "metadata": {},
   "source": [
    "$ \\hat f(x) = \\frac 1 {n h} \\sum\\limits_{i=1}^n K(\\frac {x - X_i} h) $\n",
    "\n",
    "$ E[\\hat f(x)]\n",
    "= \\frac 1 h E[K(\\frac {x - X_1} h)]\n",
    "= \\frac 1 h \\int K(\\frac {x - u} h) f(u) du\n",
    "= \\frac 1 h \\int\\limits_{x - \\frac h 2}^{x + \\frac h 2} f(y) dy\n",
    "$\n",
    "\n",
    "$ V[\\hat f(x)]\n",
    "= \\frac 1 {nh^2} V[ K(\\frac {x - X_1} h) ]\n",
    "= \\frac 1 {nh^2} \\left( E \\left[ (K(\\frac {x - X_1} h))^2 \\right] - \\left( E[K(\\frac {x - X_1} h)] \\right)^2 \\right)\n",
    "= \\frac 1 {nh^2} \\\n",
    "\\int\\limits_{x - h/2}^{x + h/2} f(y) dy \\\n",
    "\\left( 1 - \\int\\limits_{x - h/2}^{x + h/2} f(y) dy \\right)\n",
    "$"
   ]
  },
  {
   "cell_type": "markdown",
   "id": "bfa7fca5",
   "metadata": {},
   "source": [
    "Покажем сходимость. Известно, что\n",
    "\n",
    "$ E[\\hat f(x)]\n",
    "= E[\\frac 1 h K(\\frac {x - X_i} h)] = \\\\\n",
    "= \\int K(u) \\left[ f(x) - h f'(x) + \\frac 1 2 f''(x) \\ + \\ ... \\right] du = \\\\\n",
    "= f(x) + \\frac 1 2 h^2 f''(x) \\int u^2 K(u) du \\ + \\ ...\n",
    "$\n",
    "\n",
    "$ V[\\hat f(x)]\n",
    "\\approx \\frac {f(x) \\int K^2 (x) dx} {nh}\n",
    "$"
   ]
  },
  {
   "cell_type": "markdown",
   "id": "75881de7",
   "metadata": {},
   "source": [
    "Неравенство Чебышева для $ \\hat f(x) $\n",
    "\n",
    "$ P(| \\hat f(x) - E[\\hat f(x)] | \\ge \\epsilon) \n",
    "\\le \\frac {V[\\hat f(x)]} {\\epsilon^2} $\n",
    "  \n",
    "$ P(| \\hat f(x) - f(x) | \\ge \\epsilon)\n",
    "\\le \\frac {V[\\hat f(x)]} {\\epsilon^2}\n",
    "\\approx \\frac {f(x) \\ \\cdot \\ 1} {n h \\epsilon^2}\n",
    "\\xrightarrow[n \\to \\infty]{} 0\n",
    "$"
   ]
  },
  {
   "cell_type": "markdown",
   "id": "2d361c50-8a74-44b8-9e38-e7d2c738c2c2",
   "metadata": {},
   "source": [
    "<a name='task7'></a>\n",
    "## Task 7 (4)<sup>[toc](#_toc)</sup>\n",
    "\n",
    "Рассмотрим задачу непараметрической оценки плотности распределения $p(x)$ по выборке $\\boldsymbol{X}^{(N)}$. Обозначим через $\\hat p(x;\\boldsymbol{X}^{(N)})$\n",
    "оценку плотности, полученную некоторым образом по выборке $\\boldsymbol{X}^{(N)}$. Оценка риска для $\\hat p(x;\\boldsymbol{X}^{(N)})$ имеет вид:\n",
    "$$\n",
    "\\hat J(h) = \\int (\\hat p(x;\\boldsymbol{X}^{(N)}))^2 dx - \\frac{2}{N} \\sum\\limits_{i=1}^N \\hat p(X_i;\\boldsymbol{X}^{(N\\backslash i)}),\n",
    "$$\n",
    "где $\\hat p(\\cdot;\\boldsymbol{x}^{(N\\backslash i)})$ --- оценка плотности распределения на основе выборки $\\boldsymbol{X}^{(N\\backslash i)}$, т.е. выборки без объекта $X_i$.\n",
    "\n",
    "- (Гистограммная оценка) Разобьем диапазон наблюдаемых значений $\\boldsymbol{X}^{(N)}$ на бины ширины $h$. Пусть в итоге значения $\\boldsymbol{X}^{(n)}$ укладываются в $M$ последовательных бинов $B_1, \\dots, B_M$. Пусть $N_m$ --- количество объектов выборки, попавших в $B_m$ ($\\sum_m N_m = N$). Пусть $\\hat p_m$ --- доля объектов выборки, попавших в бин $B_m$:\n",
    "$$\n",
    "N_m = \\sum_\\limits{i=1}^N I[ X_i \\in B_m], \\quad \\hat p_m = \\frac{N_m}{N}.\n",
    "$$  \n",
    "Покажите, что в случае гистограммной оценки плотности оценка риска имеет вид:\n",
    "$$\n",
    "\\hat J(h) = \\frac{2}{h(N - 1)} - \\frac{N + 1}{h(N - 1)}\\sum_\\limits{m=1}^M \\hat p_m^2.\n",
    "$$  \n",
    "Докажите или опровергните равенство\n",
    "$$\n",
    "E[\\hat J(h)] = E[J(h)].\n",
    "$$  \n",
    "Если равенство не верно, то чему равно $\\Delta J(h) = E[\\hat J(h)] - E[J(h)]$?\n",
    "\n",
    "- (Ядерная оценка) Покажите, что в случае ядерной оценки плотности оценка риска имеет вид:\n",
    "$$\n",
    "\\hat J(h) \\approx \\frac{1}{hN^2}\\sum_\\limits{i, j} K^* \\left( \\frac{X_i - X_j}{h} \\right) + \\frac{2}{N h}K(0),\n",
    "$$\n",
    "где $K^*(x) = K^{(2)}(x) - 2K(x)$ и $K^{(2)}(z) = \\int K(z - y)K(y)dy$. В частности, если $K(x)$ --- это плотность нормального распределения $Normal(0, 1)$, т.е. гауссово ядро, то $K^{(2)}(z)$ --- плотность распределения $Normal(0, 2)$.  \n",
    "Докажите или опровергните равенство\n",
    "$$\n",
    "E[\\hat J(h)] =  E[J(h)].\n",
    "$$\n",
    "Если равенство не верно, то чему равно $\\Delta J(h) = E[\\hat J(h)] - E[J(h)]$?\n"
   ]
  },
  {
   "cell_type": "markdown",
   "id": "e5b138ea",
   "metadata": {},
   "source": [
    "- Гистограммная оценка\n",
    "\n",
    "$ \\hat J(h) \n",
    "= \\sum\\limits_{m=1}^M \\frac {\\hat p_m^2} {h^2} h - \\frac 2 {Nh} \\sum\\limits_{i=1}^N \\sum\\limits_{m=1}^M \\frac {N_m - 1} {N - 1} I[x_i \\in B_m] = \\\\\n",
    "= \\frac 1 h \\sum\\limits_{m=1}^M \\hat p_m^2 - \\frac 2 h \\sum\\limits_{m=1}^M (\\hat p_m - \\frac 1 N) \\frac {N_m} {N - 1} = \\\\\n",
    "= \\frac 1 h \\sum\\limits_{m=1}^M \\hat p_m^2 - \\frac {2N} {h (N-1)} \\sum\\limits_{m=1}^M (\\hat p_m^2 - \\frac 1 N) \\frac {N_m} N = \\\\\n",
    "= \\frac 1 h \\sum\\limits_{m=1}^M \\hat p_m^2 - \\frac {2N} {h (N-1)} \\sum\\limits_{m=1}^M \\hat p_m^2 + \\frac 2 {h(N - 1)} = \\\\\n",
    "= \\frac 2 {h(N - 1)} - \\frac {N + 1} {h(N - 1)} \\sum\\limits_{m=1}^M \\hat p_m^2\n",
    "$"
   ]
  },
  {
   "cell_type": "markdown",
   "id": "36867095",
   "metadata": {},
   "source": [
    "- Ядерная оценка\n",
    "\n",
    "$ \\hat J(h) = \\int \\left( \\frac 1 {Nh} \\sum\\limits_{i=1}^N K(\\frac {x - X_i} h) \\right) ^2 dx\n",
    "- \\frac 2 N \\sum\\limits_{i=1}^N \\frac 1 {(N-1) h} \\sum\\limits_{j=1}^N K(\\frac {X_i - X_j} h) = \\\\\n",
    "= \\frac 1 {N^2 h^2} \\int \\left( \n",
    "    \\sum\\limits_{i=1}^N K^2(\\frac {x - X_i} h) \n",
    "    + \\sum\\limits_{i \\ne j} K(\\frac {x - X_i} h) K(\\frac {x - X_j} h)\n",
    "\\right) dx\n",
    "- \\frac 2 {h N (N-1)} \\sum\\limits_{i, j} K(\\frac {X_i - X_j} h) + \\frac 2 {hN} K(0) = \\\\\n",
    "= \\frac h {N^2 h^2} \\sum\\limits_{i, j} \\int K(\\frac {X_i - X_j} y) K(y) dy\n",
    "- \\frac 2 {h N (N-1)} \\sum\\limits_{i, j} K(\\frac {X_i - X_j} h) + \\frac 2 {hN} K(0) \\approx \\\\\n",
    "\\approx \\frac 1 {N^2 h} \\sum\\limits_{i, j} K^*(\\frac {X_i - X_j} h) + \\frac 2 {hN} K(0) \n",
    "$"
   ]
  },
  {
   "cell_type": "markdown",
   "id": "a24ee7fd",
   "metadata": {},
   "source": [
    "Покажем, что $ E[\\hat J(h)] = E[J(h)] $\n",
    "\n",
    "$ \\hat J(h) = \\int\\limits_{-\\infty}^{+\\infty} \\hat f_N^2(x) dx - \\frac 2 N \\sum\\limits_{i=1}^N \\hat f_{-i}(X_i) \\quad \\quad\n",
    "J(h) = \\int\\limits_{-\\infty}^{+\\infty} \\hat f_N^2(x) dx - 2 \\int\\limits_{-\\infty}^{+\\infty} \\hat f_N(x) f(x) dx \\\\\n",
    "$\n",
    "\n",
    "$ E \\int\\limits_{-\\infty}^{+\\infty} \\hat f_N(x) f(x) dx \n",
    "= E \\int \\frac 1 {Nh} \\sum\\limits_{i=1}^N K(\\frac {x - X_i} h) f(x) dx\n",
    "= \\frac 1 h E \\int K(\\frac {x - X_i} h) f(x) dx\n",
    "= \\frac 1 h \\int\\limits_{-\\infty}^{+\\infty} \\int\\limits_{-\\infty}^{+\\infty} K(\\frac {x - y} h) f(x) f(y) dx dy\n",
    "$\n",
    "\n",
    "$ E \\left[ \\frac 1 N \\sum\\limits_{i=1}^N \\hat f_{-i}(X_i) \\right]\n",
    "= E \\left[ \\hat f_{-i}(X_i) \\right]\n",
    "= E \\frac 1 {(N-1) h} \\sum\\limits_{j=1 \\\\ j \\ne i}^N K(\\frac {X_i - X_i} h)\n",
    "= \\frac 1 h E K(\\frac {X_i - X_i} h)\n",
    "= \\frac 1 h \\int\\limits_{-\\infty}^{+\\infty} \\int\\limits_{-\\infty}^{+\\infty} K(\\frac {x - y} h) f(x) f(y) dx dy\n",
    "$"
   ]
  },
  {
   "cell_type": "markdown",
   "id": "bb82af55-e9a9-4c23-8414-0d1a50943dc3",
   "metadata": {},
   "source": [
    "$ \\Rightarrow \\;\n",
    "E \\left[ \\int\\limits_{-\\infty}^{+\\infty} \\hat f_N(x) f(x) dx \\right] \n",
    "= E \\left[ \\frac 1 N \\sum\\limits_{i=1}^N \\hat f_{-i}(X_i) \\right] \n",
    "$ \n",
    "\n",
    "$ \\Rightarrow \\;\n",
    "E \\left[ \\int\\limits_{-\\infty}^{+\\infty} \\hat f_N^2(x) dx - \\frac 2 N \\sum\\limits_{i=1}^N \\hat f_{-i}(X_i) \\right]\n",
    "= E \\left[ \\int\\limits_{-\\infty}^{+\\infty} \\hat f_N^2(x) dx - 2 \\int\\limits_{-\\infty}^{+\\infty} \\hat f_N(x) f(x) dx  \\right]\n",
    "$ \n",
    "\n",
    "$ \\Rightarrow \\;\n",
    "E \\left[ \\hat J(h) \\right]\n",
    "= E \\left[ J(h) \\right]$"
   ]
  },
  {
   "cell_type": "markdown",
   "id": "94f6408b-525c-4b8a-b437-9150eedbc85c",
   "metadata": {},
   "source": [
    "<a name='task8'></a>\n",
    "## Task 8 (3)<sup>[toc](#_toc)</sup>\n",
    "\n",
    "Рассмотрим задачу непараметрической регрессии:\n",
    "$$\n",
    "Y_i = f(X_i) + \\epsilon_i, \\quad i \\in \\lf 1, \\dots, n \\rf, \\quad X_i \\in \\mathbb{R}, \\quad Y_i \\in \\mathbb{R}.\n",
    "$$\n",
    "где $\\epsilon_i$ и $X_i$ независимы, $\\Exp\\epsilon_i = 0$, $\\Var\\epsilon_i = \\sigma^2$, выборка $\\{X_i\\}_{i=1}^n$ одномерная и сэмплируется из отрезка $[0,1]$. Необходимо по имеющимся данным оценить функцию регрессии $f(x) = \\Exp(Y|X=x)$.\n",
    "\n",
    "\n",
    "- a) Рассмотрим следующее семейство функций\n",
    "$$\n",
    "{\\mathfrak{F}}_M = \\lf f(x) = \\Sum_{i=1}^M c_i I[x\\in B_i], c_i \\in \\mathbb{R}, i=\\overline{1, M} \\rf, \\text{ где } B_i = \\ls\\frac{i-1}{M}, \\frac{i}{M}\\rp.\n",
    "$$\n",
    "Последний отрезок $B_M$ включает обе граничные точки. Найдите функцию из класса ${\\mathfrak{F}}_M$, которая минимизирует сумму квадратов ошибок:\n",
    "$$\n",
    "r(x;\\boldsymbol{X}^n) = \\arg\\min_{f(x) \\in {\\mathfrak{F}}_M}\\Sum_{i=1}^n\\lp Y_i - f(X_i)\\rp^2\n",
    "$$\n",
    "- b) Найдите функцию регрессии поточечно, решив в каждой точке $x$ следующую оптимизационную задачу:\n",
    "$$\n",
    "r(x;\\boldsymbol{X}^n) = \\arg\\min_{y \\in \\mathbb{R}}\\Sum_{i=1}^nK\\lp\\frac{x-X_i}{h}\\rp\\lp Y_i - y\\rp^2,\n",
    "$$\n",
    "где $K(x)$ --- заданная ядерная функция, $h$ --- ширина ядра.\n",
    "- c) Какая оценка получится, если изменить задачу на следующую:\n",
    "$$\n",
    "r(x;\\boldsymbol{X}^n) = \\arg\\min_{a, b \\in \\mathbb{R}}\\Sum_{i=1}^n K\\lp\\frac{x-X_i}{h}\\rp\\lp Y_i - a - bX_i\\rp^2,\n",
    "$$\n",
    "где $K(x)$ --- заданная ядерная функция, $h$ --- ширина ядра?\n"
   ]
  },
  {
   "cell_type": "markdown",
   "id": "cb63c090-57d8-4583-beb0-c4e3f0f97736",
   "metadata": {
    "tags": []
   },
   "source": [
    "- a)\n",
    "\n",
    "Будем минимизировать сумму квадратов по каждому отрезку, найдём среднее по Y, в отрезке, в который попал $x$\n",
    "\n",
    "$ f(x) = \\sum\\limits_{i=1}^M I[x \\in B_i] \\cdot \\left(\\frac 1 {\\nu_i} \\sum\\limits_{X_j \\in B_i} Y_j \\right) $, где $ \\nu_i $ - количество элементов выборки, попавших в $ B_i $"
   ]
  },
  {
   "cell_type": "markdown",
   "id": "756caa95-97ac-456a-8375-d52b40448a5d",
   "metadata": {},
   "source": [
    "- b)\n",
    "\n",
    "$ \\frac {\\partial} {\\partial y}\n",
    "\\left( \\Sum_{i=1}^nK\\lp\\frac{x-X_i}{h}\\rp\\lp Y_i - y\\rp^2 \\right) = \\\\\n",
    "= -2 \\Sum_{i=1}^n K (\\frac{x-X_i}{h}) (Y_i - y) = \\\\\n",
    "= 2 y \\Sum_{i=1}^n K (\\frac{x-X_i}{h}) - 2 \\Sum_{i=1}^n K (\\frac{x-X_i}{h}) Y_i = 0\n",
    "$\n",
    "\n",
    "$ y = \n",
    "\\frac \n",
    "{\\Sum_{i=1}^n K (\\frac{x-X_i}{h}) Y_i} \n",
    "{\\Sum_{i=1}^n K (\\frac{x-X_i}{h})}\n",
    "$"
   ]
  },
  {
   "cell_type": "markdown",
   "id": "e0929aca-fe6f-4069-8a65-996aaaf92a09",
   "metadata": {},
   "source": [
    "- c)\n",
    "\n",
    "$ \\frac {\\partial} {\\partial a}\n",
    "\\left( \\Sum_{i=1}^nK\\lp\\frac{x-X_i}{h}\\rp\\lp Y_i - a - b X_i\\rp^2 \\right)\n",
    "= -2 \\Sum_{i=1}^nK\\lp\\frac{x-X_i}{h}\\rp\\lp Y_i - a - b X_i\\rp = 0\n",
    "$\n",
    "\n",
    "$ \\frac {\\partial} {\\partial b}\n",
    "\\left( \\Sum_{i=1}^nK\\lp\\frac{x-X_i}{h}\\rp\\lp Y_i - a - b X_i\\rp^2 \\right)\n",
    "= -2 \\Sum_{i=1}^nK\\lp\\frac{x-X_i}{h}\\rp\\lp Y_i - a - b X_i\\rp X_i = 0\n",
    "$"
   ]
  },
  {
   "cell_type": "markdown",
   "id": "a2bea988-f10f-44d9-81e5-d1b539cc2399",
   "metadata": {},
   "source": [
    "$ a = \\frac\n",
    "{\n",
    "    \\Sum_{i=1}^n K(\\frac{x - X_i}{h}) X_i Y_i \\ \\cdot \\\n",
    "    \\Sum_{i=1}^n K(\\frac{x - X_i}{h}) X_i \\ - \\\n",
    "    \\Sum_{i=1}^n K(\\frac{x - X_i}{h}) X_i^2\\ \\cdot \\\n",
    "    \\Sum_{i=1}^n K(\\frac{x - X_i}{h}) Y_i\n",
    "}\n",
    "{\n",
    "    \\left( \\Sum_{i=1}^n K(\\frac{x - X_i}{h}) X_i \\right) ^2 \\ - \\\n",
    "    \\Sum_{i=1}^n K(\\frac{x - X_i}{h}) X_i^2 \\ \\cdot \\\n",
    "    \\Sum_{i=1}^n K(\\frac{x - X_i}{h})\n",
    "}\n",
    "$\n",
    "\n",
    "$ b = \\frac\n",
    "{\n",
    "    \\Sum_{i=1}^n K(\\frac{x - X_i}{h}) X_i \\ \\cdot \\\n",
    "    \\Sum_{i=1}^n K(\\frac{x - X_i}{h}) Y_i \\ - \\\n",
    "    \\Sum_{i=1}^n K(\\frac{x - X_i}{h}) \\ \\cdot \\\n",
    "    \\Sum_{i=1}^n K(\\frac{x - X_i}{h}) X_i Y_i\n",
    "}\n",
    "{\n",
    "    \\left( \\Sum_{i=1}^n K(\\frac{x - X_i}{h}) X_i \\right) ^2 \\ - \\\n",
    "    \\Sum_{i=1}^n K(\\frac{x - X_i}{h}) X_i^2 \\ \\cdot \\\n",
    "    \\Sum_{i=1}^n K(\\frac{x - X_i}{h})\n",
    "}\n",
    "$"
   ]
  },
  {
   "cell_type": "markdown",
   "id": "e3ec07ef-f511-4a84-83ea-db2bb2816883",
   "metadata": {},
   "source": [
    "<a name='task9'></a>\n",
    "## Task 9 (2+1)<sup>[toc](#_toc)</sup>\n",
    "\n",
    "Винни-Пуху на день рождения Сова подарила 5 горшочков с медом, каждый приблизительно весом 1 кг (исходя из объема горшочка и плотности мёда). Однако из проверенных источников (от Пятачка), Винни-Пух получил информацию, что один горшочек предположительно содержит неправильный мёд, причем его вес должен отличаться от 1 кг (из-за содержания неправильных веществ). Для проведения следственных мероприятий у ослика Иа-Иа были изъяты самодельные весы. Взвесив каждый горшочек индивидуально, Винни-Пух обнаружил, что весы явно имеют некоторую неизвестную погрешность взвешивания, так что проделанные измерения не позволяют однозначно проверить информацию о неправильности мёда в одном из горшочков. Поэтому Винни-Пух почему-то решил взвешивать горшочки сразу по два, но как только он закончил эти 10 взвешиваний, как ослик Иа-Иа, пригрозив судебными разбирательствами, в принудительном порядке затребовал свои весы обратно, оставив Винни-Пуха с результатами 15-и взвешиваний.\n",
    "\n",
    "Нам даны результаты этих взвешиваний --- бинарная матрица $\\boldsymbol{X} \\in \\{0, 1\\}^{n \\times d}$, где $n = 15$ и $d = 5$, и вектор $\\boldsymbol{y}$ с результатами взвешиваний (\\texttt{honey\\_X.csv} и \\texttt{honey\\_y.csv}). По этим данных для каждого горшочка найдите p-value для гипотезы о том, что данный горшочек содержит неправильный мёд. Если ли среди горшочков такой, который на уровне значимости 95\\% содержит неправильный мёд?\n",
    "\n",
    "\\textbf{Дополнительное задание на 1 балл}. Дисперсия веса горшочка зависит от дизайна взвешиваний (выбора матрицы $\\boldsymbol{X}$). Возможно Винни-Пух ошибся, начав взвешивать горшочки сразу по два, и вместо этого стоило взвесить каждый горшочек отдельно от других ещё по два раза, получив в результате те же самые 15 взвешиваний до того момента, как весы были возвращены Иа-Иа. Найдите отношение дисперсии оценки веса горшочка в случае дизайна, предложенного Винни-Пухом, к дисперсии оценки веса горшочка в случае предложенного <<индивидуального>> дизайна. Какой дизайн лучше с точки зрения поиска горшочка с неправильным мёдом?"
   ]
  },
  {
   "cell_type": "markdown",
   "id": "6c3e39a7-e324-4250-a1aa-9360bed3b4c7",
   "metadata": {},
   "source": [
    "pass"
   ]
  },
  {
   "cell_type": "markdown",
   "id": "5cfabc79-e03d-4b40-81b6-2aa93864a7bf",
   "metadata": {},
   "source": [
    "<a name='task10'></a>\n",
    "## Task 10 (3)<sup>[toc](#_toc)</sup>\n",
    "\n",
    "Скачайте данные *data.csv*, содержащие 12 столбцов независимых переменных и 1 столбец с зависимой переменной. Первые 250 строк отведите под обучение, а оставшиеся 1250 под тест (да, под обучение отводим сильно меньше).\n",
    "\n",
    "\n",
    "- Обучите простую линейную регрессию по обучающей выборке. Примените модель к тестовой выборке и найдите MSE.\n",
    "\n",
    "- По обучающей выборке оцените наилучший набор признаков, описывающих выходную переменную. Используйте для этого статистику Cp Mallow, AIC-критерий, BIC-критерий, LOO-проверку. Выбор подмножества признаков проведите полным перебором. Позволяет ли какой-нибудь набор признаков получить значение MSE на тестовых данных меньше, чем на всех признаках?  \n",
    "  *Внимание. В ответе должно быть понятно, какой набор признаков был выбран согласно каждому из критериев.*\n"
   ]
  },
  {
   "cell_type": "code",
   "execution_count": 2,
   "id": "961436ac",
   "metadata": {},
   "outputs": [],
   "source": [
    "np.set_printoptions(formatter={'float_kind': \"{:.4f}\".format}, linewidth=200)"
   ]
  },
  {
   "cell_type": "code",
   "execution_count": 3,
   "id": "2696822a",
   "metadata": {},
   "outputs": [],
   "source": [
    "data = pd.read_csv('data.csv', sep=',', index_col=0)\n",
    "# data.head()"
   ]
  },
  {
   "cell_type": "code",
   "execution_count": 4,
   "id": "16dbadc4",
   "metadata": {},
   "outputs": [
    {
     "data": {
      "text/plain": [
       "(array([[1.0000, -0.0060, 0.0030, ..., 0.0306, -0.0184, 0.0126],\n",
       "        [1.0000, -0.0105, 0.0009, ..., 0.0056, 0.0186, -0.0085],\n",
       "        [1.0000, 0.0263, -0.0094, ..., -0.0120, 0.0203, -0.0237],\n",
       "        ...,\n",
       "        [1.0000, -0.0001, 0.0049, ..., -0.0202, 0.0165, -0.0024],\n",
       "        [1.0000, -0.0192, 0.0155, ..., 0.0061, 0.0180, 0.0019],\n",
       "        [1.0000, 0.0070, -0.0099, ..., 0.0071, -0.0188, 0.0080]]),\n",
       " (2500, 13))"
      ]
     },
     "execution_count": 4,
     "metadata": {},
     "output_type": "execute_result"
    }
   ],
   "source": [
    "X = data.values[:, :-1]\n",
    "y = data['y'].values\n",
    "\n",
    "X = np.hstack((np.ones((X.shape[0], 1)), X))\n",
    "X, X.shape"
   ]
  },
  {
   "cell_type": "code",
   "execution_count": 5,
   "id": "5b7ce614",
   "metadata": {},
   "outputs": [],
   "source": [
    "X_train, X_test, y_train, y_test = X[:250], X[250:250+1250], y[:250], y[250:250+1250]"
   ]
  },
  {
   "cell_type": "code",
   "execution_count": 6,
   "id": "e6f30511",
   "metadata": {},
   "outputs": [],
   "source": [
    "w = np.linalg.inv(X_train.T @ X_train) @ X_train.T @ y_train"
   ]
  },
  {
   "cell_type": "code",
   "execution_count": 7,
   "id": "097eb48a",
   "metadata": {},
   "outputs": [
    {
     "data": {
      "text/plain": [
       "(10.825518658622762, 8.526523275647769)"
      ]
     },
     "execution_count": 7,
     "metadata": {},
     "output_type": "execute_result"
    }
   ],
   "source": [
    "from sklearn.metrics import mean_squared_error\n",
    "\n",
    "# MSE train, MSE test\n",
    "mean_squared_error(X_train @ w, y_train), mean_squared_error(X_test @ w, y_test) "
   ]
  },
  {
   "cell_type": "markdown",
   "id": "b935e462-76c7-4c9b-9de1-41a08ce5443d",
   "metadata": {},
   "source": [
    "<a name='task11'></a>\n",
    "## Task 11 (4)<sup>[toc](#_toc)</sup>\n",
    "\n",
    "Скачать данные со страницы курса (значения коэффициента преломления для разных типов стекла; первый столбец). Оценить плотность распределения этих значений, используя гистограмму и ядерную оценку. Для подбора ширины ячейки или ширины ядра использовать перекрестную проверку (кросс-проверку).  Для выбранных значений ширины ячейки и ширины ядра построить 95\\%-ые доверительные интервалы для полученной оценки плотности.\n"
   ]
  },
  {
   "cell_type": "markdown",
   "id": "89f665e0-266c-4ce2-99d5-8222869e7a92",
   "metadata": {},
   "source": [
    "- гистограммная оценка"
   ]
  },
  {
   "cell_type": "code",
   "execution_count": 8,
   "id": "1a50f567",
   "metadata": {
    "tags": []
   },
   "outputs": [],
   "source": [
    "def to01(X):\n",
    "    a = X.min()\n",
    "    b = X.max()\n",
    "    return (X - a) / (b - a)\n",
    "\n",
    "X = pd.read_csv('glass.dat', sep='\\s+')['RI'].values\n",
    "\n",
    "a = X.min()\n",
    "b = X.max()\n",
    "n = X.shape[0]\n",
    "\n",
    "X = to01(X)"
   ]
  },
  {
   "cell_type": "code",
   "execution_count": 9,
   "id": "811c238e",
   "metadata": {
    "tags": []
   },
   "outputs": [
    {
     "data": {
      "text/plain": [
       "(34, 0.67)"
      ]
     },
     "execution_count": 9,
     "metadata": {},
     "output_type": "execute_result"
    }
   ],
   "source": [
    "def compute_risk(bin_count):\n",
    "    h = (X.max() - X.min()) / bin_count\n",
    "    p_hats = np.histogram(X, bins=bin_count)[0] / n\n",
    "    \n",
    "    return 2. / ((n - 1) * h) - (n + 1)/ (h * (n - 1)) * np.sum(p_hats ** 2)\n",
    "\n",
    "m = np.argmin([compute_risk(m) for m in range(1, 150)]) + 1\n",
    "# Количество ячеек, ширина ячейки\n",
    "m, (b - a) / m "
   ]
  },
  {
   "cell_type": "code",
   "execution_count": 10,
   "id": "a869d411",
   "metadata": {},
   "outputs": [
    {
     "data": {
      "image/png": "[encoded data removed]",
      "text/plain": [
       "<Figure size 800x400 with 1 Axes>"
      ]
     },
     "metadata": {},
     "output_type": "display_data"
    }
   ],
   "source": [
    "alpha = 0.05\n",
    "\n",
    "f, bins = np.histogram(X, bins=m, density=True)\n",
    "\n",
    "z_a = stats.norm.ppf(1 - alpha / (2 * m))\n",
    "c = z_a / 2 * np.sqrt(m / n)\n",
    "\n",
    "u = (np.sqrt(f) + c) ** 2\n",
    "l = np.array([max(np.sqrt(f_) - c, 0) for f_ in f]) ** 2\n",
    "\n",
    "x_values = bins[:-1]\n",
    "x_values = x_values * (b - a) + a\n",
    "f, l, u = f / (b - a), l / (b - a), u / (b - a)\n",
    "\n",
    "plt.figure(figsize=(8, 4))\n",
    "plt.plot(x_values, f, drawstyle=\"steps\")\n",
    "plt.fill_between(x_values, l, u, step=\"pre\", alpha=0.4)\n",
    "plt.show()"
   ]
  },
  {
   "cell_type": "markdown",
   "id": "d2e62cd1",
   "metadata": {},
   "source": [
    "- Ядерная оценка"
   ]
  },
  {
   "cell_type": "code",
   "execution_count": 11,
   "id": "24fe9a92",
   "metadata": {
    "tags": []
   },
   "outputs": [],
   "source": [
    "X = pd.read_csv('glass.dat', sep='\\s+')['RI'].values"
   ]
  },
  {
   "cell_type": "code",
   "execution_count": 12,
   "id": "0344d7c1",
   "metadata": {
    "tags": []
   },
   "outputs": [],
   "source": [
    "K = lambda x: stats.norm.pdf(x, 0, 1)\n",
    "\n",
    "def compute_risk(h):\n",
    "    x = X.reshape(-1,1)\n",
    "    diff = x.T - x\n",
    "    \n",
    "    K2 = lambda x: stats.norm.pdf(x, 0, np.sqrt(2))\n",
    "    return (np.sum(K2(diff / h)) - 2 * np.sum(K(diff / h))) / (h * n**2) + 2 * K(0) / (n * h)"
   ]
  },
  {
   "cell_type": "code",
   "execution_count": 13,
   "id": "cddf5ee1",
   "metadata": {
    "tags": []
   },
   "outputs": [
    {
     "data": {
      "text/plain": [
       "0.24597989949748744"
      ]
     },
     "execution_count": 13,
     "metadata": {},
     "output_type": "execute_result"
    }
   ],
   "source": [
    "hs = np.linspace(0.05, 2., 200)\n",
    "\n",
    "h = hs[np.argmin([compute_risk(h) for h in hs])]\n",
    "h"
   ]
  },
  {
   "cell_type": "code",
   "execution_count": 14,
   "id": "d03fb874-68bf-4974-86ab-232dac96a865",
   "metadata": {
    "tags": []
   },
   "outputs": [],
   "source": [
    "def compute_f(x_values, h):\n",
    "    return np.array([\n",
    "        K((x - X) / h).sum() \n",
    "        for x in x_values\n",
    "    ]) / (n * h)"
   ]
  },
  {
   "cell_type": "code",
   "execution_count": 15,
   "id": "66c9954e-84dc-46c0-a29b-fe0c93346ca8",
   "metadata": {
    "tags": []
   },
   "outputs": [],
   "source": [
    "def se2(x: float, h: float):\n",
    "    Yx = np.array([K((x - X_i) / h) for X_i in X]) / h\n",
    "    Ymx = Yx.mean()\n",
    "    return np.sum((Yx - Ymx) ** 2) / (n - 1)\n",
    "\n",
    "def compute_se(x_values, h):\n",
    "    return np.array([np.sqrt(se2(x, h) / n) for x in x_values])"
   ]
  },
  {
   "cell_type": "code",
   "execution_count": 16,
   "id": "d02e3fd5",
   "metadata": {
    "scrolled": true,
    "tags": []
   },
   "outputs": [
    {
     "data": {
      "image/png": "[encoded data removed]",
      "text/plain": [
       "<Figure size 800x400 with 1 Axes>"
      ]
     },
     "metadata": {},
     "output_type": "display_data"
    }
   ],
   "source": [
    "x_values = np.linspace(X.min(), X.max(), 1000)\n",
    "\n",
    "alpha = 0.05\n",
    "m = (X.max() - X.min()) / (3 * h)\n",
    "q = stats.norm.ppf((1 + (1 - alpha) ** (1 / m)) / 2)\n",
    "\n",
    "f = compute_f(x_values, h)\n",
    "se = compute_se(x_values, h)\n",
    "\n",
    "l = np.maximum(f - q * se, 0)\n",
    "u = f + q * se\n",
    "\n",
    "plt.figure(figsize=(8, 4))\n",
    "plt.plot(x_values, f)\n",
    "plt.fill_between(x_values, l, u, alpha=0.4)\n",
    "plt.show()"
   ]
  },
  {
   "cell_type": "markdown",
   "id": "f59473f3-1ab7-4876-a5a0-755e6b873fe1",
   "metadata": {},
   "source": [
    "<a name='task12'></a>\n",
    "## Task 12 (4)<sup>[toc](#_toc)</sup>\n",
    "\n",
    "По данным из предыдущей задачи, используя в качестве выходной переменной $y$ значения преломления для разных типов стекла, а в качестве входной переменной $x$ --- данные о содержании алюминия (четвертая переменная в матрице данных), восстановить зависимость между $y$ и $x$ с помощью ядерной непараметрической регрессии. Оценку ядра проводить с помощью перекрестной проверки. Построить 95\\%-ые доверительные интервалы для полученной оценки функции регрессии.\n"
   ]
  },
  {
   "cell_type": "code",
   "execution_count": 17,
   "id": "74a7d2a7",
   "metadata": {
    "tags": []
   },
   "outputs": [
    {
     "data": {
      "text/plain": [
       "((214,), (214,))"
      ]
     },
     "execution_count": 17,
     "metadata": {},
     "output_type": "execute_result"
    }
   ],
   "source": [
    "data = pd.read_csv('glass.dat', sep='\\s+')\n",
    "\n",
    "X = data['Al'].values\n",
    "Y = data['RI'].values\n",
    "\n",
    "X.shape, Y.shape"
   ]
  },
  {
   "cell_type": "code",
   "execution_count": 18,
   "id": "c135d820-11ec-4eb2-98b3-1826f4085fc5",
   "metadata": {
    "tags": []
   },
   "outputs": [],
   "source": [
    "K = lambda x: stats.norm.pdf(x, 0, 1)\n",
    "\n",
    "def nw_predict(X, Y, h):\n",
    "    K_X = (X[:, None] - X[None, :]) / h\n",
    "    k = K(K_X)\n",
    "    predictions = np.sum(k * Y[None, :], axis=1) / np.sum(k, axis=1)\n",
    "    return predictions\n",
    "    \n",
    "def nw_regression_estimated_risk(X, Y, bandwidth):\n",
    "    h = bandwidth\n",
    "\n",
    "    Y_pred = nw_predict(X, Y, h)\n",
    "    \n",
    "    k = K((X.reshape((-1, 1)) - X.reshape((1, -1))) / h)\n",
    "    K_sums = np.sum(k, axis=1)\n",
    "    \n",
    "    J = np.sum((((Y - Y_pred) * K_sums) / (K_sums - K(0)))**2)\n",
    "    return J"
   ]
  },
  {
   "cell_type": "code",
   "execution_count": 19,
   "id": "cc146aad-6b1e-481f-a33c-f24aeff36d87",
   "metadata": {
    "tags": []
   },
   "outputs": [
    {
     "name": "stdout",
     "output_type": "stream",
     "text": [
      "h = 0.13346938775510203\n"
     ]
    },
    {
     "data": {
      "image/png": "[encoded data removed]",
      "text/plain": [
       "<Figure size 800x400 with 1 Axes>"
      ]
     },
     "metadata": {},
     "output_type": "display_data"
    }
   ],
   "source": [
    "hs = np.linspace(0.06, 0.3, 50)\n",
    "\n",
    "estimated_risks = []\n",
    "for h in hs:\n",
    "    K = lambda x: stats.norm.pdf(x, 0, 1)\n",
    "    risk = nw_regression_estimated_risk(X, Y, h)\n",
    "    estimated_risks.append(risk)\n",
    "\n",
    "h = hs[np.argmin(estimated_risks)]\n",
    "print(f'h = {h:}')\n",
    "\n",
    "plt.figure(figsize=(8, 4))\n",
    "plt.plot(hs, estimated_risks)\n",
    "plt.grid();"
   ]
  },
  {
   "cell_type": "code",
   "execution_count": 20,
   "id": "398668a6-e8ac-405b-87dc-809be6a7e877",
   "metadata": {
    "tags": []
   },
   "outputs": [
    {
     "data": {
      "image/png": "[encoded data removed]",
      "text/plain": [
       "<Figure size 800x400 with 1 Axes>"
      ]
     },
     "metadata": {},
     "output_type": "display_data"
    }
   ],
   "source": [
    "x_values = np.linspace(np.min(X), np.max(X), 500)\n",
    "\n",
    "alpha = 0.05\n",
    "m = (Y.max() - Y.min()) / (3 * h)\n",
    "q = stats.norm.ppf((1 + (1 - alpha)**(1 / m)) / 2)\n",
    "\n",
    "sigma = np.sqrt(np.sum((Y[1:] - Y[:-1])**2) / (2 * (n - 1)))\n",
    "k = K((x_values[:, None] - X[None, :]) / h)\n",
    "W = k / k.sum(axis=1)[:, None]\n",
    "se = sigma * np.sqrt(np.sum(W ** 2, axis=1))\n",
    "se.shape\n",
    "\n",
    "Y_pred = np.sum(W * Y[None, :], axis=1)\n",
    "l = Y_pred - q * se\n",
    "u = Y_pred + q * se\n",
    "\n",
    "plt.figure(figsize=(8, 4))\n",
    "plt.xlabel('Al')\n",
    "plt.ylabel('RI')\n",
    "\n",
    "plt.plot(x_values, Y_pred)\n",
    "plt.fill_between(x_values, l, u, alpha=0.4)\n",
    "plt.show()"
   ]
  },
  {
   "cell_type": "code",
   "execution_count": null,
   "id": "6addb75b",
   "metadata": {},
   "outputs": [],
   "source": []
  }
 ],
 "metadata": {
  "kernelspec": {
   "display_name": "Python 3 (ipykernel)",
   "language": "python",
   "name": "python3"
  },
  "language_info": {
   "codemirror_mode": {
    "name": "ipython",
    "version": 3
   },
   "file_extension": ".py",
   "mimetype": "text/x-python",
   "name": "python",
   "nbconvert_exporter": "python",
   "pygments_lexer": "ipython3",
   "version": "3.10.6"
  }
 },
 "nbformat": 4,
 "nbformat_minor": 5
}
