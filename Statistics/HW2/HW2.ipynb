{
 "cells": [
  {
   "cell_type": "code",
   "execution_count": 1,
   "id": "17dc3393-0b64-444f-99db-1b2896179908",
   "metadata": {},
   "outputs": [],
   "source": [
    "import os\n",
    "import numpy as np\n",
    "import pandas as pd\n",
    "import matplotlib.pyplot as plt\n",
    "%matplotlib inline\n",
    "\n",
    "from scipy import stats"
   ]
  },
  {
   "cell_type": "markdown",
   "id": "534d1adc-3c4e-42e9-97e5-fb548a771dcf",
   "metadata": {},
   "source": [
    "<a name='_toc'></a>\n",
    "# Table of contents\n",
    "\n",
    "* [Task 1 (4)](#task1)\n",
    "* [Task 2 (2)](#task2)\n",
    "* [Task 3 (4)](#task3)\n",
    "* [Task 4 (4)](#task4)\n",
    "* [Task 5 (1)](#task5)\n",
    "* [Task 6 (3)](#task6)\n",
    "* [Task 7 (2)](#task7)\n",
    "* [Task 8 (2)](#task8)\n",
    "* [Task 9 (2)](#task9)\n",
    "* [Task 10 (2)](#task10)\n",
    "* [Task 11 (2)](#task11)\n",
    "* [Task 12 (2)](#task12)"
   ]
  },
  {
   "cell_type": "markdown",
   "id": "161f7e09-7898-45c0-a7ba-19bebc4335bf",
   "metadata": {},
   "source": [
    "<a name='task1'></a>\n",
    "## Task 1 (4)<sup>[toc](#_toc)</sup>\n",
    "\n",
    "Пусть $n_1$ --- количество людей, которые получили лечение по методике 1, а $n_2$ --- количество людей, которые получили лечение по методике 2. Обозначим через $X_1$ --- количество людей, получивших лечение по методике 1, на которых эта методика повлияла положительно. Аналогично, обозначим через $X_2$ --- количество людей, получивших лечение по методике 2, на которых эта методика повлияла положительно. Предположим, что $X_1 \\sim Binomial(n_1,p_1)$ и $X_2\\sim Binomial(n_2,p_2)$. Положим $\\psi = p_1-p_2$.\n",
    "\n",
    "\n",
    "- a. Найдите MLE-оценку $\\psi_{MLE}$ для параметра $\\psi$.\n",
    "- b. Найдите информационную матрицу Фишера $I(p_1,p_2)$.\n",
    "- c. Используя многопараметрический дельта-метод найдите асимптотическую стандартную ошибку для $\\psi_{MLE}$.\n",
    "- d. Допустим, что $n_1=n_2=200$, и конкретные значения случайных величин $X_1$ и $X_2$ равны $160$ и $148$ соответственно. Чему в этом случае равна оценка  $\\psi_{MLE}$. Найдите приблизительный (асимптотический) 90\\%-ый доверительный интервал для $\\psi$, используя (а) многопараметрический дельта-метод и (б) параметрический бутстреп.\n"
   ]
  },
  {
   "cell_type": "markdown",
   "id": "6c185fec-0ac2-496a-8c26-d0712ec1d91b",
   "metadata": {},
   "source": [
    "a.\n",
    "\n",
    "$ f(X_1) = C_n^k p^k (1 - p)^{n-k}\n",
    "$\n",
    "\n",
    "$ L = C_n^{X_1} p_1^{X_1} (1 - p_1)^{n_1-{X_1}} C_n^{X_2} p_2^{X_2} (1 - p_2)^{n_2-{X_2}}\n",
    "$\n",
    "\n",
    "$ \\frac {\\partial \\ln L} {\\partial p_1}\n",
    "= \\frac \\partial {\\partial p_1} (X_1 \\ln p_1 + (n_1 - X_1) \\ln (1 - p_1) )\n",
    "= \\frac {X_1} {p_1} - \\frac {n_1 - X_1} {1 - p_1}\n",
    "$\n",
    "\n",
    "$ \\frac {X_1} {p_1} - \\frac {n_1 - X_1} {1 - p_1} = 0 \\quad \\Rightarrow \\quad \\hat p_1 = \\frac {X_1} {n_1}\n",
    "$\n",
    "\n",
    "$ \\frac {\\partial \\ln L} {\\partial p_2} = 0 \\quad \\Rightarrow \\quad \\hat p_2 = \\frac {X_2} {n_2}\n",
    "$\n",
    "\n",
    "$ \\psi_{MLE} = \\hat p_1 - \\hat p_2 = \\frac {X_1} {n_1} - \\frac {X_2} {n_2}\n",
    "$"
   ]
  },
  {
   "cell_type": "markdown",
   "id": "4eeffc63-87d7-4ac7-a399-952350dbc803",
   "metadata": {},
   "source": [
    "b.\n",
    "\n",
    "$ \\frac {\\partial^2 \\ln L} {\\partial p_1^2}\n",
    "= - \\frac {X_1} {p_1^2} - \\frac {n_1 - X_1} {(1 - p_1)^2}\n",
    "$\n",
    "\n",
    "$ \\frac {\\partial^2 \\ln L} {\\partial p_2^2}\n",
    "= - \\frac {X_2} {p_2^2} - \\frac {n_2 - X_2} {(1 - p_2)^2}\n",
    "$\n",
    "\n",
    "$ \\frac {\\partial^2 \\ln L} {\\partial p_1 \\partial p_2} = 0\n",
    "$"
   ]
  },
  {
   "cell_type": "markdown",
   "id": "53baefc8-fbf1-40d6-894f-46fb21b15581",
   "metadata": {},
   "source": [
    "$ - E( \\frac {\\partial^2 \\ln L} {\\partial p_1^2} )\n",
    "= E( \\frac {X_1} {p_1^2} ) + E( \\frac {n_1 - X_1} {(1 - p_1)^2} )\n",
    "= \\frac {n_1 p_1} {p_1^2} + \\frac {n_1 - n_1 p_1} {(1 - p_1)^2}\n",
    "= \\frac {n_1} {p_1 (1 - p_1)}\n",
    "$\n",
    "\n",
    "$ - E( \\frac {\\partial^2 \\ln L} {\\partial p_2^2} )\n",
    "= \\frac {n_2} {p_2 (1 - p_2)}\n",
    "$\n",
    "\n",
    "$ I(p_1, p_2)\n",
    "= \\begin{bmatrix}\n",
    "-E( \\frac {\\partial^2 \\ln L} {\\partial p_1^2}) & -E( \\frac {\\partial^2 \\ln L} {\\partial p_1 \\partial p_2}) \\\\\n",
    "-E( \\frac {\\partial^2 \\ln L} {\\partial p_1 \\partial p_2}) & -E( \\frac {\\partial^2 \\ln L} {\\partial p_2^2})\n",
    "\\end{bmatrix}\n",
    "= \\begin{bmatrix}\n",
    "\\frac {n_1} {p_1 (1 - p_1)} & 0 \\\\\n",
    "0 & \\frac {n_2} {p_2 (1 - p_2)}\n",
    "\\end{bmatrix}\n",
    "$"
   ]
  },
  {
   "cell_type": "markdown",
   "id": "202e94b0-0b53-4062-9d84-af23eb0191d5",
   "metadata": {},
   "source": [
    "c.\n",
    "\n",
    "$ \\psi = p_1 - p_2\n",
    "$\n",
    "\n",
    "$ \\nabla \\psi(p_1, p_2)\n",
    "= \\begin{bmatrix} 1 \\\\ -1 \\end{bmatrix}\n",
    "$\n",
    "\n",
    "$ J = I^{-1} (p_1, p_2)\n",
    "= \\begin{bmatrix}\n",
    "\\frac {p_1 (1 - p_1)} {n_1} & 0 \\\\\n",
    "0 & \\frac {p_2 (1 - p_2)} {n_2}\n",
    "\\end{bmatrix}\n",
    "$\n",
    "\n",
    "$ \\hat {se} (\\psi_{MLE}) = \\sqrt{ (\\hat \\nabla \\psi)^T \\hat J (\\hat \\nabla \\psi) }\n",
    "= \\sqrt {\n",
    "    \\begin{bmatrix} 1 & -1 \\end{bmatrix}\n",
    "    \\begin{bmatrix}\n",
    "        \\frac {\\hat p_1 (1 - \\hat p_1)} {n_1} & 0 \\\\\n",
    "        0 & \\frac {\\hat p_2 (1 - \\hat p_2)} {n_2}\n",
    "    \\end{bmatrix}\n",
    "    \\begin{bmatrix} 1 \\\\ -1 \\end{bmatrix}\n",
    "}\n",
    "= \\sqrt {\n",
    "    \\begin{bmatrix}\n",
    "        \\frac {\\hat p_1 (1 - \\hat p_1)} {n_1} & -\\frac {\\hat p_2 (1 - \\hat p_2)} {n_2}\n",
    "    \\end{bmatrix}\n",
    "    \\begin{bmatrix} 1 \\\\ -1 \\end{bmatrix}\n",
    "} = \\\\\n",
    "= \\sqrt {\n",
    "    \\frac {\\hat p_1 (1 - \\hat p_1)} {n_1} + \\frac {\\hat p_2 (1 - \\hat p_2)} {n_2}\n",
    "}\n",
    "= \\sqrt {\n",
    "    \\frac {X_1 (n_1 - X_1)} {n_1^3} + \\frac {X_2 (n_2 - X_2)} {n_2^3}\n",
    "}\n",
    "$"
   ]
  },
  {
   "cell_type": "markdown",
   "id": "913c9c2f-f1a1-42f6-adaf-8e9b5d8ee393",
   "metadata": {},
   "source": [
    "d."
   ]
  },
  {
   "cell_type": "code",
   "execution_count": 2,
   "id": "a7357fa8-4c17-41ed-9dcc-d87bf645ff3f",
   "metadata": {},
   "outputs": [],
   "source": [
    "alpha = 0.1\n",
    "z_alpha = stats.norm.ppf(1 - alpha / 2)\n",
    "\n",
    "n1 = n2 = 200\n",
    "X1, X2 = 160, 148\n",
    "\n",
    "p1, p2 = X1 / n1, X2 / n2"
   ]
  },
  {
   "cell_type": "markdown",
   "id": "4d9d13ae-682d-4413-880d-5902709da1cc",
   "metadata": {},
   "source": [
    "Оценка $\\psi_{MLE}$"
   ]
  },
  {
   "cell_type": "code",
   "execution_count": 3,
   "id": "b0d73881-e5eb-4c8c-88a7-7d775ded58e7",
   "metadata": {},
   "outputs": [
    {
     "data": {
      "text/plain": [
       "0.06000000000000005"
      ]
     },
     "execution_count": 3,
     "metadata": {},
     "output_type": "execute_result"
    }
   ],
   "source": [
    "psi = p1 - p2\n",
    "psi"
   ]
  },
  {
   "cell_type": "markdown",
   "id": "43938216-6d8d-4be6-b62f-332ab9c8d679",
   "metadata": {},
   "source": [
    "Асимптотический 90% доверительный интервал используя многопараметрический дельта-метод"
   ]
  },
  {
   "cell_type": "code",
   "execution_count": 4,
   "id": "3a6caaf9-349f-4b2b-b175-a668d478e170",
   "metadata": {},
   "outputs": [
    {
     "data": {
      "text/plain": [
       "(-0.009044678043395274, 0.12904467804339537)"
      ]
     },
     "execution_count": 4,
     "metadata": {},
     "output_type": "execute_result"
    }
   ],
   "source": [
    "se_psi = np.sqrt(p1 * (1 - p1) / n1 + p2 * (1 - p2) / n2) # punkt c.\n",
    "psi - z_alpha * se_psi, psi + z_alpha * se_psi"
   ]
  },
  {
   "cell_type": "markdown",
   "id": "081349de-2aa7-434b-9bd5-66e626e64134",
   "metadata": {},
   "source": [
    "Асимптотический 90% доверительный интервал используя параметрический бутстреп"
   ]
  },
  {
   "cell_type": "code",
   "execution_count": 5,
   "id": "c430c159-9873-479f-a779-d94de3d5e4ec",
   "metadata": {},
   "outputs": [
    {
     "data": {
      "text/plain": [
       "(-0.008232826219331982, 0.12823282621933207)"
      ]
     },
     "execution_count": 5,
     "metadata": {},
     "output_type": "execute_result"
    }
   ],
   "source": [
    "B = 10000\n",
    "\n",
    "X1_b = np.random.choice(np.hstack((np.ones(X1), np.zeros(n1 - X1))), (B, n1), replace=True)\n",
    "X2_b = np.random.choice(np.hstack((np.ones(X2), np.zeros(n2 - X2))), (B, n2), replace=True)\n",
    "\n",
    "p1_b, p2_b = X1_b.mean(axis=1), X2_b.mean(axis=1)\n",
    "psi_b = p1_b - p2_b\n",
    "\n",
    "se_psi_b = np.std(psi_b)\n",
    "psi - z_alpha * se_psi_b, psi + z_alpha * se_psi_b"
   ]
  },
  {
   "cell_type": "markdown",
   "id": "190963f3-b86b-48bd-8e35-eaf52edb46ef",
   "metadata": {},
   "source": [
    "<a name='task2'></a>\n",
    "## Task 2 (2)<sup>[toc](#_toc)</sup>\n",
    "\n",
    "Пусть $X =\\{X_1,\\ldots,X_n\\} \\sim Poisson(\\lambda)$.\n",
    "\n",
    "- Постройте оценки $\\tilde\\lambda$ параметра $\\lambda$ с помощью метода моментов с использованием пробных функций $g_1(x) = x$ и $g_2(x) = x^2$.\n",
    "- Постройте оценку $\\hat\\lambda$ параметра $\\lambda$ с помощью метода максимального правдоподобия. Найдите информацию Фишера $I_{X}(\\lambda)$. Является ли оценка $\\hat\\lambda$ эффективной?\n"
   ]
  },
  {
   "cell_type": "markdown",
   "id": "65d93663-0657-411a-8e3d-f4a0f60fc6f4",
   "metadata": {},
   "source": [
    "**a. Метод моментов**\n",
    "\n",
    "Построим оценку с помощью функции \n",
    "$ g_1(x) = x\n",
    "$\n",
    "\n",
    "$ E(X_1)\n",
    "= \\sum \\limits_{k=0}^{\\infty} k \\frac {e^{-\\lambda} \\lambda^k} {k!}\n",
    "= \\lambda e^{-\\lambda} \\sum \\limits_{k=1}^{\\infty} \\frac {\\lambda^{k-1}} {(k-1)!}\n",
    "= \\lambda e^{-\\lambda} e^{\\lambda}\n",
    "= \\lambda\n",
    "$\n",
    "\n",
    "$ \\tilde \\lambda\n",
    "= \\overline X\n",
    "= \\frac 1 n \\sum \\limits_{k=0}^n X_i\n",
    "$"
   ]
  },
  {
   "cell_type": "markdown",
   "id": "8700694a-e455-4746-bbd9-18b0a526c1e4",
   "metadata": {},
   "source": [
    "Построим оценку с помощью функции \n",
    "$ g_2(x) = x^2\n",
    "$\n",
    "\n",
    "$ E(X_1^2)\n",
    "= \\sum \\limits_{k=0}^{\\infty} k^2 \\frac {e^{-\\lambda} \\lambda^k} {k!}\n",
    "= \\lambda e^{-\\lambda} \\sum \\limits_{k=1}^{\\infty} k \\frac {\\lambda^{k-1}} {(k-1)!} = \\\\\n",
    "= \\lambda e^{-\\lambda} \\sum \\limits_{k=1}^{\\infty} (k - 1) \\frac {\\lambda^{k-1}} {(k-1)!}\n",
    "+ \\lambda e^{-\\lambda} \\sum \\limits_{k=1}^{\\infty} 1 \\frac {\\lambda^{k-1}} {(k-1)!} = \\\\\n",
    "= \\lambda^2 e^{-\\lambda} \\sum \\limits_{k=2}^{\\infty} \\frac {\\lambda^{k-2}} {(k-2)!}\n",
    "+ \\lambda e^{-\\lambda} e^{\\lambda} = \\\\\n",
    "= \\lambda^2 e^{-\\lambda} e^{\\lambda} + \\lambda e^{-\\lambda} e^{\\lambda} = \\\\\n",
    "= \\lambda^2 + \\lambda\n",
    "$\n",
    "\n",
    "Выразим лямбду:\n",
    "\n",
    "$ \\lambda^2 + \\lambda = \\overline {X^2} \\\\\n",
    "\\lambda^2 + \\lambda - \\overline {X^2} = 0 \\\\\n",
    "\\tilde \\lambda = \\frac {-1 + \\sqrt{1 + 4 \\overline {X^2}}} {2}\n",
    "= \\frac {-1 + \\sqrt{1 + \\frac 4 n \\sum \\limits_{i=1}^{n} X_i^2}} {2}\n",
    "$"
   ]
  },
  {
   "cell_type": "markdown",
   "id": "968d3c6d-4a82-4712-9a3f-d502b7c5acb2",
   "metadata": {},
   "source": [
    "**b. Метод максимального правдоподобия**\n",
    "\n",
    "$ L = \\prod \\limits_{i=1}^n \\frac {e^{-\\lambda} \\lambda^{X_i}} {X_i !}\n",
    "$\n",
    "\n",
    "$ \\ln L = \\sum \\limits_{i=1}^n \\ln \\frac {e^{-\\lambda} \\lambda^{X_i}} {X_i !}\n",
    "= \\sum \\limits_{i=1}^n (-\\lambda \\ln e + X_i \\ln \\lambda - \\ln (X_i !))\n",
    "= -n \\lambda + \\sum \\limits_{i=1}^n (X_i \\ln \\lambda - \\ln (X_i !))\n",
    "$\n",
    "\n",
    "$ \\frac {\\partial \\ln L} {\\partial \\lambda}\n",
    "= -n + \\sum \\limits_{i=1}^n \\frac {X_i} {\\lambda}\n",
    "$\n",
    "\n",
    "$ -n + \\sum \\limits_{i=1}^n \\frac {X_i} {\\lambda} = 0 \n",
    "\\quad \\Rightarrow \\quad\n",
    "\\frac 1 \\lambda \\sum \\limits_{i=1}^n X_i = n\n",
    "\\quad \\Rightarrow \\quad\n",
    "\\hat \\lambda = \\frac 1 n \\sum \\limits_{i=1}^n X_i\n",
    "= \\overline X\n",
    "$"
   ]
  },
  {
   "cell_type": "markdown",
   "id": "fd9e36a6-2fd7-4194-a84d-1aa674439c51",
   "metadata": {},
   "source": [
    "Найдём информацию Фишера\n",
    "\n",
    "$ \\ln f(X, \\lambda)\n",
    "= \\ln \\frac {\\lambda^x e^{-\\lambda}} {X!}\n",
    "= X \\ln \\lambda - \\lambda - \\ln(X!)\n",
    "$\n",
    "\n",
    "$ s(X, \\lambda)\n",
    "= \\frac {\\partial \\ln f(X, \\lambda)} {\\partial \\lambda}\n",
    "= \\frac X \\lambda - 1\n",
    "$\n",
    "\n",
    "$ I_n(\\lambda)\n",
    "= V(\\sum\\limits_{i=1}^n s(X_i, \\lambda))\n",
    "= \\sum\\limits_{i=1}^n V(\\frac {X_i} \\lambda - 1)\n",
    "= \\sum\\limits_{i=1}^n V(\\frac {X_i} \\lambda)\n",
    "= \\frac 1 {\\lambda^2} \\sum\\limits_{i=1}^n V(X_i)\n",
    "= \\frac n {\\lambda^2} V(X_1)\n",
    "= \\frac n \\lambda\n",
    "$\n",
    "\n",
    "$ I(\\lambda)\n",
    "= \\frac {I_n(\\lambda)} n\n",
    "= \\frac 1 \\lambda\n",
    "$"
   ]
  },
  {
   "cell_type": "markdown",
   "id": "79bd6e12-39ad-4a4f-9500-3f515f127c46",
   "metadata": {},
   "source": [
    "Покажем эффективность $ \\hat \\lambda $\n",
    "\n",
    "$ V(\\hat \\lambda) \n",
    "= V(\\overline X)\n",
    "= \\frac 1 {n^2} \\sum \\limits{i=1}^n V(X_i)\n",
    "= \\frac 1 {n^2} n V(X_1)\n",
    "= \\frac \\lambda n\n",
    "$\n",
    "\n",
    "Неравенство Рао-Крамера:  \n",
    "$ V(\\hat \\lambda) \\ge \\frac 1 {I_n(\\lambda)} \\\\\n",
    "\\frac \\lambda n \\ge \\frac \\lambda n\n",
    "$\n",
    "\n",
    "Т.к. это неравенство обращается в равенство, то оценка является эффективной"
   ]
  },
  {
   "cell_type": "markdown",
   "id": "fb29cc42-f58e-4804-b4be-e366c3dca582",
   "metadata": {},
   "source": [
    "<a name='task3'></a>\n",
    "## Task 3 (4)<sup>[toc](#_toc)</sup>\n",
    "\n",
    "Пусть $X =\\{X_1,\\dots,X_n\\} \\sim Pareto(\\theta, \\nu)$, $\\theta > 0$, $\\nu > 0$, с функцией плотности\n",
    "$$\n",
    "f_{\\theta, \\nu}(x) =\n",
    "\\begin{cases}\n",
    "\t\\frac{\\theta\\nu^{\\theta}}{x^{\\theta+1}}, \\quad & x \\ge \\nu,\\\\\n",
    "\t0, \\quad & x < \\nu\n",
    "\\end{cases}\n",
    "$$\n",
    "\n",
    "- a. Найдите MLE-оценки $\\hat \\theta$ и $\\hat \\nu$ для параметров $\\theta$ и $\\nu$.\n",
    "- c. Пусть параметр $\\nu$ известен. Найдите истинные значения $E_{\\theta}[\\hat{\\theta}]$ и $V_{\\theta}[\\hat{\\theta}]$ как функции параметров $\\theta$, $\\nu$ и размера выборки $n$. Подсказка: следует использовать тот факт, что логарифм от случайной величины с распределением Парето, имеет экспоненциальное распределение.\n",
    "- b. Пусть параметр $\\nu$ известен. Найдите асимптотическое распределение оценки $\\hat \\theta$ с помощью дельта-метода.\n",
    "- d. Пусть параметр $\\nu$ известен. Найдите информацию Фишера $I_X(\\theta)$. Является ли MLE-оценка параметра $\\hat{\\theta}$ эффективной?\n"
   ]
  },
  {
   "cell_type": "markdown",
   "id": "0ce4b9f9-a9d6-457c-9add-1f6dd9ad38a9",
   "metadata": {},
   "source": [
    "a.\n",
    "\n",
    "$ L(\\theta, \\nu) =\n",
    "\\begin{cases}\n",
    "    \\prod \\limits_{i=1}^n \\frac {\\theta \\nu^\\theta} {X_i^{\\theta+1}} & \\min X \\ge \\nu \\\\\n",
    "    0 & \\min X \\le \\nu\n",
    "\\end{cases}\n",
    "$\n",
    "\n",
    "$ \\ln L\n",
    "= \\sum \\limits_{i=1}^n \\ln \\frac {\\theta \\nu^\\theta} {X_i^{\\theta+1}}\n",
    "= n \\ln \\theta + n \\theta \\ln \\nu - (\\theta + 1) \\sum \\limits_{i=1}^n \\ln X_i\n",
    "$\n",
    "\n",
    "Найдём оценку для $\\theta$\n",
    "\n",
    "$ \\frac {\\partial \\ln L} {\\partial \\theta}\n",
    "= \\frac n \\theta + n \\ln \\nu - \\sum \\limits_{i=1}^n \\ln X_i\n",
    "$\n",
    "\n",
    "$ \\frac {\\partial \\ln L} {\\partial \\theta} = 0\n",
    "\\quad \\Rightarrow \\quad\n",
    "\\hat \\theta\n",
    "= \\frac n {\\sum \\limits_{i=1}^n \\ln X_i \\; - \\; n \\ln \\nu}\n",
    "= \\frac n {\\sum \\limits_{i=1}^n \\ln \\frac {X_i} \\nu}\n",
    "$\n",
    "\n",
    "Найдём оценку для $\\nu$\n",
    "\n",
    "$\\ln$ L растёт с ростом $ \\nu $.  \n",
    "Т.к. $ \\min X \\ge \\nu $, то $ \\hat \\nu = \\min X $"
   ]
  },
  {
   "cell_type": "markdown",
   "id": "af2f583b-8883-4a72-bd44-fcc96533b248",
   "metadata": {},
   "source": [
    "c.\n",
    "\n",
    "$ X_i \\sim Pareto(\\theta, \\nu) \n",
    "\\quad \\Rightarrow \\quad \n",
    "Y_i = \\ln \\frac {X_i} \\nu \\sim Exp(\\theta)\n",
    "\\quad \\Rightarrow \\quad \n",
    "Z = \\sum \\limits_{i=1}^n {Y_i} \\sim \\Gamma(n, \\frac 1 \\theta)\n",
    "$\n",
    "\n",
    "$ \\hat \\theta\n",
    "= \\frac n {\\sum \\limits_{i=1}^n \\ln \\frac {X_i} \\nu}\n",
    "= \\frac n {\\sum \\limits_{i=1}^n Y_i}\n",
    "= \\frac n Z\n",
    "$"
   ]
  },
  {
   "cell_type": "markdown",
   "id": "a44e4dc4-baef-4603-abca-bb64b571a9f2",
   "metadata": {},
   "source": [
    "$ E[\\hat \\theta]\n",
    "= E[\\frac n Z]\n",
    "= \\int \\limits_0^\\infty \\frac n x x^{n-1} \\frac {e^{-x\\theta}} {\\theta^{-n} \\Gamma(n)} dx\n",
    "= \\frac {\\theta^n} {\\Gamma(n)} \\int \\limits_0^\\infty \\frac n x x^{n-1} e^{-x\\theta} dx = \n",
    "\\\\ \\left[ u=\\theta x, x = \\frac u \\theta, dx = \\frac {du} \\theta \\right] \\\\\n",
    "= \\frac {\\theta^n} {\\Gamma(n)} n \\int \\limits_0^\\infty \\frac {\\theta^{1-n} u^{n-2}} {e^u} du\n",
    "= \\frac {\\theta^n \\ n \\ \\theta^{1-n}} {\\Gamma(n)} \\int \\limits_0^\\infty u^{n-2} e^{-u} du\n",
    "= \\frac {\\theta^n \\ n \\ \\theta^{1-n}} {\\Gamma(n)} \\Gamma(n-1)\n",
    "= \\frac {\\theta n } {n - 1}\n",
    "$"
   ]
  },
  {
   "cell_type": "markdown",
   "id": "6a5abd6e-77f9-4d80-ad5b-d1b62ff320f6",
   "metadata": {},
   "source": [
    "$ E[\\hat \\theta^2]\n",
    "= E[\\frac {n^2} {Z^2}]\n",
    "= \\int \\limits_0^\\infty \\frac {n^2} {x^2} x^{n-1} \\frac {e^{-x\\theta}} {\\theta^{-n} \\Gamma(n)} dx\n",
    "= \\frac {\\theta^n} {\\Gamma(n)} \\int \\limits_0^\\infty \\frac {n^2} {x^2} x^{n-1} e^{-x\\theta} dx = \n",
    "\\\\ \\left[ u=\\theta x, x = \\frac u \\theta, dx = \\frac {du} \\theta \\right] \\\\\n",
    "= \\frac {\\theta^n} {\\Gamma(n)} n^2 \\int \\limits_0^\\infty \\frac {\\theta^{2-n} u^{n-3}} {e^u} du\n",
    "= \\frac {\\theta^n \\ n^2 \\ \\theta^{2-n}} {\\Gamma(n)} \\int \\limits_0^\\infty u^{n-3} e^{-u} du\n",
    "= \\frac {\\theta^n \\ n^2 \\ \\theta^{2-n}} {\\Gamma(n)} \\Gamma(n-2)\n",
    "= \\frac {\\theta^n \\ n^2 \\ \\theta^{2-n}} {(n-1)(n-2)}\n",
    "= \\frac {\\theta^2 \\ n^2} {(n-1)(n-2)}\n",
    "$"
   ]
  },
  {
   "cell_type": "markdown",
   "id": "4cd7c9ba-8e08-4324-8652-09f95c6db98d",
   "metadata": {},
   "source": [
    "$ V(\\hat \\theta) = E(\\hat \\theta^2) - (E(\\hat \\theta)^2\n",
    "= \\frac {\\theta^2 \\ n^2} {(n-1)(n-2)} - \\frac {\\theta^2 n^2} {(n - 1)^2}\n",
    "= \\frac {\\theta^2 \\ n^2 \\ (n-1)} {(n-1)^2 (n-2)} - \\frac {\\theta^2 n^2 (n-2)} {(n - 1)^2 (n-2)}\n",
    "= \\frac {\\theta^2 \\ n^2} {(n-1)^2 (n-2)}\n",
    "$"
   ]
  },
  {
   "cell_type": "code",
   "execution_count": 6,
   "id": "36b4e325-9efb-4a80-ade2-ea596b600711",
   "metadata": {},
   "outputs": [
    {
     "name": "stdout",
     "output_type": "stream",
     "text": [
      "77.50316200670605 77.58947368421052\n",
      "333.18934259562013 334.45146814404427\n"
     ]
    }
   ],
   "source": [
    "theta, nu = 73.71, 1.4\n",
    "B, n = 100000, 20\n",
    "Xb = (np.random.pareto(theta, size=(B, n)) + 1) * nu\n",
    "theta_hat = n / (np.log(Xb / nu).sum(axis=1))\n",
    "\n",
    "print(theta_hat.mean(), theta * n / (n - 1))\n",
    "print(theta_hat.var(), theta ** 2 * n ** 2 / (n - 1) ** 2 / (n - 2))"
   ]
  },
  {
   "cell_type": "markdown",
   "id": "ac68274e-0327-4eda-a7ac-77cb941ec5ad",
   "metadata": {},
   "source": [
    "b.\n",
    "\n",
    "pass"
   ]
  },
  {
   "cell_type": "markdown",
   "id": "f5b15f7d-06e4-4bdb-97d5-033292963801",
   "metadata": {},
   "source": [
    "d.\n",
    "\n",
    "$ \\ln f(X, \\theta)\n",
    "= \\ln \\frac {\\theta \\nu^\\theta} {X^{\\theta + 1}}\n",
    "= \\ln \\theta + \\theta \\ln \\nu - (\\theta + 1) \\ln X\n",
    "$\n",
    "\n",
    "$ I(\\theta)\n",
    "= -E_\\theta(\\frac {\\partial^2 \\ln f(X, \\theta)} {\\partial \\theta^2})\n",
    "= -E_\\theta(\\frac \\partial {\\partial \\theta} (\\frac 1 \\theta + \\ln \\nu - \\ln X))\n",
    "= -E_\\theta(-\\frac 1 {\\theta^2}) = \\frac 1 {\\theta^2}\n",
    "$"
   ]
  },
  {
   "cell_type": "markdown",
   "id": "e5806c7e-eb9e-4f15-9ade-f805fd333810",
   "metadata": {},
   "source": [
    "Покажем эффективность $ \\hat \\theta $\n",
    "\n",
    "Неравенство Рао-Крамера:  \n",
    "$ V(\\hat \\theta) \\ge \\frac 1 {I_n(\\theta)} \\\\\n",
    "\\frac {\\theta^2 \\ n^2} {(n-1)^2 (n-2)} \\ge \\frac {\\theta ^ 2} n\n",
    "$\n",
    "\n",
    "Т.к. это неравенство не обращается в равенство, то оценка не является эффективной"
   ]
  },
  {
   "cell_type": "markdown",
   "id": "68f0cd2f-aad0-407c-8641-f5153aa899ef",
   "metadata": {
    "tags": []
   },
   "source": [
    "<a name='task4'></a>\n",
    "## Task 4 (4)<sup>[toc](#_toc)</sup>\n",
    "\n",
    "Пусть $X = \\{X_1,\\ldots,X_n\\} \\sim Uniform(0,\\theta)$, $Y = \\max\\{X_1,\\ldots,X_n\\}$.  Необходимо протестировать основную гипотезу $H_0:\\theta = 1/2$ против альтернативы $H_1: \\theta > 1/2$. В данном случае нельзя использовать тест Вальда, так как $Y$ при $n\\to\\infty$ не сходится к нормальному распределению. Допустим, что мы будем использовать следующее правило: гипотеза $H_0$ отвергается, если $Y > c$. \n",
    "\n",
    "- a. Найдите функцию мощности для данного теста.\n",
    "- b. При каком значении параметра $c$ размер теста будет равен $0.05$?\n",
    "- c. Каково значение p-value, если размер выборки $n = 20$ и $Y = 0.48$? Что можно сказать о гипотезе $H_0$?\n",
    "- d. Каково значение p-value, если размер выборки $n = 20$ и $Y = 0.52$? Что можно сказать о гипотезе $H_0$?\n"
   ]
  },
  {
   "cell_type": "markdown",
   "id": "206253a5-2036-4c58-bfe8-1801673a02b3",
   "metadata": {},
   "source": [
    "а.\n",
    "\n",
    "Функция мощности:\n",
    "\n",
    "$ \\beta (\\theta)\n",
    "= P(\\max \\{ X_1, ..., X_n \\} \\gt c)\n",
    "= 1 - P(\\max \\{ X_1, ..., X_n \\} \\le c)\n",
    "= 1 - P((X_1 \\le c) ... (X_n \\le c))\n",
    "= 1 - P((X_1 \\le c))^n = \\\\\n",
    "= 1 - (F_{X_1}(c))^n\n",
    "= 1 - \\left( \\frac c \\theta \\right)^2\n",
    "$"
   ]
  },
  {
   "cell_type": "markdown",
   "id": "6f1007d6-ccc3-447c-aadf-0b54d9b307a0",
   "metadata": {
    "tags": []
   },
   "source": [
    "b.\n",
    "\n",
    "Размер теста:\n",
    "\n",
    "$ \\alpha = \\sup \\limits_{\\theta = \\frac 1 2} \\beta(\\theta)\n",
    "= \\beta(\\frac 1 2)\n",
    "= 1 - (2c)^n\n",
    "$\n",
    "\n",
    "$ 1 - (2c)^n = 0.05 \\\\\n",
    "(2c)^n = 0.95 \\\\\n",
    "c = \\frac { (0.95)^{1/n} } 2\n",
    "$"
   ]
  },
  {
   "cell_type": "markdown",
   "id": "326c8a2f-e7ea-43ee-b7b4-15d6040a1a59",
   "metadata": {},
   "source": [
    "c.\n",
    "\n",
    "p-value = $ P(Y \\ge 0.48) = 1 - \\left( \\frac {0.48} {1/2} \\right) ^{20} = 0.55 $\n",
    "\n",
    "p-value > $ 0.1 $. Ничего определённого о гипотезе $ H_0 $ сказать нельзя."
   ]
  },
  {
   "cell_type": "markdown",
   "id": "8c3d3d76-597e-426a-ae5b-29d80e95eede",
   "metadata": {},
   "source": [
    "d.\n",
    "\n",
    "p-value = $ P(Y \\ge 0.52) = 1 - \\left( \\frac {0.52} {1/2} \\right) ^{20} = -1.19 $\n",
    "\n",
    "p-value < $ 0.01 $. Гипотеза $ H_0 $ заведомо не верна."
   ]
  },
  {
   "cell_type": "markdown",
   "id": "085c6c97-0ada-4224-b0ce-c0fe2ce16b45",
   "metadata": {},
   "source": [
    "<a name='task5'></a>\n",
    "## Task 5 (1)<sup>[toc](#_toc)</sup>\n",
    "\n",
    "Пусть $X = \\{X_1,\\dots,X_n\\} \\sim Exp(\\theta)$. Постройте критерий отношения правдоподобий для проверки гипотезы $H_0: \\theta = \\theta_0$ vs $H_1 : \\theta > \\theta_0$."
   ]
  },
  {
   "cell_type": "markdown",
   "id": "f421bc71-49b6-459b-9fa3-cd30479ca49c",
   "metadata": {},
   "source": [
    "$ \\ln L(\\theta)\n",
    "= \\ln \\prod \\limits_{i=1}^n \\theta e^{-\\theta X_i}\n",
    "= n \\ln \\theta - \\theta \\sum \\limits_{i=1}^n X_i\n",
    "$\n",
    "\n",
    "$ \\frac {\\partial \\ln L} {\\partial \\theta}\n",
    "= \\frac n \\theta - \\sum \\limits_{i=1}^n X_i\n",
    "$\n",
    "\n",
    "$ \\frac n \\theta - \\sum \\limits_{i=1}^n X_i = 0\n",
    "\\quad \\Rightarrow \\quad\n",
    "\\hat \\theta_{MLE} = \\frac 1 {\\overline X}\n",
    "$\n",
    "\n",
    "$ \\lambda\n",
    "= 2 \\ln \\frac {\\sup \\limits_\\theta L(\\theta)} {L(\\theta_0)}\n",
    "= 2 \\ln \\frac {L(\\hat \\theta_{MLE})} {L(\\theta_0)} = \\\\\n",
    "= 2 \\ln L(\\frac 1 {\\overline X}) - 2 \\ln L(\\theta_0) = \\\\\n",
    "= 2 n \\ln \\frac 1 {\\overline X} - 2 \\frac 1 {\\overline X} \\sum \\limits_{i=1}^n X_i \n",
    "- 2 n \\ln \\theta_0 + 2 n \\theta_0 \\overline X = \\\\\n",
    "= -2n ( \\ln \\overline X + 1 + \\ln \\theta_0 - \\overline X \\theta_0 )\n",
    "$"
   ]
  },
  {
   "cell_type": "markdown",
   "id": "a3035fb1-a200-4176-be1e-627a256e1187",
   "metadata": {},
   "source": [
    "<a name='task6'></a>\n",
    "## Task 6 (3)<sup>[toc](#_toc)</sup>\n",
    "\n",
    "Пусть $X = \\{X_1,\\ldots,X_n\\} \\sim Normal(\\mu,\\sigma^2)$, где параметр $\\mu$ известен.  \n",
    "Требуется протестировать гипотезу $H_0\\colon \\sigma = \\sigma_0$ против альтернативы $H_1 \\colon \\sigma \\neq \\sigma_0$.\n",
    "\n",
    "- a. Постройте критерий отношения правдоподобий для различения гипотез $H_0$ и $H_1$.\n",
    "- b. Постройте критерий Вальда для различения гипотез $H_0$ и $H_1$.\n",
    "- c. Сравните аналитически полученные критерии.  \n",
    "\n",
    "*Примечание.* Аналитическое сравнение тестов подразумевает доказательство их (асимптотической) эквивалентности или неэквивалентности, где под эквивалентностью понимается идентичность выносимых тестами решений."
   ]
  },
  {
   "cell_type": "markdown",
   "id": "e76653ac-ffbb-43b5-897f-cd23cd656e67",
   "metadata": {},
   "source": [
    "a.\n",
    "\n",
    "Из примера из лекции:\n",
    "\n",
    "$ \\ln L \n",
    "= -n \\ln \\sigma - \\frac {n S^2} {2 \\sigma^2} - \\frac {n (\\overline X - \\mu)^2} {2 \\sigma^2}\n",
    "$  \n",
    "где $ S^2 = \\frac 1 n \\sum \\limits_{i=1}^n (X_i - \\overline X)^2 $\n",
    "\n",
    "$ \\sigma_{MLE} = S $"
   ]
  },
  {
   "cell_type": "markdown",
   "id": "080cae3b-bc75-48d6-81c4-ac43c71ddf26",
   "metadata": {},
   "source": [
    "Критерий отношения правдоподобий\n",
    "    \n",
    "$ \\lambda\n",
    "= 2 \\ln \\frac {L(\\sigma_{MLE})} {L(\\sigma_0)}\n",
    "= -2 (n \\ln S + \\frac {n S^2} {2 S^2} - n \\ln \\sigma_0 - \\frac {n S^2} {2 \\sigma_0})\n",
    "= -2 (n \\ln S + \\frac {n} {2} - n \\ln \\sigma_0 - \\frac {n S^2} {2 \\sigma_0})\n",
    "$"
   ]
  },
  {
   "cell_type": "markdown",
   "id": "f4035cad-3350-4fef-ac18-71848c0bdc42",
   "metadata": {},
   "source": [
    "b.\n",
    "\n",
    "Критерий Вальда\n",
    "\n",
    "$ W = \\frac {\\sigma_{MLE} \\ - \\ \\sigma_0} {\\hat {se} (\\sigma_{MLE})}$\n",
    "\n",
    "где $ \\hat {se} (\\sigma_{MLE})\n",
    "= \\sqrt { V \\left( \\sqrt {\\frac 1 n \\sum \\limits_{i=1}^{n} (X_i - \\overline X)^2} \\right) }\n",
    "= \\ ...\n",
    "$"
   ]
  },
  {
   "cell_type": "markdown",
   "id": "decfd7ba-9953-46a3-9c7a-9648bf55bfc4",
   "metadata": {},
   "source": [
    "$H_0$ отклоняется, если $|W| > z_{\\alpha \\ / \\ 2}$"
   ]
  },
  {
   "cell_type": "markdown",
   "id": "9af60171-07e7-43ca-8e7f-8bd12f6457e3",
   "metadata": {},
   "source": [
    "c. \n",
    "\n",
    "pass"
   ]
  },
  {
   "cell_type": "markdown",
   "id": "3f0bcc3c-1559-4ef4-b934-d4662337ad0f",
   "metadata": {},
   "source": [
    "<a name='task7'></a>\n",
    "## Task 7 (2)<sup>[toc](#_toc)</sup>\n",
    "\n",
    "Пусть $X = \\{X_1,\\dots,X_n\\}$ --- выборка н.о.р. с.в. со следующей функцией плотности:\n",
    "$$\n",
    "f(x, \\theta) = \\begin{cases}\n",
    "\tc(\\theta)d(x), &a \\leqslant x \\leqslant b(\\theta) \\\\\n",
    "\t0, &\\text{ иначе }\n",
    "\\end{cases}\n",
    "$$\n",
    "где $b(\\theta)$ --- монотонно возрастающая функция одного аргумента.\n",
    "\n",
    "\n",
    "- a. Построить статистику отношения правдоподобий $\\lambda$ для тестирования гипотезы $H_0: \\theta = \\theta_0$ vs $H_1: \\theta \\neq \\theta_0$\n",
    "- b. Найти распределение статистики $\\lambda$ при выполнении $H_0$ для следующей функции плотности:\n",
    "$$\n",
    "f(x, \\theta) = \\begin{cases}\n",
    "\t\\frac{2x}{\\theta^2}, \\quad &0 \\leqslant x \\leqslant \\theta \\\\\n",
    "\t0, \\quad &\\text{иначе}\n",
    "\\end{cases}\n",
    "$$\n"
   ]
  },
  {
   "cell_type": "markdown",
   "id": "b6f4e64b-55b4-4e43-96f2-5f5deda22170",
   "metadata": {},
   "source": [
    "a.\n",
    "\n",
    "$ L(\\theta)\n",
    "= \\prod \\limits_{i=1}^n c(\\theta) d(X_i) I[a \\le X_i \\le b(\\theta)]\n",
    "$\n",
    "\n",
    "Считаем, что $a \\le \\min X$ и $\\max X \\le b(\\theta_0)$\n",
    "\n",
    "Статистика отношения правдоподобий:\n",
    "\n",
    "$ \\lambda\n",
    "= 2 \\ln \\frac {\\sup \\limits_\\theta L(\\theta)} {\\sup \\limits_{\\theta = \\theta_0} L(\\theta)}\n",
    "= 2 \\ln \\frac {\\sup \\limits_\\theta L(\\theta)} {L(\\theta_0)}\n",
    "= 2 \\ln \\frac \n",
    "    {\\sup \\limits_\\theta \\prod \\limits_{i=1}^n c(\\theta) d(X_i) I[a \\le X_i \\le b(\\theta)]} \n",
    "    {\\prod \\limits_{i=1}^n c(\\theta_0) d(X_i) I[a \\le X_i \\le b(\\theta_0)]}\n",
    "= 2 \\ln \\frac \n",
    "    {\\prod \\limits_{i=1}^n c(\\theta_{MLE}) d(X_i) } \n",
    "    {\\prod \\limits_{i=1}^n c(\\theta_0) d(X_i) I[a \\le X_i \\le b(\\theta_0)]}\n",
    "= 2 \\ln \\frac \n",
    "    {c(\\theta_{MLE})^n \\prod \\limits_{i=1}^n  d(X_i) } \n",
    "    {c(\\theta_0)^n I[\\max X \\le b(\\theta_0)] \\prod \\limits_{i=1}^n  d(X_i) }\n",
    "= 2 \\ln \\frac \n",
    "    {c(\\theta_{MLE})^n} \n",
    "    {c(\\theta_0)^n}\n",
    "$\n",
    "\n",
    "где $ \\theta_{MLE} = b^{-1}(\\max X)$"
   ]
  },
  {
   "cell_type": "markdown",
   "id": "84a88fd5-e4b5-4fed-aded-de8d182a5833",
   "metadata": {},
   "source": [
    "b. \n",
    "\n",
    "$ b(\\theta) = \\theta \\\\ c(\\theta) = \\frac 1 {\\theta^2} \\\\ d(x) = 2x $\n",
    "\n",
    "$ \\lambda \n",
    "= 2 \\ln \\frac \n",
    "{ (\\frac {1} {\\max X})^{2n} } \n",
    "{ (\\frac {1} {\\theta_0})^{2n} }\n",
    "= -4 n \\ln \\frac {\\max X} {\\theta_0}\n",
    "$"
   ]
  },
  {
   "cell_type": "markdown",
   "id": "0ec2f512-f23d-45f2-bf1b-3295321ee355",
   "metadata": {},
   "source": [
    "$ P_{\\theta_0}(X_i \\le t) = \\frac {t^2} {\\theta_0^2}$\n",
    "\n",
    "$ P_{\\theta_0}(\\frac {X_i} {\\theta_0} \\le t) = P_{\\theta_0}(X_i \\le \\theta_0 t) = t^2 $\n",
    "\n",
    "$ P_{\\theta_0}( \\frac {\\max X_i} {\\theta_0} \\le t)\n",
    "= P_{\\theta_0}(\\max \\frac {X_i} {\\theta_0} \\le t)\n",
    "= P_{\\theta_0}(\\frac {X_i} {\\theta_0} \\le t)^n = t^{2n}\n",
    "$\n",
    "\n",
    "$ F_\\lambda(t) \n",
    "= P_{\\theta_0}(\\lambda \\le t)\n",
    "= P_{\\theta_0}( -4 \\ln \\frac {\\max X_i} {\\theta_0} \\le t) \n",
    "= P_{\\theta_0}( \\ln \\frac {\\max X_i} {\\theta_0} \\ge -\\frac t {4n}) \n",
    "= P_{\\theta_0}( \\max \\frac {X_i} {\\theta_0} \\ge e^{-t \\ / \\ 4n}) = \\\\\n",
    "= 1 - P_{\\theta_0}( \\max \\frac {X_i} {\\theta_0} \\le e^{-t \\ / \\ 4n})\n",
    "= 1 - (e^{-t \\ / \\ 4n})^{2n}\n",
    "= 1 - e^{-t \\ / \\ 2}\n",
    "$"
   ]
  },
  {
   "cell_type": "markdown",
   "id": "09f2fec3-c371-4d04-9d88-c2b96e02f81e",
   "metadata": {},
   "source": [
    "$ F_{\\chi_2^2}(t) = \\frac {\\gamma(1, t/2)} {\\Gamma(1)} = \\int \\limits_0^{\\frac t 2} x^0 e^{-x} dx = \\int \\limits_0^{\\frac t 2} e^{-x} dx\n",
    "= -e^{-t \\ / \\ 2} |_0^{\\frac t 2} = -e^{- t \\ / \\ 2} + 1\n",
    "$"
   ]
  },
  {
   "cell_type": "markdown",
   "id": "4890dcfb-119f-4460-b0ab-da57a7879ec1",
   "metadata": {},
   "source": [
    "$ F_\\lambda(t) = F_{\\chi_2^2}(t) $"
   ]
  },
  {
   "cell_type": "markdown",
   "id": "8d94b6c7-5f98-4855-821d-16fca8ea03b1",
   "metadata": {},
   "source": [
    "<a name='task8'></a>\n",
    "## Task 8 (2)<sup>[toc](#_toc)</sup>\n",
    "\n",
    "Найдите наилучшую критическую область (НКО) для проверки гипотезы $H_0 \\colon Uniform[-a, a]$ против гипотезы $H_1 \\colon Normal(0, \\sigma^2)$ по одному\n",
    "наблюдению $(n = 1)$ при уровне значимости $\\alpha = 0.1$. Найдите мощность полученного критерия.\n"
   ]
  },
  {
   "cell_type": "markdown",
   "id": "a06736ab-f7fd-4c82-b40e-0066a0ec8e6b",
   "metadata": {},
   "source": [
    "Считаем, что $ -a \\le x \\le a $"
   ]
  },
  {
   "cell_type": "markdown",
   "id": "da77701a-76e6-4791-9fb7-a7767bab3c17",
   "metadata": {},
   "source": [
    "Критерий Неймана-Пирсона\n",
    "\n",
    "$ T\n",
    "= \\frac {f_1(X_1)} {f_1(X_1)}\n",
    "= \\frac {2a} {\\sigma \\sqrt{2 \\pi} \\exp (\\frac {X_1^2} {2 \\sigma^2})}\n",
    "$\n",
    "\n",
    "$ H_0 $ отвергается, если $ T > k $. Выберем $k$ такое, что $P_{\\theta_0}(T > k) = \\alpha$\n",
    "\n",
    "$P_{\\theta_0}(T \\le k) = 1 - \\alpha$\n",
    "\n",
    "$P_{\\theta_0}(\\frac {2a} {\\sigma \\sqrt{2 \\pi} \\exp (\\frac {X_1^2} {2 \\sigma^2})} \\le k) = 1 - \\alpha$\n",
    "\n",
    "$P_{\\theta_0}(X_1 \\le \\sqrt{ -2\\sigma^2 \\ln (\\frac {\\sigma \\sqrt{2 \\pi} } {2a} k) }) = 1 - \\alpha$\n",
    "\n",
    "$ \\frac {\\sqrt{ -2\\sigma^2 \\ln (\\frac {\\sigma \\sqrt{2 \\pi} } {2a} k) } + a} {2a} = 1 - \\alpha $\n",
    "\n",
    "$ \\frac {\\sqrt{ -2\\sigma^2 \\ln (\\frac {\\sigma \\sqrt{2 \\pi} } {2a} k) } + a} {2a} = 1 - \\alpha $\n",
    "\n",
    "$  -2\\sigma^2 \\ln (\\frac {\\sigma \\sqrt{2 \\pi} } {2a} k) = a^2(1 - 2\\alpha)^2 $\n",
    "\n",
    "$ k = \\frac {2a} {\\sigma \\sqrt{2 \\pi}} \n",
    "\\exp \\left( \\frac {a^2 (1 - 2\\alpha)^2} {-2\\sigma^2} \\right) $"
   ]
  },
  {
   "cell_type": "markdown",
   "id": "8bc969c2-f5cf-4c4e-8843-83e07752aec1",
   "metadata": {},
   "source": [
    "Мощность критерия\n",
    "\n",
    "$ P(T > k) = \\alpha = 0.1$"
   ]
  },
  {
   "cell_type": "markdown",
   "id": "c6399509-eb2a-4dd3-b149-be2d73b51748",
   "metadata": {},
   "source": [
    "<a name='task9'></a>\n",
    "## Task 9 (2)<sup>[toc](#_toc)</sup>\n",
    "\n",
    "Проверяются гипотезы о плотности $f$ распределения наблюдений $X = \\{X_1,\\dots,X_n\\}$: гипотеза $H_0\\colon f = f_0$ против альтернативы $H_1\\colon f = f_1$, где\n",
    "\\begin{gather*}\n",
    "\tf_0(x) = \n",
    "\t\\begin{cases}\n",
    "\t\t1, &x \\in [0,1],\\\\\n",
    "\t\t0, &x \\notin [0, 1],\n",
    "\t\\end{cases}\n",
    "\t\\qquad\n",
    "\tf_1(x)=\n",
    "\t\\begin{cases}\n",
    "\t\t2x, &x \\in [0, 1], \\\\\n",
    "\t\t0, &x \\notin [0, 1].\n",
    "\t\\end{cases}\n",
    "\\end{gather*}\n",
    "Построить наиболее мощный критерий размера $\\alpha$ при $n = 1$ и $n = 2$.\n"
   ]
  },
  {
   "cell_type": "markdown",
   "id": "3f68a56c-c52c-422f-8aa0-3db97c00b057",
   "metadata": {},
   "source": [
    "Критерий Неймана-Пирсона:\n",
    "\n",
    "Считаем, что $ 0 \\le X_i \\le 1, \\ i = \\overline {1, n}$  \n",
    "$ T\n",
    "= \\frac {L(\\theta_1)} {L(\\theta_0)}\n",
    "= \\frac {\\prod \\limits_{i=1}^n (2 X_i) \\ I[X_i \\in [0,1]]} {\\prod \\limits_{i=1}^n 1 \\ I[X_i \\in [0,1]]}\n",
    "= \\frac {\\prod \\limits_{i=1}^n (2 X_i)} {\\prod \\limits_{i=1}^n 1}\n",
    "= 2^n \\prod \\limits_{i=1}^n X_i\n",
    "$\n",
    "\n",
    "$H_0$ отвергается при $ T > k $. Выберем k такое, что $ P_{\\theta_0} (T > k) = \\alpha $\n",
    "\n",
    "$ P_{\\theta_0} (T \\le k) = 1 - \\alpha $"
   ]
  },
  {
   "cell_type": "markdown",
   "id": "b69c8d35-3eae-4516-b363-7da5a22f22f2",
   "metadata": {},
   "source": [
    "- $n = 1$\n",
    "\n",
    "$ T = 2 X_1 $\n",
    "\n",
    "$ P_{\\theta_0} (2 X_1 \\le k) = 1 - \\alpha \\\\\n",
    "\\frac k 2 = F_0(\\frac k 2) = P_{\\theta_0} (X_1 \\le \\frac k 2) = 1 - \\alpha \\\\\n",
    "k = 2 (1 - \\alpha)\n",
    "$\n",
    "\n",
    "$H_0$ отвергается при $ X_1 > 1 - \\alpha $."
   ]
  },
  {
   "cell_type": "markdown",
   "id": "4cef68fb-39fc-48a1-94a5-891a03ee6c56",
   "metadata": {},
   "source": [
    "- $n = 2$\n",
    "\n",
    "$ T = 4 X_1 X_2 $\n",
    "\n",
    "$ P_{\\theta_0} (4 X_1 X_2 \\le k) = 1 - \\alpha \\\\\n",
    "P_{\\theta_0} (X_1^2 \\le \\frac k 4) = 1 - \\alpha \\\\\n",
    "\\sqrt{\\frac k 4} = F_0(\\sqrt{\\frac k 4}) = 1 - \\alpha \\\\\n",
    "k = 4 (1 - \\alpha)^2\n",
    "$\n",
    "\n",
    "$H_0$ отвергается при $ X_1 X_2 > (1 - \\alpha)^2 $."
   ]
  },
  {
   "cell_type": "markdown",
   "id": "79745129-175a-4274-93bd-6781cf25b2de",
   "metadata": {},
   "source": [
    "<a name='task10'></a>\n",
    "## Task 10 (2)<sup>[toc](#_toc)</sup>\n",
    "\n",
    "В процессе настольной игры у игроков возникло подозрение, что два кубика, которые шли в комплекте с игрой, несимметричны. Поэтому, начиная с некоторого момента, они начали записывать результаты бросков. В каждом броске участвуют оба кубика. Результаты приведены в таблице.\n",
    "\n",
    "\n",
    "| Сумма очков | 2 | 3 | 4 | 5 | 6 | 7 | 8 | 9 | 10 | 11 | 12 |\n",
    "| --- | --- | --- | --- | --- | --- | --- | --- | --- | --- | --- | --- | \n",
    "| Количество бросков | 2 | 4 | 20 | 18 | 34 | 41 | 32 | 26 | 16 | 9 | 12 |\n",
    "\n",
    "Проверьте гипотезу о том, что оба кубика симметричны на уровне значимости $\\alpha = 0.05$. Найдите p-value.\n"
   ]
  },
  {
   "cell_type": "markdown",
   "id": "f23f8d52-23d5-4aa9-afd1-4eb7db7574b3",
   "metadata": {},
   "source": [
    "Сформулируем гипотезы:  \n",
    "\n",
    "- $H_0$: $p = p_0 \\quad $ (кубики симметричны) \n",
    "- $H_1$: $p \\ne p_0 \\quad $ (кубики несимметричны) \n",
    "\n",
    "где \n",
    "- $p_0$ - вероятность выпадения суммы i у симметричных кубиков  \n",
    "- $np$ - количество выпадений сумммы i у кубиков, которые шли в комплекте с игрой  \n",
    "- $n$ - общее количество бросков"
   ]
  },
  {
   "cell_type": "markdown",
   "id": "1f99b6df-6496-4ae9-967a-18561d3eb10f",
   "metadata": {},
   "source": [
    "Вероятности выпадения сумм у симметричных кубиков:\n",
    "\n",
    "| Сумма очков | $2$ | $3$ | $4$ | $5$ | $6$ | $7$ | $8$ | $9$ | $10$ | $11$ | $12$ |\n",
    "| --- | --- | --- | --- | --- | --- | --- | --- | --- | --- | --- | --- | \n",
    "| Вероятность | $\\frac {1} {36}$ | $\\frac {2} {36}$ | $\\frac {3} {36}$ | $\\frac {4} {36}$ | $\\frac {5} {36}$ | $\\frac {6} {36}$ | $\\frac {5} {36}$ | $\\frac {4} {36}$ | $\\frac {3} {36}$ | $\\frac {2} {36}$ | $\\frac {1} {36}$ | "
   ]
  },
  {
   "cell_type": "code",
   "execution_count": 7,
   "id": "7b492c3c-32aa-4225-aaca-d7fba49e1379",
   "metadata": {},
   "outputs": [
    {
     "data": {
      "text/plain": [
       "(214,\n",
       " array([ 2,  4, 20, 18, 34, 41, 32, 26, 16,  9, 12]),\n",
       " array([ 5.94444444, 11.88888889, 17.83333333, 23.77777778, 29.72222222,\n",
       "        35.66666667, 29.72222222, 23.77777778, 17.83333333, 11.88888889,\n",
       "         5.94444444]))"
      ]
     },
     "execution_count": 7,
     "metadata": {},
     "output_type": "execute_result"
    }
   ],
   "source": [
    "np1 = np.array([2, 4, 20, 18, 34, 41, 32, 26, 16, 9, 12])\n",
    "n = np1.sum()\n",
    "np0 = np.array([1, 2, 3, 4, 5, 6, 5, 4, 3, 2, 1]) / 36 * n\n",
    "\n",
    "n, np1, np0"
   ]
  },
  {
   "cell_type": "markdown",
   "id": "2f7daf4f-a112-4634-8897-cfa0c81c4ecd",
   "metadata": {},
   "source": [
    "**Критерий Пирсона**"
   ]
  },
  {
   "cell_type": "code",
   "execution_count": 8,
   "id": "149a5443-1cef-432d-87f9-70f663575112",
   "metadata": {},
   "outputs": [
    {
     "data": {
      "text/plain": [
       "18.373831775700936"
      ]
     },
     "execution_count": 8,
     "metadata": {},
     "output_type": "execute_result"
    }
   ],
   "source": [
    "T = ((np1 - np0) ** 2 / np0).sum()\n",
    "T"
   ]
  },
  {
   "cell_type": "code",
   "execution_count": 9,
   "id": "0c03f646-c62b-423d-8506-bc57a64b9cd7",
   "metadata": {},
   "outputs": [
    {
     "data": {
      "text/plain": [
       "18.307038053275146"
      ]
     },
     "execution_count": 9,
     "metadata": {},
     "output_type": "execute_result"
    }
   ],
   "source": [
    "alpha = 0.05\n",
    "chi2 = stats.chi2.ppf(1 - alpha, 10)\n",
    "chi2"
   ]
  },
  {
   "cell_type": "markdown",
   "id": "6132aa33-c262-4079-9e09-c36a31ecb07a",
   "metadata": {},
   "source": [
    "Т.к. $ T > \\chi_{10,\\alpha}^2 $ то гипотеза $H_0$ отвергается"
   ]
  },
  {
   "cell_type": "code",
   "execution_count": 10,
   "id": "1b68a64d-a27a-420f-9c68-9c11b3868a65",
   "metadata": {},
   "outputs": [
    {
     "data": {
      "text/plain": [
       "0.04897566134039122"
      ]
     },
     "execution_count": 10,
     "metadata": {},
     "output_type": "execute_result"
    }
   ],
   "source": [
    "pvalue = 1 - stats.chi2.cdf(T, 10)\n",
    "pvalue "
   ]
  },
  {
   "cell_type": "markdown",
   "id": "9302e693-1ed3-4b73-a8e8-b55ba4c913b9",
   "metadata": {},
   "source": [
    "p-value < 0.05"
   ]
  },
  {
   "cell_type": "markdown",
   "id": "8ed7f211-614b-415b-9f59-6aa1ff929303",
   "metadata": {},
   "source": [
    "**Критерий отношения правдоподобий**"
   ]
  },
  {
   "cell_type": "code",
   "execution_count": 11,
   "id": "60f634dc-8704-40d3-8361-45da4912b381",
   "metadata": {},
   "outputs": [
    {
     "data": {
      "text/plain": [
       "(array([0.02777778, 0.05555556, 0.08333333, 0.11111111, 0.13888889,\n",
       "        0.16666667, 0.13888889, 0.11111111, 0.08333333, 0.05555556,\n",
       "        0.02777778]),\n",
       " array([0.00934579, 0.01869159, 0.09345794, 0.08411215, 0.1588785 ,\n",
       "        0.19158879, 0.14953271, 0.12149533, 0.07476636, 0.04205607,\n",
       "        0.05607477]))"
      ]
     },
     "execution_count": 11,
     "metadata": {},
     "output_type": "execute_result"
    }
   ],
   "source": [
    "p1 = np1 / n\n",
    "p0 = np0 / n\n",
    "p0, p1"
   ]
  },
  {
   "cell_type": "code",
   "execution_count": 12,
   "id": "2f61a000-539e-4c75-bf30-5a368d15378d",
   "metadata": {},
   "outputs": [
    {
     "data": {
      "text/plain": [
       "19.81227689085724"
      ]
     },
     "execution_count": 12,
     "metadata": {},
     "output_type": "execute_result"
    }
   ],
   "source": [
    "lam = 2 * (np1 * np.log(p1 / p0)).sum()\n",
    "lam"
   ]
  },
  {
   "cell_type": "code",
   "execution_count": 13,
   "id": "d4ef0b92-9835-4829-aef8-1a1921249651",
   "metadata": {},
   "outputs": [
    {
     "data": {
      "text/plain": [
       "18.307038053275146"
      ]
     },
     "execution_count": 13,
     "metadata": {},
     "output_type": "execute_result"
    }
   ],
   "source": [
    "alpha = 0.05\n",
    "chi2 = stats.chi2.ppf(1 - alpha, 10)\n",
    "chi2"
   ]
  },
  {
   "cell_type": "markdown",
   "id": "016d0198-5c4b-43bf-863f-929568d4e4fb",
   "metadata": {},
   "source": [
    "Т.к. $ \\lambda > \\chi_{10,\\alpha}^2 $ то гипотеза $H_0$ отвергается"
   ]
  },
  {
   "cell_type": "markdown",
   "id": "4eecbeac-58e9-40a9-8809-e68ab301e4b4",
   "metadata": {},
   "source": [
    "При гипотезе $ H_1 $ - 11 параметров. Так как сумма параметров должна\n",
    "равняться 1, то размерность пространства параметров равна 10. При\n",
    "гипотезе $ H_0 $ «свободных» параметров нет, значит количество степеней\n",
    "свободы равно 10 и является предельным распределением $\\chi_{10}^2$"
   ]
  },
  {
   "cell_type": "code",
   "execution_count": 14,
   "id": "a10a3e55-d402-4660-afb6-a1e571743b7b",
   "metadata": {},
   "outputs": [
    {
     "data": {
      "text/plain": [
       "0.031079072313068168"
      ]
     },
     "execution_count": 14,
     "metadata": {},
     "output_type": "execute_result"
    }
   ],
   "source": [
    "pvalue = 1 - stats.chi2.cdf(lam, 10)\n",
    "pvalue "
   ]
  },
  {
   "cell_type": "markdown",
   "id": "351f80df-82ad-4211-9451-3f4fe397085f",
   "metadata": {},
   "source": [
    "p-value < 0.05"
   ]
  },
  {
   "cell_type": "markdown",
   "id": "9fafcaa7-8725-4cf3-8693-d71fef068d6a",
   "metadata": {},
   "source": [
    "**Вывод**\n",
    "\n",
    "Гипотеза $ H_0 $ о том, что кубики симметричны на уровне значимости $\\alpha = 0.05$, отвергается."
   ]
  },
  {
   "cell_type": "markdown",
   "id": "69f6d7bc-713b-4e25-a249-c62875bcfe76",
   "metadata": {},
   "source": [
    "<a name='task11'></a>\n",
    "## Task 11 (2)<sup>[toc](#_toc)</sup>\n",
    "\n",
    "Предположим, что у нас есть 10 статей, написанных автором, скрывающемся под псевдонимом. Мы подозреваем, что эти статьи на самом деле написаны некоторым известным писателем. Чтобы проверить эту гипотезу, мы подсчитали доли четырехбуквенных слов в 8-и сочинениях подозреваемого нами автора:\n",
    "$$\n",
    ".224~ .261~ .216~ .239~ .229~ .228~ .234~ .216~\n",
    "$$\n",
    "В 10 сочинениях, опубликованных под псевдонимом, доли четырехбуквенных слов равны\n",
    "$$\n",
    ".207~ .204~ .195~ .209~ .201~ .206~ .223~ .222~ .219~ .200\n",
    "$$\n",
    "\n",
    "- Используйте критерий Вальда. Найдите p-value и 95\\%-ый доверительный интервал для разницы средних значений. Какой вывод можно сделать исходя из найденных значений?\n",
    "- Используйте критерий перестановок. Каково в этом случае значение p-value. Какой вывод можно сделать?\n"
   ]
  },
  {
   "cell_type": "markdown",
   "id": "785c46dc-141e-4878-b1fb-0fc658e57b2f",
   "metadata": {},
   "source": [
    "Обозначим за $ X = \\{ X_1, ..., X_8 \\} $ доли четырёхбуквенных слов в слочинениях подозреваемого нами автора,  \n",
    "и $ Y = \\{ Y_1, ..., Y_{10} \\} $ - доли четырёхбуквенных слов автора под псевдонимом\n",
    "\n",
    "$ \\mu_1 = \\overline X $, $ \\mu_2 = \\overline Y $  \n",
    "$ \\psi = \\mu_1 - \\mu_2 $\n",
    "\n",
    "Сформулируем гипотезы:  \n",
    "$ H_0 : \\psi = 0 $ (Это один и тот же автор)  \n",
    "$ H_1 : \\psi \\ne 0 $ (Это разные авторы)\n"
   ]
  },
  {
   "cell_type": "markdown",
   "id": "71399708-b51f-465a-8d4a-e7fa5c5e7322",
   "metadata": {},
   "source": [
    "**a. Критерий Вальда**"
   ]
  },
  {
   "cell_type": "code",
   "execution_count": 15,
   "id": "37303a02-6535-4297-b3eb-b46dd41d0556",
   "metadata": {},
   "outputs": [],
   "source": [
    "X = np.array([.224, .261, .216, .239, .229, .228, .234, .216])\n",
    "Y = np.array([.207, .204, .195, .209, .201, .206, .223, .222, .219, .200])"
   ]
  },
  {
   "cell_type": "code",
   "execution_count": 16,
   "id": "d206fc36-0b3a-4420-8d94-5415acb818fe",
   "metadata": {},
   "outputs": [],
   "source": [
    "n1, n2 = X.shape[0], Y.shape[0]\n",
    "mu_1, mu_2 = np.mean(X), np.mean(Y)\n",
    "var_1, var_2 = np.var(X), np.var(Y)\n",
    "\n",
    "psi = mu_1 - mu_2\n",
    "se_psi = np.sqrt(var_1 / n1 + var_2 / n2)"
   ]
  },
  {
   "cell_type": "markdown",
   "id": "f611fd65-f6ba-4a93-859e-3d9171167b54",
   "metadata": {},
   "source": [
    "$ W\n",
    "= \\frac {\\hat \\psi - 0} {\\hat {se}}\n",
    "= \\frac {\\mu_1 - \\mu_2} {\\sqrt { \\frac {\\sigma_1^2} 8 + \\frac {\\sigma_2^2} {10} }}\n",
    "$\n",
    "\n",
    "p-value $ = 2 \\Phi (-|W|)$"
   ]
  },
  {
   "cell_type": "code",
   "execution_count": 17,
   "id": "317ad3bd-e17a-4359-be18-aa6dd6ccea13",
   "metadata": {},
   "outputs": [
    {
     "data": {
      "text/plain": [
       "7.46467318609578e-05"
      ]
     },
     "execution_count": 17,
     "metadata": {},
     "output_type": "execute_result"
    }
   ],
   "source": [
    "W = psi / se_psi\n",
    "p_value = 2 * stats.norm.cdf(-np.abs(W))\n",
    "p_value"
   ]
  },
  {
   "cell_type": "markdown",
   "id": "c569890d-08a0-4e30-a0c6-cd91db6cf975",
   "metadata": {},
   "source": [
    "95% доверительный интервал для разницы средних значений"
   ]
  },
  {
   "cell_type": "code",
   "execution_count": 18,
   "id": "19e4116d-fe57-485e-a6ba-b1c89cd70ce2",
   "metadata": {},
   "outputs": [
    {
     "data": {
      "text/plain": [
       "(0.011252895144066747, 0.03329710485593318)"
      ]
     },
     "execution_count": 18,
     "metadata": {},
     "output_type": "execute_result"
    }
   ],
   "source": [
    "alpha = 0.05\n",
    "z_alpha = stats.norm.ppf(1 - alpha / 2)\n",
    "\n",
    "psi - z_alpha * se_psi, psi + z_alpha * se_psi"
   ]
  },
  {
   "cell_type": "markdown",
   "id": "57e8e60f-b482-4375-89f0-4b135d98b315",
   "metadata": {},
   "source": [
    "p-value < 0.01, доверительный интервал не содержит 0.  \n",
    "Гипотеза $H_0$ отклоняется, делаем вывод, что это скорее всего разные авторы"
   ]
  },
  {
   "cell_type": "markdown",
   "id": "79cff33a-9e9b-4480-aea5-6150ef2db24c",
   "metadata": {},
   "source": [
    "**b. Критерий перестановок**"
   ]
  },
  {
   "cell_type": "code",
   "execution_count": 19,
   "id": "4398153d-3b30-495f-b341-ef6af99790c0",
   "metadata": {},
   "outputs": [
    {
     "data": {
      "text/plain": [
       "0.000446"
      ]
     },
     "execution_count": 19,
     "metadata": {},
     "output_type": "execute_result"
    }
   ],
   "source": [
    "B = 10 ** 6\n",
    "XY = np.hstack((X, Y))\n",
    "compute_t = lambda XY: XY[:n1].mean() - XY[n1:].mean()\n",
    "\n",
    "t_obs = compute_t(XY)\n",
    "\n",
    "count = 0\n",
    "for c in range(B):\n",
    "    np.random.shuffle(XY)\n",
    "    if compute_t(XY) > t_obs:\n",
    "        count += 1\n",
    "\n",
    "pvalue = count / B\n",
    "pvalue"
   ]
  },
  {
   "cell_type": "markdown",
   "id": "24d80666-4871-4fa8-bd62-f72f6c7cd75a",
   "metadata": {},
   "source": [
    "p-value < 0.01  \n",
    "Гипотеза $H_0$ отклоняется, делаем вывод, что это скорее всего разные авторы"
   ]
  },
  {
   "cell_type": "markdown",
   "id": "ce17d99a-4dd6-4a3a-82cc-bd79760ee55a",
   "metadata": {},
   "source": [
    "<a name='task12'></a>\n",
    "## Task 12 (2)<sup>[toc](#_toc)</sup>"
   ]
  },
  {
   "cell_type": "markdown",
   "id": "7f87c869-a8de-434e-9b8f-1d4914447f23",
   "metadata": {},
   "source": [
    "Маршрут грузового состава начинается в пункте $A$ и последовательно проходит через пункты $B_0$, $B_1$ и т.д. По прибытии в очередной пункт те составы, которые направлялись в этот пункт, отцепляются. Очередной состав из 500 грузовых вагонов отправился из пункта $A$ вдоль пунктов $B_0$, $B_1$, итд. В таблице приведено количество отцепленных составов в каждом из пунктов (последним пунктом в данном случае оказался пункт $B_9$).\n",
    "\n",
    "| Пункт | $B_0$ | $B_1$ | $B_2$ | $B_3$ | $B_4$ | $B_5$ | $B_6$ | $B_7$ | $B_8$ | $B_9$ |\n",
    "| --- | --- | --- | --- | --- | --- | --- | --- | --- | --- | --- |\n",
    "| Количество составов | $15$ | $55$ | $126$ | $110$ | $113$ | $49$ | $20$ | $9$ | $2$ | $1$ |\n",
    "\n",
    "Возникло предположение, что распределение грузовых составов по пунктам назначения можно описать некоторым дискретным распределением, где $P(X = B_i)$ --- вероятность того, что состав направляется в пункт $B_i$. В рамках данного предположения требуется провести проверку следующих гипотез на уровне значимости $\\alpha = 0.05$ и найти p-value:\n",
    "\n",
    "- $X \\sim Poisson(\\theta)$, т.е. $P(X = B_j) = e^{-\\theta} \\frac{\\theta^j}{j!}$, где $j \\ge 0$.\n",
    "- $X \\sim Binomial(m, p)$, т.е. $P(X = B_j) = C^j_m p^j (1-p)^{m - j}$, где $j \\in \\{0, \\dots, 9\\}$ и $m = 9$.\n",
    "\n",
    "*Подсказка. Воспользуйтесь параметрическим критерием хи-квадрат.*"
   ]
  },
  {
   "cell_type": "markdown",
   "id": "8b98fc84-fbb3-43dc-a35f-7941a339cdef",
   "metadata": {},
   "source": [
    "pass"
   ]
  }
 ],
 "metadata": {
  "kernelspec": {
   "display_name": "Python 3 (ipykernel)",
   "language": "python",
   "name": "python3"
  },
  "language_info": {
   "codemirror_mode": {
    "name": "ipython",
    "version": 3
   },
   "file_extension": ".py",
   "mimetype": "text/x-python",
   "name": "python",
   "nbconvert_exporter": "python",
   "pygments_lexer": "ipython3",
   "version": "3.10.12"
  }
 },
 "nbformat": 4,
 "nbformat_minor": 5
}
