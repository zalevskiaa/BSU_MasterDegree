{
 "cells": [
  {
   "cell_type": "markdown",
   "metadata": {},
   "source": [
    "$\\newcommand{\\Sum}{\\sum\\limits}\n",
    "\\newcommand{\\Int}{\\int\\limits}\n",
    "\\newcommand{\\Intf}{\\int\\limits_{-\\infty}^{+\\infty}}\n",
    "\\newcommand{\\Prod}{\\prod\\limits}\n",
    "\\newcommand{\\Max}{\\max\\limits}\n",
    "\\newcommand{\\Min}{\\min\\limits}\n",
    "\\newcommand{\\Lim}{\\lim\\limits}\n",
    "\\newcommand{\\Var}{\\mathbb{V}}\n",
    "\\newcommand{\\Exp}{\\mathbb{E}}\n",
    "\\newcommand{\\RR}{\\mathbb{R}}\n",
    "\\newcommand{\\argmax}{\\arg\\max}\n",
    "\\newcommand{\\Cov}{\\text{Cov}}\n",
    "\\newcommand{\\makebold}[1]{\\boldsymbol{#1}}\n",
    "\\newcommand{\\eps}{\\varepsilon}\n",
    "\\newcommand{\\mean}[1]{\\overline{#1}}\n",
    "\\newcommand{\\avg}[1]{\\langle #1 \\rangle}\n",
    "\\newcommand{\\angmean}[1]{\\langle #1 \\rangle}\n",
    "\\newcommand{\\Prob}{\\mathcal{P}}\n",
    "\\newcommand{\\se}{\\text{se}}\n",
    "\\newcommand{\\lp}{\\left}\n",
    "\\newcommand{\\rp}{\\right}\n",
    "\\newcommand{\\boldx}{\\boldsymbol{x}}\n",
    "\\newcommand{\\boldy}{\\boldsymbol{y}}\n",
    "\\newcommand{\\boldz}{\\boldsymbol{z}}\n",
    "\\newcommand{\\boldX}{\\boldsymbol{X}}\n",
    "\\newcommand{\\boldY}{\\boldsymbol{Y}}\n",
    "\\newcommand{\\boldZ}{\\boldsymbol{Z}}\n",
    "\\newcommand{\\Poisson}{\\mathrm{Poisson}}\n",
    "\\newcommand{\\Triangle}{\\mathrm{Triangle}}\n",
    "\\newcommand{\\Uniform}{\\mathrm{Uniform}}\n",
    "\\newcommand{\\Binomial}{\\mathrm{Binomial}}\n",
    "\\newcommand{\\Bernoulli}{\\mathrm{Bernoulli}}\n",
    "\\newcommand{\\Gammap}{\\mathrm{Gamma}}\n",
    "\\newcommand{\\Normal}{\\mathcal{N}}\n",
    "\\newcommand{\\LogN}{\\mathrm{LogN}}\n",
    "\\newcommand{\\Exponential}{\\mathrm{Exp}}\n",
    "\\newcommand{\\Erlang}{\\mathrm{Erlang}}\n",
    "\\newcommand{\\Cauchy}{C}\n",
    "\\newcommand{\\Dir}{\\mathrm{Dir}}\n",
    "\\newcommand{\\Beta}{\\mathrm{Beta}}\n",
    "\\newcommand{\\Pareto}{\\mathrm{Pareto}}\n",
    "\\newcommand{\\lf}{\\left\\{}\n",
    "\\newcommand{\\rf}{\\right\\}}\n",
    "\\newcommand{\\lp}{\\left(}\n",
    "\\newcommand{\\rp}{\\right)}\n",
    "\\newcommand{\\Ecdf}[1]{\\hat{F}_n(#1)}\n",
    "\\newcommand{\\OPT}{\\text{OPT}}\n",
    "\\newcommand{\\opt}{\\text{opt}}\n",
    "\\newcommand{\\boot}{\\text{boot}}\n",
    "\\newcommand{\\bias}{\\text{bias}}\n",
    "\\newcommand{\\se}{\\text{se}}\n",
    "\\newcommand{\\MSE}{\\text{MSE}}\n",
    "\\newcommand{\\qm}{\\text{qm}}\n",
    "\\newcommand{\\as}{\\text{as}}\n",
    "\\newcommand{\\trace}{\\text{trace}}\n",
    "\\newcommand{\\esttheta}{\\hat{\\theta}}\n",
    "\\newcommand{\\estlambda}{\\hat{\\lambda}}\n",
    "\\newcommand{\\estmu}{\\hat{\\mu}}\n",
    "\\newcommand{\\estsigma}{\\hat{\\sigma}}\n",
    "\\newcommand{\\estalpha}{\\hat{\\alpha}}\n",
    "\\newcommand{\\estbeta}{\\hat{\\beta}}\n",
    "\\newcommand{\\estxi}{\\hat{\\xi}}\n",
    "\\newcommand{\\esttau}{\\hat{\\tau}}\n",
    "\\newcommand{\\estpsi}{\\hat{\\psi}}\n",
    "\\newcommand{\\esta}{\\hat{a}}\n",
    "\\newcommand{\\estb}{\\hat{b}}\n",
    "\\newcommand{\\estc}{\\hat{c}}\n",
    "\\newcommand{\\estd}{\\hat{d}}\n",
    "\\newcommand{\\estp}{\\hat{p}}\n",
    "\\newcommand{\\estT}{\\hat{T}}\n",
    "\\newcommand{\\estR}{\\hat{R}}\n",
    "\\newcommand{\\estF}{\\hat{F}}\n",
    "\\newcommand{\\estf}{\\hat{f}}\n",
    "\\newcommand{\\estC}{\\hat{C}}\n",
    "\\newcommand{\\estS}{\\hat{S}}\n",
    "\\newcommand{\\estY}{\\hat{Y}}\n",
    "\\newcommand{\\esty}{\\hat{y}}\n",
    "\\newcommand{\\estVar}{\\hat{\\Var}}\n",
    "\\newcommand{\\estExp}{\\hat{\\Exp}}\n",
    "\\newcommand{\\estSe}{\\hat{\\se}}\n",
    "\\newcommand{\\hatp}{\\hat{p}}\n",
    "\\newcommand{\\hatF}{\\hat{F}}\n",
    "\\newcommand{\\hatT}{\\hat{T}}\n",
    "\\newcommand{\\hattheta}{\\hat{\\theta}}\n",
    "\\newcommand{\\hatse}{\\hat{\\se}}$"
   ]
  },
  {
   "cell_type": "code",
   "execution_count": 1,
   "metadata": {},
   "outputs": [],
   "source": [
    "import os\n",
    "import numpy as np\n",
    "import pandas as pd\n",
    "import matplotlib.pyplot as plt\n",
    "%matplotlib inline\n",
    "\n",
    "from scipy import stats"
   ]
  },
  {
   "cell_type": "markdown",
   "metadata": {},
   "source": [
    "<a name='_toc'></a>\n",
    "# Table of contents\n",
    "* [Task 1 (2)](#task1)\n",
    "* [Task 2 (3)](#task2)\n",
    "* [Task 3 (2)](#task3)\n",
    "* [Task 4 (2)](#task4)\n",
    "* [Task 5 (2)](#task5)\n",
    "* [Task 6 (2)](#task6)\n",
    "* [Task 7 (2)](#task7)\n",
    "* [Task 8 (3)](#task8)\n",
    "* [Task 9 (2)](#task9)"
   ]
  },
  {
   "cell_type": "markdown",
   "metadata": {},
   "source": [
    "<a name='task1'></a>\n",
    "## Task 1 (2)<sup>[toc](#_toc)</sup>"
   ]
  },
  {
   "cell_type": "markdown",
   "metadata": {},
   "source": [
    "Пусть $\\boldX = \\{X_1,\\ldots, X_n\\} \\sim \\Uniform(0,\\theta)$, $\\esttheta = 2\\mean{\\boldX}$. Найдите значения значения $\\bias$, $\\se$ и $\\MSE$ этой оценки. Является ли оценка несмещенной? Состоятельной?"
   ]
  },
  {
   "cell_type": "markdown",
   "metadata": {},
   "source": [
    "$ E(X_1) = \\int_0^\\theta x \\frac 1 \\theta dx\n",
    "= \\frac {x^2} {2 \\theta} |_0^\\theta\n",
    "= \\frac \\theta 2$\n",
    "\n",
    "$ E(X_1^2) = \\int_0^\\theta x^2 \\frac 1 \\theta dx\n",
    "= \\frac {x^3} {3 \\theta} |_0^\\theta\n",
    "= \\frac {\\theta^2} 3$\n",
    "\n",
    "$ V(X_1) = E(X_1^2) - E^2(X_1) = \\frac {\\theta^2} {12} $\n",
    "\n"
   ]
  },
  {
   "cell_type": "markdown",
   "metadata": {},
   "source": [
    "$ E(\\hat \\theta) = E(2 \\overline X)\n",
    "= \\frac 2 n E ( \\sum\\limits_{i=1}^n X_i)\n",
    "= \\frac 2 n \\sum\\limits_{i=1}^n E ( X_i)\n",
    "= \\frac 2 n n E ( X_1)\n",
    "= 2 E (X_1)\n",
    "= 2 \\frac \\theta 2 = \\theta\n",
    "$"
   ]
  },
  {
   "cell_type": "markdown",
   "metadata": {},
   "source": [
    "$ V(\\hat \\theta) = V(2 \\overline X)\n",
    "= 4 V ( \\frac 1 n \\sum\\limits_{i=1}^n X_i)\n",
    "= \\frac 4 {n^2} \\sum\\limits_{i=1}^n V( X_i )\n",
    "= \\frac 4 {n^2} n V(X_1) = \\frac 4 {n^2} n \\frac{\\theta^2}{12}\n",
    "= \\frac {\\theta^2}{3n}\n",
    "$"
   ]
  },
  {
   "cell_type": "markdown",
   "metadata": {},
   "source": [
    "$bias(\\hat \\theta) = E(\\hat \\theta) - \\theta = \\theta - \\theta = 0$"
   ]
  },
  {
   "cell_type": "markdown",
   "metadata": {},
   "source": [
    "$se(\\hat \\theta) = \\sqrt{V( \\hat \\theta )} = \\frac \\theta {\\sqrt{3n}}$"
   ]
  },
  {
   "cell_type": "markdown",
   "metadata": {},
   "source": [
    "$ MSE(\\hat \\theta) = V( \\hat \\theta ) + bias^2(\\hat \\theta) = \\frac {\\theta^2}{3n} $ "
   ]
  },
  {
   "cell_type": "markdown",
   "metadata": {},
   "source": [
    "т.к. $bias = 0$ то оценка несмещенная\n",
    "\n",
    "т.к. $ bias \\to 0 $ и $ se \\to 0 $ то оценка состоятельная"
   ]
  },
  {
   "cell_type": "markdown",
   "metadata": {},
   "source": [
    "<a name='task2'></a>\n",
    "## Task 2 (3)<sup>[toc](#_toc)</sup>"
   ]
  },
  {
   "cell_type": "markdown",
   "metadata": {},
   "source": [
    "Пусть $\\boldX = \\{X_1, \\dots, X_n\\} \\sim \\Poisson(\\ln \\lambda)$, $\\estlambda = e^{\\mean{\\boldX}}$. Найдите $\\bias$, $\\se$ и $\\MSE$ этой оценки. Является ли оценка несмещенной? Состоятельной?"
   ]
  },
  {
   "cell_type": "markdown",
   "metadata": {},
   "source": [
    "Обозначим сумму за $Y$. Тогда\n",
    "\n",
    "$Y = \\sum\\limits_{i=1}^n X_i \\sim \\Poisson(n \\ln \\lambda)$\n",
    "\n",
    "$\\hat \\lambda = e^{\\mean{X}} = e^{ \\frac 1 n Y}$"
   ]
  },
  {
   "cell_type": "markdown",
   "metadata": {},
   "source": [
    "Найдём $E$ и $V$\n",
    "\n",
    "$ E(\\hat \\lambda)\n",
    "= E(e^{\\frac 1 n Y})\n",
    "= \\sum\\limits_{k=0}^\\infty e^\\frac k n \\frac {(n ln \\lambda)^k} {k!} e^{-n ln \\lambda}\n",
    "= e^{-n ln \\lambda} \\sum\\limits_{k=0}^\\infty  \\frac {(e^{1/n} n ln \\lambda)^k} {k!} \n",
    "= e^{-n ln \\lambda} e ^ {e^{1/n} n ln \\lambda}\n",
    "= \\lambda^{-n} \\lambda^{ne^{1/n}}\n",
    "= \\lambda^{n(e^{1/n} - 1)}\n",
    "$\n",
    "\n",
    "$ E(\\hat \\lambda^2)\n",
    "= E(e^{\\frac 2 n Y})\n",
    "= \\sum\\limits_{k=0}^\\infty e^\\frac {2k} n \\frac {(n ln \\lambda)^k} {k!} e^{-n ln \\lambda}\n",
    "= e^{-n ln \\lambda} \\sum\\limits_{k=0}^\\infty  \\frac {(e^{2/n} n ln \\lambda)^k} {k!} \n",
    "= e^{-n ln \\lambda} e ^ {e^{2/n} n ln \\lambda}\n",
    "= \\lambda^{-n} \\lambda^{ne^{2/n}}\n",
    "= \\lambda^{n(e^{2/n} - 1)}\n",
    "$\n",
    "\n",
    "$ V(\\hat \\lambda) = E(\\hat \\lambda^2) - E^2(\\hat \\lambda) = \n",
    "\\lambda^{n(e^{2/n} - 1)} - \\lambda^{2n(e^{1/n} - 1)}\n",
    "$"
   ]
  },
  {
   "cell_type": "markdown",
   "metadata": {},
   "source": [
    "Найдём $bias$, $se$, $MSE$\n",
    "\n",
    "$ bias(\\hat \\lambda) = E(\\hat \\lambda) - \\lambda\n",
    "= \\lambda^{n(e^{1/n} - 1)} - \\lambda\n",
    "$\n",
    "\n",
    "$ se(\\hat \\lambda) = \\sqrt{ \\lambda^{n(e^{2/n} - 1)} - \\lambda^{2n(e^{1/n} - 1)} }\n",
    "$\n",
    "\n",
    "$ MSE(\\hat \\lambda) = \\lambda^{n(e^{2/n} - 1)} - \\lambda^{2n(e^{1/n} - 1)}\n",
    "+ (\\lambda^{n(e^{1/n} - 1)} - \\lambda)^2\n",
    "= \\lambda^{ne^{2/n} - n} + \\lambda^2 - 2 \\lambda^{n e^{1/n} - n - 1}\n",
    "$"
   ]
  },
  {
   "cell_type": "markdown",
   "metadata": {},
   "source": [
    "Покажем состоятельность"
   ]
  },
  {
   "cell_type": "markdown",
   "metadata": {},
   "source": [
    "$ \\lim\\limits_{n \\to \\infty} n(e^{1/n} - 1)\n",
    "= \\lim\\limits_{n \\to \\infty} \\frac {e^{1/n} - 1} {\\frac 1 n}\n",
    "= ln e = 1\n",
    "$\n",
    "\n",
    "$ \\lim\\limits_{n \\to \\infty} n(e^{2/n} - 1)\n",
    "= \\lim\\limits_{n \\to \\infty} n (e^{1/n} - 1) (e^{1/n} + 1)\n",
    "= 2 \\lim\\limits_{n \\to \\infty} n (e^{1/n} - 1)\n",
    "= 2 \\cdot 1 = 2\n",
    "$\n",
    "\n"
   ]
  },
  {
   "cell_type": "markdown",
   "metadata": {},
   "source": [
    "$ \\lim\\limits_{n \\to \\infty} bias\n",
    "= \\lim\\limits_{n \\to \\infty} (\\lambda^{n(e^{1/n} - 1)} - \\lambda)\n",
    "= \\lambda^1 - \\lambda = 0\n",
    "$"
   ]
  },
  {
   "cell_type": "markdown",
   "metadata": {},
   "source": [
    "$ \\lim\\limits_{n \\to \\infty} se\n",
    "= \\sqrt{ \\lambda^{n(e^{2/n} - 1)} - \\lambda^{2n(e^{1/n} - 1)} }\n",
    "= \\sqrt{ \\lambda^2 - \\lambda^2 } = 0\n",
    "$"
   ]
  },
  {
   "cell_type": "markdown",
   "metadata": {},
   "source": [
    "т.к. $bias \\ne 0$, то оценка смещённая  \n",
    "т.к. $ bias \\to 0 $ и $ se \\to 0 $ то оценка состоятельная"
   ]
  },
  {
   "cell_type": "code",
   "execution_count": 2,
   "metadata": {},
   "outputs": [
    {
     "name": "stdout",
     "output_type": "stream",
     "text": [
      "1038.2286831746662 1037.110654501021\n",
      "211693.26302802222 206720.7571589921\n"
     ]
    }
   ],
   "source": [
    "lam = 73.171339 * 13\n",
    "lnlam = np.log(lam)\n",
    "B, n = 10000, 40\n",
    "\n",
    "X = np.random.poisson(lnlam, size=B)\n",
    "Xb = np.random.poisson(lnlam, size=(B, n))\n",
    "Y = np.exp(Xb.mean(axis=1))\n",
    "\n",
    "print(Y.mean(), lam ** (n * (np.exp(1/n) - 1)))\n",
    "print(Y.var(), lam ** (n * (np.exp(2/n) - 1)) - lam ** (2 * n * (np.exp(1/n) - 1)))"
   ]
  },
  {
   "cell_type": "markdown",
   "metadata": {},
   "source": [
    "<a name='task3'></a>\n",
    "## Task 3 (2)<sup>[toc](#_toc)</sup>"
   ]
  },
  {
   "cell_type": "markdown",
   "metadata": {},
   "source": [
    "Пусть $\\hatF(x)$ &mdash; эмпирическая функция распределения, построенная по выборке $\\boldX = \\{X_1, \\dots, X_n\\}$. Пусть $x$, $y \\in \\RR$. Найдите ковариацию $\\Cov(\\hatF(x), \\hatF(y))$."
   ]
  },
  {
   "cell_type": "markdown",
   "metadata": {},
   "source": [
    "$Cov(\\hat F_n(x), \\hat F_n(y)) = E(\\hat F_n(x), \\hat F_n(y)) - E(\\hat F_n(x)) E(\\hat F_n(y))$\n",
    "\n",
    "$E(\\hat F_n(x)) = F(x)$\n",
    "\n",
    "$E(\\hat F_n(x), \\hat F_n(y)) = E(\\frac 1n \\sum\\limits_{i=1}^{n} I(X_i \\le x) \\cdot \\frac 1n \\sum\\limits_{j=1}^{n} I(X_j \\le y)) = $\n",
    "\n",
    "$= \\frac{1}{n^2} E(\\sum\\limits_{i=1}^{n} I(X_i \\le x) I(X_i \\le y)) \\; + \\; \\frac{1}{n^2} E(\\sum\\limits_{i=1}^{n} \\sum\\limits_{j=1, j \\ne i}^{n} I(X_i \\le x) I(X_j \\le y)) = $\n",
    "\n",
    "$= \\frac{1}{n^2} \\; (*) \\; + \\; \\frac{1}{n^2} \\; (**) $"
   ]
  },
  {
   "cell_type": "markdown",
   "metadata": {},
   "source": [
    "$(*) = \\sum\\limits_{i=1}^{n} E (I(X_i \\le x) I(X_i \\le y) ) = \\sum\\limits_{i=1}^{n} E I(X_i \\le \\min(x, y) )  = $\n",
    "\n",
    "$= n E I(X_1 \\le \\min(x, y)) = n F(\\min(x, y))$"
   ]
  },
  {
   "cell_type": "markdown",
   "metadata": {},
   "source": [
    "$ (**) = \\sum\\limits_{i=1}^{n} \\sum\\limits_{j=1, j \\ne i}^{n} E(I(X_i \\le x) I(X_j \\le y)) = $\n",
    "$\\sum\\limits_{i=1}^{n} \\sum\\limits_{j=1, j \\ne i}^{n} EI(X_i \\le x) EI(X_j \\le y) = $\n",
    "\n",
    "$= n(n - 1) EI(X_1 \\le x) EI(X_1 \\le y) = n(n - 1) F(x) F(y)$"
   ]
  },
  {
   "cell_type": "markdown",
   "metadata": {},
   "source": [
    "$E(\\hat F_n(x), \\hat F_n(y)) = \\frac{1}{n} F(\\min(x, y)) + \\frac{n - 1}{n} F(x)F(y) )$"
   ]
  },
  {
   "cell_type": "markdown",
   "metadata": {},
   "source": [
    "$ Cov(\\hat F_n(x), \\hat F_n(y)) = \\frac{1}{n} F(\\min(x, y)) + \\frac{n - 1}{n} F(x)F(y)) - F(x)F(y) = \\frac{1}{n} (F(\\min(x, y) - F(x)F(y)) $"
   ]
  },
  {
   "cell_type": "markdown",
   "metadata": {},
   "source": [
    "<a name='task4'></a>\n",
    "## Task 4 (2)<sup>[toc](#_toc)</sup>"
   ]
  },
  {
   "cell_type": "markdown",
   "metadata": {},
   "source": [
    "Пусть $\\boldX = \\{X_1, \\dots, X_n\\} \\sim F(x)$, и пусть $\\hatF(x)$ --- эмпирическая функция распределения. Для фиксированных числе $a, b\\in \\RR$, таких что $a < b$ определим статистический функционал $T(F) = F(b) - F(a)$. Пусть $\\esttheta = \\hatF(b) - \\hatF(a)$. Найдите оценку $\\estSe$ стандартного отклонения и $(1-\\alpha)$-доверительный интервал.\n"
   ]
  },
  {
   "cell_type": "markdown",
   "metadata": {},
   "source": [
    "$E ( \\hat \\theta )\n",
    "= E( \\hat F_n(b) ) - E (\\hat F_n(a) ) \n",
    "= F(b) - F(a) = T(F) $\n",
    "\n",
    "$V ( \\hat \\theta ) = V( \\hat F_n(b) - \\hat F_n(a) )\n",
    "= V ( \\hat F_n(b) ) + V ( \\hat F_n(a) ) - 2 Cov(\\hat F_n(b), \\hat F_n(a)) = \\\\\n",
    "= \\frac{F(b)(1-F(b)}{n} + \\frac{F(a)(1-F(a)}{n} - 2 \\frac{F(a) - F(a) F(b)}{n} = \\\\\n",
    "= \\frac{( F(b) - F(a) ) ( 1 - F(b) + F(a) )}{n}\n",
    "= \\frac{T(F) ( 1 - T(F) )}{n}\n",
    "$"
   ]
  },
  {
   "cell_type": "markdown",
   "metadata": {},
   "source": [
    "$se ( \\hat \\theta ) = \\sqrt \\frac{T(F) ( 1 - T(F) )}{n}$\n",
    "\n",
    "$\\hat {se} ( \\hat \\theta ) = \\sqrt \\frac{\\hat \\theta ( 1 - \\hat \\theta )}{n}$\n",
    "\n"
   ]
  },
  {
   "cell_type": "markdown",
   "metadata": {},
   "source": [
    "(1 - $\\alpha$)-доверительный интервал\n",
    "\n",
    "$ T(F) \\approx \\hat \\theta \\pm z_{\\alpha \\ / \\ 2} \\ \\hat{se}[\\hat \\theta]$\n",
    "\n",
    "$ T(F) \\approx \\hat \\theta \\pm z_{\\alpha \\ / \\ 2} \\ \\sqrt \\frac{\\hat \\theta ( 1 - \\hat \\theta )}{n}$\n",
    "\n"
   ]
  },
  {
   "cell_type": "markdown",
   "metadata": {},
   "source": [
    "<a name='task5'></a>\n",
    "## Task 5 (2)<sup>[toc](#_toc)</sup>"
   ]
  },
  {
   "cell_type": "markdown",
   "metadata": {},
   "source": [
    "Скачайте данные о качестве красных вин. Постройте график для $\\hatF(x;\\boldX)$ для уровня кислотности (pH). Для каждой точки $x$ постройте:\n",
    "* 95\\%-ый доверительный интервал на основе неравенства Дворецкого-Кифера-Вольфовица.\n",
    "* Асимптотический нормальный 95\\%-ый доверительный интервал для значения $F(x)$.\n",
    "\n",
    "По значениям уровня кислотности $\\boldX$ подсчитайте оценку $T(\\boldX)$ для функционала $T(F) = F(3.5) - F(3.4)$ и найдите оцените аналитически стандартное отклонение $\\estSe$ оценки $T(\\boldX)$. Постройте асимптотический нормальный 95\\%-ый доверительный интервал для $T(F)$."
   ]
  },
  {
   "cell_type": "code",
   "execution_count": 3,
   "metadata": {},
   "outputs": [
    {
     "name": "stdout",
     "output_type": "stream",
     "text": [
      "Number of samples: (1599,)\n",
      "Min value: 2.74\n",
      "Max value: 4.01\n"
     ]
    }
   ],
   "source": [
    "# Предполагается, что датасет лежит по соседству с ноутбуком\n",
    "phs = pd.read_csv(os.path.join(os.curdir, 'winequality-red.csv'), sep=';')\n",
    "X = phs['pH'].values\n",
    "LEFT = 3.4\n",
    "RIGHT = 3.5\n",
    "print('Number of samples: {}'.format(X.shape))\n",
    "print('Min value: {}'.format(X.min()))\n",
    "print('Max value: {}'.format(X.max()))"
   ]
  },
  {
   "cell_type": "markdown",
   "metadata": {},
   "source": [
    "### Solution<sup>[toc](#_toc)</sup>"
   ]
  },
  {
   "cell_type": "markdown",
   "metadata": {},
   "source": [
    "Эмпирическая функция распределения"
   ]
  },
  {
   "cell_type": "code",
   "execution_count": 4,
   "metadata": {},
   "outputs": [],
   "source": [
    "X = np.sort(X)\n",
    "n = len(X)\n",
    "X_probs = np.array([i / n for i in range(n)])"
   ]
  },
  {
   "cell_type": "markdown",
   "metadata": {},
   "source": [
    "95%-доверительный интервал на основе неравенства Дворецкого-Кифера-Вольфовица"
   ]
  },
  {
   "cell_type": "code",
   "execution_count": 5,
   "metadata": {},
   "outputs": [],
   "source": [
    "alpha = 0.05\n",
    "eps = np.sqrt(np.log(2 / alpha) / (2 * n))\n",
    "\n",
    "probs_dv_low, probs_dv_high = X_probs - eps, X_probs + eps\n",
    "\n",
    "probs_dv_low[probs_dv_low < 0] = 0\n",
    "probs_dv_high[probs_dv_high > 1] = 1"
   ]
  },
  {
   "cell_type": "markdown",
   "metadata": {},
   "source": [
    "95% асимптотически нормальный доверительный интервал"
   ]
  },
  {
   "cell_type": "code",
   "execution_count": 6,
   "metadata": {},
   "outputs": [
    {
     "data": {
      "text/plain": [
       "1.959963984540054"
      ]
     },
     "execution_count": 6,
     "metadata": {},
     "output_type": "execute_result"
    }
   ],
   "source": [
    "z_alpha_005 = stats.norm.ppf(1 - alpha / 2)\n",
    "z_alpha_005"
   ]
  },
  {
   "cell_type": "code",
   "execution_count": 7,
   "metadata": {},
   "outputs": [],
   "source": [
    "var = X_probs * (1 - X_probs) / n\n",
    "se = np.sqrt(var)\n",
    "\n",
    "probs_an_low, probs_an_high = X_probs - z_alpha_005 * se, X_probs + z_alpha_005 * se\n",
    "\n",
    "probs_an_low[probs_an_low < 0.] = 0.\n",
    "probs_an_high[probs_an_high > 1.] = 1"
   ]
  },
  {
   "cell_type": "code",
   "execution_count": 8,
   "metadata": {},
   "outputs": [
    {
     "data": {
      "image/png": "[encoded data removed]",
      "text/plain": [
       "<Figure size 1500x700 with 1 Axes>"
      ]
     },
     "metadata": {},
     "output_type": "display_data"
    }
   ],
   "source": [
    "plt.figure(figsize=(15,7))\n",
    "plt.plot(X, X_probs)\n",
    "plt.fill_between(X, probs_dv_low, probs_dv_high, alpha=0.3)\n",
    "plt.fill_between(X, probs_an_low, probs_an_high, alpha=0.4, color='r')\n",
    "plt.legend([\n",
    "    'Эмпирическая функция распределения', \n",
    "    '95%-доверительный интервал на основе неравенства Дворецкого-Вольфовица', \n",
    "    '95% асимптотически нормальный доверительный интервал'\n",
    "])\n",
    "plt.show()"
   ]
  },
  {
   "cell_type": "markdown",
   "metadata": {},
   "source": [
    "Считаем оценку функционала и оценку стандартного отклонения.  \n",
    "Для оценки стандартного отклонения используем формулу, полученную в четвёртой задаче"
   ]
  },
  {
   "cell_type": "code",
   "execution_count": 9,
   "metadata": {},
   "outputs": [
    {
     "data": {
      "text/plain": [
       "(0.1369606003752346, 0.008597831013481914)"
      ]
     },
     "execution_count": 9,
     "metadata": {},
     "output_type": "execute_result"
    }
   ],
   "source": [
    "T_hat = (X <= RIGHT).mean() - (X <= LEFT).mean()\n",
    "se_hat = np.sqrt(T_hat * (1 - T_hat) / n)\n",
    "\n",
    "T_hat, se_hat"
   ]
  },
  {
   "cell_type": "markdown",
   "metadata": {},
   "source": [
    "95% доверительный интервал"
   ]
  },
  {
   "cell_type": "code",
   "execution_count": 10,
   "metadata": {},
   "outputs": [
    {
     "data": {
      "text/plain": [
       "(0.12010916124364854, 0.15381203950682068)"
      ]
     },
     "execution_count": 10,
     "metadata": {},
     "output_type": "execute_result"
    }
   ],
   "source": [
    "T_hat - z_alpha_005 * se_hat, T_hat + z_alpha_005 * se_hat"
   ]
  },
  {
   "cell_type": "markdown",
   "metadata": {},
   "source": [
    "<a name='task6'></a>\n",
    "## Task 6 (2)<sup>[toc](#_toc)</sup>"
   ]
  },
  {
   "cell_type": "markdown",
   "metadata": {},
   "source": [
    "В процессе очистки питьевой воды выпадает значительный осадок. Для его уменьшения можно воздействовать на разные факторы,\n",
    "в т.ч. на количество микроорганизмов в жидкости, способствующих окислению органики. В группу из $261$ очистительных установок\n",
    "был добавлен реагент, подавляющих активность микроорганизмов, а состав остальных $119$ остался без изменений.\n",
    "Пусть $\\theta$ &mdash; разность в средних значениях количества твердых частиц в этих двух группах установок.\n",
    "Оценить по данным **WaterTreatment** величину $\\theta$, оценить стандартную ошибку оценки, построить\n",
    "$95\\%$ и $99\\%$ доверительные интервалы. Какие выводы можно сделать на основе полученных результатов?"
   ]
  },
  {
   "cell_type": "code",
   "execution_count": 11,
   "metadata": {},
   "outputs": [
    {
     "name": "stdout",
     "output_type": "stream",
     "text": [
      "First group size: 261\n",
      "Second group size: 119\n"
     ]
    }
   ],
   "source": [
    "# Предполагается, что датасет лежит по соседству с ноутбуком\n",
    "data = pd.read_csv(os.path.join(os.curdir, \"WaterTreatment.csv\"))\n",
    "DATA_LABEL = 'sediment'\n",
    "first_group = data[DATA_LABEL][data['reduced_microorganism'] == 1].values\n",
    "second_group = data[DATA_LABEL][data['reduced_microorganism'] == 0].values\n",
    "print('First group size: {}'.format(first_group.shape[0]))\n",
    "print('Second group size: {}'.format(second_group.shape[0]))"
   ]
  },
  {
   "cell_type": "markdown",
   "metadata": {},
   "source": [
    "### Solution<sup>[toc](#_toc)</sup>"
   ]
  },
  {
   "cell_type": "code",
   "execution_count": 12,
   "metadata": {},
   "outputs": [],
   "source": [
    "mean_1 = np.array(first_group).mean()\n",
    "var_1 = np.array(first_group).var() / len(first_group)\n",
    "\n",
    "mean_2 = np.array(second_group).mean()\n",
    "var_2 = np.array(second_group).var() / len(second_group)"
   ]
  },
  {
   "cell_type": "code",
   "execution_count": 13,
   "metadata": {},
   "outputs": [
    {
     "data": {
      "text/plain": [
       "0.07133294697189219"
      ]
     },
     "execution_count": 13,
     "metadata": {},
     "output_type": "execute_result"
    }
   ],
   "source": [
    "theta_hat = mean_2 - mean_1\n",
    "theta_hat"
   ]
  },
  {
   "cell_type": "code",
   "execution_count": 14,
   "metadata": {},
   "outputs": [
    {
     "data": {
      "text/plain": [
       "0.03225939884320162"
      ]
     },
     "execution_count": 14,
     "metadata": {},
     "output_type": "execute_result"
    }
   ],
   "source": [
    "se_hat = np.sqrt(var_1 + var_2)\n",
    "se_hat"
   ]
  },
  {
   "cell_type": "code",
   "execution_count": 15,
   "metadata": {},
   "outputs": [
    {
     "data": {
      "text/plain": [
       "(1.959963984540054, 2.5758293035489004)"
      ]
     },
     "execution_count": 15,
     "metadata": {},
     "output_type": "execute_result"
    }
   ],
   "source": [
    "z_alpha_005, z_alpha_001 = stats.norm.ppf(1 - 0.05 / 2), stats.norm.ppf(1 - 0.01 / 2)\n",
    "z_alpha_005, z_alpha_001"
   ]
  },
  {
   "cell_type": "markdown",
   "metadata": {},
   "source": [
    "95% доверительный интервал"
   ]
  },
  {
   "cell_type": "code",
   "execution_count": 16,
   "metadata": {},
   "outputs": [
    {
     "data": {
      "text/plain": [
       "(0.008105687076303922, 0.13456020686748044)"
      ]
     },
     "execution_count": 16,
     "metadata": {},
     "output_type": "execute_result"
    }
   ],
   "source": [
    "theta_hat - z_alpha_005 * se_hat, theta_hat + z_alpha_005 * se_hat"
   ]
  },
  {
   "cell_type": "markdown",
   "metadata": {},
   "source": [
    "99% доверительный интервал"
   ]
  },
  {
   "cell_type": "code",
   "execution_count": 17,
   "metadata": {},
   "outputs": [
    {
     "data": {
      "text/plain": [
       "(-0.011761757883298044, 0.1544276518270824)"
      ]
     },
     "execution_count": 17,
     "metadata": {},
     "output_type": "execute_result"
    }
   ],
   "source": [
    "theta_hat - z_alpha_001 * se_hat, theta_hat + z_alpha_001 * se_hat"
   ]
  },
  {
   "cell_type": "markdown",
   "metadata": {},
   "source": [
    "Ноль не попал в 95% интервал, в 99% попал.  \n",
    "Можем сделать вывод, что на уровне значимости 95% количество осадка в группе с добавленным реагентом меньше, но это, может и не значит, что добавление реагента влияет на снижение количества осадка.  \n",
    "На уровне значимости 99% утверждать, что количество осадка в группе с добавленным реагентом меньше, не можем."
   ]
  },
  {
   "cell_type": "markdown",
   "metadata": {},
   "source": [
    "<a name='task7'></a>\n",
    "## Task 7 (2)<sup>[toc](#_toc)</sup>"
   ]
  },
  {
   "cell_type": "markdown",
   "metadata": {},
   "source": [
    "Провести моделирование, чтобы сравнить различные типы доверительных интервалов, построенных с помощью бутстрепа. Пусть $n = 50$, $T(F) = {\\int\\lp x-\\mu\\rp^3dF(x)} / \\sigma^{3}$ &mdash; коэффициент асимметрии, где $F$ &mdash; распределение $\\chi_k^2$ с тремя степенями свободы ($k = 3$). Постройте 95\\% доверительные интервалы для $T(F)$ по выборке $\\boldX = \\{X_1,\\ldots,X_n\\}$, используя три подхода на основе бутстрепа."
   ]
  },
  {
   "cell_type": "markdown",
   "metadata": {},
   "source": [
    "### Solution<sup>[toc](#_toc)</sup>"
   ]
  },
  {
   "cell_type": "markdown",
   "metadata": {},
   "source": [
    "<a href=\"https://en.wikipedia.org/wiki/Chi-squared_distribution\">Chi-squared distribution</a>\n",
    "\n",
    "Смоделируем вот так:\n",
    "\n",
    "$x = \\sum\\limits_{i=0}^{k}z_i^2 \\sim \\chi_k^2$  \n",
    "где $z_i \\sim N(0, 1)$"
   ]
  },
  {
   "cell_type": "code",
   "execution_count": 18,
   "metadata": {},
   "outputs": [],
   "source": [
    "n = 50\n",
    "\n",
    "Y = np.random.normal(0, 1, size=(3, n))\n",
    "X = (Y ** 2).sum(axis=0)"
   ]
  },
  {
   "cell_type": "code",
   "execution_count": 19,
   "metadata": {},
   "outputs": [
    {
     "data": {
      "image/png": "[encoded data removed]",
      "text/plain": [
       "<Figure size 400x300 with 1 Axes>"
      ]
     },
     "metadata": {},
     "output_type": "display_data"
    }
   ],
   "source": [
    "plt.figure(figsize=(4,3))\n",
    "plt.hist(X, bins=10)\n",
    "plt.show()"
   ]
  },
  {
   "cell_type": "code",
   "execution_count": 20,
   "metadata": {},
   "outputs": [],
   "source": [
    "B = 10000\n",
    "\n",
    "Xb = np.random.choice(X, (n, B), replace=True)\n",
    "Tb = ((Xb - Xb.mean(axis=0)) ** 3 / np.sqrt(Xb.var(axis=0)) ** 3).mean(axis=0)"
   ]
  },
  {
   "cell_type": "markdown",
   "metadata": {},
   "source": [
    "Оценка плотности кожффициента ассиметрии"
   ]
  },
  {
   "cell_type": "code",
   "execution_count": 21,
   "metadata": {},
   "outputs": [
    {
     "data": {
      "image/png": "[encoded data removed]",
      "text/plain": [
       "<Figure size 400x300 with 1 Axes>"
      ]
     },
     "metadata": {},
     "output_type": "display_data"
    }
   ],
   "source": [
    "plt.figure(figsize=(4,3))\n",
    "plt.hist(Tb, bins=100, density=True)\n",
    "plt.show()"
   ]
  },
  {
   "cell_type": "code",
   "execution_count": 22,
   "metadata": {},
   "outputs": [
    {
     "data": {
      "text/plain": [
       "1.0680864632443605"
      ]
     },
     "execution_count": 22,
     "metadata": {},
     "output_type": "execute_result"
    }
   ],
   "source": [
    "T = ((X - np.mean(X)) ** 3).mean() / np.sqrt(X.var(axis=0)) ** 3\n",
    "T"
   ]
  },
  {
   "cell_type": "code",
   "execution_count": 23,
   "metadata": {},
   "outputs": [
    {
     "data": {
      "text/plain": [
       "(0.9485746765415323, 0.38232234689256517)"
      ]
     },
     "execution_count": 23,
     "metadata": {},
     "output_type": "execute_result"
    }
   ],
   "source": [
    "mean_b = np.mean(Tb)\n",
    "se_b = np.sqrt(Tb.var())\n",
    "mean_b, se_b"
   ]
  },
  {
   "cell_type": "markdown",
   "metadata": {},
   "source": [
    "1. Нормальный интервал"
   ]
  },
  {
   "cell_type": "code",
   "execution_count": 24,
   "metadata": {},
   "outputs": [
    {
     "data": {
      "text/plain": [
       "(0.3187484328501038, 1.8174244936386172)"
      ]
     },
     "execution_count": 24,
     "metadata": {},
     "output_type": "execute_result"
    }
   ],
   "source": [
    "T - z_alpha_005 * se_b, T + z_alpha_005 * se_b"
   ]
  },
  {
   "cell_type": "markdown",
   "metadata": {},
   "source": [
    "2. Центральный интервал"
   ]
  },
  {
   "cell_type": "code",
   "execution_count": 25,
   "metadata": {},
   "outputs": [],
   "source": [
    "# np.percentile?"
   ]
  },
  {
   "cell_type": "code",
   "execution_count": 26,
   "metadata": {},
   "outputs": [
    {
     "data": {
      "text/plain": [
       "(0.5324411046157849, 2.0315821059471246)"
      ]
     },
     "execution_count": 26,
     "metadata": {},
     "output_type": "execute_result"
    }
   ],
   "source": [
    "alpha = 0.05\n",
    "a, b = np.percentile(Tb, (100 * alpha / 2, 100 * (1 - alpha / 2)))\n",
    "2 * T - b, 2 * T - a"
   ]
  },
  {
   "cell_type": "markdown",
   "metadata": {},
   "source": [
    "3. Интервал на основе процентилей"
   ]
  },
  {
   "cell_type": "code",
   "execution_count": 27,
   "metadata": {},
   "outputs": [
    {
     "data": {
      "text/plain": [
       "(0.10459082054159628, 1.6037318218729362)"
      ]
     },
     "execution_count": 27,
     "metadata": {},
     "output_type": "execute_result"
    }
   ],
   "source": [
    "a, b"
   ]
  },
  {
   "cell_type": "markdown",
   "metadata": {},
   "source": [
    "<a name='task8'></a>\n",
    "## Task 8 (3)<sup>[toc](#_toc)</sup>"
   ]
  },
  {
   "cell_type": "markdown",
   "metadata": {},
   "source": [
    "Пусть $\\boldX = \\{X_1,\\ldots, X_n\\} \\sim \\Exponential(\\lambda)$, $\\theta = e^{\\frac{1}{\\lambda}}$ и $\\esttheta = e^{\\mean{\\boldX}}$. Найдите аналитически плотность распределения $p_{\\esttheta}(x)$ оценки $\\esttheta = e^{\\mean{\\boldX}}$, математическое ожидание $\\Exp(\\esttheta)$,  и дисперсию $\\Var(\\esttheta)$, а также $\\bias$, $\\se$, $\\MSE$ оценки $\\esttheta$. Является ли оценка $\\esttheta$ смещенной? Состоятельной?"
   ]
  },
  {
   "cell_type": "markdown",
   "metadata": {},
   "source": [
    "Обозначим сумму за $Y$. Тогда\n",
    "\n",
    "$Y = \\sum\\limits_{i=1}^n X_i \\sim \\Gamma (n, \\frac 1 \\lambda)$\n",
    "\n",
    "$\\hat \\theta = e^{\\mean{X}} = e^{ \\frac 1 n Y}$"
   ]
  },
  {
   "cell_type": "markdown",
   "metadata": {},
   "source": [
    "Найдём плотность распределения\n",
    "\n",
    "$ F_{\\hat\\theta}(x)\n",
    "= P(\\hat \\theta \\le x)\n",
    "= P(e^{\\frac 1 n Y} \\le x)\n",
    "= P(Y \\le n ln x)\n",
    "= F_Y(n ln x)\n",
    "$\n",
    "\n",
    "$ p_Y (x) = \\frac{ x^{n - 1} \\lambda^n } { e^{\\lambda x} \\Gamma(n) }\n",
    "$\n",
    "\n",
    "$ p_{\\hat\\theta}(x)\n",
    "= \\frac{\\partial F_{\\hat\\theta}(x)}{\\partial x}\n",
    "= \\frac{\\partial F_Y(n ln x)}{\\partial x}\n",
    "= \\frac n x p_Y (n ln x)\n",
    "= \\frac n x \\frac{ n^{n-1} (ln x)^{n-1} \\lambda^n} { e^{\\lambda n ln x} \\Gamma(n)}\n",
    "= \\frac n {x ln x} \\frac { n^n (ln x)^n \\lambda^n } { e^{\\lambda n ln x} n!}\n",
    "$"
   ]
  },
  {
   "cell_type": "markdown",
   "metadata": {},
   "source": [
    "Найдём E и V\n",
    "\n",
    "$ E(\\hat \\theta)\n",
    "= E(e^{\\frac 1 n Y})\n",
    "= \\int_0^\\infty e^{x/n} x^{n-1} \\frac{ e^{-x \\lambda} } { \\lambda^{-n} \\Gamma(n)} dx\n",
    "= \\frac {\\lambda^n} {\\Gamma(n)} \\int_0^\\infty x^{n-1} e^{ -\\frac{\\lambda n - 1}{n} x} dx = \\\\\n",
    "= [u = \\frac{\\lambda n - 1}{n} x; x = \\frac { n u } { \\lambda n - 1 }; dx = \\frac { n } { \\lambda n - 1 } du] = \\\\\n",
    "= \\frac {\\lambda^n} {\\Gamma(n)} \\int_0^\\infty \\frac { n^n u^{n-1} } { (\\lambda n - 1)^n e^u } du\n",
    "= \\frac {\\lambda^n} {\\Gamma(n)} \\frac {n^n} {(\\lambda n - 1)^n}  \\int_0^\\infty u^{n-1} e^{-u} du\n",
    "= \\frac {\\lambda^n} {\\Gamma(n)} \\frac {n^n} {(\\lambda n - 1)^n}  \\Gamma(n)\n",
    "= (\\frac {\\lambda n} {\\lambda n - 1})^n\n",
    "$\n",
    "\n",
    "$ E(\\hat \\theta^2)\n",
    "= E(e^{\\frac 2 n Y})\n",
    "= \\int_0^\\infty e^{2x/n} x^{n-1} \\frac{ e^{-x \\lambda} } { \\lambda^{-n} \\Gamma(n)} dx\n",
    "= \\frac {\\lambda^n} {\\Gamma(n)} \\int_0^\\infty x^{n-1} e^{ -\\frac{\\lambda n - 2}{n} x} dx = \\\\\n",
    "= [u = \\frac{\\lambda n - 2}{n} x; x = \\frac { n u } { \\lambda n - 2 }; dx = \\frac { n } { \\lambda n - 2 } du] = \\\\\n",
    "= \\frac {\\lambda^n} {\\Gamma(n)} \\int_0^\\infty \\frac { n^n u^{n-1} } { (\\lambda n - 2)^n e^u } du\n",
    "= \\frac {\\lambda^n} {\\Gamma(n)} \\frac {n^n} {(\\lambda n - 2)^n}  \\int_0^\\infty u^{n-1} e^{-u} du\n",
    "= \\frac {\\lambda^n} {\\Gamma(n)} \\frac {n^n} {(\\lambda n - 2)^n}  \\Gamma(n)\n",
    "= (\\frac {\\lambda n} {\\lambda n - 2})^n\n",
    "$"
   ]
  },
  {
   "cell_type": "markdown",
   "metadata": {},
   "source": [
    "$ V(\\hat \\theta)\n",
    "= E(\\hat \\theta^2) - E^2(\\hat \\theta)\n",
    "= (\\frac {\\lambda n} {\\lambda n - 2})^n - (\\frac {\\lambda n} {\\lambda n - 1})^{2n}\n",
    "$"
   ]
  },
  {
   "cell_type": "markdown",
   "metadata": {},
   "source": [
    "Найдём $bias$, $se$, $MSE$\n",
    "\n",
    "$ bias(\\hat \\theta)\n",
    "= E(\\hat \\theta) - \\theta\n",
    "= (\\frac {\\lambda n} {\\lambda n - 1})^n - e^\\frac 1 \\lambda\n",
    "$\n",
    "\n",
    "$ se(\\hat \\theta)\n",
    "= \\sqrt{ (\\frac {\\lambda n} {\\lambda n - 2})^n - (\\frac {\\lambda n} {\\lambda n - 1})^{2n} }\n",
    "$\n",
    "\n",
    "$ MSE(\\hat \\lambda)\n",
    "= (\\frac {\\lambda n} {\\lambda n - 2})^n - (\\frac {\\lambda n} {\\lambda n - 1})^{2n}\n",
    "+ ((\\frac {\\lambda n} {\\lambda n - 1})^n - e^\\frac 1 \\lambda)^2\n",
    "= (\\frac {\\lambda n} {\\lambda n - 2})^n + e^\\frac 2 \\lambda\n",
    "- 2 (\\frac {\\lambda n} {\\lambda n - 1})^n e^\\frac 1 \\lambda\n",
    "$"
   ]
  },
  {
   "cell_type": "markdown",
   "metadata": {},
   "source": [
    "Покажем состоятельность"
   ]
  },
  {
   "cell_type": "markdown",
   "metadata": {},
   "source": [
    "$ \\lim \\limits_{n \\to \\infty} (\\frac {\\lambda n} {\\lambda n - 1})^n\n",
    "= \\lim \\limits_{n \\to \\infty} (1 + \\frac 1 {\\lambda n - 1})^n\n",
    "= \\lim \\limits_{n \\to \\infty} (1 + \\frac 1 {\\lambda n - 1})^{(\\lambda n - 1) \\frac 1 \\lambda + \\frac 1 \\lambda}\n",
    "= e^{\\frac 1 \\lambda}\n",
    "$\n",
    "\n",
    "$ \\lim \\limits_{n \\to \\infty} (\\frac {\\lambda n} {\\lambda n - 2})^n\n",
    "= \\lim \\limits_{n \\to \\infty} (1 + \\frac 2 {\\lambda n - 2})^n\n",
    "= \\lim \\limits_{n \\to \\infty} (1 + \\frac 2 {\\lambda n - 2})^{\\frac {\\lambda n - 2} 2 \\frac 2 \\lambda + \\frac 2 \\lambda}\n",
    "= e^{\\frac 2 \\lambda}\n",
    "$\n",
    "\n"
   ]
  },
  {
   "cell_type": "markdown",
   "metadata": {},
   "source": [
    "$ \\lim \\limits_{n \\to \\infty} bias\n",
    "= \\lim \\limits_{n \\to \\infty} (\\frac {\\lambda n} {\\lambda n - 1})^n - e^\\frac 1 \\lambda\n",
    "= e^\\frac 1 \\lambda - e^\\frac 1 \\lambda = 0\n",
    "$\n",
    "\n",
    "$ \\lim \\limits_{n \\to \\infty} se\n",
    "= \\lim \\limits_{n \\to \\infty} \\sqrt{ (\\frac {\\lambda n} {\\lambda n - 2})^n\n",
    "- (\\frac {\\lambda n} {\\lambda n - 1})^{2n} }\n",
    "= \\sqrt{ e^{\\frac 2 \\lambda} - e^{\\frac 2 \\lambda} }\n",
    "= 0\n",
    "$"
   ]
  },
  {
   "cell_type": "markdown",
   "metadata": {},
   "source": [
    "т.к. $bias \\ne 0$, то оценка смещённая  \n",
    "т.к. $ bias \\to 0 $ и $ se \\to 0 $ то оценка состоятельная"
   ]
  },
  {
   "cell_type": "markdown",
   "metadata": {},
   "source": [
    "<a name='task9'></a>\n",
    "## Task 9 (2)<sup>[toc](#_toc)</sup>"
   ]
  },
  {
   "cell_type": "markdown",
   "metadata": {},
   "source": [
    "Пусть $\\boldX = \\{X_1,\\ldots, X_n\\} \\sim \\Exponential(\\lambda)$, $\\theta = e^{\\frac{1}{\\lambda}}$ и $\\esttheta = e^{\\mean{\\boldX}}$. Сгенерируйте выборку $\\boldX$ из $n = 1000$ наблюдений для $\\lambda = 0.25$. Нарисуйте гистограмму значений $\\{\\esttheta^*_i\\}_{i=1}^B$ бутстрепных оценок. Эта гистограмма является оценкой распределения $p_{\\esttheta}(x)$. Сравните ее с настоящим распределением $p_{\\esttheta}(x)$, вычисленным аналитически в предыдущем пункте. Используя бутстреп, подсчитайте величину $\\se$ и постройте тремя способами $95\\%$-ый доверительный интервал для $\\theta$. "
   ]
  },
  {
   "cell_type": "markdown",
   "metadata": {},
   "source": [
    "### Solution<sup>[toc](#_toc)</sup>"
   ]
  },
  {
   "cell_type": "code",
   "execution_count": 28,
   "metadata": {},
   "outputs": [],
   "source": [
    "n = 1000\n",
    "lam = 0.25\n",
    "\n",
    "X = np.random.exponential(1/lam, size=n)\n",
    "T = np.exp(X.mean(axis=0))"
   ]
  },
  {
   "cell_type": "code",
   "execution_count": 29,
   "metadata": {},
   "outputs": [],
   "source": [
    "B = 10000\n",
    "\n",
    "Xb = np.random.choice(X, (n, B), replace=True)\n",
    "Tb = np.exp(Xb.mean(axis=0))"
   ]
  },
  {
   "cell_type": "code",
   "execution_count": 30,
   "metadata": {},
   "outputs": [],
   "source": [
    "def p_theta(x, lam, n):\n",
    "    result = n / x / np.log(x)\n",
    "    for i in range(n):\n",
    "        result *= n * np.log(x) * lam / (i + 1) / np.exp(lam * np.log(x))\n",
    "        \n",
    "    return result"
   ]
  },
  {
   "cell_type": "code",
   "execution_count": 31,
   "metadata": {},
   "outputs": [
    {
     "data": {
      "image/png": "[encoded data removed]",
      "text/plain": [
       "<Figure size 800x400 with 1 Axes>"
      ]
     },
     "metadata": {},
     "output_type": "display_data"
    }
   ],
   "source": [
    "plt.figure(figsize=(8,4))\n",
    "plt.plot(np.arange(30, 90), p_theta(np.arange(30, 90), lam, n), color='r')\n",
    "plt.hist(Tb, bins=B//100, density=True)\n",
    "plt.legend(['Настоящее распределение', 'Оценка распределения'])\n",
    "plt.show()"
   ]
  },
  {
   "cell_type": "code",
   "execution_count": 32,
   "metadata": {},
   "outputs": [
    {
     "data": {
      "text/plain": [
       "6.768480778339658"
      ]
     },
     "execution_count": 32,
     "metadata": {},
     "output_type": "execute_result"
    }
   ],
   "source": [
    "se_b = np.sqrt(Tb.var())\n",
    "se_b"
   ]
  },
  {
   "cell_type": "markdown",
   "metadata": {},
   "source": [
    "1. Нормальный интервал"
   ]
  },
  {
   "cell_type": "code",
   "execution_count": 33,
   "metadata": {},
   "outputs": [
    {
     "data": {
      "text/plain": [
       "(40.555642732229096, 67.08759984342382)"
      ]
     },
     "execution_count": 33,
     "metadata": {},
     "output_type": "execute_result"
    }
   ],
   "source": [
    "T - z_alpha_005 * se_b, T + z_alpha_005 * se_b"
   ]
  },
  {
   "cell_type": "markdown",
   "metadata": {},
   "source": [
    "2. Центральный интервал"
   ]
  },
  {
   "cell_type": "code",
   "execution_count": 34,
   "metadata": {},
   "outputs": [
    {
     "data": {
      "text/plain": [
       "(38.7101006324082, 65.25222124811644)"
      ]
     },
     "execution_count": 34,
     "metadata": {},
     "output_type": "execute_result"
    }
   ],
   "source": [
    "alpha = 0.05\n",
    "a, b = np.percentile(Tb, (100 * alpha / 2, 100 * (1 - alpha / 2)))\n",
    "2 * T - b, 2 * T - a"
   ]
  },
  {
   "cell_type": "markdown",
   "metadata": {},
   "source": [
    "3. Интервал на основе процентилей"
   ]
  },
  {
   "cell_type": "code",
   "execution_count": 35,
   "metadata": {},
   "outputs": [
    {
     "data": {
      "text/plain": [
       "(42.39102132753648, 68.93314194324472)"
      ]
     },
     "execution_count": 35,
     "metadata": {},
     "output_type": "execute_result"
    }
   ],
   "source": [
    "a, b"
   ]
  },
  {
   "cell_type": "code",
   "execution_count": null,
   "metadata": {},
   "outputs": [],
   "source": []
  }
 ],
 "metadata": {
  "anaconda-cloud": {},
  "kernelspec": {
   "display_name": "Python 3 (ipykernel)",
   "language": "python",
   "name": "python3"
  },
  "language_info": {
   "codemirror_mode": {
    "name": "ipython",
    "version": 3
   },
   "file_extension": ".py",
   "mimetype": "text/x-python",
   "name": "python",
   "nbconvert_exporter": "python",
   "pygments_lexer": "ipython3",
   "version": "3.10.6"
  }
 },
 "nbformat": 4,
 "nbformat_minor": 4
}
