{
 "cells": [
  {
   "cell_type": "markdown",
   "metadata": {
    "colab_type": "text",
    "id": "HmsFABwClrsS"
   },
   "source": [
    "## Seminar and homework (10 points total)\n",
    "\n",
    "Today we shall compose encoder-decoder neural networks and apply them to the task of machine translation.\n",
    "\n",
    "![img](https://esciencegroup.files.wordpress.com/2016/03/seq2seq.jpg)\n",
    "_(img: esciencegroup.files.wordpress.com)_\n",
    "\n",
    "\n",
    "Encoder-decoder architectures are about converting anything to anything, including\n",
    " * Machine translation and spoken dialogue systems\n",
    " * [Image captioning](http://mscoco.org/dataset/#captions-challenge2015) and [image2latex](https://openai.com/requests-for-research/#im2latex) (convolutional encoder, recurrent decoder)\n",
    " * Generating [images by captions](https://arxiv.org/abs/1511.02793) (recurrent encoder, convolutional decoder)\n",
    " * Grapheme2phoneme - convert words to transcripts"
   ]
  },
  {
   "cell_type": "markdown",
   "metadata": {
    "colab_type": "text",
    "id": "R4N9AD2dlrsU"
   },
   "source": [
    "## Our task: machine translation\n",
    "\n",
    "We gonna try our encoder-decoder models on russian to english machine translation problem. More specifically, we'll translate hotel and hostel descriptions. This task shows the scale of machine translation while not requiring you to train your model for weeks if you don't use GPU.\n",
    "\n",
    "Before we get to the architecture, there's some preprocessing to be done. ~~Go tokenize~~ Alright, this time we've done preprocessing for you. As usual, the data will be tokenized with WordPunctTokenizer.\n",
    "\n",
    "However, there's one more thing to do. Our data lines contain unique rare words. If we operate on a word level, we will have to deal with large vocabulary size. If instead we use character-level models, it would take lots of iterations to process a sequence. This time we're gonna pick something inbetween.\n",
    "\n",
    "One popular approach is called [Byte Pair Encoding](https://github.com/rsennrich/subword-nmt) aka __BPE__. The algorithm starts with a character-level tokenization and then iteratively merges most frequent pairs for N iterations. This results in frequent words being merged into a single token and rare words split into syllables or even characters.\n",
    "\n"
   ]
  },
  {
   "cell_type": "code",
   "execution_count": 7,
   "metadata": {
    "colab": {},
    "colab_type": "code",
    "id": "CfvojjHQlrsU"
   },
   "outputs": [],
   "source": [
    "# !pip3 install torch>=1.3.0\n",
    "# !pip3 install subword-nmt &> log\n",
    "# !wget https://www.dropbox.com/s/yy2zqh34dyhv07i/data.txt?dl=1 -O data.txt\n",
    "# !wget https://raw.githubusercontent.com/yandexdataschool/nlp_course/2020/week04_seq2seq/vocab.py -O vocab.py\n",
    "# thanks to tilda and deephack teams for the data, Dmitry Emelyanenko for the code :)"
   ]
  },
  {
   "cell_type": "code",
   "execution_count": 8,
   "metadata": {
    "colab": {},
    "colab_type": "code",
    "id": "g9kP0SdxlrsY"
   },
   "outputs": [
    {
     "name": "stderr",
     "output_type": "stream",
     "text": [
      "100%|██████████████████████████████████████████████████████████████████████████████| 8000/8000 [00:08<00:00, 904.90it/s]\n",
      "100%|██████████████████████████████████████████████████████████████████████████████| 8000/8000 [00:09<00:00, 845.11it/s]\n"
     ]
    }
   ],
   "source": [
    "from nltk.tokenize import WordPunctTokenizer\n",
    "from subword_nmt.learn_bpe import learn_bpe\n",
    "from subword_nmt.apply_bpe import BPE\n",
    "tokenizer = WordPunctTokenizer()\n",
    "def tokenize(x):\n",
    "    return ' '.join(tokenizer.tokenize(x.lower()))\n",
    "\n",
    "# split and tokenize the data\n",
    "with open('train.en', 'w') as f_src,  open('train.ru', 'w') as f_dst:\n",
    "    for line in open('data.txt'):\n",
    "        src_line, dst_line = line.strip().split('\\t')\n",
    "        f_src.write(tokenize(src_line) + '\\n')\n",
    "        f_dst.write(tokenize(dst_line) + '\\n')\n",
    "\n",
    "# build and apply bpe vocs\n",
    "bpe = {}\n",
    "for lang in ['en', 'ru']:\n",
    "    learn_bpe(open('./train.' + lang), open('bpe_rules.' + lang, 'w'), num_symbols=8000)\n",
    "    bpe[lang] = BPE(open('./bpe_rules.' + lang))\n",
    "    \n",
    "    with open('train.bpe.' + lang, 'w') as f_out:\n",
    "        for line in open('train.' + lang):\n",
    "            f_out.write(bpe[lang].process_line(line.strip()) + '\\n')"
   ]
  },
  {
   "cell_type": "markdown",
   "metadata": {
    "colab_type": "text",
    "id": "0UPW3sV8lrsb"
   },
   "source": [
    "### Building vocabularies\n",
    "\n",
    "We now need to build vocabularies that map strings to token ids and vice versa. We're gonna need these fellas when we feed training data into model or convert output matrices into words."
   ]
  },
  {
   "cell_type": "code",
   "execution_count": 9,
   "metadata": {
    "colab": {},
    "colab_type": "code",
    "id": "CmTy_m_olrsb"
   },
   "outputs": [],
   "source": [
    "import numpy as np\n",
    "import matplotlib.pyplot as plt\n",
    "%matplotlib inline"
   ]
  },
  {
   "cell_type": "code",
   "execution_count": 10,
   "metadata": {
    "colab": {},
    "colab_type": "code",
    "id": "8PskgBSxlrsd"
   },
   "outputs": [
    {
     "name": "stdout",
     "output_type": "stream",
     "text": [
      "inp: на территории обустроена бесплатная частная парковка .\n",
      "out: free private parking is available on site .\n",
      "\n",
      "inp: кроме того , в 5 минутах ходьбы работают многочисленные бары и рестораны .\n",
      "out: guests can find many bars and restaurants within a 5 - minute walk .\n",
      "\n",
      "inp: отель san mi@@ gu@@ el расположен в центре мор@@ ели@@ и , в 750 метрах от главной площади города и кафедрального собора .\n",
      "out: hotel san miguel is located in central more@@ lia , 750 metres from the city ’ s main square and cathedral .\n",
      "\n"
     ]
    }
   ],
   "source": [
    "data_inp = np.array(open('./train.bpe.ru').read().split('\\n'))\n",
    "data_out = np.array(open('./train.bpe.en').read().split('\\n'))\n",
    "\n",
    "from sklearn.model_selection import train_test_split\n",
    "train_inp, dev_inp, train_out, dev_out = train_test_split(data_inp, data_out, test_size=3000,\n",
    "                                                          random_state=42)\n",
    "for i in range(3):\n",
    "    print('inp:', train_inp[i])\n",
    "    print('out:', train_out[i], end='\\n\\n')"
   ]
  },
  {
   "cell_type": "code",
   "execution_count": 11,
   "metadata": {
    "colab": {},
    "colab_type": "code",
    "id": "vipg4O61lrsg"
   },
   "outputs": [],
   "source": [
    "from vocab import Vocab\n",
    "inp_voc = Vocab.from_lines(train_inp)\n",
    "out_voc = Vocab.from_lines(train_out)"
   ]
  },
  {
   "cell_type": "code",
   "execution_count": 12,
   "metadata": {
    "colab": {},
    "colab_type": "code",
    "id": "cwOoHfuhlrsi"
   },
   "outputs": [
    {
     "name": "stdout",
     "output_type": "stream",
     "text": [
      "lines\n",
      "['гостевой дом r .', 'до афин — 20 км .', 'работает боулинг .', 'оборудован балкон .', 'подключен wi - fi .']\n",
      "\n",
      "words to ids (0 = bos, 1 = eos):\n",
      "tensor([[   0, 2688, 2943, 1108,   29,    1,    1,    1],\n",
      "        [   0, 2922, 1834, 8035,   59, 3800,   29,    1],\n",
      "        [   0, 6030, 2083,   29,    1,    1,    1,    1],\n",
      "        [   0, 4927, 1870,   29,    1,    1,    1,    1],\n",
      "        [   0, 5549, 1453,   27,  592,   29,    1,    1]])\n",
      "\n",
      "back to words\n",
      "['гостевой дом r .', 'до афин — 20 км .', 'работает боулинг .', 'оборудован балкон .', 'подключен wi - fi .']\n"
     ]
    }
   ],
   "source": [
    "# Here's how you cast lines into ids and backwards.\n",
    "batch_lines = sorted(train_inp, key=len)[5:10]\n",
    "batch_ids = inp_voc.to_matrix(batch_lines)\n",
    "batch_lines_restored = inp_voc.to_lines(batch_ids)\n",
    "\n",
    "print(\"lines\")\n",
    "print(batch_lines)\n",
    "print(\"\\nwords to ids (0 = bos, 1 = eos):\")\n",
    "print(batch_ids)\n",
    "print(\"\\nback to words\")\n",
    "print(batch_lines_restored)"
   ]
  },
  {
   "cell_type": "markdown",
   "metadata": {
    "colab_type": "text",
    "id": "gSYu-MkElrsk"
   },
   "source": [
    "Draw source and translation length distributions to estimate the scope of the task."
   ]
  },
  {
   "cell_type": "code",
   "execution_count": 13,
   "metadata": {
    "colab": {},
    "colab_type": "code",
    "id": "TLLl9cSNlrsl"
   },
   "outputs": [
    {
     "data": {
      "image/png": "[encoded data removed]",
      "text/plain": [
       "<Figure size 576x288 with 2 Axes>"
      ]
     },
     "metadata": {
      "needs_background": "light"
     },
     "output_type": "display_data"
    }
   ],
   "source": [
    "plt.figure(figsize=[8, 4])\n",
    "plt.subplot(1, 2, 1)\n",
    "plt.title(\"source length\")\n",
    "plt.hist(list(map(len, map(str.split, train_inp))), bins=20);\n",
    "\n",
    "plt.subplot(1, 2, 2)\n",
    "plt.title(\"translation length\")\n",
    "plt.hist(list(map(len, map(str.split, train_out))), bins=20);"
   ]
  },
  {
   "cell_type": "markdown",
   "metadata": {
    "colab_type": "text",
    "id": "BHWgx34flrsn"
   },
   "source": [
    "### Encoder-decoder model\n",
    "\n",
    "The code below contains a template for a simple encoder-decoder model: single GRU encoder/decoder, no attention or anything. This model is implemented for you as a reference and a baseline for your homework assignment."
   ]
  },
  {
   "cell_type": "code",
   "execution_count": 14,
   "metadata": {
    "colab": {},
    "colab_type": "code",
    "id": "pd_rDRm9lrso"
   },
   "outputs": [],
   "source": [
    "import torch\n",
    "import torch.nn as nn\n",
    "import torch.nn.functional as F\n",
    "device = 'cuda' if torch.cuda.is_available() else 'cpu'"
   ]
  },
  {
   "cell_type": "code",
   "execution_count": 15,
   "metadata": {
    "colab": {},
    "colab_type": "code",
    "id": "wgfN5-F7lrst"
   },
   "outputs": [],
   "source": [
    "class BasicModel(nn.Module):\n",
    "    def __init__(self, inp_voc, out_voc, emb_size=64, hid_size=128):\n",
    "        \"\"\"\n",
    "        A simple encoder-decoder seq2seq model\n",
    "        \"\"\"\n",
    "        super().__init__() # initialize base class to track sub-layers, parameters, etc.\n",
    "\n",
    "        self.inp_voc, self.out_voc = inp_voc, out_voc\n",
    "        self.hid_size = hid_size\n",
    "        \n",
    "        self.emb_inp = nn.Embedding(len(inp_voc), emb_size)\n",
    "        self.emb_out = nn.Embedding(len(out_voc), emb_size)\n",
    "        self.enc0 = nn.GRU(emb_size, hid_size, batch_first=True)\n",
    "\n",
    "        self.dec_start = nn.Linear(hid_size, hid_size)\n",
    "        self.dec0 = nn.GRUCell(emb_size, hid_size)\n",
    "        self.logits = nn.Linear(hid_size, len(out_voc))\n",
    "        \n",
    "    def forward(self, inp, out):\n",
    "        \"\"\" Apply model in training mode \"\"\"\n",
    "        initial_state = self.encode(inp)\n",
    "        return self.decode(initial_state, out)\n",
    "\n",
    "\n",
    "    def encode(self, inp, **flags):\n",
    "        \"\"\"\n",
    "        Takes symbolic input sequence, computes initial state\n",
    "        :param inp: matrix of input tokens [batch, time]\n",
    "        :returns: initial decoder state tensors, one or many\n",
    "        \"\"\"\n",
    "        inp_emb = self.emb_inp(inp)\n",
    "        batch_size = inp.shape[0]\n",
    "        \n",
    "        enc_seq, [last_state_but_not_really] = self.enc0(inp_emb)\n",
    "        # enc_seq: [batch, time, hid_size], last_state: [batch, hid_size]\n",
    "        \n",
    "        # note: last_state is not _actually_ last because of padding, let's find the real last_state\n",
    "        lengths = (inp != self.inp_voc.eos_ix).to(torch.int64).sum(dim=1).clamp_max(inp.shape[1] - 1)\n",
    "        last_state = enc_seq[torch.arange(len(enc_seq)), lengths]\n",
    "        # ^-- shape: [batch_size, hid_size]\n",
    "        \n",
    "        dec_start = self.dec_start(last_state)\n",
    "        return [dec_start]\n",
    "\n",
    "    def decode_step(self, prev_state, prev_tokens, **flags):\n",
    "        \"\"\"\n",
    "        Takes previous decoder state and tokens, returns new state and logits for next tokens\n",
    "        :param prev_state: a list of previous decoder state tensors, same as returned by encode(...)\n",
    "        :param prev_tokens: previous output tokens, an int vector of [batch_size]\n",
    "        :return: a list of next decoder state tensors, a tensor of logits [batch, len(out_voc)]\n",
    "        \"\"\"\n",
    "        prev_gru0_state = prev_state[0]\n",
    "        \n",
    "        # <YOUR CODE HERE>\n",
    "        new_gru0_state = self.dec0(self.emb_out(prev_tokens), prev_gru0_state)\n",
    "        new_dec_state = [new_gru0_state]\n",
    "        output_logits = self.logits(new_gru0_state)\n",
    "        \n",
    "        return new_dec_state, output_logits\n",
    "\n",
    "    def decode(self, initial_state, out_tokens, **flags):\n",
    "        \"\"\" Iterate over reference tokens (out_tokens) with decode_step \"\"\"\n",
    "        batch_size = out_tokens.shape[0]\n",
    "        state = initial_state\n",
    "        \n",
    "        # initial logits: always predict BOS\n",
    "        onehot_bos = F.one_hot(torch.full([batch_size], self.out_voc.bos_ix, dtype=torch.int64),\n",
    "                               num_classes=len(self.out_voc)).to(device=out_tokens.device)\n",
    "        first_logits = torch.log(onehot_bos.to(torch.float32) + 1e-9)\n",
    "        \n",
    "        logits_sequence = [first_logits]\n",
    "        for i in range(out_tokens.shape[1] - 1):\n",
    "            state, logits = self.decode_step(state, out_tokens[:, i])\n",
    "            logits_sequence.append(logits)\n",
    "        return torch.stack(logits_sequence, dim=1)\n",
    "\n",
    "    def decode_inference(self, initial_state, max_len=100, **flags):\n",
    "        \"\"\" Generate translations from model (greedy version) \"\"\"\n",
    "        batch_size, device = len(initial_state[0]), initial_state[0].device\n",
    "        state = initial_state\n",
    "        outputs = [torch.full([batch_size], self.out_voc.bos_ix, dtype=torch.int64, \n",
    "                              device=device)]\n",
    "        all_states = [initial_state]\n",
    "\n",
    "        for i in range(max_len):\n",
    "            state, logits = self.decode_step(state, outputs[-1])\n",
    "            outputs.append(logits.argmax(dim=-1))\n",
    "            all_states.append(state)\n",
    "        \n",
    "        return torch.stack(outputs, dim=1), all_states\n",
    "\n",
    "    def translate_lines(self, inp_lines, **kwargs):\n",
    "        inp = self.inp_voc.to_matrix(inp_lines).to(device)\n",
    "        initial_state = self.encode(inp)\n",
    "        out_ids, states = self.decode_inference(initial_state, **kwargs)\n",
    "        return self.out_voc.to_lines(out_ids.cpu().numpy()), states\n"
   ]
  },
  {
   "cell_type": "code",
   "execution_count": 16,
   "metadata": {},
   "outputs": [],
   "source": [
    "# debugging area\n",
    "model = BasicModel(inp_voc, out_voc).to(device)\n",
    "\n",
    "dummy_inp_tokens = inp_voc.to_matrix(sorted(train_inp, key=len)[5:10]).to(device)\n",
    "dummy_out_tokens = out_voc.to_matrix(sorted(train_out, key=len)[5:10]).to(device)\n",
    "\n",
    "h0 = model.encode(dummy_inp_tokens)\n",
    "h1, logits1 = model.decode_step(h0, torch.arange(len(dummy_inp_tokens), device=device))\n",
    "\n",
    "assert isinstance(h1, list) and len(h1) == len(h0)\n",
    "assert h1[0].shape == h0[0].shape and not torch.allclose(h1[0], h0[0])\n",
    "assert logits1.shape == (len(dummy_inp_tokens), len(out_voc))\n",
    "\n",
    "logits_seq = model.decode(h0, dummy_out_tokens)\n",
    "assert logits_seq.shape == (dummy_out_tokens.shape[0], dummy_out_tokens.shape[1], len(out_voc))\n",
    "\n",
    "# full forward\n",
    "logits_seq2 = model(dummy_inp_tokens, dummy_out_tokens)\n",
    "assert logits_seq2.shape == logits_seq.shape"
   ]
  },
  {
   "cell_type": "code",
   "execution_count": 17,
   "metadata": {},
   "outputs": [
    {
     "name": "stdout",
     "output_type": "stream",
     "text": [
      "Translations without training:\n",
      "classics tay pace coliseum ros meg@@ panema shuttles shuttles iences klo@@ res res tor@@ krist@@ history falls siya thos aria creative ros hi om@@ lout@@\n",
      "classics tay pace coliseum ros meg@@ panema shuttles shuttles iences klo@@ res res tor@@ krist@@ history falls siya thos aria creative ros hi om@@ lout@@\n",
      "buildings ir@@ lot@@ mises ved carl@@ zag@@ stay@@ tou@@ ros due heathrow kitchenette forum tu@@ warsaw center moun@@ vie@@ house@@ heat@@ anast@@ amid ū@@ russian\n"
     ]
    }
   ],
   "source": [
    "dummy_translations, dummy_states = model.translate_lines(train_inp[:3], max_len=25)\n",
    "print(\"Translations without training:\")\n",
    "print('\\n'.join([line for line in dummy_translations]))"
   ]
  },
  {
   "cell_type": "markdown",
   "metadata": {
    "colab_type": "text",
    "id": "_wuv1-aVlrs0"
   },
   "source": [
    "### Training loss (2 points)\n",
    "\n",
    "Our training objective is almost the same as it was for neural language models:\n",
    "$$ L = {\\frac1{|D|}} \\sum_{X, Y \\in D} \\sum_{y_t \\in Y} - \\log p(y_t \\mid y_1, \\dots, y_{t-1}, X, \\theta) $$\n",
    "\n",
    "where $|D|$ is the __total length of all sequences__, including BOS and first EOS, but excluding PAD."
   ]
  },
  {
   "cell_type": "code",
   "execution_count": 18,
   "metadata": {
    "colab": {},
    "colab_type": "code",
    "id": "c8XPV8sWlrs5",
    "scrolled": true
   },
   "outputs": [],
   "source": [
    "\n",
    "def compute_loss(model, inp, out, **flags):\n",
    "    \"\"\"\n",
    "    Compute loss (float32 scalar) as in the formula above\n",
    "    :param inp: input tokens matrix, int32[batch, time]\n",
    "    :param out: reference tokens matrix, int32[batch, time]\n",
    "    \n",
    "    In order to pass the tests, your function should\n",
    "    * include loss at first EOS but not the subsequent ones\n",
    "    * divide sum of losses by a sum of input lengths (use voc.compute_mask)\n",
    "    \"\"\"\n",
    "    mask = model.out_voc.compute_mask(out) # [batch_size, out_len]\n",
    "    targets_1hot = F.one_hot(out, len(model.out_voc)).to(torch.float32)\n",
    "    \n",
    "    # outputs of the model, [batch_size, out_len, num_tokens]\n",
    "    # logits_seq = <YOUR CODE HERE>\n",
    "    logits_seq = model(inp, out)\n",
    "\n",
    "    # log-probabilities of all tokens at all steps, [batch_size, out_len, num_tokens]\n",
    "    # logprobs_seq = <YOUR CODE HERE>\n",
    "    logprobs_seq = F.log_softmax(logits_seq, dim=-1)\n",
    "   \n",
    "    # log-probabilities of correct outputs, [batch_size, out_len]\n",
    "    logp_out = (logprobs_seq * targets_1hot).sum(dim=-1)\n",
    "    # ^-- this will select the probability of the actual next token.\n",
    "    # Note: you can compute loss more efficiently using using F.cross_entropy\n",
    "    \n",
    "    # average cross-entropy over tokens where mask == True\n",
    "    # return <YOUR CODE HERE> # average loss, scalar\n",
    "    return -torch.sum(logp_out * mask) / torch.sum(mask) "
   ]
  },
  {
   "cell_type": "code",
   "execution_count": 19,
   "metadata": {
    "colab": {},
    "colab_type": "code",
    "id": "ME_LWUeklrs7"
   },
   "outputs": [
    {
     "name": "stdout",
     "output_type": "stream",
     "text": [
      "Loss: tensor(7.5665, device='cuda:0', grad_fn=<DivBackward0>)\n"
     ]
    }
   ],
   "source": [
    "dummy_loss = compute_loss(model, dummy_inp_tokens, dummy_out_tokens)\n",
    "print(\"Loss:\", dummy_loss)\n",
    "assert np.allclose(dummy_loss.item(), 7.5, rtol=0.1, atol=0.1), \"We're sorry for your loss\"\n",
    "\n",
    "# test autograd\n",
    "dummy_loss.backward()\n",
    "for name, param in model.named_parameters():\n",
    "    assert param.grad is not None and abs(param.grad.max()) != 0, f\"Param {name} received no gradients\""
   ]
  },
  {
   "cell_type": "markdown",
   "metadata": {
    "colab_type": "text",
    "id": "HpbaBpW7lrs-"
   },
   "source": [
    "### Evaluation: BLEU\n",
    "\n",
    "Machine translation is commonly evaluated with [BLEU](https://en.wikipedia.org/wiki/BLEU) score. This metric simply computes which fraction of predicted n-grams is actually present in the reference translation. It does so for n=1,2,3 and 4 and computes the geometric average with penalty if translation is shorter than reference.\n",
    "\n",
    "While BLEU [has many drawbacks](http://www.cs.jhu.edu/~ccb/publications/re-evaluating-the-role-of-bleu-in-mt-research.pdf), it still remains the most commonly used metric and one of the simplest to compute."
   ]
  },
  {
   "cell_type": "code",
   "execution_count": 20,
   "metadata": {
    "colab": {},
    "colab_type": "code",
    "id": "Gb1-PhKIlrs-"
   },
   "outputs": [],
   "source": [
    "from nltk.translate.bleu_score import corpus_bleu\n",
    "def compute_bleu(model, inp_lines, out_lines, bpe_sep='@@ ', **flags):\n",
    "    \"\"\"\n",
    "    Estimates corpora-level BLEU score of model's translations given inp and reference out\n",
    "    Note: if you're serious about reporting your results, use https://pypi.org/project/sacrebleu\n",
    "    \"\"\"\n",
    "    with torch.no_grad():\n",
    "        translations, _ = model.translate_lines(inp_lines, **flags)\n",
    "        translations = [line.replace(bpe_sep, '') for line in translations]\n",
    "        actual = [line.replace(bpe_sep, '') for line in out_lines]\n",
    "        return corpus_bleu(\n",
    "            [[ref.split()] for ref in actual],\n",
    "            [trans.split() for trans in translations],\n",
    "            smoothing_function=lambda precisions, **kw: [p + 1.0 / p.denominator for p in precisions]\n",
    "            ) * 100"
   ]
  },
  {
   "cell_type": "code",
   "execution_count": 21,
   "metadata": {
    "colab": {},
    "colab_type": "code",
    "id": "gZvfid1RlrtA"
   },
   "outputs": [
    {
     "data": {
      "text/plain": [
       "0.002080186345479265"
      ]
     },
     "execution_count": 21,
     "metadata": {},
     "output_type": "execute_result"
    }
   ],
   "source": [
    "compute_bleu(model, dev_inp, dev_out)"
   ]
  },
  {
   "cell_type": "markdown",
   "metadata": {
    "colab_type": "text",
    "id": "nQDhGwg4lrtC"
   },
   "source": [
    "### Training loop\n",
    "\n",
    "Training encoder-decoder models isn't that different from any other models: sample batches, compute loss, backprop and update"
   ]
  },
  {
   "cell_type": "code",
   "execution_count": 22,
   "metadata": {
    "colab": {},
    "colab_type": "code",
    "id": "yfwIaixHlrtI"
   },
   "outputs": [],
   "source": [
    "from IPython.display import clear_output\n",
    "from tqdm import tqdm, trange\n",
    "metrics = {'train_loss': [], 'dev_bleu': [] }\n",
    "\n",
    "model = BasicModel(inp_voc, out_voc).to(device)\n",
    "opt = torch.optim.Adam(model.parameters(), lr=1e-3)\n",
    "batch_size = 32"
   ]
  },
  {
   "cell_type": "code",
   "execution_count": 23,
   "metadata": {
    "colab": {},
    "colab_type": "code",
    "id": "LlDT6eDUlrtL",
    "scrolled": true
   },
   "outputs": [
    {
     "data": {
      "image/png": "[encoded data removed]",
      "text/plain": [
       "<Figure size 864x288 with 2 Axes>"
      ]
     },
     "metadata": {
      "needs_background": "light"
     },
     "output_type": "display_data"
    },
    {
     "name": "stdout",
     "output_type": "stream",
     "text": [
      "Mean loss=2.235\n"
     ]
    },
    {
     "name": "stderr",
     "output_type": "stream",
     "text": [
      "100%|█████████████████████████████████████████████████████████████████████████████| 10000/10000 [13:45<00:00, 12.12it/s]\n"
     ]
    }
   ],
   "source": [
    "for _ in trange(10000):\n",
    "    step = len(metrics['train_loss']) + 1\n",
    "    batch_ix = np.random.randint(len(train_inp), size=batch_size)\n",
    "    batch_inp = inp_voc.to_matrix(train_inp[batch_ix]).to(device)\n",
    "    batch_out = out_voc.to_matrix(train_out[batch_ix]).to(device)\n",
    "    \n",
    "    # <YOUR CODE: training step using batch_inp and batch_out>\n",
    "    loss_t = compute_loss(model, batch_inp, batch_out)\n",
    "    opt.zero_grad()\n",
    "    loss_t.backward()\n",
    "    opt.step()\n",
    "    \n",
    "    metrics['train_loss'].append((step, loss_t.item()))\n",
    "    \n",
    "    if step % 100 == 0:\n",
    "        metrics['dev_bleu'].append((step, compute_bleu(model, dev_inp, dev_out)))\n",
    "        \n",
    "        clear_output(True)\n",
    "        plt.figure(figsize=(12,4))\n",
    "        for i, (name, history) in enumerate(sorted(metrics.items())):\n",
    "            plt.subplot(1, len(metrics), i + 1)\n",
    "            plt.title(name)\n",
    "            plt.plot(*zip(*history))\n",
    "            plt.grid()\n",
    "        plt.show()\n",
    "        print(\"Mean loss=%.3f\" % np.mean(metrics['train_loss'][-10:], axis=0)[1], flush=True)\n",
    "        \n",
    "# Note: it's okay if bleu oscillates up and down as long as it gets better on average over long term (e.g. 5k batches)"
   ]
  },
  {
   "cell_type": "code",
   "execution_count": 24,
   "metadata": {
    "colab": {},
    "colab_type": "code",
    "id": "2ahuhKVhlrtP"
   },
   "outputs": [],
   "source": [
    "assert np.mean(metrics['dev_bleu'][-10:], axis=0)[1] > 15, \"We kind of need a higher bleu BLEU from you. Kind of right now.\""
   ]
  },
  {
   "cell_type": "code",
   "execution_count": 25,
   "metadata": {
    "colab": {},
    "colab_type": "code",
    "id": "KyaHOpealrtS"
   },
   "outputs": [
    {
     "name": "stdout",
     "output_type": "stream",
     "text": [
      "в распоряжении гостей общая кухня и общая гостиная .\n",
      "there is a shared kitchen and a shared kitchen .\n",
      "\n",
      "кроме того , предоставляется прокат велосипедов , услуги трансфера и бесплатная парковка .\n",
      "the property offers free parking and bicycle rental .\n",
      "\n",
      "расстояние до города ки@@ сси@@ м@@ ми составляет 26 км .\n",
      "the city of thessaloniki is 7 km away .\n",
      "\n",
      "апартаменты в пент@@ хаусе с общим открытым бассейном , садом , кондиционером и террасой для загара расположены в 5 минутах ходьбы от пляжа на курорте ка@@ бо - рой .\n",
      "located in the centre of split , 5 - star apartment is a 5 - minute walk from the beach and a 5 - minute walk from the beach .\n",
      "\n",
      "апартаменты mo@@ s@@ co@@ w point - loft red square находятся в москве , в 200 метрах от большого театра .\n",
      "apartment on moskov@@ skaya is a self - catering accommodation located in the centre of saint - tropez , just 400 metres from the property .\n",
      "\n",
      "в вашем распоряжении собственная ванная комната с душем и полотенцами .\n",
      "private bathroom also comes with a shower and a hairdryer .\n",
      "\n"
     ]
    }
   ],
   "source": [
    "for inp_line, trans_line in zip(dev_inp[::500], model.translate_lines(dev_inp[::500])[0]):\n",
    "    print(inp_line)\n",
    "    print(trans_line)\n",
    "    print()"
   ]
  },
  {
   "cell_type": "markdown",
   "metadata": {
    "colab_type": "text",
    "id": "Tv0s8qxOXp5y"
   },
   "source": [
    "# Homework code templates will appear here soon!"
   ]
  },
  {
   "cell_type": "markdown",
   "metadata": {
    "colab_type": "text",
    "id": "edk_oVg0lrtW"
   },
   "source": [
    "### Your Attention Required\n",
    "\n",
    "In this section we want you to improve over the basic model by implementing a simple attention mechanism.\n",
    "\n",
    "This is gonna be a two-parter: building the __attention layer__ and using it for an __attentive seq2seq model__."
   ]
  },
  {
   "cell_type": "markdown",
   "metadata": {
    "colab_type": "text",
    "id": "Qz9aROAIlrtX"
   },
   "source": [
    "### Attention layer (3 points)\n",
    "\n",
    "Here you will have to implement a layer that computes a simple additive attention:\n",
    "\n",
    "Given encoder sequence $ h^e_0, h^e_1, h^e_2, ..., h^e_T$ and a single decoder state $h^d$,\n",
    "\n",
    "* Compute logits with a 2-layer neural network\n",
    "$$a_t = linear_{out}(tanh(linear_{e}(h^e_t) + linear_{d}(h_d)))$$\n",
    "* Get probabilities from logits, \n",
    "$$ p_t = {{e ^ {a_t}} \\over { \\sum_\\tau e^{a_\\tau} }} $$\n",
    "\n",
    "* Add up encoder states with probabilities to get __attention response__\n",
    "$$ attn = \\sum_t p_t \\cdot h^e_t $$\n",
    "\n",
    "You can learn more about attention layers in the lecture slides or [from this post](https://distill.pub/2016/augmented-rnns/)."
   ]
  },
  {
   "cell_type": "code",
   "execution_count": 26,
   "metadata": {},
   "outputs": [],
   "source": [
    "class AttentionLayer(nn.Module):\n",
    "    def __init__(self, name, enc_size, dec_size, hid_size, activ=torch.tanh):\n",
    "        \"\"\" A layer that computes additive attention response and weights \"\"\"\n",
    "        super().__init__()\n",
    "        self.name = name\n",
    "        self.enc_size = enc_size # num units in encoder state\n",
    "        self.dec_size = dec_size # num units in decoder state\n",
    "        self.hid_size = hid_size # attention layer hidden units\n",
    "        self.activ = activ       # attention layer hidden nonlinearity\n",
    "        \n",
    "        # create trainable paramteres like this:\n",
    "        # self.<PARAMETER_NAME> = nn.Parameter(<INITIAL_VALUES>, requires_grad=True)\n",
    "        # <...>  # you will need a couple of these\n",
    "        self.lin_1 = nn.Linear(enc_size, hid_size)\n",
    "        self.lin_2 = nn.Linear(dec_size, hid_size)\n",
    "        self.lin_3 = nn.Linear(hid_size, 1)\n",
    "        \n",
    "\n",
    "    def forward(self, enc, dec, inp_mask):\n",
    "        \"\"\"\n",
    "        Computes attention response and weights\n",
    "        :param enc: encoder activation sequence, float32[batch_size, ninp, enc_size]\n",
    "        :param dec: single decoder state used as \"query\", float32[batch_size, dec_size]\n",
    "        :param inp_mask: mask on enc activatons (0 after first eos), float32 [batch_size, ninp]\n",
    "        :returns: attn[batch_size, enc_size], probs[batch_size, ninp]\n",
    "            - attn - attention response vector (weighted sum of enc)\n",
    "            - probs - attention weights after softmax\n",
    "        \"\"\"\n",
    "\n",
    "        # Compute logits\n",
    "        # <...>\n",
    "        batch_size, n_inp, enc_size = enc.shape\n",
    "\n",
    "        tmp = self.lin_2(dec)\n",
    "        tmp = tmp.reshape(-1, 1, self.hid_size)\n",
    "        \n",
    "        logits = self.lin_1(enc)\n",
    "        logits = self.activ(logits + tmp)\n",
    "        logits = self.lin_3(logits)\n",
    "\n",
    "        # Apply mask - if mask is 0, logits should be -inf or -1e9\n",
    "        # You may need torch.where\n",
    "        # <...>\n",
    "        logits[torch.where(inp_mask == False)] = -1e9\n",
    "\n",
    "        # Compute attention probabilities (softmax)\n",
    "        # probs = <...>\n",
    "        probs = F.softmax(logits.reshape(batch_size, n_inp), dim=-1)\n",
    "\n",
    "        # Compute attention response using enc and probs\n",
    "        # attn = <...>\n",
    "        attn = (probs.reshape(batch_size, n_inp, 1) * enc).sum(axis=1)\n",
    "\n",
    "        return attn, probs"
   ]
  },
  {
   "cell_type": "markdown",
   "metadata": {
    "colab_type": "text",
    "id": "IalfpdAelrtb"
   },
   "source": [
    "### Seq2seq model with attention (3 points)\n",
    "\n",
    "You can now use the attention layer to build a network. The simplest way to implement attention is to use it in decoder phase:\n",
    "![img](https://i.imgur.com/6fKHlHb.png)\n",
    "_image from distill.pub [article](https://distill.pub/2016/augmented-rnns/)_\n",
    "\n",
    "On every step, use __previous__ decoder state to obtain attention response. Then feed concat this response to the inputs of next attention layer.\n",
    "\n",
    "The key implementation detail here is __model state__. Put simply, you can add any tensor into the list of `encode` outputs. You will then have access to them at each `decode` step. This may include:\n",
    "* Last RNN hidden states (as in basic model)\n",
    "* The whole sequence of encoder outputs (to attend to) and mask\n",
    "* Attention probabilities (to visualize)\n",
    "\n",
    "_There are, of course, alternative ways to wire attention into your network and different kinds of attention. Take a look at [this](https://arxiv.org/abs/1609.08144), [this](https://arxiv.org/abs/1706.03762) and [this](https://arxiv.org/abs/1808.03867) for ideas. And for image captioning/im2latex there's [visual attention](https://arxiv.org/abs/1502.03044)_"
   ]
  },
  {
   "cell_type": "code",
   "execution_count": 34,
   "metadata": {
    "colab": {},
    "colab_type": "code",
    "id": "NCKPB5JmcE6j"
   },
   "outputs": [],
   "source": [
    "class AttentiveModel(BasicModel):\n",
    "    def __init__(self, name, inp_voc, out_voc,\n",
    "                 emb_size=64, hid_size=128, attn_size=128):\n",
    "        \"\"\" Translation model that uses attention. See instructions above. \"\"\"\n",
    "        # nn.Module.__init__(self)  # initialize base class to track sub-layers, trainable variables, etc.\n",
    "        super().__init__(inp_voc, out_voc, emb_size, hid_size)\n",
    "        \n",
    "        self.inp_voc, self.out_voc = inp_voc, out_voc\n",
    "        self.hid_size = hid_size\n",
    "        \n",
    "        # <YOUR CODE: initialize layers>\n",
    "        self.attn = AttentionLayer('AttentionLayer', hid_size, hid_size, attn_size)\n",
    "        self.dec0 = nn.GRUCell(emb_size + hid_size, hid_size)\n",
    "\n",
    "    def encode(self, inp, **flags):\n",
    "        \"\"\"\n",
    "        Takes symbolic input sequence, computes initial state\n",
    "        :param inp: matrix of input tokens [batch, time]\n",
    "        :return: a list of initial decoder state tensors\n",
    "        \"\"\"\n",
    "        \n",
    "        # encode input sequence, create initial decoder states\n",
    "        # <YOUR CODE>\n",
    "        inp_emb = self.emb_inp(inp)\n",
    "        enc_seq, [last_state_but_not_really] = self.enc0(inp_emb)\n",
    "        enc_mask = self.out_voc.compute_mask(inp)\n",
    "        [dec_start] = super().encode(inp, *flags)\n",
    "        \n",
    "        # apply attention layer from initial decoder hidden state\n",
    "        # first_attn_probas = <...>\n",
    "        first_attn_probas = self.attn(enc_seq, dec_start, enc_mask)[1]\n",
    "        \n",
    "        # Build first state: include\n",
    "        # * initial states for decoder recurrent layers\n",
    "        # * encoder sequence and encoder attn mask (for attention)\n",
    "        # * make sure that last state item is attention probabilities tensor\n",
    "        \n",
    "        # first_state = [<...>, first_attn_probas]\n",
    "        first_state = [dec_start, enc_seq, enc_mask, first_attn_probas]\n",
    "        return first_state\n",
    "   \n",
    "    def decode_step(self, prev_state, prev_tokens, **flags):\n",
    "        \"\"\"\n",
    "        Takes previous decoder state and tokens, returns new state and logits for next tokens\n",
    "        :param prev_state: a list of previous decoder state tensors\n",
    "        :param prev_tokens: previous output tokens, an int vector of [batch_size]\n",
    "        :return: a list of next decoder state tensors, a tensor of logits [batch, n_tokens]\n",
    "        \"\"\"\n",
    "        \n",
    "        # <YOUR CODE HERE>\n",
    "        prev_gru0_state, enc_seq, enc_mask, _ = prev_state\n",
    "        attn, attn_prob = self.attn(enc_seq, prev_gru0_state, enc_mask)\n",
    "        prev_emb_out = self.emb_out(prev_tokens)\n",
    "        prev_emb_out = self.dec0(torch.cat([attn, prev_emb_out], dim=-1), prev_gru0_state)\n",
    "\n",
    "        new_dec_state = [prev_emb_out, enc_seq, enc_mask, attn_prob]\n",
    "        output_logits = self.logits(prev_emb_out)\n",
    "        \n",
    "        # return [new_dec_state, output_logits]\n",
    "        return new_dec_state, output_logits"
   ]
  },
  {
   "cell_type": "markdown",
   "metadata": {
    "colab_type": "text",
    "id": "ryZCOTEslrtf"
   },
   "source": [
    "### Training attentive model\n",
    "\n",
    "Please reuse the infrastructure you've built for the regular model. I hope you didn't hard-code anything :)"
   ]
  },
  {
   "cell_type": "code",
   "execution_count": 28,
   "metadata": {
    "colab": {},
    "colab_type": "code",
    "id": "-YMHPgZxcFaQ"
   },
   "outputs": [],
   "source": [
    "# <YOUR CODE: create AttentiveModel and training utilities>\n",
    "metrics = {'train_loss': [], 'dev_bleu': [] }\n",
    "\n",
    "model = AttentiveModel('AttentiveModel', inp_voc, out_voc).to(device)\n",
    "\n",
    "opt = torch.optim.Adam(model.parameters(), lr=1e-3)\n",
    "batch_size = 32"
   ]
  },
  {
   "cell_type": "code",
   "execution_count": 29,
   "metadata": {},
   "outputs": [
    {
     "data": {
      "image/png": "[encoded data removed]",
      "text/plain": [
       "<Figure size 864x288 with 2 Axes>"
      ]
     },
     "metadata": {
      "needs_background": "light"
     },
     "output_type": "display_data"
    },
    {
     "name": "stdout",
     "output_type": "stream",
     "text": [
      "Mean loss=2.028\n"
     ]
    },
    {
     "name": "stderr",
     "output_type": "stream",
     "text": [
      "100%|█████████████████████████████████████████████████████████████████████████████| 10000/10000 [37:49<00:00,  4.41it/s]\n"
     ]
    }
   ],
   "source": [
    "for _ in trange(10000):\n",
    "    step = len(metrics['train_loss']) + 1\n",
    "    batch_ix = np.random.randint(len(train_inp), size=batch_size)\n",
    "    batch_inp = inp_voc.to_matrix(train_inp[batch_ix]).to(device)\n",
    "    batch_out = out_voc.to_matrix(train_out[batch_ix]).to(device)\n",
    "\n",
    "    loss_t = compute_loss(model, batch_inp, batch_out)\n",
    "    opt.zero_grad()\n",
    "    loss_t.backward()\n",
    "    opt.step()\n",
    "\n",
    "    metrics['train_loss'].append((step, loss_t.item()))\n",
    "\n",
    "    if step % 100 == 0:\n",
    "        metrics['dev_bleu'].append((step, compute_bleu(model, dev_inp, dev_out)))\n",
    "\n",
    "        clear_output(True)\n",
    "        plt.figure(figsize=(12,4))\n",
    "        for i, (name, history) in enumerate(sorted(metrics.items())):\n",
    "            plt.subplot(1, len(metrics), i + 1)\n",
    "            plt.title(name)\n",
    "            plt.plot(*zip(*history))\n",
    "            plt.grid()\n",
    "        plt.show()\n",
    "\n",
    "        print(\"Mean loss=%.3f\" % np.mean(metrics['train_loss'][-10:], axis=0)[1], flush=True)"
   ]
  },
  {
   "cell_type": "code",
   "execution_count": 30,
   "metadata": {},
   "outputs": [
    {
     "name": "stdout",
     "output_type": "stream",
     "text": [
      "Current BLEU:  22.49635851382238\n"
     ]
    }
   ],
   "source": [
    "# <YOUR CODE: measure final BLEU>\n",
    "print(\"Current BLEU: \", compute_bleu(model, dev_inp, dev_out))"
   ]
  },
  {
   "cell_type": "markdown",
   "metadata": {},
   "source": [
    "### Visualizing model attention (2 points)\n",
    "\n",
    "After training the attentive translation model, you can check it's sanity by visualizing its attention weights.\n",
    "\n",
    "We provided you with a function that draws attention maps using [`Bokeh`](https://bokeh.pydata.org/en/latest/index.html). Once you managed to produce something better than random noise, please save at least 3 attention maps and __submit them to anytask__ alongside this notebook to get the max grade. Saving bokeh figures as __cell outputs is not enough!__ (TAs can't see saved bokeh figures in anytask). You can save bokeh images as screenshots or using this button:\n",
    "\n",
    "![bokeh_panel](https://github.com/yandexdataschool/nlp_course/raw/2019/resources/bokeh_panel.png)\n",
    "\n",
    "__Note:__ you're not locked into using bokeh. If you prefer a different visualization method, feel free to use that instead of bokeh."
   ]
  },
  {
   "cell_type": "code",
   "execution_count": 31,
   "metadata": {},
   "outputs": [
    {
     "data": {
      "text/html": [
       "<div class=\"bk-root\">\n",
       "        <a href=\"https://bokeh.org\" target=\"_blank\" class=\"bk-logo bk-logo-small bk-logo-notebook\"></a>\n",
       "        <span id=\"1002\">Loading BokehJS ...</span>\n",
       "    </div>\n"
      ]
     },
     "metadata": {},
     "output_type": "display_data"
    },
    {
     "data": {
      "application/javascript": [
       "(function(root) {\n",
       "  function now() {\n",
       "    return new Date();\n",
       "  }\n",
       "\n",
       "  const force = true;\n",
       "\n",
       "  if (typeof root._bokeh_onload_callbacks === \"undefined\" || force === true) {\n",
       "    root._bokeh_onload_callbacks = [];\n",
       "    root._bokeh_is_loading = undefined;\n",
       "  }\n",
       "\n",
       "const JS_MIME_TYPE = 'application/javascript';\n",
       "  const HTML_MIME_TYPE = 'text/html';\n",
       "  const EXEC_MIME_TYPE = 'application/vnd.bokehjs_exec.v0+json';\n",
       "  const CLASS_NAME = 'output_bokeh rendered_html';\n",
       "\n",
       "  /**\n",
       "   * Render data to the DOM node\n",
       "   */\n",
       "  function render(props, node) {\n",
       "    const script = document.createElement(\"script\");\n",
       "    node.appendChild(script);\n",
       "  }\n",
       "\n",
       "  /**\n",
       "   * Handle when an output is cleared or removed\n",
       "   */\n",
       "  function handleClearOutput(event, handle) {\n",
       "    const cell = handle.cell;\n",
       "\n",
       "    const id = cell.output_area._bokeh_element_id;\n",
       "    const server_id = cell.output_area._bokeh_server_id;\n",
       "    // Clean up Bokeh references\n",
       "    if (id != null && id in Bokeh.index) {\n",
       "      Bokeh.index[id].model.document.clear();\n",
       "      delete Bokeh.index[id];\n",
       "    }\n",
       "\n",
       "    if (server_id !== undefined) {\n",
       "      // Clean up Bokeh references\n",
       "      const cmd_clean = \"from bokeh.io.state import curstate; print(curstate().uuid_to_server['\" + server_id + \"'].get_sessions()[0].document.roots[0]._id)\";\n",
       "      cell.notebook.kernel.execute(cmd_clean, {\n",
       "        iopub: {\n",
       "          output: function(msg) {\n",
       "            const id = msg.content.text.trim();\n",
       "            if (id in Bokeh.index) {\n",
       "              Bokeh.index[id].model.document.clear();\n",
       "              delete Bokeh.index[id];\n",
       "            }\n",
       "          }\n",
       "        }\n",
       "      });\n",
       "      // Destroy server and session\n",
       "      const cmd_destroy = \"import bokeh.io.notebook as ion; ion.destroy_server('\" + server_id + \"')\";\n",
       "      cell.notebook.kernel.execute(cmd_destroy);\n",
       "    }\n",
       "  }\n",
       "\n",
       "  /**\n",
       "   * Handle when a new output is added\n",
       "   */\n",
       "  function handleAddOutput(event, handle) {\n",
       "    const output_area = handle.output_area;\n",
       "    const output = handle.output;\n",
       "\n",
       "    // limit handleAddOutput to display_data with EXEC_MIME_TYPE content only\n",
       "    if ((output.output_type != \"display_data\") || (!Object.prototype.hasOwnProperty.call(output.data, EXEC_MIME_TYPE))) {\n",
       "      return\n",
       "    }\n",
       "\n",
       "    const toinsert = output_area.element.find(\".\" + CLASS_NAME.split(' ')[0]);\n",
       "\n",
       "    if (output.metadata[EXEC_MIME_TYPE][\"id\"] !== undefined) {\n",
       "      toinsert[toinsert.length - 1].firstChild.textContent = output.data[JS_MIME_TYPE];\n",
       "      // store reference to embed id on output_area\n",
       "      output_area._bokeh_element_id = output.metadata[EXEC_MIME_TYPE][\"id\"];\n",
       "    }\n",
       "    if (output.metadata[EXEC_MIME_TYPE][\"server_id\"] !== undefined) {\n",
       "      const bk_div = document.createElement(\"div\");\n",
       "      bk_div.innerHTML = output.data[HTML_MIME_TYPE];\n",
       "      const script_attrs = bk_div.children[0].attributes;\n",
       "      for (let i = 0; i < script_attrs.length; i++) {\n",
       "        toinsert[toinsert.length - 1].firstChild.setAttribute(script_attrs[i].name, script_attrs[i].value);\n",
       "        toinsert[toinsert.length - 1].firstChild.textContent = bk_div.children[0].textContent\n",
       "      }\n",
       "      // store reference to server id on output_area\n",
       "      output_area._bokeh_server_id = output.metadata[EXEC_MIME_TYPE][\"server_id\"];\n",
       "    }\n",
       "  }\n",
       "\n",
       "  function register_renderer(events, OutputArea) {\n",
       "\n",
       "    function append_mime(data, metadata, element) {\n",
       "      // create a DOM node to render to\n",
       "      const toinsert = this.create_output_subarea(\n",
       "        metadata,\n",
       "        CLASS_NAME,\n",
       "        EXEC_MIME_TYPE\n",
       "      );\n",
       "      this.keyboard_manager.register_events(toinsert);\n",
       "      // Render to node\n",
       "      const props = {data: data, metadata: metadata[EXEC_MIME_TYPE]};\n",
       "      render(props, toinsert[toinsert.length - 1]);\n",
       "      element.append(toinsert);\n",
       "      return toinsert\n",
       "    }\n",
       "\n",
       "    /* Handle when an output is cleared or removed */\n",
       "    events.on('clear_output.CodeCell', handleClearOutput);\n",
       "    events.on('delete.Cell', handleClearOutput);\n",
       "\n",
       "    /* Handle when a new output is added */\n",
       "    events.on('output_added.OutputArea', handleAddOutput);\n",
       "\n",
       "    /**\n",
       "     * Register the mime type and append_mime function with output_area\n",
       "     */\n",
       "    OutputArea.prototype.register_mime_type(EXEC_MIME_TYPE, append_mime, {\n",
       "      /* Is output safe? */\n",
       "      safe: true,\n",
       "      /* Index of renderer in `output_area.display_order` */\n",
       "      index: 0\n",
       "    });\n",
       "  }\n",
       "\n",
       "  // register the mime type if in Jupyter Notebook environment and previously unregistered\n",
       "  if (root.Jupyter !== undefined) {\n",
       "    const events = require('base/js/events');\n",
       "    const OutputArea = require('notebook/js/outputarea').OutputArea;\n",
       "\n",
       "    if (OutputArea.prototype.mime_types().indexOf(EXEC_MIME_TYPE) == -1) {\n",
       "      register_renderer(events, OutputArea);\n",
       "    }\n",
       "  }\n",
       "  if (typeof (root._bokeh_timeout) === \"undefined\" || force === true) {\n",
       "    root._bokeh_timeout = Date.now() + 5000;\n",
       "    root._bokeh_failed_load = false;\n",
       "  }\n",
       "\n",
       "  const NB_LOAD_WARNING = {'data': {'text/html':\n",
       "     \"<div style='background-color: #fdd'>\\n\"+\n",
       "     \"<p>\\n\"+\n",
       "     \"BokehJS does not appear to have successfully loaded. If loading BokehJS from CDN, this \\n\"+\n",
       "     \"may be due to a slow or bad network connection. Possible fixes:\\n\"+\n",
       "     \"</p>\\n\"+\n",
       "     \"<ul>\\n\"+\n",
       "     \"<li>re-rerun `output_notebook()` to attempt to load from CDN again, or</li>\\n\"+\n",
       "     \"<li>use INLINE resources instead, as so:</li>\\n\"+\n",
       "     \"</ul>\\n\"+\n",
       "     \"<code>\\n\"+\n",
       "     \"from bokeh.resources import INLINE\\n\"+\n",
       "     \"output_notebook(resources=INLINE)\\n\"+\n",
       "     \"</code>\\n\"+\n",
       "     \"</div>\"}};\n",
       "\n",
       "  function display_loaded() {\n",
       "    const el = document.getElementById(\"1002\");\n",
       "    if (el != null) {\n",
       "      el.textContent = \"BokehJS is loading...\";\n",
       "    }\n",
       "    if (root.Bokeh !== undefined) {\n",
       "      if (el != null) {\n",
       "        el.textContent = \"BokehJS \" + root.Bokeh.version + \" successfully loaded.\";\n",
       "      }\n",
       "    } else if (Date.now() < root._bokeh_timeout) {\n",
       "      setTimeout(display_loaded, 100)\n",
       "    }\n",
       "  }\n",
       "\n",
       "  function run_callbacks() {\n",
       "    try {\n",
       "      root._bokeh_onload_callbacks.forEach(function(callback) {\n",
       "        if (callback != null)\n",
       "          callback();\n",
       "      });\n",
       "    } finally {\n",
       "      delete root._bokeh_onload_callbacks\n",
       "    }\n",
       "    console.debug(\"Bokeh: all callbacks have finished\");\n",
       "  }\n",
       "\n",
       "  function load_libs(css_urls, js_urls, callback) {\n",
       "    if (css_urls == null) css_urls = [];\n",
       "    if (js_urls == null) js_urls = [];\n",
       "\n",
       "    root._bokeh_onload_callbacks.push(callback);\n",
       "    if (root._bokeh_is_loading > 0) {\n",
       "      console.debug(\"Bokeh: BokehJS is being loaded, scheduling callback at\", now());\n",
       "      return null;\n",
       "    }\n",
       "    if (js_urls == null || js_urls.length === 0) {\n",
       "      run_callbacks();\n",
       "      return null;\n",
       "    }\n",
       "    console.debug(\"Bokeh: BokehJS not loaded, scheduling load and callback at\", now());\n",
       "    root._bokeh_is_loading = css_urls.length + js_urls.length;\n",
       "\n",
       "    function on_load() {\n",
       "      root._bokeh_is_loading--;\n",
       "      if (root._bokeh_is_loading === 0) {\n",
       "        console.debug(\"Bokeh: all BokehJS libraries/stylesheets loaded\");\n",
       "        run_callbacks()\n",
       "      }\n",
       "    }\n",
       "\n",
       "    function on_error(url) {\n",
       "      console.error(\"failed to load \" + url);\n",
       "    }\n",
       "\n",
       "    for (let i = 0; i < css_urls.length; i++) {\n",
       "      const url = css_urls[i];\n",
       "      const element = document.createElement(\"link\");\n",
       "      element.onload = on_load;\n",
       "      element.onerror = on_error.bind(null, url);\n",
       "      element.rel = \"stylesheet\";\n",
       "      element.type = \"text/css\";\n",
       "      element.href = url;\n",
       "      console.debug(\"Bokeh: injecting link tag for BokehJS stylesheet: \", url);\n",
       "      document.body.appendChild(element);\n",
       "    }\n",
       "\n",
       "    for (let i = 0; i < js_urls.length; i++) {\n",
       "      const url = js_urls[i];\n",
       "      const element = document.createElement('script');\n",
       "      element.onload = on_load;\n",
       "      element.onerror = on_error.bind(null, url);\n",
       "      element.async = false;\n",
       "      element.src = url;\n",
       "      console.debug(\"Bokeh: injecting script tag for BokehJS library: \", url);\n",
       "      document.head.appendChild(element);\n",
       "    }\n",
       "  };\n",
       "\n",
       "  function inject_raw_css(css) {\n",
       "    const element = document.createElement(\"style\");\n",
       "    element.appendChild(document.createTextNode(css));\n",
       "    document.body.appendChild(element);\n",
       "  }\n",
       "\n",
       "  const js_urls = [\"https://cdn.bokeh.org/bokeh/release/bokeh-2.4.3.min.js\", \"https://cdn.bokeh.org/bokeh/release/bokeh-gl-2.4.3.min.js\", \"https://cdn.bokeh.org/bokeh/release/bokeh-widgets-2.4.3.min.js\", \"https://cdn.bokeh.org/bokeh/release/bokeh-tables-2.4.3.min.js\", \"https://cdn.bokeh.org/bokeh/release/bokeh-mathjax-2.4.3.min.js\"];\n",
       "  const css_urls = [];\n",
       "\n",
       "  const inline_js = [    function(Bokeh) {\n",
       "      Bokeh.set_log_level(\"info\");\n",
       "    },\n",
       "function(Bokeh) {\n",
       "    }\n",
       "  ];\n",
       "\n",
       "  function run_inline_js() {\n",
       "    if (root.Bokeh !== undefined || force === true) {\n",
       "          for (let i = 0; i < inline_js.length; i++) {\n",
       "      inline_js[i].call(root, root.Bokeh);\n",
       "    }\n",
       "if (force === true) {\n",
       "        display_loaded();\n",
       "      }} else if (Date.now() < root._bokeh_timeout) {\n",
       "      setTimeout(run_inline_js, 100);\n",
       "    } else if (!root._bokeh_failed_load) {\n",
       "      console.log(\"Bokeh: BokehJS failed to load within specified timeout.\");\n",
       "      root._bokeh_failed_load = true;\n",
       "    } else if (force !== true) {\n",
       "      const cell = $(document.getElementById(\"1002\")).parents('.cell').data().cell;\n",
       "      cell.output_area.append_execute_result(NB_LOAD_WARNING)\n",
       "    }\n",
       "  }\n",
       "\n",
       "  if (root._bokeh_is_loading === 0) {\n",
       "    console.debug(\"Bokeh: BokehJS loaded, going straight to plotting\");\n",
       "    run_inline_js();\n",
       "  } else {\n",
       "    load_libs(css_urls, js_urls, function() {\n",
       "      console.debug(\"Bokeh: BokehJS plotting callback run at\", now());\n",
       "      run_inline_js();\n",
       "    });\n",
       "  }\n",
       "}(window));"
      ],
      "application/vnd.bokehjs_load.v0+json": "(function(root) {\n  function now() {\n    return new Date();\n  }\n\n  const force = true;\n\n  if (typeof root._bokeh_onload_callbacks === \"undefined\" || force === true) {\n    root._bokeh_onload_callbacks = [];\n    root._bokeh_is_loading = undefined;\n  }\n\n\n  if (typeof (root._bokeh_timeout) === \"undefined\" || force === true) {\n    root._bokeh_timeout = Date.now() + 5000;\n    root._bokeh_failed_load = false;\n  }\n\n  const NB_LOAD_WARNING = {'data': {'text/html':\n     \"<div style='background-color: #fdd'>\\n\"+\n     \"<p>\\n\"+\n     \"BokehJS does not appear to have successfully loaded. If loading BokehJS from CDN, this \\n\"+\n     \"may be due to a slow or bad network connection. Possible fixes:\\n\"+\n     \"</p>\\n\"+\n     \"<ul>\\n\"+\n     \"<li>re-rerun `output_notebook()` to attempt to load from CDN again, or</li>\\n\"+\n     \"<li>use INLINE resources instead, as so:</li>\\n\"+\n     \"</ul>\\n\"+\n     \"<code>\\n\"+\n     \"from bokeh.resources import INLINE\\n\"+\n     \"output_notebook(resources=INLINE)\\n\"+\n     \"</code>\\n\"+\n     \"</div>\"}};\n\n  function display_loaded() {\n    const el = document.getElementById(\"1002\");\n    if (el != null) {\n      el.textContent = \"BokehJS is loading...\";\n    }\n    if (root.Bokeh !== undefined) {\n      if (el != null) {\n        el.textContent = \"BokehJS \" + root.Bokeh.version + \" successfully loaded.\";\n      }\n    } else if (Date.now() < root._bokeh_timeout) {\n      setTimeout(display_loaded, 100)\n    }\n  }\n\n  function run_callbacks() {\n    try {\n      root._bokeh_onload_callbacks.forEach(function(callback) {\n        if (callback != null)\n          callback();\n      });\n    } finally {\n      delete root._bokeh_onload_callbacks\n    }\n    console.debug(\"Bokeh: all callbacks have finished\");\n  }\n\n  function load_libs(css_urls, js_urls, callback) {\n    if (css_urls == null) css_urls = [];\n    if (js_urls == null) js_urls = [];\n\n    root._bokeh_onload_callbacks.push(callback);\n    if (root._bokeh_is_loading > 0) {\n      console.debug(\"Bokeh: BokehJS is being loaded, scheduling callback at\", now());\n      return null;\n    }\n    if (js_urls == null || js_urls.length === 0) {\n      run_callbacks();\n      return null;\n    }\n    console.debug(\"Bokeh: BokehJS not loaded, scheduling load and callback at\", now());\n    root._bokeh_is_loading = css_urls.length + js_urls.length;\n\n    function on_load() {\n      root._bokeh_is_loading--;\n      if (root._bokeh_is_loading === 0) {\n        console.debug(\"Bokeh: all BokehJS libraries/stylesheets loaded\");\n        run_callbacks()\n      }\n    }\n\n    function on_error(url) {\n      console.error(\"failed to load \" + url);\n    }\n\n    for (let i = 0; i < css_urls.length; i++) {\n      const url = css_urls[i];\n      const element = document.createElement(\"link\");\n      element.onload = on_load;\n      element.onerror = on_error.bind(null, url);\n      element.rel = \"stylesheet\";\n      element.type = \"text/css\";\n      element.href = url;\n      console.debug(\"Bokeh: injecting link tag for BokehJS stylesheet: \", url);\n      document.body.appendChild(element);\n    }\n\n    for (let i = 0; i < js_urls.length; i++) {\n      const url = js_urls[i];\n      const element = document.createElement('script');\n      element.onload = on_load;\n      element.onerror = on_error.bind(null, url);\n      element.async = false;\n      element.src = url;\n      console.debug(\"Bokeh: injecting script tag for BokehJS library: \", url);\n      document.head.appendChild(element);\n    }\n  };\n\n  function inject_raw_css(css) {\n    const element = document.createElement(\"style\");\n    element.appendChild(document.createTextNode(css));\n    document.body.appendChild(element);\n  }\n\n  const js_urls = [\"https://cdn.bokeh.org/bokeh/release/bokeh-2.4.3.min.js\", \"https://cdn.bokeh.org/bokeh/release/bokeh-gl-2.4.3.min.js\", \"https://cdn.bokeh.org/bokeh/release/bokeh-widgets-2.4.3.min.js\", \"https://cdn.bokeh.org/bokeh/release/bokeh-tables-2.4.3.min.js\", \"https://cdn.bokeh.org/bokeh/release/bokeh-mathjax-2.4.3.min.js\"];\n  const css_urls = [];\n\n  const inline_js = [    function(Bokeh) {\n      Bokeh.set_log_level(\"info\");\n    },\nfunction(Bokeh) {\n    }\n  ];\n\n  function run_inline_js() {\n    if (root.Bokeh !== undefined || force === true) {\n          for (let i = 0; i < inline_js.length; i++) {\n      inline_js[i].call(root, root.Bokeh);\n    }\nif (force === true) {\n        display_loaded();\n      }} else if (Date.now() < root._bokeh_timeout) {\n      setTimeout(run_inline_js, 100);\n    } else if (!root._bokeh_failed_load) {\n      console.log(\"Bokeh: BokehJS failed to load within specified timeout.\");\n      root._bokeh_failed_load = true;\n    } else if (force !== true) {\n      const cell = $(document.getElementById(\"1002\")).parents('.cell').data().cell;\n      cell.output_area.append_execute_result(NB_LOAD_WARNING)\n    }\n  }\n\n  if (root._bokeh_is_loading === 0) {\n    console.debug(\"Bokeh: BokehJS loaded, going straight to plotting\");\n    run_inline_js();\n  } else {\n    load_libs(css_urls, js_urls, function() {\n      console.debug(\"Bokeh: BokehJS plotting callback run at\", now());\n      run_inline_js();\n    });\n  }\n}(window));"
     },
     "metadata": {},
     "output_type": "display_data"
    }
   ],
   "source": [
    "import bokeh.plotting as pl\n",
    "import bokeh.models as bm\n",
    "from bokeh.io import output_notebook, show\n",
    "output_notebook()\n",
    "\n",
    "def draw_attention(inp_line, translation, probs):\n",
    "    \"\"\" An intentionally ambiguous function to visualize attention weights \"\"\"\n",
    "    inp_tokens = inp_voc.tokenize(inp_line)\n",
    "    trans_tokens = out_voc.tokenize(translation)\n",
    "    probs = probs[:len(trans_tokens), :len(inp_tokens)]\n",
    "    \n",
    "    fig = pl.figure(x_range=(0, len(inp_tokens)), y_range=(0, len(trans_tokens)),\n",
    "                    x_axis_type=None, y_axis_type=None, tools=[])\n",
    "    fig.image([probs[::-1]], 0, 0, len(inp_tokens), len(trans_tokens))\n",
    "\n",
    "    fig.add_layout(bm.LinearAxis(axis_label='source tokens'), 'above')\n",
    "    fig.xaxis.ticker = np.arange(len(inp_tokens)) + 0.5\n",
    "    fig.xaxis.major_label_overrides = dict(zip(np.arange(len(inp_tokens)) + 0.5, inp_tokens))\n",
    "    fig.xaxis.major_label_orientation = 45\n",
    "\n",
    "    fig.add_layout(bm.LinearAxis(axis_label='translation tokens'), 'left')\n",
    "    fig.yaxis.ticker = np.arange(len(trans_tokens)) + 0.5\n",
    "    fig.yaxis.major_label_overrides = dict(zip(np.arange(len(trans_tokens)) + 0.5, trans_tokens[::-1]))\n",
    "\n",
    "    show(fig)"
   ]
  },
  {
   "cell_type": "code",
   "execution_count": 32,
   "metadata": {},
   "outputs": [],
   "source": [
    "inp = dev_inp[::500]\n",
    "\n",
    "trans, states = model.translate_lines(inp)\n",
    "\n",
    "# select attention probs from model state (you may need to change this for your custom model)\n",
    "# attention_probs below must have shape [batch_size, translation_length, input_length], extracted from states\n",
    "# e.g. if attention probs are at the end of each state, use np.stack([state[-1] for state in states], axis=1)\n",
    "# attention_probs = <YOUR CODE>\n",
    "attention_probs = np.stack([state[-1].detach().cpu().numpy() for state in states], axis=1)"
   ]
  },
  {
   "cell_type": "code",
   "execution_count": 33,
   "metadata": {},
   "outputs": [
    {
     "data": {
      "text/html": [
       "\n",
       "  <div class=\"bk-root\" id=\"663215f4-63c8-4978-a326-bd6862b47400\" data-root-id=\"1003\"></div>\n"
      ]
     },
     "metadata": {},
     "output_type": "display_data"
    },
    {
     "data": {
      "application/javascript": [
       "(function(root) {\n",
       "  function embed_document(root) {\n",
       "  const docs_json = {\"7d8c1918-4166-41a5-9c14-186de069e72a\":{\"defs\":[],\"roots\":{\"references\":[{\"attributes\":{\"above\":[{\"id\":\"1025\"}],\"left\":[{\"id\":\"1028\"}],\"renderers\":[{\"id\":\"1023\"}],\"title\":{\"id\":\"1031\"},\"toolbar\":{\"id\":\"1012\"},\"x_range\":{\"id\":\"1004\"},\"x_scale\":{\"id\":\"1008\"},\"y_range\":{\"id\":\"1006\"},\"y_scale\":{\"id\":\"1010\"}},\"id\":\"1003\",\"subtype\":\"Figure\",\"type\":\"Plot\"},{\"attributes\":{\"end\":11},\"id\":\"1004\",\"type\":\"Range1d\"},{\"attributes\":{},\"id\":\"1033\",\"type\":\"BasicTickFormatter\"},{\"attributes\":{\"ticks\":[0.5,1.5,2.5,3.5,4.5,5.5,6.5,7.5,8.5,9.5,10.5,11.5,12.5,13.5]},\"id\":\"1029\",\"type\":\"FixedTicker\"},{\"attributes\":{\"palette\":[\"#000000\",\"#252525\",\"#525252\",\"#737373\",\"#969696\",\"#bdbdbd\",\"#d9d9d9\",\"#f0f0f0\",\"#ffffff\"]},\"id\":\"1021\",\"type\":\"LinearColorMapper\"},{\"attributes\":{\"end\":14},\"id\":\"1006\",\"type\":\"Range1d\"},{\"attributes\":{\"color_mapper\":{\"id\":\"1018\"},\"dh\":{\"value\":14},\"dw\":{\"value\":11},\"global_alpha\":{\"value\":0.1},\"image\":{\"field\":\"image\"},\"x\":{\"value\":0},\"y\":{\"value\":0}},\"id\":\"1017\",\"type\":\"Image\"},{\"attributes\":{},\"id\":\"1012\",\"type\":\"Toolbar\"},{\"attributes\":{},\"id\":\"1008\",\"type\":\"LinearScale\"},{\"attributes\":{\"color_mapper\":{\"id\":\"1015\"},\"dh\":{\"value\":14},\"dw\":{\"value\":11},\"image\":{\"field\":\"image\"},\"x\":{\"value\":0},\"y\":{\"value\":0}},\"id\":\"1014\",\"type\":\"Image\"},{\"attributes\":{\"ticks\":[0.5,1.5,2.5,3.5,4.5,5.5,6.5,7.5,8.5,9.5,10.5]},\"id\":\"1026\",\"type\":\"FixedTicker\"},{\"attributes\":{\"source\":{\"id\":\"1013\"}},\"id\":\"1024\",\"type\":\"CDSView\"},{\"attributes\":{\"palette\":[\"#000000\",\"#252525\",\"#525252\",\"#737373\",\"#969696\",\"#bdbdbd\",\"#d9d9d9\",\"#f0f0f0\",\"#ffffff\"]},\"id\":\"1018\",\"type\":\"LinearColorMapper\"},{\"attributes\":{\"axis_label\":\"source tokens\",\"coordinates\":null,\"formatter\":{\"id\":\"1035\"},\"group\":null,\"major_label_orientation\":45,\"major_label_overrides\":{\"0.5\":\"_BOS_\",\"1.5\":\"\\u0432\",\"10.5\":\"_EOS_\",\"2.5\":\"\\u0440\\u0430\\u0441\\u043f\\u043e\\u0440\\u044f\\u0436\\u0435\\u043d\\u0438\\u0438\",\"3.5\":\"\\u0433\\u043e\\u0441\\u0442\\u0435\\u0439\",\"4.5\":\"\\u043e\\u0431\\u0449\\u0430\\u044f\",\"5.5\":\"\\u043a\\u0443\\u0445\\u043d\\u044f\",\"6.5\":\"\\u0438\",\"7.5\":\"\\u043e\\u0431\\u0449\\u0430\\u044f\",\"8.5\":\"\\u0433\\u043e\\u0441\\u0442\\u0438\\u043d\\u0430\\u044f\",\"9.5\":\".\"},\"major_label_policy\":{\"id\":\"1036\"},\"ticker\":{\"id\":\"1026\"}},\"id\":\"1025\",\"type\":\"LinearAxis\"},{\"attributes\":{},\"id\":\"1035\",\"type\":\"BasicTickFormatter\"},{\"attributes\":{\"axis_label\":\"translation tokens\",\"coordinates\":null,\"formatter\":{\"id\":\"1033\"},\"group\":null,\"major_label_overrides\":{\"0.5\":\"_EOS_\",\"1.5\":\".\",\"10.5\":\"a\",\"11.5\":\"is\",\"12.5\":\"there\",\"13.5\":\"_BOS_\",\"2.5\":\"property\",\"3.5\":\"the\",\"4.5\":\"at\",\"5.5\":\"kitchen\",\"6.5\":\"shared\",\"7.5\":\"and\",\"8.5\":\"kitchen\",\"9.5\":\"shared\"},\"major_label_policy\":{\"id\":\"1034\"},\"ticker\":{\"id\":\"1029\"}},\"id\":\"1028\",\"type\":\"LinearAxis\"},{\"attributes\":{\"coordinates\":null,\"group\":null},\"id\":\"1031\",\"type\":\"Title\"},{\"attributes\":{\"data\":{\"image\":[{\"__ndarray__\":\"0HYMPT1FLTvrTr48is1xPNbPkj06TZc89YGMPTUBrT1lbOM9gcnXPiPqGD5xnLM9eF4JPD/5oTqZX4U7TbkqPCGKBTzh2bk8OlBYPJU7Gj0xAuM9HhYyP0XVMD0PVfw7q0bUO5bm9TveRkU85EYmPAyHSz2188c8EFJSPZnjdz5aoQs/rmHZO5lpFjtNVLw7BkerOkDO4zzQZxU8n5mpPIly3j7L8ww+F1CaPk+WWD0ifi88Jh2nOx4riTyJSB07dI4rPGKSJzsSDbc8xT2VPg/SIT4eSLM+Ch4FPvFzOzZRixw3xkOCN/vo+DbIuC45rvzZOQDwWjzUGiw+RkMxPmHSwD4kVok+k3nJOOvq3ThX7Us65YU0Oe9dDjytECE8e1nfPVohBD/LsFM+C3HbPYX+KD1iNE06529iO3+nJDznvoM6eKXPPJ/ZET3Xu8I+gf+XPrMXAT7jpTg9T2iaPYvAYjkNpx47AcWTO8T+KzoegcY8LW/fPMq3MT/928w9mudBPYmy6jxETpA9kUaNOaSZtDo5Nsc7f4TQOkSJMD57lAk+mHMVP8iIET0ODsE8Ez+cPOvrszwf67A7a2ZUPPlpHz3brIk8gmtAPkE2uz1ISY8+eURlPsL6dj1T6kI9zSwPPYBJlDv/lA88AS7CPHPFszssImU+CQsLPg0omT7mIwg+/lN2PWEPiD1gCiE9qGxUO9lPQDthb508EDWzPO555T7TXpo9f1xgPrKSAj7KnhI9aQbmPC3smDyobFQ72U9AO2FvnTwQNbM87nnlPtNemj1/XGA+spICPsqeEj1pBuY8LeyYPA==\",\"dtype\":\"float32\",\"order\":\"little\",\"shape\":[14,11]}]},\"selected\":{\"id\":\"1038\"},\"selection_policy\":{\"id\":\"1037\"}},\"id\":\"1013\",\"type\":\"ColumnDataSource\"},{\"attributes\":{\"palette\":[\"#000000\",\"#252525\",\"#525252\",\"#737373\",\"#969696\",\"#bdbdbd\",\"#d9d9d9\",\"#f0f0f0\",\"#ffffff\"]},\"id\":\"1015\",\"type\":\"LinearColorMapper\"},{\"attributes\":{},\"id\":\"1010\",\"type\":\"LinearScale\"},{\"attributes\":{},\"id\":\"1036\",\"type\":\"AllLabels\"},{\"attributes\":{\"color_mapper\":{\"id\":\"1021\"},\"dh\":{\"value\":14},\"dw\":{\"value\":11},\"global_alpha\":{\"value\":0.2},\"image\":{\"field\":\"image\"},\"x\":{\"value\":0},\"y\":{\"value\":0}},\"id\":\"1020\",\"type\":\"Image\"},{\"attributes\":{},\"id\":\"1034\",\"type\":\"AllLabels\"},{\"attributes\":{},\"id\":\"1038\",\"type\":\"Selection\"},{\"attributes\":{\"coordinates\":null,\"data_source\":{\"id\":\"1013\"},\"glyph\":{\"id\":\"1014\"},\"group\":null,\"hover_glyph\":null,\"muted_glyph\":{\"id\":\"1020\"},\"nonselection_glyph\":{\"id\":\"1017\"},\"view\":{\"id\":\"1024\"}},\"id\":\"1023\",\"type\":\"GlyphRenderer\"},{\"attributes\":{},\"id\":\"1037\",\"type\":\"UnionRenderers\"}],\"root_ids\":[\"1003\"]},\"title\":\"Bokeh Application\",\"version\":\"2.4.3\"}};\n",
       "  const render_items = [{\"docid\":\"7d8c1918-4166-41a5-9c14-186de069e72a\",\"root_ids\":[\"1003\"],\"roots\":{\"1003\":\"663215f4-63c8-4978-a326-bd6862b47400\"}}];\n",
       "  root.Bokeh.embed.embed_items_notebook(docs_json, render_items);\n",
       "  }\n",
       "  if (root.Bokeh !== undefined) {\n",
       "    embed_document(root);\n",
       "  } else {\n",
       "    let attempts = 0;\n",
       "    const timer = setInterval(function(root) {\n",
       "      if (root.Bokeh !== undefined) {\n",
       "        clearInterval(timer);\n",
       "        embed_document(root);\n",
       "      } else {\n",
       "        attempts++;\n",
       "        if (attempts > 100) {\n",
       "          clearInterval(timer);\n",
       "          console.log(\"Bokeh: ERROR: Unable to run BokehJS code because BokehJS library is missing\");\n",
       "        }\n",
       "      }\n",
       "    }, 10, root)\n",
       "  }\n",
       "})(window);"
      ],
      "application/vnd.bokehjs_exec.v0+json": ""
     },
     "metadata": {
      "application/vnd.bokehjs_exec.v0+json": {
       "id": "1003"
      }
     },
     "output_type": "display_data"
    },
    {
     "data": {
      "text/html": [
       "\n",
       "  <div class=\"bk-root\" id=\"4d8b3d79-5013-43f4-bca1-bafb97a05f07\" data-root-id=\"1079\"></div>\n"
      ]
     },
     "metadata": {},
     "output_type": "display_data"
    },
    {
     "data": {
      "application/javascript": [
       "(function(root) {\n",
       "  function embed_document(root) {\n",
       "  const docs_json = {\"02afb897-ec62-4c2b-a620-a2a4d218e3a7\":{\"defs\":[],\"roots\":{\"references\":[{\"attributes\":{\"above\":[{\"id\":\"1101\"}],\"left\":[{\"id\":\"1104\"}],\"renderers\":[{\"id\":\"1099\"}],\"title\":{\"id\":\"1115\"},\"toolbar\":{\"id\":\"1088\"},\"x_range\":{\"id\":\"1080\"},\"x_scale\":{\"id\":\"1084\"},\"y_range\":{\"id\":\"1082\"},\"y_scale\":{\"id\":\"1086\"}},\"id\":\"1079\",\"subtype\":\"Figure\",\"type\":\"Plot\"},{\"attributes\":{},\"id\":\"1119\",\"type\":\"BasicTickFormatter\"},{\"attributes\":{},\"id\":\"1120\",\"type\":\"AllLabels\"},{\"attributes\":{},\"id\":\"1118\",\"type\":\"AllLabels\"},{\"attributes\":{},\"id\":\"1122\",\"type\":\"Selection\"},{\"attributes\":{},\"id\":\"1086\",\"type\":\"LinearScale\"},{\"attributes\":{\"color_mapper\":{\"id\":\"1091\"},\"dh\":{\"value\":18},\"dw\":{\"value\":15},\"image\":{\"field\":\"image\"},\"x\":{\"value\":0},\"y\":{\"value\":0}},\"id\":\"1090\",\"type\":\"Image\"},{\"attributes\":{\"coordinates\":null,\"group\":null},\"id\":\"1115\",\"type\":\"Title\"},{\"attributes\":{},\"id\":\"1084\",\"type\":\"LinearScale\"},{\"attributes\":{},\"id\":\"1121\",\"type\":\"UnionRenderers\"},{\"attributes\":{\"ticks\":[0.5,1.5,2.5,3.5,4.5,5.5,6.5,7.5,8.5,9.5,10.5,11.5,12.5,13.5,14.5]},\"id\":\"1102\",\"type\":\"FixedTicker\"},{\"attributes\":{\"axis_label\":\"translation tokens\",\"coordinates\":null,\"formatter\":{\"id\":\"1117\"},\"group\":null,\"major_label_overrides\":{\"0.5\":\"_EOS_\",\"1.5\":\".\",\"10.5\":\"available\",\"11.5\":\"are\",\"12.5\":\"rental\",\"13.5\":\"car\",\"14.5\":\"and\",\"15.5\":\"rental\",\"16.5\":\"car\",\"17.5\":\"_BOS_\",\"2.5\":\"available\",\"3.5\":\"is\",\"4.5\":\"parking\",\"5.5\":\"free\",\"6.5\":\"and\",\"7.5\":\"property\",\"8.5\":\"the\",\"9.5\":\"at\"},\"major_label_policy\":{\"id\":\"1118\"},\"ticker\":{\"id\":\"1105\"}},\"id\":\"1104\",\"type\":\"LinearAxis\"},{\"attributes\":{\"ticks\":[0.5,1.5,2.5,3.5,4.5,5.5,6.5,7.5,8.5,9.5,10.5,11.5,12.5,13.5,14.5,15.5,16.5,17.5]},\"id\":\"1105\",\"type\":\"FixedTicker\"},{\"attributes\":{\"palette\":[\"#000000\",\"#252525\",\"#525252\",\"#737373\",\"#969696\",\"#bdbdbd\",\"#d9d9d9\",\"#f0f0f0\",\"#ffffff\"]},\"id\":\"1097\",\"type\":\"LinearColorMapper\"},{\"attributes\":{\"palette\":[\"#000000\",\"#252525\",\"#525252\",\"#737373\",\"#969696\",\"#bdbdbd\",\"#d9d9d9\",\"#f0f0f0\",\"#ffffff\"]},\"id\":\"1091\",\"type\":\"LinearColorMapper\"},{\"attributes\":{\"axis_label\":\"source tokens\",\"coordinates\":null,\"formatter\":{\"id\":\"1119\"},\"group\":null,\"major_label_orientation\":45,\"major_label_overrides\":{\"0.5\":\"_BOS_\",\"1.5\":\"\\u043a\\u0440\\u043e\\u043c\\u0435\",\"10.5\":\"\\u0438\",\"11.5\":\"\\u0431\\u0435\\u0441\\u043f\\u043b\\u0430\\u0442\\u043d\\u0430\\u044f\",\"12.5\":\"\\u043f\\u0430\\u0440\\u043a\\u043e\\u0432\\u043a\\u0430\",\"13.5\":\".\",\"14.5\":\"_EOS_\",\"2.5\":\"\\u0442\\u043e\\u0433\\u043e\",\"3.5\":\",\",\"4.5\":\"\\u043f\\u0440\\u0435\\u0434\\u043e\\u0441\\u0442\\u0430\\u0432\\u043b\\u044f\\u0435\\u0442\\u0441\\u044f\",\"5.5\":\"\\u043f\\u0440\\u043e\\u043a\\u0430\\u0442\",\"6.5\":\"\\u0432\\u0435\\u043b\\u043e\\u0441\\u0438\\u043f\\u0435\\u0434\\u043e\\u0432\",\"7.5\":\",\",\"8.5\":\"\\u0443\\u0441\\u043b\\u0443\\u0433\\u0438\",\"9.5\":\"\\u0442\\u0440\\u0430\\u043d\\u0441\\u0444\\u0435\\u0440\\u0430\"},\"major_label_policy\":{\"id\":\"1120\"},\"ticker\":{\"id\":\"1102\"}},\"id\":\"1101\",\"type\":\"LinearAxis\"},{\"attributes\":{\"color_mapper\":{\"id\":\"1097\"},\"dh\":{\"value\":18},\"dw\":{\"value\":15},\"global_alpha\":{\"value\":0.2},\"image\":{\"field\":\"image\"},\"x\":{\"value\":0},\"y\":{\"value\":0}},\"id\":\"1096\",\"type\":\"Image\"},{\"attributes\":{},\"id\":\"1088\",\"type\":\"Toolbar\"},{\"attributes\":{\"color_mapper\":{\"id\":\"1094\"},\"dh\":{\"value\":18},\"dw\":{\"value\":15},\"global_alpha\":{\"value\":0.1},\"image\":{\"field\":\"image\"},\"x\":{\"value\":0},\"y\":{\"value\":0}},\"id\":\"1093\",\"type\":\"Image\"},{\"attributes\":{},\"id\":\"1117\",\"type\":\"BasicTickFormatter\"},{\"attributes\":{\"coordinates\":null,\"data_source\":{\"id\":\"1089\"},\"glyph\":{\"id\":\"1090\"},\"group\":null,\"hover_glyph\":null,\"muted_glyph\":{\"id\":\"1096\"},\"nonselection_glyph\":{\"id\":\"1093\"},\"view\":{\"id\":\"1100\"}},\"id\":\"1099\",\"type\":\"GlyphRenderer\"},{\"attributes\":{\"source\":{\"id\":\"1089\"}},\"id\":\"1100\",\"type\":\"CDSView\"},{\"attributes\":{\"data\":{\"image\":[{\"__ndarray__\":\"Tl1tPjZfdT1KHho+XymcPGZj1DwoTHE7jvY1PHjKFzv5w2U7UV9dO2+48Dpj5/I9h0uoPXYSXT6s+o89kHUOPHGYLTt+WKw5QqtBOwp1qTu0c3U6Yi1lPAj20jpUVIQ627OyOyLJ0jk65mo9TRI5Pjel9D6YrXY+cCmEPaS3qTxz4Jc7JHzjOiP68Tt5vHI7CYFXPLcHwDveolI8zjk0PBAbozpE9w4+/elQPjWz3z4pv5Q95+avO9zBIjnxGuY4fy78OWv3aTqRK4Y5WJ4eOwh9bDu10Is7JJAbPIMVxztZ/0U9QjVMPsb1Kz91HUI9ho2NORlpSDgnVmY3+zk2ODNpgjnTFZc4bzYEOtr4DzqN1BE7pbS6O6CUhzpWr0c9A91bPtx7Lz/2QyU9ekD6O8PDnDl0HOU5+3uJOtPpBzt5CIY5r4DtOq462TpeqYQ7T+oiPHUKgDxkw2g9PhIUPrn8BD+83m8+9PyPPhmRUDvnwXE7rtqVPIhjkTzGo4I7TPoaPXwWOD3hkUg8XPWLPKAHrD2jLnE92HkWPQBr/T0+SIM+YBtGPMNL1Dv1/PM7uGZCPUp9ND3gV9k8j2MBPqOtez6gB948nSBIPQMHrj1pYEk9uA8LPVgdvD2Cbxc+PxQ7PBtJnzx4b+k8Z/FkPOMAPzxrWcw7qXgBPaOUkTzpYew9OsGSPYb9fz0TJFY+pBgEPg/MPD6I1rI99o6zOt2VQDw9Oxs80DFUPUSIBz10OpQ9rIS3PmpE9z2avK88veVdPaEc3zxCskg8p5jhPOrnmT2HO/w9xcRzPFFDDDySHog8tZ6APNHHEzx3co88AxsjPA36HDwEw988iOM0PUJdhz0mMdQ9byIkPmC4pT4SMDE+xMaIO6EBijsgye461K6xOlMJLzsljjk8Vt4JPUVObTxAwo09FM4OPohhqD6SOdg9oh76Peli0D3o3XI90uOpODbyLDhU+4442mwjOUL8hTrAvXg79Mi1PLdhiz16UZQ9sfXmPTTViT4/iC89DRKSPU92ND7tnCM+C98IO0fErzubHW47CRRWOzb7sDu0wIQ8IkjsPDsjEz0SYg4+AJpcPlN/2D6BT0c9ezqzPIOJEj1UHIA8bXzROqDesDoCsg862+BmOnmMfjqNX9A8OQoUPhx/BD46ss894FQsPsL7sD7tfG48Kt0zPDwfBD3J77Q82te7OSjSrTpQV5s6ypwSOxEeqTpyZtw8kkt+Pq75XT7C0MY8TtfyPUanlT4G4b08CfacPMDikzwxsMY7bRZ7OShCojquzdI6mueCO8hUhjuEccg8XTsxPve0Aj6dsL08lLlePRbuDz+4Mg08VA2xO8tA/jsgEgk7bRZ7OShCojquzdI6mueCO8hUhjuEccg8XTsxPve0Aj6dsL08lLlePRbuDz+4Mg08VA2xO8tA/jsgEgk7\",\"dtype\":\"float32\",\"order\":\"little\",\"shape\":[18,15]}]},\"selected\":{\"id\":\"1122\"},\"selection_policy\":{\"id\":\"1121\"}},\"id\":\"1089\",\"type\":\"ColumnDataSource\"},{\"attributes\":{\"end\":18},\"id\":\"1082\",\"type\":\"Range1d\"},{\"attributes\":{\"palette\":[\"#000000\",\"#252525\",\"#525252\",\"#737373\",\"#969696\",\"#bdbdbd\",\"#d9d9d9\",\"#f0f0f0\",\"#ffffff\"]},\"id\":\"1094\",\"type\":\"LinearColorMapper\"},{\"attributes\":{\"end\":15},\"id\":\"1080\",\"type\":\"Range1d\"}],\"root_ids\":[\"1079\"]},\"title\":\"Bokeh Application\",\"version\":\"2.4.3\"}};\n",
       "  const render_items = [{\"docid\":\"02afb897-ec62-4c2b-a620-a2a4d218e3a7\",\"root_ids\":[\"1079\"],\"roots\":{\"1079\":\"4d8b3d79-5013-43f4-bca1-bafb97a05f07\"}}];\n",
       "  root.Bokeh.embed.embed_items_notebook(docs_json, render_items);\n",
       "  }\n",
       "  if (root.Bokeh !== undefined) {\n",
       "    embed_document(root);\n",
       "  } else {\n",
       "    let attempts = 0;\n",
       "    const timer = setInterval(function(root) {\n",
       "      if (root.Bokeh !== undefined) {\n",
       "        clearInterval(timer);\n",
       "        embed_document(root);\n",
       "      } else {\n",
       "        attempts++;\n",
       "        if (attempts > 100) {\n",
       "          clearInterval(timer);\n",
       "          console.log(\"Bokeh: ERROR: Unable to run BokehJS code because BokehJS library is missing\");\n",
       "        }\n",
       "      }\n",
       "    }, 10, root)\n",
       "  }\n",
       "})(window);"
      ],
      "application/vnd.bokehjs_exec.v0+json": ""
     },
     "metadata": {
      "application/vnd.bokehjs_exec.v0+json": {
       "id": "1079"
      }
     },
     "output_type": "display_data"
    },
    {
     "data": {
      "text/html": [
       "\n",
       "  <div class=\"bk-root\" id=\"e9a57a76-669d-477c-92bd-92ca71c152d2\" data-root-id=\"1163\"></div>\n"
      ]
     },
     "metadata": {},
     "output_type": "display_data"
    },
    {
     "data": {
      "application/javascript": [
       "(function(root) {\n",
       "  function embed_document(root) {\n",
       "  const docs_json = {\"f02f2f1b-42eb-4e1c-b4a5-815aaf7b639b\":{\"defs\":[],\"roots\":{\"references\":[{\"attributes\":{\"above\":[{\"id\":\"1185\"}],\"left\":[{\"id\":\"1188\"}],\"renderers\":[{\"id\":\"1183\"}],\"title\":{\"id\":\"1207\"},\"toolbar\":{\"id\":\"1172\"},\"x_range\":{\"id\":\"1164\"},\"x_scale\":{\"id\":\"1168\"},\"y_range\":{\"id\":\"1166\"},\"y_scale\":{\"id\":\"1170\"}},\"id\":\"1163\",\"subtype\":\"Figure\",\"type\":\"Plot\"},{\"attributes\":{\"coordinates\":null,\"data_source\":{\"id\":\"1173\"},\"glyph\":{\"id\":\"1174\"},\"group\":null,\"hover_glyph\":null,\"muted_glyph\":{\"id\":\"1180\"},\"nonselection_glyph\":{\"id\":\"1177\"},\"view\":{\"id\":\"1184\"}},\"id\":\"1183\",\"type\":\"GlyphRenderer\"},{\"attributes\":{},\"id\":\"1209\",\"type\":\"BasicTickFormatter\"},{\"attributes\":{},\"id\":\"1210\",\"type\":\"AllLabels\"},{\"attributes\":{},\"id\":\"1211\",\"type\":\"BasicTickFormatter\"},{\"attributes\":{\"color_mapper\":{\"id\":\"1175\"},\"dh\":{\"value\":14},\"dw\":{\"value\":13},\"image\":{\"field\":\"image\"},\"x\":{\"value\":0},\"y\":{\"value\":0}},\"id\":\"1174\",\"type\":\"Image\"},{\"attributes\":{},\"id\":\"1212\",\"type\":\"AllLabels\"},{\"attributes\":{},\"id\":\"1213\",\"type\":\"UnionRenderers\"},{\"attributes\":{\"coordinates\":null,\"group\":null},\"id\":\"1207\",\"type\":\"Title\"},{\"attributes\":{},\"id\":\"1168\",\"type\":\"LinearScale\"},{\"attributes\":{\"ticks\":[0.5,1.5,2.5,3.5,4.5,5.5,6.5,7.5,8.5,9.5,10.5,11.5,12.5]},\"id\":\"1186\",\"type\":\"FixedTicker\"},{\"attributes\":{},\"id\":\"1214\",\"type\":\"Selection\"},{\"attributes\":{\"data\":{\"image\":[{\"__ndarray__\":\"eoNVP5zLRjxXpjA8vtgePLGkYjsrVks8iPF+OwBujDpStiA7QvB6O8BPADx9zFI88TCvPSQGbD/2Pig8CLmXO3IpCzwFKAc8NVlvPDtnmTspj0c7zl6wOkjo8zojy6M7Nl6LO9n7PTyESnQ+8nKeOrLAjDzYgyU8G4obPLIxtTxahiU89hBEPNiqKDzd3qg7RmuhPfmQYD7cO7s+bTQDOKJrjzZ6NNQ3+4TZOOj60TchNt84xGIgOaSAaDiMSNY4EMR6Odd/4j51qeA+XJ/xPb43SDyzdoU5H6L+OmtXZzugvLg6WgTWOoTuEjutuQU7iVEYPF7nDj3LGys/hJdtPg7L9jzJZdw50824OCRWjDmbE308wLu1OkP7BzvRCVE74y4/PBMHFj7wXJc+lZGsPlOBDj6D7UA9ZyR1Ot5L3zh0n9I509UZPIzTxzor+9U6dVJEOxBSpztvGAs9vHShPWrdHz+UWlc+noD4PCTRIDqAHiw5z77lORP2oTyHn4Y7v3ybOyQeyTtbCS48s9rhPUcUSD5tpAY/Bim7PVEC+Tw5jag5uMhZONe8wTmGbks8ICMSOxblPzt5UJw7qLTGPLxATT4vxp0+JYGHPnxLBD71qE09L5HuOuIGUDkWHzI7Ib2RPCFpiTvf3sU7VTEvPGhx6DxWwcI9PW0fPqtV7z4mtC8+YhcdPayJtTjYiUk4GvA3OZLvTT3fMFA8cIRYPFFnnTzHB2k9F6MGPzewOT52KIs9kDdAPXfPzjy/mEc5fwgSO3NFljpArDk+vG7HPfPReT2DC589Oi8DPg9r5D0328g9slMNPTTe3j1Nysg9v6qvOCYaBzo59bw5rqRZPefmOD4/AR098GwtPXKJHz6eCr8+hWcKPhCESjxZea07NaY/O7+qrzgmGgc6OfW8Oa6kWT3n5jg+PwEdPfBsLT1yiR8+ngq/PoVnCj4QhEo8WXmtOzWmPzs=\",\"dtype\":\"float32\",\"order\":\"little\",\"shape\":[14,13]}]},\"selected\":{\"id\":\"1214\"},\"selection_policy\":{\"id\":\"1213\"}},\"id\":\"1173\",\"type\":\"ColumnDataSource\"},{\"attributes\":{\"palette\":[\"#000000\",\"#252525\",\"#525252\",\"#737373\",\"#969696\",\"#bdbdbd\",\"#d9d9d9\",\"#f0f0f0\",\"#ffffff\"]},\"id\":\"1175\",\"type\":\"LinearColorMapper\"},{\"attributes\":{\"end\":13},\"id\":\"1164\",\"type\":\"Range1d\"},{\"attributes\":{\"end\":14},\"id\":\"1166\",\"type\":\"Range1d\"},{\"attributes\":{\"ticks\":[0.5,1.5,2.5,3.5,4.5,5.5,6.5,7.5,8.5,9.5,10.5,11.5,12.5,13.5]},\"id\":\"1189\",\"type\":\"FixedTicker\"},{\"attributes\":{\"axis_label\":\"translation tokens\",\"coordinates\":null,\"formatter\":{\"id\":\"1209\"},\"group\":null,\"major_label_overrides\":{\"0.5\":\"_EOS_\",\"1.5\":\".\",\"10.5\":\"of\",\"11.5\":\"town\",\"12.5\":\"the\",\"13.5\":\"_BOS_\",\"2.5\":\"away\",\"3.5\":\"km\",\"4.5\":\"26\",\"5.5\":\"is\",\"6.5\":\"america\",\"7.5\":\"of\",\"8.5\":\"town\",\"9.5\":\"the\"},\"major_label_policy\":{\"id\":\"1210\"},\"ticker\":{\"id\":\"1189\"}},\"id\":\"1188\",\"type\":\"LinearAxis\"},{\"attributes\":{\"axis_label\":\"source tokens\",\"coordinates\":null,\"formatter\":{\"id\":\"1211\"},\"group\":null,\"major_label_orientation\":45,\"major_label_overrides\":{\"0.5\":\"_BOS_\",\"1.5\":\"\\u0440\\u0430\\u0441\\u0441\\u0442\\u043e\\u044f\\u043d\\u0438\\u0435\",\"10.5\":\"\\u043a\\u043c\",\"11.5\":\".\",\"12.5\":\"_EOS_\",\"2.5\":\"\\u0434\\u043e\",\"3.5\":\"\\u0433\\u043e\\u0440\\u043e\\u0434\\u0430\",\"4.5\":\"\\u043a\\u0438@@\",\"5.5\":\"\\u0441\\u0441\\u0438@@\",\"6.5\":\"\\u043c@@\",\"7.5\":\"\\u043c\\u0438\",\"8.5\":\"\\u0441\\u043e\\u0441\\u0442\\u0430\\u0432\\u043b\\u044f\\u0435\\u0442\",\"9.5\":\"26\"},\"major_label_policy\":{\"id\":\"1212\"},\"ticker\":{\"id\":\"1186\"}},\"id\":\"1185\",\"type\":\"LinearAxis\"},{\"attributes\":{},\"id\":\"1172\",\"type\":\"Toolbar\"},{\"attributes\":{},\"id\":\"1170\",\"type\":\"LinearScale\"},{\"attributes\":{\"color_mapper\":{\"id\":\"1178\"},\"dh\":{\"value\":14},\"dw\":{\"value\":13},\"global_alpha\":{\"value\":0.1},\"image\":{\"field\":\"image\"},\"x\":{\"value\":0},\"y\":{\"value\":0}},\"id\":\"1177\",\"type\":\"Image\"},{\"attributes\":{\"palette\":[\"#000000\",\"#252525\",\"#525252\",\"#737373\",\"#969696\",\"#bdbdbd\",\"#d9d9d9\",\"#f0f0f0\",\"#ffffff\"]},\"id\":\"1181\",\"type\":\"LinearColorMapper\"},{\"attributes\":{\"source\":{\"id\":\"1173\"}},\"id\":\"1184\",\"type\":\"CDSView\"},{\"attributes\":{\"color_mapper\":{\"id\":\"1181\"},\"dh\":{\"value\":14},\"dw\":{\"value\":13},\"global_alpha\":{\"value\":0.2},\"image\":{\"field\":\"image\"},\"x\":{\"value\":0},\"y\":{\"value\":0}},\"id\":\"1180\",\"type\":\"Image\"},{\"attributes\":{\"palette\":[\"#000000\",\"#252525\",\"#525252\",\"#737373\",\"#969696\",\"#bdbdbd\",\"#d9d9d9\",\"#f0f0f0\",\"#ffffff\"]},\"id\":\"1178\",\"type\":\"LinearColorMapper\"}],\"root_ids\":[\"1163\"]},\"title\":\"Bokeh Application\",\"version\":\"2.4.3\"}};\n",
       "  const render_items = [{\"docid\":\"f02f2f1b-42eb-4e1c-b4a5-815aaf7b639b\",\"root_ids\":[\"1163\"],\"roots\":{\"1163\":\"e9a57a76-669d-477c-92bd-92ca71c152d2\"}}];\n",
       "  root.Bokeh.embed.embed_items_notebook(docs_json, render_items);\n",
       "  }\n",
       "  if (root.Bokeh !== undefined) {\n",
       "    embed_document(root);\n",
       "  } else {\n",
       "    let attempts = 0;\n",
       "    const timer = setInterval(function(root) {\n",
       "      if (root.Bokeh !== undefined) {\n",
       "        clearInterval(timer);\n",
       "        embed_document(root);\n",
       "      } else {\n",
       "        attempts++;\n",
       "        if (attempts > 100) {\n",
       "          clearInterval(timer);\n",
       "          console.log(\"Bokeh: ERROR: Unable to run BokehJS code because BokehJS library is missing\");\n",
       "        }\n",
       "      }\n",
       "    }, 10, root)\n",
       "  }\n",
       "})(window);"
      ],
      "application/vnd.bokehjs_exec.v0+json": ""
     },
     "metadata": {
      "application/vnd.bokehjs_exec.v0+json": {
       "id": "1163"
      }
     },
     "output_type": "display_data"
    },
    {
     "data": {
      "text/html": [
       "\n",
       "  <div class=\"bk-root\" id=\"afbb7bc1-8fea-4b29-8250-43d088a7d69f\" data-root-id=\"1255\"></div>\n"
      ]
     },
     "metadata": {},
     "output_type": "display_data"
    },
    {
     "data": {
      "application/javascript": [
       "(function(root) {\n",
       "  function embed_document(root) {\n",
       "  const docs_json = {\"8ab4fe2c-c485-4568-b264-eb807afc900e\":{\"defs\":[],\"roots\":{\"references\":[{\"attributes\":{\"above\":[{\"id\":\"1277\"}],\"left\":[{\"id\":\"1280\"}],\"renderers\":[{\"id\":\"1275\"}],\"title\":{\"id\":\"1307\"},\"toolbar\":{\"id\":\"1264\"},\"x_range\":{\"id\":\"1256\"},\"x_scale\":{\"id\":\"1260\"},\"y_range\":{\"id\":\"1258\"},\"y_scale\":{\"id\":\"1262\"}},\"id\":\"1255\",\"subtype\":\"Figure\",\"type\":\"Plot\"},{\"attributes\":{},\"id\":\"1310\",\"type\":\"AllLabels\"},{\"attributes\":{},\"id\":\"1311\",\"type\":\"BasicTickFormatter\"},{\"attributes\":{},\"id\":\"1312\",\"type\":\"AllLabels\"},{\"attributes\":{\"coordinates\":null,\"group\":null},\"id\":\"1307\",\"type\":\"Title\"},{\"attributes\":{},\"id\":\"1313\",\"type\":\"UnionRenderers\"},{\"attributes\":{\"color_mapper\":{\"id\":\"1267\"},\"dh\":{\"value\":36},\"dw\":{\"value\":32},\"image\":{\"field\":\"image\"},\"x\":{\"value\":0},\"y\":{\"value\":0}},\"id\":\"1266\",\"type\":\"Image\"},{\"attributes\":{\"ticks\":[0.5,1.5,2.5,3.5,4.5,5.5,6.5,7.5,8.5,9.5,10.5,11.5,12.5,13.5,14.5,15.5,16.5,17.5,18.5,19.5,20.5,21.5,22.5,23.5,24.5,25.5,26.5,27.5,28.5,29.5,30.5,31.5]},\"id\":\"1278\",\"type\":\"FixedTicker\"},{\"attributes\":{},\"id\":\"1314\",\"type\":\"Selection\"},{\"attributes\":{\"ticks\":[0.5,1.5,2.5,3.5,4.5,5.5,6.5,7.5,8.5,9.5,10.5,11.5,12.5,13.5,14.5,15.5,16.5,17.5,18.5,19.5,20.5,21.5,22.5,23.5,24.5,25.5,26.5,27.5,28.5,29.5,30.5,31.5,32.5,33.5,34.5,35.5]},\"id\":\"1281\",\"type\":\"FixedTicker\"},{\"attributes\":{\"data\":{\"image\":[{\"__ndarray__\":\"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\",\"dtype\":\"float32\",\"order\":\"little\",\"shape\":[36,32]}]},\"selected\":{\"id\":\"1314\"},\"selection_policy\":{\"id\":\"1313\"}},\"id\":\"1265\",\"type\":\"ColumnDataSource\"},{\"attributes\":{},\"id\":\"1264\",\"type\":\"Toolbar\"},{\"attributes\":{\"palette\":[\"#000000\",\"#252525\",\"#525252\",\"#737373\",\"#969696\",\"#bdbdbd\",\"#d9d9d9\",\"#f0f0f0\",\"#ffffff\"]},\"id\":\"1267\",\"type\":\"LinearColorMapper\"},{\"attributes\":{\"end\":36},\"id\":\"1258\",\"type\":\"Range1d\"},{\"attributes\":{},\"id\":\"1262\",\"type\":\"LinearScale\"},{\"attributes\":{\"axis_label\":\"source tokens\",\"coordinates\":null,\"formatter\":{\"id\":\"1311\"},\"group\":null,\"major_label_orientation\":45,\"major_label_overrides\":{\"0.5\":\"_BOS_\",\"1.5\":\"\\u0430\\u043f\\u0430\\u0440\\u0442\\u0430\\u043c\\u0435\\u043d\\u0442\\u044b\",\"10.5\":\"\\u0441\\u0430\\u0434\\u043e\\u043c\",\"11.5\":\",\",\"12.5\":\"\\u043a\\u043e\\u043d\\u0434\\u0438\\u0446\\u0438\\u043e\\u043d\\u0435\\u0440\\u043e\\u043c\",\"13.5\":\"\\u0438\",\"14.5\":\"\\u0442\\u0435\\u0440\\u0440\\u0430\\u0441\\u043e\\u0439\",\"15.5\":\"\\u0434\\u043b\\u044f\",\"16.5\":\"\\u0437\\u0430\\u0433\\u0430\\u0440\\u0430\",\"17.5\":\"\\u0440\\u0430\\u0441\\u043f\\u043e\\u043b\\u043e\\u0436\\u0435\\u043d\\u044b\",\"18.5\":\"\\u0432\",\"19.5\":\"5\",\"2.5\":\"\\u0432\",\"20.5\":\"\\u043c\\u0438\\u043d\\u0443\\u0442\\u0430\\u0445\",\"21.5\":\"\\u0445\\u043e\\u0434\\u044c\\u0431\\u044b\",\"22.5\":\"\\u043e\\u0442\",\"23.5\":\"\\u043f\\u043b\\u044f\\u0436\\u0430\",\"24.5\":\"\\u043d\\u0430\",\"25.5\":\"\\u043a\\u0443\\u0440\\u043e\\u0440\\u0442\\u0435\",\"26.5\":\"\\u043a\\u0430@@\",\"27.5\":\"\\u0431\\u043e\",\"28.5\":\"-\",\"29.5\":\"\\u0440\\u043e\\u0439\",\"3.5\":\"\\u043f\\u0435\\u043d\\u0442@@\",\"30.5\":\".\",\"31.5\":\"_EOS_\",\"4.5\":\"\\u0445\\u0430\\u0443\\u0441\\u0435\",\"5.5\":\"\\u0441\",\"6.5\":\"\\u043e\\u0431\\u0449\\u0438\\u043c\",\"7.5\":\"\\u043e\\u0442\\u043a\\u0440\\u044b\\u0442\\u044b\\u043c\",\"8.5\":\"\\u0431\\u0430\\u0441\\u0441\\u0435\\u0439\\u043d\\u043e\\u043c\",\"9.5\":\",\"},\"major_label_policy\":{\"id\":\"1312\"},\"ticker\":{\"id\":\"1278\"}},\"id\":\"1277\",\"type\":\"LinearAxis\"},{\"attributes\":{\"color_mapper\":{\"id\":\"1270\"},\"dh\":{\"value\":36},\"dw\":{\"value\":32},\"global_alpha\":{\"value\":0.1},\"image\":{\"field\":\"image\"},\"x\":{\"value\":0},\"y\":{\"value\":0}},\"id\":\"1269\",\"type\":\"Image\"},{\"attributes\":{},\"id\":\"1260\",\"type\":\"LinearScale\"},{\"attributes\":{\"color_mapper\":{\"id\":\"1273\"},\"dh\":{\"value\":36},\"dw\":{\"value\":32},\"global_alpha\":{\"value\":0.2},\"image\":{\"field\":\"image\"},\"x\":{\"value\":0},\"y\":{\"value\":0}},\"id\":\"1272\",\"type\":\"Image\"},{\"attributes\":{\"end\":32},\"id\":\"1256\",\"type\":\"Range1d\"},{\"attributes\":{\"palette\":[\"#000000\",\"#252525\",\"#525252\",\"#737373\",\"#969696\",\"#bdbdbd\",\"#d9d9d9\",\"#f0f0f0\",\"#ffffff\"]},\"id\":\"1273\",\"type\":\"LinearColorMapper\"},{\"attributes\":{\"axis_label\":\"translation tokens\",\"coordinates\":null,\"formatter\":{\"id\":\"1309\"},\"group\":null,\"major_label_overrides\":{\"0.5\":\"_EOS_\",\"1.5\":\".\",\"10.5\":\"is\",\"11.5\":\"beach\",\"12.5\":\",\",\"13.5\":\"terrace\",\"14.5\":\"sun\",\"15.5\":\"a\",\"16.5\":\"and\",\"17.5\":\"terrace\",\"18.5\":\"sun\",\"19.5\":\",\",\"2.5\":\"beach\",\"20.5\":\"pool\",\"21.5\":\"outdoor\",\"22.5\":\"an\",\"23.5\":\",\",\"24.5\":\"garden\",\"25.5\":\"a\",\"26.5\":\"and\",\"27.5\":\"terrace\",\"28.5\":\"sun\",\"29.5\":\",\",\"3.5\":\"the\",\"30.5\":\"pool\",\"31.5\":\"outdoor\",\"32.5\":\"seasonal\",\"33.5\":\"a\",\"34.5\":\"offering\",\"35.5\":\"_BOS_\",\"4.5\":\"from\",\"5.5\":\"walk\",\"6.5\":\"minute\",\"7.5\":\"-\",\"8.5\":\"5\",\"9.5\":\"a\"},\"major_label_policy\":{\"id\":\"1310\"},\"ticker\":{\"id\":\"1281\"}},\"id\":\"1280\",\"type\":\"LinearAxis\"},{\"attributes\":{\"palette\":[\"#000000\",\"#252525\",\"#525252\",\"#737373\",\"#969696\",\"#bdbdbd\",\"#d9d9d9\",\"#f0f0f0\",\"#ffffff\"]},\"id\":\"1270\",\"type\":\"LinearColorMapper\"},{\"attributes\":{\"coordinates\":null,\"data_source\":{\"id\":\"1265\"},\"glyph\":{\"id\":\"1266\"},\"group\":null,\"hover_glyph\":null,\"muted_glyph\":{\"id\":\"1272\"},\"nonselection_glyph\":{\"id\":\"1269\"},\"view\":{\"id\":\"1276\"}},\"id\":\"1275\",\"type\":\"GlyphRenderer\"},{\"attributes\":{},\"id\":\"1309\",\"type\":\"BasicTickFormatter\"},{\"attributes\":{\"source\":{\"id\":\"1265\"}},\"id\":\"1276\",\"type\":\"CDSView\"}],\"root_ids\":[\"1255\"]},\"title\":\"Bokeh Application\",\"version\":\"2.4.3\"}};\n",
       "  const render_items = [{\"docid\":\"8ab4fe2c-c485-4568-b264-eb807afc900e\",\"root_ids\":[\"1255\"],\"roots\":{\"1255\":\"afbb7bc1-8fea-4b29-8250-43d088a7d69f\"}}];\n",
       "  root.Bokeh.embed.embed_items_notebook(docs_json, render_items);\n",
       "  }\n",
       "  if (root.Bokeh !== undefined) {\n",
       "    embed_document(root);\n",
       "  } else {\n",
       "    let attempts = 0;\n",
       "    const timer = setInterval(function(root) {\n",
       "      if (root.Bokeh !== undefined) {\n",
       "        clearInterval(timer);\n",
       "        embed_document(root);\n",
       "      } else {\n",
       "        attempts++;\n",
       "        if (attempts > 100) {\n",
       "          clearInterval(timer);\n",
       "          console.log(\"Bokeh: ERROR: Unable to run BokehJS code because BokehJS library is missing\");\n",
       "        }\n",
       "      }\n",
       "    }, 10, root)\n",
       "  }\n",
       "})(window);"
      ],
      "application/vnd.bokehjs_exec.v0+json": ""
     },
     "metadata": {
      "application/vnd.bokehjs_exec.v0+json": {
       "id": "1255"
      }
     },
     "output_type": "display_data"
    },
    {
     "data": {
      "text/html": [
       "\n",
       "  <div class=\"bk-root\" id=\"3a9e8815-e965-4c2d-b3a6-768b845eb4d0\" data-root-id=\"1355\"></div>\n"
      ]
     },
     "metadata": {},
     "output_type": "display_data"
    },
    {
     "data": {
      "application/javascript": [
       "(function(root) {\n",
       "  function embed_document(root) {\n",
       "  const docs_json = {\"e3927ebf-1fc3-4d91-b599-11608201b580\":{\"defs\":[],\"roots\":{\"references\":[{\"attributes\":{\"above\":[{\"id\":\"1377\"}],\"left\":[{\"id\":\"1380\"}],\"renderers\":[{\"id\":\"1375\"}],\"title\":{\"id\":\"1415\"},\"toolbar\":{\"id\":\"1364\"},\"x_range\":{\"id\":\"1356\"},\"x_scale\":{\"id\":\"1360\"},\"y_range\":{\"id\":\"1358\"},\"y_scale\":{\"id\":\"1362\"}},\"id\":\"1355\",\"subtype\":\"Figure\",\"type\":\"Plot\"},{\"attributes\":{},\"id\":\"1419\",\"type\":\"BasicTickFormatter\"},{\"attributes\":{\"ticks\":[0.5,1.5,2.5,3.5,4.5,5.5,6.5,7.5,8.5,9.5,10.5,11.5,12.5,13.5,14.5,15.5,16.5,17.5,18.5,19.5,20.5,21.5,22.5]},\"id\":\"1378\",\"type\":\"FixedTicker\"},{\"attributes\":{},\"id\":\"1420\",\"type\":\"AllLabels\"},{\"attributes\":{},\"id\":\"1421\",\"type\":\"UnionRenderers\"},{\"attributes\":{\"palette\":[\"#000000\",\"#252525\",\"#525252\",\"#737373\",\"#969696\",\"#bdbdbd\",\"#d9d9d9\",\"#f0f0f0\",\"#ffffff\"]},\"id\":\"1367\",\"type\":\"LinearColorMapper\"},{\"attributes\":{},\"id\":\"1422\",\"type\":\"Selection\"},{\"attributes\":{\"ticks\":[0.5,1.5,2.5,3.5,4.5,5.5,6.5,7.5,8.5,9.5,10.5,11.5,12.5,13.5,14.5,15.5,16.5,17.5,18.5,19.5,20.5,21.5,22.5,23.5]},\"id\":\"1381\",\"type\":\"FixedTicker\"},{\"attributes\":{\"color_mapper\":{\"id\":\"1370\"},\"dh\":{\"value\":24},\"dw\":{\"value\":23},\"global_alpha\":{\"value\":0.1},\"image\":{\"field\":\"image\"},\"x\":{\"value\":0},\"y\":{\"value\":0}},\"id\":\"1369\",\"type\":\"Image\"},{\"attributes\":{\"data\":{\"image\":[{\"__ndarray__\":\"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\",\"dtype\":\"float32\",\"order\":\"little\",\"shape\":[24,23]}]},\"selected\":{\"id\":\"1422\"},\"selection_policy\":{\"id\":\"1421\"}},\"id\":\"1365\",\"type\":\"ColumnDataSource\"},{\"attributes\":{\"palette\":[\"#000000\",\"#252525\",\"#525252\",\"#737373\",\"#969696\",\"#bdbdbd\",\"#d9d9d9\",\"#f0f0f0\",\"#ffffff\"]},\"id\":\"1370\",\"type\":\"LinearColorMapper\"},{\"attributes\":{},\"id\":\"1364\",\"type\":\"Toolbar\"},{\"attributes\":{\"color_mapper\":{\"id\":\"1367\"},\"dh\":{\"value\":24},\"dw\":{\"value\":23},\"image\":{\"field\":\"image\"},\"x\":{\"value\":0},\"y\":{\"value\":0}},\"id\":\"1366\",\"type\":\"Image\"},{\"attributes\":{},\"id\":\"1362\",\"type\":\"LinearScale\"},{\"attributes\":{\"axis_label\":\"source tokens\",\"coordinates\":null,\"formatter\":{\"id\":\"1419\"},\"group\":null,\"major_label_orientation\":45,\"major_label_overrides\":{\"0.5\":\"_BOS_\",\"1.5\":\"\\u0430\\u043f\\u0430\\u0440\\u0442\\u0430\\u043c\\u0435\\u043d\\u0442\\u044b\",\"10.5\":\"square\",\"11.5\":\"\\u043d\\u0430\\u0445\\u043e\\u0434\\u044f\\u0442\\u0441\\u044f\",\"12.5\":\"\\u0432\",\"13.5\":\"\\u043c\\u043e\\u0441\\u043a\\u0432\\u0435\",\"14.5\":\",\",\"15.5\":\"\\u0432\",\"16.5\":\"200\",\"17.5\":\"\\u043c\\u0435\\u0442\\u0440\\u0430\\u0445\",\"18.5\":\"\\u043e\\u0442\",\"19.5\":\"\\u0431\\u043e\\u043b\\u044c\\u0448\\u043e\\u0433\\u043e\",\"2.5\":\"mo@@\",\"20.5\":\"\\u0442\\u0435\\u0430\\u0442\\u0440\\u0430\",\"21.5\":\".\",\"22.5\":\"_EOS_\",\"3.5\":\"s@@\",\"4.5\":\"co@@\",\"5.5\":\"w\",\"6.5\":\"point\",\"7.5\":\"-\",\"8.5\":\"loft\",\"9.5\":\"red\"},\"major_label_policy\":{\"id\":\"1420\"},\"ticker\":{\"id\":\"1378\"}},\"id\":\"1377\",\"type\":\"LinearAxis\"},{\"attributes\":{\"palette\":[\"#000000\",\"#252525\",\"#525252\",\"#737373\",\"#969696\",\"#bdbdbd\",\"#d9d9d9\",\"#f0f0f0\",\"#ffffff\"]},\"id\":\"1373\",\"type\":\"LinearColorMapper\"},{\"attributes\":{\"source\":{\"id\":\"1365\"}},\"id\":\"1376\",\"type\":\"CDSView\"},{\"attributes\":{\"color_mapper\":{\"id\":\"1373\"},\"dh\":{\"value\":24},\"dw\":{\"value\":23},\"global_alpha\":{\"value\":0.2},\"image\":{\"field\":\"image\"},\"x\":{\"value\":0},\"y\":{\"value\":0}},\"id\":\"1372\",\"type\":\"Image\"},{\"attributes\":{\"end\":24},\"id\":\"1358\",\"type\":\"Range1d\"},{\"attributes\":{\"coordinates\":null,\"data_source\":{\"id\":\"1365\"},\"glyph\":{\"id\":\"1366\"},\"group\":null,\"hover_glyph\":null,\"muted_glyph\":{\"id\":\"1372\"},\"nonselection_glyph\":{\"id\":\"1369\"},\"view\":{\"id\":\"1376\"}},\"id\":\"1375\",\"type\":\"GlyphRenderer\"},{\"attributes\":{},\"id\":\"1360\",\"type\":\"LinearScale\"},{\"attributes\":{\"end\":23},\"id\":\"1356\",\"type\":\"Range1d\"},{\"attributes\":{\"axis_label\":\"translation tokens\",\"coordinates\":null,\"formatter\":{\"id\":\"1417\"},\"group\":null,\"major_label_overrides\":{\"0.5\":\"_EOS_\",\"1.5\":\".\",\"10.5\":\"free\",\"11.5\":\"with\",\"12.5\":\"accommodation\",\"13.5\":\"catering\",\"14.5\":\"-\",\"15.5\":\"saint\",\"16.5\":\"-\",\"17.5\":\"la\",\"18.5\":\"de\",\"19.5\":\"whitewashed\",\"2.5\":\"lift\",\"20.5\":\"the\",\"21.5\":\"on\",\"22.5\":\"apartment\",\"23.5\":\"_BOS_\",\"3.5\":\"ski\",\"4.5\":\"the\",\"5.5\":\"from\",\"6.5\":\"metres\",\"7.5\":\"200\",\"8.5\":\",\",\"9.5\":\"wifi\"},\"major_label_policy\":{\"id\":\"1418\"},\"ticker\":{\"id\":\"1381\"}},\"id\":\"1380\",\"type\":\"LinearAxis\"},{\"attributes\":{},\"id\":\"1418\",\"type\":\"AllLabels\"},{\"attributes\":{\"coordinates\":null,\"group\":null},\"id\":\"1415\",\"type\":\"Title\"},{\"attributes\":{},\"id\":\"1417\",\"type\":\"BasicTickFormatter\"}],\"root_ids\":[\"1355\"]},\"title\":\"Bokeh Application\",\"version\":\"2.4.3\"}};\n",
       "  const render_items = [{\"docid\":\"e3927ebf-1fc3-4d91-b599-11608201b580\",\"root_ids\":[\"1355\"],\"roots\":{\"1355\":\"3a9e8815-e965-4c2d-b3a6-768b845eb4d0\"}}];\n",
       "  root.Bokeh.embed.embed_items_notebook(docs_json, render_items);\n",
       "  }\n",
       "  if (root.Bokeh !== undefined) {\n",
       "    embed_document(root);\n",
       "  } else {\n",
       "    let attempts = 0;\n",
       "    const timer = setInterval(function(root) {\n",
       "      if (root.Bokeh !== undefined) {\n",
       "        clearInterval(timer);\n",
       "        embed_document(root);\n",
       "      } else {\n",
       "        attempts++;\n",
       "        if (attempts > 100) {\n",
       "          clearInterval(timer);\n",
       "          console.log(\"Bokeh: ERROR: Unable to run BokehJS code because BokehJS library is missing\");\n",
       "        }\n",
       "      }\n",
       "    }, 10, root)\n",
       "  }\n",
       "})(window);"
      ],
      "application/vnd.bokehjs_exec.v0+json": ""
     },
     "metadata": {
      "application/vnd.bokehjs_exec.v0+json": {
       "id": "1355"
      }
     },
     "output_type": "display_data"
    }
   ],
   "source": [
    "for i in range(5):\n",
    "    draw_attention(inp[i], trans[i], attention_probs[i])\n",
    "    \n",
    "# Does it look fine already? don't forget to save images for anytask!"
   ]
  },
  {
   "cell_type": "markdown",
   "metadata": {},
   "source": [
    "__Note 1:__ If the attention maps are not iterpretable, try starting encoder from zeros (instead of dec_start), forcing model to use attention.\n",
    "\n",
    "__Note 2:__ If you're studying this course as a YSDA student, please submit __attention screenshots__ alongside your notebook."
   ]
  },
  {
   "cell_type": "markdown",
   "metadata": {
    "colab_type": "text",
    "id": "pbIIngNVlrtt"
   },
   "source": [
    "## Goind deeper (2++ points each)\n",
    "\n",
    "We want you to find the best model for the task. Use everything you know.\n",
    "\n",
    "* different recurrent units: rnn/gru/lstm; deeper architectures\n",
    "* bidirectional encoder, different attention methods for decoder (additive, dot-product, multi-head)\n",
    "* word dropout, training schedules, anything you can imagine\n",
    "* replace greedy inference with beam search\n",
    "\n",
    "For a better grasp of seq2seq We recommend you to conduct at least one experiment from one of the bullet-points or your alternative ideas. As usual, describe what you tried and what results you obtained in a short report."
   ]
  },
  {
   "cell_type": "markdown",
   "metadata": {
    "colab_type": "text",
    "id": "2rzAj_xtlrtt"
   },
   "source": [
    "`[your report/log here or anywhere you please]`"
   ]
  },
  {
   "cell_type": "code",
   "execution_count": null,
   "metadata": {},
   "outputs": [],
   "source": []
  }
 ],
 "metadata": {
  "accelerator": "GPU",
  "colab": {
   "collapsed_sections": [
    "edk_oVg0lrtW"
   ],
   "name": "practice.ipynb",
   "provenance": []
  },
  "kernelspec": {
   "display_name": "Python 3 (ipykernel)",
   "language": "python",
   "name": "python3"
  },
  "language_info": {
   "codemirror_mode": {
    "name": "ipython",
    "version": 3
   },
   "file_extension": ".py",
   "mimetype": "text/x-python",
   "name": "python",
   "nbconvert_exporter": "python",
   "pygments_lexer": "ipython3",
   "version": "3.8.10"
  }
 },
 "nbformat": 4,
 "nbformat_minor": 4
}
